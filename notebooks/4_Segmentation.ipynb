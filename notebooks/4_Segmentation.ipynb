{
 "cells": [
  {
   "cell_type": "markdown",
   "metadata": {},
   "source": [
    "# Part 4: Segment cells and nuclei."
   ]
  },
  {
   "cell_type": "markdown",
   "metadata": {},
   "source": [
    "In the following notebook you will use the Mesmer algorithm to perfom cell and nuclear segmentation."
   ]
  },
  {
   "cell_type": "markdown",
   "metadata": {},
   "source": [
    "## 1. Import packages. \n",
    "This must be done every time the notebook is started or restarted."
   ]
  },
  {
   "cell_type": "code",
   "execution_count": 17,
   "metadata": {
    "tags": [
     "import"
    ]
   },
   "outputs": [],
   "source": [
    "# import required packages\n",
    "import os\n",
    "import warnings\n",
    "warnings.filterwarnings(\"ignore\")\n",
    "import numpy as np\n",
    "import stackview\n",
    "from tifffile import imread\n",
    "from matplotlib import pyplot as plt\n",
    "from skimage import io\n",
    "from ark.segmentation import marker_quantification, segmentation_utils\n",
    "from instanseg import InstanSeg\n",
    "from instanseg.utils.utils import show_images"
   ]
  },
  {
   "cell_type": "markdown",
   "metadata": {},
   "source": [
    "## 2. Define directory paths. \n",
    "*This must be done every time the notebook is started or restarted."
   ]
  },
  {
   "cell_type": "code",
   "execution_count": 18,
   "metadata": {
    "tags": []
   },
   "outputs": [],
   "source": [
    "base_dir = \"C:\\\\Users\\\\smith6jt\""
   ]
  },
  {
   "cell_type": "code",
   "execution_count": 19,
   "metadata": {
    "tags": []
   },
   "outputs": [
    {
     "name": "stdout",
     "output_type": "stream",
     "text": [
      "Processed folder is C:\\Users\\smith6jt\\KINTSUGI\\data\\1904_CC2B_Processed.\n"
     ]
    }
   ],
   "source": [
    "seg_dir = os.path.join(base_dir, 'KINTSUGI', 'data', '1904_CC2B_Segmentation')\n",
    "proc_dir = seg_dir.replace('_Segmentation', '_Processed')\n",
    "cell_table_dir = os.path.join(seg_dir, \"segmentation/cell_table\")\n",
    "print(f\"Segmentation folder is {seg_dir}.\")\n",
    "print(f\"Processed folder is {proc_dir}.\")"
   ]
  },
  {
   "cell_type": "markdown",
   "metadata": {},
   "source": [
    "### 2.1 Create directories"
   ]
  },
  {
   "cell_type": "markdown",
   "metadata": {},
   "source": [
    "This cell only needs to be run once."
   ]
  },
  {
   "cell_type": "code",
   "execution_count": 21,
   "metadata": {
    "tags": [
     "create_dirs"
    ]
   },
   "outputs": [],
   "source": [
    "# create directories if do not exist\n",
    "for directory in [base_dir, seg_dir, proc_dir, cell_table_dir]:\n",
    "    if not os.path.exists(directory):\n",
    "        os.makedirs(directory)"
   ]
  },
  {
   "cell_type": "markdown",
   "metadata": {},
   "source": [
    "## 3. Run Instanseg"
   ]
  },
  {
   "cell_type": "markdown",
   "metadata": {},
   "source": [
    "### 3.1 Segment nuclei."
   ]
  },
  {
   "cell_type": "code",
   "execution_count": null,
   "metadata": {},
   "outputs": [],
   "source": [
    "instanseg_fluorescence = InstanSeg(\"fluorescence_nuclei_and_cells\", verbosity=1)\n",
    "image_array_nuc, pixel_size = instanseg_fluorescence.read_image(os.path.join(proc_dir, \"Fluorescence_example.tif\"))\n",
    "labeled_output_nuc, image_tensor_nuc  = instanseg_fluorescence.eval_medium_image(image_array_nuc, pixel_size, target= \"nuclei\")\n",
    "display_nuc = instanseg_fluorescence.display(image_tensor_nuc, labeled_output_nuc)\n"
   ]
  },
  {
   "cell_type": "markdown",
   "metadata": {},
   "source": [
    "### 3.2 Segment cells."
   ]
  },
  {
   "cell_type": "code",
   "execution_count": null,
   "metadata": {},
   "outputs": [],
   "source": [
    "image_array_cells, pixel_size = instanseg_fluorescence.read_image(os.path.join(proc_dir, \"Fluorescence_example.tif\"))\n",
    "labeled_output_cells, image_tensor_cells  = instanseg_fluorescence.eval_medium_image(image_array_cells, pixel_size, target= \"cells\")\n",
    "display_cells = instanseg_fluorescence.display(image_tensor_cells, labeled_output_cells)\n"
   ]
  },
  {
   "cell_type": "markdown",
   "metadata": {},
   "source": [
    "## 4. Inspect and save segmentation results "
   ]
  },
  {
   "cell_type": "markdown",
   "metadata": {},
   "source": [
    "show_images(display_nuc, colorbar=False)"
   ]
  },
  {
   "cell_type": "code",
   "execution_count": null,
   "metadata": {
    "tags": [
     "overlay_mask"
    ]
   },
   "outputs": [],
   "source": [
    "show_images(display_cells, colorbar=False)"
   ]
  },
  {
   "cell_type": "code",
   "execution_count": 89,
   "metadata": {
    "tags": []
   },
   "outputs": [
    {
     "data": {
      "application/vnd.jupyter.widget-view+json": {
       "model_id": "fd8b4bfa5e6d4baca12876b1d2c96ca5",
       "version_major": 2,
       "version_minor": 0
      },
      "text/plain": [
       "HBox(children=(VBox(children=(VBox(children=(HBox(children=(VBox(children=(ImageWidget(height=480, width=800),…"
      ]
     },
     "execution_count": 89,
     "metadata": {},
     "output_type": "execute_result"
    }
   ],
   "source": [
    "marker_name = \"FoxP3\"\n",
    "marker = imread(os.path.join(proc_dir, f\"{marker_name}.tif\"))\n",
    "dapi = imread(os.path.join(proc_dir, f\"DAPI.tif\"))\n",
    "marker_msk = imread(os.path.join(seg_dir, f\"{marker_name}.tif\"))\n",
    "marker_brd = imread(os.path.join(seg_dir, f\"{marker_name}.tif\"))\n",
    "nuclear_msk = imread(os.path.join(seg_dir, f\"DAPI.tif\"))\n",
    "\n",
    "x1 = 1000\n",
    "x2 = 1500\n",
    "y1 = 1000\n",
    "y2 = 1300\n",
    "stackview.curtain(marker[y1:y2, x1:x2], nuclear_msk[y1:y2, x1:x2], alpha=0.4, zoom_factor=1.6, colormap='viridis')"
   ]
  },
  {
   "cell_type": "markdown",
   "metadata": {},
   "source": [
    "Save the overlaid segmentation labels for each fov (these will not display, but will save in viz_dir)."
   ]
  },
  {
   "cell_type": "code",
   "execution_count": 62,
   "metadata": {
    "tags": [
     "save_mask"
    ]
   },
   "outputs": [],
   "source": [
    "segmentation_utils.save_segmentation_labels(\n",
    "    segmentation_dir=deepcell_output_dir,\n",
    "    data_dir=deepcell_input_dir,\n",
    "    output_dir=deepcell_visualization_dir,\n",
    "    fovs=io_utils.remove_file_extensions(fovs),\n",
    "    channels=['nuclear_channel', 'membrane_channel']\n",
    ")"
   ]
  },
  {
   "cell_type": "markdown",
   "metadata": {},
   "source": [
    "## 6. Visualize and save stitched segmentation masks"
   ]
  },
  {
   "cell_type": "markdown",
   "metadata": {},
   "source": [
    "Define the function"
   ]
  },
  {
   "cell_type": "code",
   "execution_count": 15,
   "metadata": {
    "execution": {
     "iopub.execute_input": "2024-11-14T21:33:40.315107Z",
     "iopub.status.busy": "2024-11-14T21:33:40.314930Z",
     "iopub.status.idle": "2024-11-14T21:33:45.090032Z",
     "shell.execute_reply": "2024-11-14T21:33:45.089562Z",
     "shell.execute_reply.started": "2024-11-14T21:33:40.315094Z"
    },
    "tags": []
   },
   "outputs": [],
   "source": [
    "def stitch_tiles(tiles_folder, num_tiles_width, num_tiles_height, tile_width, tile_height, output_filename):\n",
    "\n",
    "    stitched_image = Image.new('RGB', (num_tiles_width * tile_width, num_tiles_height * tile_height))\n",
    "\n",
    "    tile_index = 0\n",
    "    \n",
    "    for x in range(num_tiles_width):\n",
    "        for y in range(num_tiles_height):\n",
    "\n",
    "            left = x * tile_width\n",
    "            upper = y * tile_height\n",
    "            tile_path = os.path.join(tiles_folder, f'fov{tile_index}_nuclear_channel_membrane_channel_overlay.tiff')\n",
    "            tile = Image.open(tile_path)\n",
    "            stitched_image.paste(tile, (left, upper))\n",
    "\n",
    "            tile_index += 1\n",
    "\n",
    "    # Save the stitched image\n",
    "    stitched_image.save(tiles_folder+output_filename)\n"
   ]
  },
  {
   "cell_type": "markdown",
   "metadata": {},
   "source": [
    "Enter the variables."
   ]
  },
  {
   "cell_type": "code",
   "execution_count": null,
   "metadata": {},
   "outputs": [],
   "source": [
    "tiles_folder = '../data/LN_/segmentation/deepcell_visualization'\n",
    "num_tiles_width = 7  # Adjust based on how many tiles in the width\n",
    "num_tiles_height = 9  # Adjust based on how many tiles in the height\n",
    "tile_width = 1500  # Width of each tile\n",
    "tile_height = 1427  # Height of each tile\n",
    "output_filename = \"/stitched_nuc_mem.tif\"\n",
    "\n",
    "stitch_tiles(tiles_folder, num_tiles_width, num_tiles_height, tile_width, tile_height, output_filename)"
   ]
  },
  {
   "cell_type": "markdown",
   "metadata": {},
   "source": [
    "Visualize the results."
   ]
  },
  {
   "cell_type": "code",
   "execution_count": null,
   "metadata": {
    "tags": []
   },
   "outputs": [],
   "source": [
    "from tifffile import imread\n",
    "image = imread(deepcell_visualization_dir+output_filename)\n",
    "plt.figure(figsize = (25,25))\n",
    "plt.imshow(image)"
   ]
  },
  {
   "cell_type": "markdown",
   "metadata": {},
   "source": [
    "## 7. Extract segmentation data"
   ]
  },
  {
   "cell_type": "markdown",
   "metadata": {},
   "source": [
    "For a full list of features extracted, please refer to the cell table section of: https://ark-analysis.readthedocs.io/en/latest/_rtd/data_types.html"
   ]
  },
  {
   "cell_type": "code",
   "execution_count": 18,
   "metadata": {
    "execution": {
     "iopub.execute_input": "2024-11-14T23:00:01.962856Z",
     "iopub.status.busy": "2024-11-14T23:00:01.962480Z",
     "iopub.status.idle": "2024-11-14T23:00:01.964493Z",
     "shell.execute_reply": "2024-11-14T23:00:01.964259Z",
     "shell.execute_reply.started": "2024-11-14T23:00:01.962843Z"
    },
    "tags": [
     "nuc_props_set"
    ]
   },
   "outputs": [],
   "source": [
    "# set to True to add nuclear cell properties to the expression matrix\n",
    "nuclear_counts = True\n",
    "\n",
    "# set to True to bypass expensive cell property calculations\n",
    "# only cell label, size, and centroid will be extracted if True\n",
    "fast_extraction = True"
   ]
  },
  {
   "cell_type": "markdown",
   "metadata": {},
   "source": [
    "Extract the segmented imaging data to create normalized and transformed expression matrices.  Note that if you're loading your own dataset, all the imaging data must be in the same folder with each fov given its own folder and all fovs having the same channels."
   ]
  },
  {
   "cell_type": "code",
   "execution_count": 19,
   "metadata": {
    "execution": {
     "iopub.execute_input": "2024-11-14T21:35:26.894018Z",
     "iopub.status.busy": "2024-11-14T21:35:26.893843Z",
     "iopub.status.idle": "2024-11-14T22:21:36.456722Z",
     "shell.execute_reply": "2024-11-14T22:21:36.456333Z",
     "shell.execute_reply.started": "2024-11-14T21:35:26.894005Z"
    },
    "tags": [
     "create_exp_mat"
    ]
   },
   "outputs": [],
   "source": [
    "\n",
    "cell_table_size_normalized, cell_table_arcsinh_transformed = \\\n",
    "    marker_quantification.generate_cell_table(segmentation_dir=deepcell_output_dir,\n",
    "                                              tiff_dir=tiff_dir,\n",
    "                                              img_sub_folder=None,\n",
    "                                              fovs=fovs,\n",
    "                                              extraction='center_weighting',\n",
    "                                              nuclear_counts=nuclear_counts,\n",
    "                                              fast_extraction=fast_extraction)\n",
    "\n",
    "# Set the compression level if desired, ZSTD compression can offer up to a 60-70% reduction in file size.\n",
    "# NOTE: Compressed `csv` files cannot be opened in Excel. They must be uncompressed beforehand.\n",
    "compression = None\n",
    "\n",
    "# Uncomment the line below to allow for compressed `csv` files.\n",
    "# compression = {\"method\": \"zstd\", \"level\": 3}\n",
    "\n",
    "cell_table_size_normalized.to_csv(os.path.join(cell_table_dir, 'cell_table_size_normalized.csv'),\n",
    "                                  compression=compression, index=False)\n",
    "cell_table_arcsinh_transformed.to_csv(os.path.join(cell_table_dir, 'cell_table_arcsinh_transformed.csv'),\n",
    "                                      compression=compression, index=False)"
   ]
  }
 ],
 "metadata": {
  "kernelspec": {
   "display_name": "KINTSUGI",
   "language": "python",
   "name": "python3"
  },
  "language_info": {
   "codemirror_mode": {
    "name": "ipython",
    "version": 3
   },
   "file_extension": ".py",
   "mimetype": "text/x-python",
   "name": "python",
   "nbconvert_exporter": "python",
   "pygments_lexer": "ipython3",
   "version": "3.9.20"
  },
  "widgets": {
   "application/vnd.jupyter.widget-state+json": {
    "state": {
     "0041db31e86b41d7864c030f84494a46": {
      "model_module": "@jupyter-widgets/controls",
      "model_module_version": "2.0.0",
      "model_name": "HBoxModel",
      "state": {
       "children": [
        "IPY_MODEL_43b11ad0dc384499ba3855d9a3880d2c"
       ],
       "layout": "IPY_MODEL_4384e3ff664b46b5bfa83a300b409c14"
      }
     },
     "0054444405dc4779b0ef660b5515cd2b": {
      "model_module": "@jupyter-widgets/controls",
      "model_module_version": "2.0.0",
      "model_name": "HBoxModel",
      "state": {
       "children": [
        "IPY_MODEL_5ad948cb813948619a423b4187fe9a72",
        "IPY_MODEL_5f0731b099aa4d65869f079dcd19c2a1"
       ],
       "layout": "IPY_MODEL_145ce84b3530452b843efe735baa7dee"
      }
     },
     "009887db2eb84b3698bcd81d7fa60f7b": {
      "model_module": "@jupyter-widgets/base",
      "model_module_version": "2.0.0",
      "model_name": "LayoutModel",
      "state": {}
     },
     "00b255bf91e64258b9d1cf30a5384753": {
      "model_module": "@jupyter-widgets/base",
      "model_module_version": "2.0.0",
      "model_name": "LayoutModel",
      "state": {}
     },
     "00bdf8a131dc4ad89bfde5f59024e749": {
      "model_module": "@jupyter-widgets/base",
      "model_module_version": "2.0.0",
      "model_name": "LayoutModel",
      "state": {}
     },
     "00cd3d3d0726474c9917c532677f8bd0": {
      "model_module": "@jupyter-widgets/base",
      "model_module_version": "2.0.0",
      "model_name": "LayoutModel",
      "state": {}
     },
     "0169825e8f5347c48c7056fbd26cb6d6": {
      "model_module": "@jupyter-widgets/controls",
      "model_module_version": "2.0.0",
      "model_name": "VBoxModel",
      "state": {
       "children": [
        "IPY_MODEL_aca2764920954ab3a197c1d3138b0872"
       ],
       "layout": "IPY_MODEL_815ecc5e05c748e88bba8cae4643103b"
      }
     },
     "0177b3a30bf449e79ea33738fd101bb7": {
      "model_module": "@jupyter-widgets/controls",
      "model_module_version": "2.0.0",
      "model_name": "IntSliderModel",
      "state": {
       "behavior": "drag-tap",
       "layout": "IPY_MODEL_5b5241ee65c94604affc44429d1b5a74",
       "max": 500,
       "style": "IPY_MODEL_75d71f88ad10459aa53ce60123f12213",
       "value": 242
      }
     },
     "019726662109440da06d391d13647666": {
      "model_module": "@jupyter-widgets/controls",
      "model_module_version": "2.0.0",
      "model_name": "VBoxModel",
      "state": {
       "layout": "IPY_MODEL_a11c0e66cf3a4e37b83fc7651c5f72cf"
      }
     },
     "01eec025a3f740438c0aad5e9b443045": {
      "model_module": "@jupyter-widgets/controls",
      "model_module_version": "2.0.0",
      "model_name": "LabelStyleModel",
      "state": {
       "description_width": "",
       "font_family": null,
       "font_size": null,
       "font_style": null,
       "font_variant": null,
       "font_weight": null,
       "text_color": null,
       "text_decoration": null
      }
     },
     "024144b85684422e80368c9e5d0ad8a6": {
      "model_module": "@jupyter-widgets/base",
      "model_module_version": "2.0.0",
      "model_name": "LayoutModel",
      "state": {}
     },
     "028580714cd64c66a0612615392e4927": {
      "model_module": "@jupyter-widgets/base",
      "model_module_version": "2.0.0",
      "model_name": "LayoutModel",
      "state": {}
     },
     "028d969c32074f8db072e0b9dab488e9": {
      "model_module": "@jupyter-widgets/controls",
      "model_module_version": "2.0.0",
      "model_name": "VBoxModel",
      "state": {
       "children": [
        "IPY_MODEL_1902362066eb4b6f8c87b3406b154d5d",
        "IPY_MODEL_c0b3a9f5e5a4433aa506c47d59f5cc31"
       ],
       "layout": "IPY_MODEL_6951cffb2fbe48be951597b612a6babd"
      }
     },
     "02a9e3561adb4b65a9e99fb69d36be85": {
      "model_module": "ipycanvas",
      "model_module_version": "^0.13",
      "model_name": "CanvasModel",
      "state": {
       "_canvas_manager": "IPY_MODEL_d9a833c7f08b41bd9d6176723d2ff2f4",
       "_model_module_version": "^0.13",
       "_view_module_version": "^0.13",
       "height": 640,
       "layout": "IPY_MODEL_b1eab8e544a94670ba5b7dd55eab8b4f",
       "width": 800
      }
     },
     "02b0fa325b144844a165e42972291872": {
      "model_module": "@jupyter-widgets/controls",
      "model_module_version": "2.0.0",
      "model_name": "HBoxModel",
      "state": {
       "children": [
        "IPY_MODEL_0cef70892be049ea83176f41d8698472",
        "IPY_MODEL_fff5d59c7b094798a2f5c7cd5b1d669a"
       ],
       "layout": "IPY_MODEL_d3596372a0cc4e4f94a0c9de6d312a06"
      }
     },
     "02bc30e5b86a4e049a7adabf04a51c7b": {
      "model_module": "@jupyter-widgets/base",
      "model_module_version": "2.0.0",
      "model_name": "LayoutModel",
      "state": {}
     },
     "02e5715aa8314dd59af5b4f5ea9c3ee8": {
      "model_module": "@jupyter-widgets/base",
      "model_module_version": "2.0.0",
      "model_name": "LayoutModel",
      "state": {}
     },
     "0318a93ab36a447f8ec560e40663f621": {
      "model_module": "@jupyter-widgets/controls",
      "model_module_version": "2.0.0",
      "model_name": "HTMLStyleModel",
      "state": {
       "description_width": "",
       "font_size": null,
       "text_color": null
      }
     },
     "0395fed77826490aad44927b689581d5": {
      "model_module": "@jupyter-widgets/base",
      "model_module_version": "2.0.0",
      "model_name": "LayoutModel",
      "state": {}
     },
     "03987fb252d14dd4bd012b8ba3de5a26": {
      "model_module": "@jupyter-widgets/base",
      "model_module_version": "2.0.0",
      "model_name": "LayoutModel",
      "state": {}
     },
     "039e3055149f44789036c02188d3aad1": {
      "model_module": "@jupyter-widgets/base",
      "model_module_version": "2.0.0",
      "model_name": "LayoutModel",
      "state": {}
     },
     "03b3e27d1bc94a80927c34930407e0d8": {
      "model_module": "@jupyter-widgets/base",
      "model_module_version": "2.0.0",
      "model_name": "LayoutModel",
      "state": {}
     },
     "03bc1119fefa419284710d392cda477f": {
      "model_module": "@jupyter-widgets/base",
      "model_module_version": "2.0.0",
      "model_name": "LayoutModel",
      "state": {}
     },
     "04d06e54edf6408bb16728c8bba90506": {
      "model_module": "@jupyter-widgets/controls",
      "model_module_version": "2.0.0",
      "model_name": "HBoxModel",
      "state": {
       "children": [
        "IPY_MODEL_744e7416c8374a6c81e49603f1bc016c"
       ],
       "layout": "IPY_MODEL_b37ea2eca58846e9959f053caa97cdd7"
      }
     },
     "04dc48358e4d451cb5cf615036c8fe7a": {
      "model_module": "@jupyter-widgets/base",
      "model_module_version": "2.0.0",
      "model_name": "LayoutModel",
      "state": {}
     },
     "04e6207538ef473ea67e4aa9fec4287c": {
      "model_module": "@jupyter-widgets/controls",
      "model_module_version": "2.0.0",
      "model_name": "VBoxModel",
      "state": {
       "children": [
        "IPY_MODEL_71a9f86257e34f468ef6902b131e7dee"
       ],
       "layout": "IPY_MODEL_2e4e8b5b1eeb47d388146c7134e80609"
      }
     },
     "04e89847b7994377947f56fdc69a24c1": {
      "model_module": "@jupyter-widgets/controls",
      "model_module_version": "2.0.0",
      "model_name": "LabelStyleModel",
      "state": {
       "description_width": "",
       "font_family": null,
       "font_size": null,
       "font_style": null,
       "font_variant": null,
       "font_weight": null,
       "text_color": null,
       "text_decoration": null
      }
     },
     "0525e613245e4bb2b0bf25773bc1ee2a": {
      "model_module": "@jupyter-widgets/controls",
      "model_module_version": "2.0.0",
      "model_name": "VBoxModel",
      "state": {
       "children": [
        "IPY_MODEL_790c8f488fb54790a4be3330166203e6"
       ],
       "layout": "IPY_MODEL_1b005fbda5ca4a9aa63c04c2aefee627"
      }
     },
     "05701d13384b40e0acdc980c266b41be": {
      "model_module": "@jupyter-widgets/controls",
      "model_module_version": "2.0.0",
      "model_name": "VBoxModel",
      "state": {
       "children": [
        "IPY_MODEL_06e463c943ea41d695be5c9e7b1cee6c"
       ],
       "layout": "IPY_MODEL_79b2c556e5fe4e549e20359f10c9a598"
      }
     },
     "05f62a7dbc1c4db2ac4507d0952cdd03": {
      "model_module": "@jupyter-widgets/controls",
      "model_module_version": "2.0.0",
      "model_name": "HBoxModel",
      "state": {
       "children": [
        "IPY_MODEL_31bca1a3cadd491fa06f82f42efba6f1",
        "IPY_MODEL_ddd89c49f9d7439082cb41ea352dd37f"
       ],
       "layout": "IPY_MODEL_f45c1e5fe2ef4ddb8529aaa99ad9f06f"
      }
     },
     "064acb233b484427bbc7279bc1e67601": {
      "model_module": "@jupyter-widgets/base",
      "model_module_version": "2.0.0",
      "model_name": "LayoutModel",
      "state": {}
     },
     "068a1b9ba7924c3f9823aac793e549e2": {
      "model_module": "@jupyter-widgets/controls",
      "model_module_version": "2.0.0",
      "model_name": "IntSliderModel",
      "state": {
       "behavior": "drag-tap",
       "layout": "IPY_MODEL_83fea9497c914fecb873f88361fe801a",
       "max": 0,
       "style": "IPY_MODEL_98b6b1b46674497f9ae372114931f242"
      }
     },
     "0696b8b836f14e6db68903fa88af0764": {
      "model_module": "@jupyter-widgets/controls",
      "model_module_version": "2.0.0",
      "model_name": "LabelStyleModel",
      "state": {
       "description_width": "",
       "font_family": null,
       "font_size": null,
       "font_style": null,
       "font_variant": null,
       "font_weight": null,
       "text_color": null,
       "text_decoration": null
      }
     },
     "06e463c943ea41d695be5c9e7b1cee6c": {
      "model_module": "ipycanvas",
      "model_module_version": "^0.13",
      "model_name": "CanvasModel",
      "state": {
       "_canvas_manager": "IPY_MODEL_d9a833c7f08b41bd9d6176723d2ff2f4",
       "_model_module_version": "^0.13",
       "_view_module_version": "^0.13",
       "height": 400,
       "layout": "IPY_MODEL_8486283cb4de4a38abc78e242acc6643",
       "width": 400
      }
     },
     "06f8de37a9ea4aeabc0a0ddf1a3ad651": {
      "model_module": "@jupyter-widgets/controls",
      "model_module_version": "2.0.0",
      "model_name": "HBoxModel",
      "state": {
       "children": [
        "IPY_MODEL_907803a1d2fb4b8f852271a54194a264",
        "IPY_MODEL_8cd36d218bd54152bd4ada5760c55d2c"
       ],
       "layout": "IPY_MODEL_b804af1d539940e1a8aaa7ddbc397d0d"
      }
     },
     "06fcf550b77546aa9ecbf21e8c6c102c": {
      "model_module": "@jupyter-widgets/controls",
      "model_module_version": "2.0.0",
      "model_name": "VBoxModel",
      "state": {
       "children": [
        "IPY_MODEL_bb70ceffe61b4632a31f3de7fd940573",
        "IPY_MODEL_cfc9db67a458451d90b387a9f2f522d6"
       ],
       "layout": "IPY_MODEL_d07c1c9aed0b482a9a49d429a786dd6f"
      }
     },
     "07545d8f5f3f4f6d8f90dff14198e8f8": {
      "model_module": "@jupyter-widgets/controls",
      "model_module_version": "2.0.0",
      "model_name": "HBoxModel",
      "state": {
       "children": [
        "IPY_MODEL_2e0979d2168f41978a971347c05792e0"
       ],
       "layout": "IPY_MODEL_1873fc2ea29f4f9e823bbeebf4551ba8"
      }
     },
     "078ea57c25624a6c97afc7090b33dfea": {
      "model_module": "@jupyter-widgets/base",
      "model_module_version": "2.0.0",
      "model_name": "LayoutModel",
      "state": {}
     },
     "07a425d53b82496d957152d05bad3f70": {
      "model_module": "@jupyter-widgets/base",
      "model_module_version": "2.0.0",
      "model_name": "LayoutModel",
      "state": {}
     },
     "07af884e8576441c9e41d7398ff8255b": {
      "model_module": "@jupyter-widgets/controls",
      "model_module_version": "2.0.0",
      "model_name": "HBoxModel",
      "state": {
       "children": [
        "IPY_MODEL_110bd43aaabb4c49ae125625f583ef36"
       ],
       "layout": "IPY_MODEL_3fc42bf9cc9449759cf5d92b555bc4eb"
      }
     },
     "07fb25bfd5ef4c19afebfb575bd19b90": {
      "model_module": "@jupyter-widgets/controls",
      "model_module_version": "2.0.0",
      "model_name": "SliderStyleModel",
      "state": {
       "description_width": ""
      }
     },
     "087df207133a43f9a33e1f5a255781a7": {
      "model_module": "@jupyter-widgets/base",
      "model_module_version": "2.0.0",
      "model_name": "LayoutModel",
      "state": {}
     },
     "088587aaad614b5dae56e15cc5b22ab5": {
      "model_module": "@jupyter-widgets/base",
      "model_module_version": "2.0.0",
      "model_name": "LayoutModel",
      "state": {}
     },
     "08af66662b9945f4a16d5ee84828bc5f": {
      "model_module": "@jupyter-widgets/base",
      "model_module_version": "2.0.0",
      "model_name": "LayoutModel",
      "state": {}
     },
     "08d54be088e6472e9069c4c370633dd6": {
      "model_module": "@jupyter-widgets/base",
      "model_module_version": "2.0.0",
      "model_name": "LayoutModel",
      "state": {}
     },
     "08df76c3901949a0b7ce99a8aa4d4b96": {
      "model_module": "@jupyter-widgets/base",
      "model_module_version": "2.0.0",
      "model_name": "LayoutModel",
      "state": {}
     },
     "08fc62c254fb4ec2a66cd51ad08e87ef": {
      "model_module": "@jupyter-widgets/base",
      "model_module_version": "2.0.0",
      "model_name": "LayoutModel",
      "state": {}
     },
     "0961338db7e048e1b297587a347f3dde": {
      "model_module": "@jupyter-widgets/controls",
      "model_module_version": "2.0.0",
      "model_name": "IntSliderModel",
      "state": {
       "behavior": "drag-tap",
       "layout": "IPY_MODEL_c2b630a317e149b88a6b9ec6cf865493",
       "max": 1000,
       "style": "IPY_MODEL_d667f1c392f940b68b465eaee8309d8a",
       "value": 500
      }
     },
     "0963032c9da948cc9f2508014334042c": {
      "model_module": "@jupyter-widgets/controls",
      "model_module_version": "2.0.0",
      "model_name": "HTMLModel",
      "state": {
       "layout": "IPY_MODEL_e4a0b7f1fc7e49d78209b0d08a8adbb7",
       "style": "IPY_MODEL_5031dcfd9cff4bf9b7683de63504ce08",
       "value": "<style>.widget-readout { min-width: 20px !important; }</style>"
      }
     },
     "09ae55ce30544adb8999154c0d7b6736": {
      "model_module": "@jupyter-widgets/controls",
      "model_module_version": "2.0.0",
      "model_name": "VBoxModel",
      "state": {
       "layout": "IPY_MODEL_143cad680d1a46e3aa6a0790719735d7"
      }
     },
     "09ebc13911e94088afb7d002e108a345": {
      "model_module": "@jupyter-widgets/controls",
      "model_module_version": "2.0.0",
      "model_name": "SliderStyleModel",
      "state": {
       "description_width": ""
      }
     },
     "09f24270fb864385b54fc6342e4bebff": {
      "model_module": "@jupyter-widgets/base",
      "model_module_version": "2.0.0",
      "model_name": "LayoutModel",
      "state": {}
     },
     "0a0c53228f02486fae6126f67ab35696": {
      "model_module": "ipycanvas",
      "model_module_version": "^0.13",
      "model_name": "CanvasModel",
      "state": {
       "_canvas_manager": "IPY_MODEL_d9a833c7f08b41bd9d6176723d2ff2f4",
       "_model_module_version": "^0.13",
       "_view_module_version": "^0.13",
       "height": 400,
       "layout": "IPY_MODEL_f72639c7db294f7bb3856e2669ee9d48",
       "width": 400
      }
     },
     "0a2f99c720c94d0a845d14fe5e17a4be": {
      "model_module": "@jupyter-widgets/controls",
      "model_module_version": "2.0.0",
      "model_name": "VBoxModel",
      "state": {
       "children": [
        "IPY_MODEL_68fcede507714cad9093081700984a05",
        "IPY_MODEL_5b23362308884b80b96b7d3bb4659eab"
       ],
       "layout": "IPY_MODEL_89f6a19a06b04dc4bc5a790a53ab20bb"
      }
     },
     "0a430cd565dd4a89ba518300eb595763": {
      "model_module": "@jupyter-widgets/base",
      "model_module_version": "2.0.0",
      "model_name": "LayoutModel",
      "state": {}
     },
     "0a71c94771b944329856d29feae50766": {
      "model_module": "@jupyter-widgets/base",
      "model_module_version": "2.0.0",
      "model_name": "LayoutModel",
      "state": {}
     },
     "0a81767285f7421c9b619004f3bc619c": {
      "model_module": "@jupyter-widgets/base",
      "model_module_version": "2.0.0",
      "model_name": "LayoutModel",
      "state": {}
     },
     "0b074fea492b4db29a382bcff62c5fbe": {
      "model_module": "@jupyter-widgets/controls",
      "model_module_version": "2.0.0",
      "model_name": "LabelStyleModel",
      "state": {
       "description_width": "",
       "font_family": null,
       "font_size": null,
       "font_style": null,
       "font_variant": null,
       "font_weight": null,
       "text_color": null,
       "text_decoration": null
      }
     },
     "0b21f91f545546399dc082b3128d1f1d": {
      "model_module": "@jupyter-widgets/controls",
      "model_module_version": "2.0.0",
      "model_name": "HBoxModel",
      "state": {
       "children": [
        "IPY_MODEL_a5e17aacc725424da2df24e651782981",
        "IPY_MODEL_3177e50484594689906111118f19d913"
       ],
       "layout": "IPY_MODEL_7146033237a54175bc78d84d8f644f24"
      }
     },
     "0b51a53828ed43038e853046edd45b85": {
      "model_module": "@jupyter-widgets/controls",
      "model_module_version": "2.0.0",
      "model_name": "HTMLStyleModel",
      "state": {
       "description_width": "",
       "font_size": null,
       "text_color": null
      }
     },
     "0b5273e6510c47059711a864228bcc17": {
      "model_module": "@jupyter-widgets/controls",
      "model_module_version": "2.0.0",
      "model_name": "VBoxModel",
      "state": {
       "children": [
        "IPY_MODEL_0a0c53228f02486fae6126f67ab35696"
       ],
       "layout": "IPY_MODEL_7f2082895d44419e8ea784209d9f08cf"
      }
     },
     "0b6f02dd9d934024a3be51e99b04b091": {
      "model_module": "@jupyter-widgets/base",
      "model_module_version": "2.0.0",
      "model_name": "LayoutModel",
      "state": {
       "width": "100%"
      }
     },
     "0bb7831b2fde47f79e3441cf2b5fe984": {
      "model_module": "@jupyter-widgets/controls",
      "model_module_version": "2.0.0",
      "model_name": "VBoxModel",
      "state": {
       "layout": "IPY_MODEL_8cf0639185f04fc7bdce505d3b90962d"
      }
     },
     "0bfa80ad189e422486f3f97896b7abb9": {
      "model_module": "@jupyter-widgets/base",
      "model_module_version": "2.0.0",
      "model_name": "LayoutModel",
      "state": {}
     },
     "0c315894172148218d7a3e273927cc15": {
      "model_module": "@jupyter-widgets/controls",
      "model_module_version": "2.0.0",
      "model_name": "HTMLModel",
      "state": {
       "layout": "IPY_MODEL_cd72b6d5d34a41789e560f664fcf5c58",
       "style": "IPY_MODEL_f5e2eaf03b9c4cfa996d4fe28c80c81c",
       "value": "<style>.widget-readout { min-width: 20px !important; }</style>"
      }
     },
     "0c39f14c30b24eb1940cdd9d48f56d6e": {
      "model_module": "@jupyter-widgets/controls",
      "model_module_version": "2.0.0",
      "model_name": "VBoxModel",
      "state": {
       "children": [
        "IPY_MODEL_43cbb1fe89e4482bbb00c986e5710036",
        "IPY_MODEL_2b883c6d854f4532a130babbe83efe7f",
        "IPY_MODEL_8489df5d14434468bd5cce4a16f65147"
       ],
       "layout": "IPY_MODEL_2b35f0f46669461ea8319487a3ac74ac"
      }
     },
     "0c43f55c91224d27a5da84e1b4248481": {
      "model_module": "@jupyter-widgets/base",
      "model_module_version": "2.0.0",
      "model_name": "LayoutModel",
      "state": {}
     },
     "0c752488969c4921ab8c071be4b549d6": {
      "model_module": "@jupyter-widgets/controls",
      "model_module_version": "2.0.0",
      "model_name": "LabelStyleModel",
      "state": {
       "description_width": "",
       "font_family": null,
       "font_size": null,
       "font_style": null,
       "font_variant": null,
       "font_weight": null,
       "text_color": null,
       "text_decoration": null
      }
     },
     "0c7a3f0ff1b641af99ea1a01621a4b7b": {
      "model_module": "@jupyter-widgets/controls",
      "model_module_version": "2.0.0",
      "model_name": "VBoxModel",
      "state": {
       "children": [
        "IPY_MODEL_ed06cf05aab043c5a9e1b7762af5dce3",
        "IPY_MODEL_e67affeb9f934508bfbf0bd3a7c5451d"
       ],
       "layout": "IPY_MODEL_4b463987850b46cdbbd96cae53de1f38"
      }
     },
     "0c980f25955c4b0db71952b1cacd8a08": {
      "model_module": "@jupyter-widgets/base",
      "model_module_version": "2.0.0",
      "model_name": "LayoutModel",
      "state": {}
     },
     "0c9bb75ddb444103a6a336608a95751e": {
      "model_module": "@jupyter-widgets/controls",
      "model_module_version": "2.0.0",
      "model_name": "HBoxModel",
      "state": {
       "children": [
        "IPY_MODEL_fa85d20e5afe47af9396a6de6ba75ee0"
       ],
       "layout": "IPY_MODEL_0e42355170574a5da6f79f4433160f50"
      }
     },
     "0caff284c9a041c7a58bda82b357d8fc": {
      "model_module": "@jupyter-widgets/base",
      "model_module_version": "2.0.0",
      "model_name": "LayoutModel",
      "state": {}
     },
     "0cbdd170ffe3471485f6327fddf7bdd9": {
      "model_module": "@jupyter-widgets/controls",
      "model_module_version": "2.0.0",
      "model_name": "IntSliderModel",
      "state": {
       "behavior": "drag-tap",
       "layout": "IPY_MODEL_10d58905329048d48eb59117a80c27b2",
       "max": 500,
       "style": "IPY_MODEL_81925697e576433dbb966a7466eb52db",
       "value": 250
      }
     },
     "0cef70892be049ea83176f41d8698472": {
      "model_module": "@jupyter-widgets/controls",
      "model_module_version": "2.0.0",
      "model_name": "LabelModel",
      "state": {
       "layout": "IPY_MODEL_cee98468dcba440bbf4f69ed4b3edf96",
       "style": "IPY_MODEL_73515d5defb14ba1b3c25fba26ba7c7e",
       "value": "Curtain"
      }
     },
     "0d1f284f43424920b86ca7477882be11": {
      "model_module": "@jupyter-widgets/base",
      "model_module_version": "2.0.0",
      "model_name": "LayoutModel",
      "state": {}
     },
     "0d37c209645c43f9a57bafaeaccb7346": {
      "model_module": "@jupyter-widgets/controls",
      "model_module_version": "2.0.0",
      "model_name": "SliderStyleModel",
      "state": {
       "description_width": ""
      }
     },
     "0d45ffaf2edd43f29250015c41f4672f": {
      "model_module": "@jupyter-widgets/controls",
      "model_module_version": "2.0.0",
      "model_name": "VBoxModel",
      "state": {
       "children": [
        "IPY_MODEL_a57c5297aa9a48eea903007c6458fa27",
        "IPY_MODEL_4f4375f196054a3ba8a3c7712cf82f64"
       ],
       "layout": "IPY_MODEL_1d02122c20ee40bda059fc7b2bd5f7a9"
      }
     },
     "0d566967e61b40af9eb1b208c564d720": {
      "model_module": "@jupyter-widgets/controls",
      "model_module_version": "2.0.0",
      "model_name": "HTMLStyleModel",
      "state": {
       "description_width": "",
       "font_size": null,
       "text_color": null
      }
     },
     "0dc392bce6cd4a5d9e7b679456a51704": {
      "model_module": "@jupyter-widgets/base",
      "model_module_version": "2.0.0",
      "model_name": "LayoutModel",
      "state": {}
     },
     "0de9f5b0c81e47ddb8248b7f9e6953b7": {
      "model_module": "@jupyter-widgets/controls",
      "model_module_version": "2.0.0",
      "model_name": "LabelStyleModel",
      "state": {
       "description_width": "",
       "font_family": null,
       "font_size": null,
       "font_style": null,
       "font_variant": null,
       "font_weight": null,
       "text_color": null,
       "text_decoration": null
      }
     },
     "0df95108723142728e4fe4c3e7e95431": {
      "model_module": "@jupyter-widgets/controls",
      "model_module_version": "2.0.0",
      "model_name": "VBoxModel",
      "state": {
       "children": [
        "IPY_MODEL_b820c0a4747545a8aa68d88bbaafb61c"
       ],
       "layout": "IPY_MODEL_03bc1119fefa419284710d392cda477f"
      }
     },
     "0df99c6c51474f118fa9760d0a7dd649": {
      "model_module": "@jupyter-widgets/controls",
      "model_module_version": "2.0.0",
      "model_name": "HTMLModel",
      "state": {
       "layout": "IPY_MODEL_7066ebef46d74a2f9443961e834035c1",
       "style": "IPY_MODEL_0e0af72910a5416290f146eb02cfb764",
       "value": "<style>.widget-readout { min-width: 20px !important; }</style>"
      }
     },
     "0e0af72910a5416290f146eb02cfb764": {
      "model_module": "@jupyter-widgets/controls",
      "model_module_version": "2.0.0",
      "model_name": "HTMLStyleModel",
      "state": {
       "description_width": "",
       "font_size": null,
       "text_color": null
      }
     },
     "0e42355170574a5da6f79f4433160f50": {
      "model_module": "@jupyter-widgets/base",
      "model_module_version": "2.0.0",
      "model_name": "LayoutModel",
      "state": {}
     },
     "0e69451eeb9e4421b77046111524c49a": {
      "model_module": "ipycanvas",
      "model_module_version": "^0.13",
      "model_name": "CanvasModel",
      "state": {
       "_canvas_manager": "IPY_MODEL_d9a833c7f08b41bd9d6176723d2ff2f4",
       "_model_module_version": "^0.13",
       "_view_module_version": "^0.13",
       "height": 640,
       "layout": "IPY_MODEL_00b255bf91e64258b9d1cf30a5384753",
       "width": 800
      }
     },
     "0e87a94c12a4427ca5270252f4cdcd79": {
      "model_module": "@jupyter-widgets/base",
      "model_module_version": "2.0.0",
      "model_name": "LayoutModel",
      "state": {}
     },
     "0eb7ed6e8f3448cd86b0bf6ecca2d37a": {
      "model_module": "@jupyter-widgets/controls",
      "model_module_version": "2.0.0",
      "model_name": "LabelStyleModel",
      "state": {
       "description_width": "",
       "font_family": null,
       "font_size": null,
       "font_style": null,
       "font_variant": null,
       "font_weight": null,
       "text_color": null,
       "text_decoration": null
      }
     },
     "0ecf85c5c5d04b3f80d94a28fa8df503": {
      "model_module": "@jupyter-widgets/base",
      "model_module_version": "2.0.0",
      "model_name": "LayoutModel",
      "state": {
       "width": "100%"
      }
     },
     "0ef5f233ba504831841d49b6ef7ce640": {
      "model_module": "@jupyter-widgets/base",
      "model_module_version": "2.0.0",
      "model_name": "LayoutModel",
      "state": {}
     },
     "0f0ecca0e5f74d64801b5302302d244c": {
      "model_module": "@jupyter-widgets/controls",
      "model_module_version": "2.0.0",
      "model_name": "VBoxModel",
      "state": {
       "layout": "IPY_MODEL_575b65c5007e4bfdb68442f4a19c7b74"
      }
     },
     "0f36845a85574e36a11b97df4b251eaa": {
      "model_module": "@jupyter-widgets/controls",
      "model_module_version": "2.0.0",
      "model_name": "VBoxModel",
      "state": {
       "children": [
        "IPY_MODEL_b21b0e88636e4417bf2e221879e18177"
       ],
       "layout": "IPY_MODEL_8ec70cca0c7647c2be08905c1e44d604"
      }
     },
     "0f980537241e433787ec307192218169": {
      "model_module": "@jupyter-widgets/base",
      "model_module_version": "2.0.0",
      "model_name": "LayoutModel",
      "state": {}
     },
     "0fa471c6a23a4db387a30f51e2e9e433": {
      "model_module": "@jupyter-widgets/base",
      "model_module_version": "2.0.0",
      "model_name": "LayoutModel",
      "state": {}
     },
     "10091de3a18149ba9ae476e909532168": {
      "model_module": "@jupyter-widgets/controls",
      "model_module_version": "2.0.0",
      "model_name": "VBoxModel",
      "state": {
       "children": [
        "IPY_MODEL_775f4b0fa47940079f985f13080fc793"
       ],
       "layout": "IPY_MODEL_26cc3dc1ea484dcc84d5ec1e2434b88e"
      }
     },
     "1048f969a9004d7fad6df67c6816fc66": {
      "model_module": "@jupyter-widgets/controls",
      "model_module_version": "2.0.0",
      "model_name": "LabelStyleModel",
      "state": {
       "description_width": "",
       "font_family": null,
       "font_size": null,
       "font_style": null,
       "font_variant": null,
       "font_weight": null,
       "text_color": null,
       "text_decoration": null
      }
     },
     "104c7aadfffd4a91ace4e8eeca17a510": {
      "model_module": "@jupyter-widgets/controls",
      "model_module_version": "2.0.0",
      "model_name": "HBoxModel",
      "state": {
       "children": [
        "IPY_MODEL_813669b213db4709921db69ab508d9ae"
       ],
       "layout": "IPY_MODEL_854ffb14e08540e794ed96f170b7e857"
      }
     },
     "10552f8040ea4f8a9f790b5a87f257b1": {
      "model_module": "@jupyter-widgets/base",
      "model_module_version": "2.0.0",
      "model_name": "LayoutModel",
      "state": {}
     },
     "106b97f11e10493db8fd807d21e1f387": {
      "model_module": "@jupyter-widgets/controls",
      "model_module_version": "2.0.0",
      "model_name": "IntSliderModel",
      "state": {
       "behavior": "drag-tap",
       "layout": "IPY_MODEL_8ceb6b065b47492db59c7d5435db2711",
       "max": 500,
       "style": "IPY_MODEL_09ebc13911e94088afb7d002e108a345",
       "value": 311
      }
     },
     "10b75e450cea4ab0bb3c27ba2acdf350": {
      "model_module": "@jupyter-widgets/controls",
      "model_module_version": "2.0.0",
      "model_name": "VBoxModel",
      "state": {
       "children": [
        "IPY_MODEL_db6f0a98f07749c189c89dbdb56bf8f4",
        "IPY_MODEL_ba85c87aad4b42549f79c98ec4b45cef"
       ],
       "layout": "IPY_MODEL_bde506a353774e6986e5a0c8476c20d0"
      }
     },
     "10c7b88fc37947a1bd7fbb9e8cbffa86": {
      "model_module": "@jupyter-widgets/controls",
      "model_module_version": "2.0.0",
      "model_name": "VBoxModel",
      "state": {
       "children": [
        "IPY_MODEL_07af884e8576441c9e41d7398ff8255b",
        "IPY_MODEL_37c68aa19878437e99e6336457347cfc",
        "IPY_MODEL_0c7a3f0ff1b641af99ea1a01621a4b7b"
       ],
       "layout": "IPY_MODEL_159ff456f2c242648f663ad8d8e8f85d"
      }
     },
     "10d58905329048d48eb59117a80c27b2": {
      "model_module": "@jupyter-widgets/base",
      "model_module_version": "2.0.0",
      "model_name": "LayoutModel",
      "state": {
       "width": "100%"
      }
     },
     "110bd43aaabb4c49ae125625f583ef36": {
      "model_module": "@jupyter-widgets/controls",
      "model_module_version": "2.0.0",
      "model_name": "VBoxModel",
      "state": {
       "children": [
        "IPY_MODEL_3cf9074cd9e446b4bd0351d15e40f15d"
       ],
       "layout": "IPY_MODEL_a9af9c4642d144fcbe7333840c04261b"
      }
     },
     "11552022cf274109b5f2ca5886ecf9a3": {
      "model_module": "@jupyter-widgets/base",
      "model_module_version": "2.0.0",
      "model_name": "LayoutModel",
      "state": {
       "width": "100%"
      }
     },
     "117567f1a1734ffb8718a3e1bd3a8d7c": {
      "model_module": "@jupyter-widgets/controls",
      "model_module_version": "2.0.0",
      "model_name": "HBoxModel",
      "state": {
       "children": [
        "IPY_MODEL_4f970cac20a94ccd9a5a044f3b413571"
       ],
       "layout": "IPY_MODEL_1dfc6009baa344b88e9f7d121c19df45"
      }
     },
     "11b96543235f49b29f95f7499f5113e4": {
      "model_module": "@jupyter-widgets/controls",
      "model_module_version": "2.0.0",
      "model_name": "VBoxModel",
      "state": {
       "children": [
        "IPY_MODEL_2f92ffd75787436388050d5e2c480b1a"
       ],
       "layout": "IPY_MODEL_f79c9bb256f04d4ab28f30a97746de6f"
      }
     },
     "11cb0384f4ad4a599c33ec8035316aca": {
      "model_module": "@jupyter-widgets/controls",
      "model_module_version": "2.0.0",
      "model_name": "SliderStyleModel",
      "state": {
       "description_width": ""
      }
     },
     "11ef7cf751ce44b8ba9d98ab5fe06e0a": {
      "model_module": "@jupyter-widgets/controls",
      "model_module_version": "2.0.0",
      "model_name": "VBoxModel",
      "state": {
       "children": [
        "IPY_MODEL_d17994dc726a48d281dd62be0530b454",
        "IPY_MODEL_33e8fea7d69642ada4894b61ac7247ce",
        "IPY_MODEL_c838dfc3ed5a41909aea71b917d10ae3"
       ],
       "layout": "IPY_MODEL_ad2fb310053c47af85f90884e588c61a"
      }
     },
     "120588fbf9b84281a1b088fbc47e76d2": {
      "model_module": "@jupyter-widgets/controls",
      "model_module_version": "2.0.0",
      "model_name": "VBoxModel",
      "state": {
       "children": [
        "IPY_MODEL_26415204548b4873b2af3d47269c38e8",
        "IPY_MODEL_da295b1caecc4b9c86fba36bc0830296",
        "IPY_MODEL_e8bb95add9454f85ab1153c9b2274566"
       ],
       "layout": "IPY_MODEL_03987fb252d14dd4bd012b8ba3de5a26"
      }
     },
     "1232538627114333947b9f0de2c5102f": {
      "model_module": "@jupyter-widgets/controls",
      "model_module_version": "2.0.0",
      "model_name": "HBoxModel",
      "state": {
       "children": [
        "IPY_MODEL_a223548da1d94e6c86b3e1fac5da38fb",
        "IPY_MODEL_dbdf24d73ab2429c8bca5d3ab1d757c4"
       ],
       "layout": "IPY_MODEL_c93c0c699d1f4a089f63192399234b6a"
      }
     },
     "123b6ee08836466892cb75988e215994": {
      "model_module": "@jupyter-widgets/controls",
      "model_module_version": "2.0.0",
      "model_name": "HBoxModel",
      "state": {
       "children": [
        "IPY_MODEL_4c61a9b4b6194ece8c46fa9bb9b7bfcb",
        "IPY_MODEL_b4938f25c7334fcda35a0ed4e4754265"
       ],
       "layout": "IPY_MODEL_30407e152aa54628973815594053b695"
      }
     },
     "1269bb1da7034271b56bc7de263c945e": {
      "model_module": "@jupyter-widgets/controls",
      "model_module_version": "2.0.0",
      "model_name": "HBoxModel",
      "state": {
       "children": [
        "IPY_MODEL_b5ad35abd4cf42c6b632b0910cd4f329"
       ],
       "layout": "IPY_MODEL_656f8efe5f5f42e5b30ad5ab5838313d"
      }
     },
     "128882643a1a48e1ac88d1c61f172929": {
      "model_module": "@jupyter-widgets/base",
      "model_module_version": "2.0.0",
      "model_name": "LayoutModel",
      "state": {}
     },
     "12a578954270409997e82e0d3325ead2": {
      "model_module": "@jupyter-widgets/controls",
      "model_module_version": "2.0.0",
      "model_name": "VBoxModel",
      "state": {
       "children": [
        "IPY_MODEL_c685b09d4b274fe88d79f3cda19ac66e"
       ],
       "layout": "IPY_MODEL_0f980537241e433787ec307192218169"
      }
     },
     "12d1e44e89274ef8881fe1f2b000f6f9": {
      "model_module": "@jupyter-widgets/base",
      "model_module_version": "2.0.0",
      "model_name": "LayoutModel",
      "state": {}
     },
     "130d104459684781ad3cca35563ef028": {
      "model_module": "@jupyter-widgets/controls",
      "model_module_version": "2.0.0",
      "model_name": "HTMLStyleModel",
      "state": {
       "description_width": "",
       "font_size": null,
       "text_color": null
      }
     },
     "1344d4b9b46f400f97b75c93f9b504f9": {
      "model_module": "@jupyter-widgets/base",
      "model_module_version": "2.0.0",
      "model_name": "LayoutModel",
      "state": {}
     },
     "1354ffa009f649aa86a34ed84f4201f7": {
      "model_module": "@jupyter-widgets/controls",
      "model_module_version": "2.0.0",
      "model_name": "HTMLModel",
      "state": {
       "layout": "IPY_MODEL_4b8cfbaafe7d42adbe74f8927f1312fe",
       "style": "IPY_MODEL_dc9aa6fbc5be480f8368cf4d8ef7209f",
       "value": "100%"
      }
     },
     "137d7f5493dd42d6ba8629f3799acc38": {
      "model_module": "@jupyter-widgets/base",
      "model_module_version": "2.0.0",
      "model_name": "LayoutModel",
      "state": {}
     },
     "13e14c0ccc9941a0a00a048d1d046b61": {
      "model_module": "@jupyter-widgets/base",
      "model_module_version": "2.0.0",
      "model_name": "LayoutModel",
      "state": {}
     },
     "143cad680d1a46e3aa6a0790719735d7": {
      "model_module": "@jupyter-widgets/base",
      "model_module_version": "2.0.0",
      "model_name": "LayoutModel",
      "state": {}
     },
     "145085fcb8a641d289d81a5c6a6d7e6a": {
      "model_module": "@jupyter-widgets/base",
      "model_module_version": "2.0.0",
      "model_name": "LayoutModel",
      "state": {}
     },
     "145a697a82bf408bafad224350ba381f": {
      "model_module": "@jupyter-widgets/base",
      "model_module_version": "2.0.0",
      "model_name": "LayoutModel",
      "state": {}
     },
     "145ce84b3530452b843efe735baa7dee": {
      "model_module": "@jupyter-widgets/base",
      "model_module_version": "2.0.0",
      "model_name": "LayoutModel",
      "state": {}
     },
     "147a8b8a02fc47d0b6af40e0f95e8c79": {
      "model_module": "@jupyter-widgets/controls",
      "model_module_version": "2.0.0",
      "model_name": "IntSliderModel",
      "state": {
       "behavior": "drag-tap",
       "layout": "IPY_MODEL_0b6f02dd9d934024a3be51e99b04b091",
       "max": 500,
       "style": "IPY_MODEL_149a48b9473f4e3780b0b5632241b267",
       "value": 250
      }
     },
     "149a48b9473f4e3780b0b5632241b267": {
      "model_module": "@jupyter-widgets/controls",
      "model_module_version": "2.0.0",
      "model_name": "SliderStyleModel",
      "state": {
       "description_width": ""
      }
     },
     "14dafe8d34774d1dbd066cee202c871c": {
      "model_module": "@jupyter-widgets/controls",
      "model_module_version": "2.0.0",
      "model_name": "VBoxModel",
      "state": {
       "layout": "IPY_MODEL_1c2db9a46bfb4f7e8502166b4e116a01"
      }
     },
     "152e8f39287343cebef192f71b16df18": {
      "model_module": "@jupyter-widgets/base",
      "model_module_version": "2.0.0",
      "model_name": "LayoutModel",
      "state": {}
     },
     "1593a852d36d44cea2cc03a63b72e03d": {
      "model_module": "@jupyter-widgets/controls",
      "model_module_version": "2.0.0",
      "model_name": "HTMLStyleModel",
      "state": {
       "description_width": "",
       "font_size": null,
       "text_color": null
      }
     },
     "159ff456f2c242648f663ad8d8e8f85d": {
      "model_module": "@jupyter-widgets/base",
      "model_module_version": "2.0.0",
      "model_name": "LayoutModel",
      "state": {}
     },
     "165d2a4c622c4791b5a44f5b667b4eb1": {
      "model_module": "@jupyter-widgets/base",
      "model_module_version": "2.0.0",
      "model_name": "LayoutModel",
      "state": {}
     },
     "1680de88ce0d49c19b95465be4c54be5": {
      "model_module": "@jupyter-widgets/controls",
      "model_module_version": "2.0.0",
      "model_name": "VBoxModel",
      "state": {
       "children": [
        "IPY_MODEL_cbd029909e4845089be6396fecf507f6"
       ],
       "layout": "IPY_MODEL_5b404f771a9141a29d63d8f0cacadace"
      }
     },
     "16cbd1a3641a4d3fb9c5a476656569aa": {
      "model_module": "@jupyter-widgets/controls",
      "model_module_version": "2.0.0",
      "model_name": "LabelModel",
      "state": {
       "layout": "IPY_MODEL_82c8b0e87aee484fb869882d4f4309be",
       "style": "IPY_MODEL_18754e3aa91f4aa6972bfd82cbeb45ea",
       "value": "Curtain"
      }
     },
     "16d8a23bab504e9a9e7fe32c9b53f195": {
      "model_module": "ipycanvas",
      "model_module_version": "^0.13",
      "model_name": "CanvasModel",
      "state": {
       "_canvas_manager": "IPY_MODEL_d9a833c7f08b41bd9d6176723d2ff2f4",
       "_model_module_version": "^0.13",
       "_view_module_version": "^0.13",
       "height": 600,
       "layout": "IPY_MODEL_f06034cf09f14f44a315433c3a652d4c",
       "width": 600
      }
     },
     "1708c78fcd7647309f2b02bc6383a9a7": {
      "model_module": "@jupyter-widgets/base",
      "model_module_version": "2.0.0",
      "model_name": "LayoutModel",
      "state": {}
     },
     "171e32b4c7894fe5a5dc6bb6a12eb724": {
      "model_module": "@jupyter-widgets/base",
      "model_module_version": "2.0.0",
      "model_name": "LayoutModel",
      "state": {}
     },
     "1771abd847924a0499b29c9b36668caf": {
      "model_module": "@jupyter-widgets/controls",
      "model_module_version": "2.0.0",
      "model_name": "SliderStyleModel",
      "state": {
       "description_width": ""
      }
     },
     "17a83004e19548a6b5e7c3796eae97e0": {
      "model_module": "@jupyter-widgets/controls",
      "model_module_version": "2.0.0",
      "model_name": "HBoxModel",
      "state": {
       "children": [
        "IPY_MODEL_c092ea5e434845ef9461291fbff14a7a",
        "IPY_MODEL_7640bfbc920f489481495114047b2e08"
       ],
       "layout": "IPY_MODEL_633a00f4e20f438eb6b4ce37f80844df"
      }
     },
     "17a88b38c68a4a559d776198c216b47d": {
      "model_module": "@jupyter-widgets/controls",
      "model_module_version": "2.0.0",
      "model_name": "VBoxModel",
      "state": {
       "children": [
        "IPY_MODEL_123b6ee08836466892cb75988e215994",
        "IPY_MODEL_5bc1f45306ff496d875c37b1df81ab89"
       ],
       "layout": "IPY_MODEL_3b5da5d8dae74b5b9ed4f5f01afb3b36"
      }
     },
     "17d576abaac049d5ac2ec51874e393ee": {
      "model_module": "@jupyter-widgets/base",
      "model_module_version": "2.0.0",
      "model_name": "LayoutModel",
      "state": {}
     },
     "1803c923f2004dfaa9bb799669a95575": {
      "model_module": "@jupyter-widgets/controls",
      "model_module_version": "2.0.0",
      "model_name": "HBoxModel",
      "state": {
       "children": [
        "IPY_MODEL_6ac31249eeb949eb9db44059a006d109"
       ],
       "layout": "IPY_MODEL_f384162bca7a4f2dbac31684c8bb8393"
      }
     },
     "181cf5b44bc342208ffd4458b1f58e91": {
      "model_module": "@jupyter-widgets/controls",
      "model_module_version": "2.0.0",
      "model_name": "HBoxModel",
      "state": {
       "children": [
        "IPY_MODEL_e8d8c72fb3244dbe9abf9e48a6727bff"
       ],
       "layout": "IPY_MODEL_165d2a4c622c4791b5a44f5b667b4eb1"
      }
     },
     "1822e1e3eede4b20b7c0fd05103bf6e5": {
      "model_module": "@jupyter-widgets/base",
      "model_module_version": "2.0.0",
      "model_name": "LayoutModel",
      "state": {}
     },
     "182c642728d24f778fb2489f177e35b7": {
      "model_module": "@jupyter-widgets/controls",
      "model_module_version": "2.0.0",
      "model_name": "LabelStyleModel",
      "state": {
       "description_width": "",
       "font_family": null,
       "font_size": null,
       "font_style": null,
       "font_variant": null,
       "font_weight": null,
       "text_color": null,
       "text_decoration": null
      }
     },
     "186ca2e05bcf4cec8a14aa3d461a6e7b": {
      "model_module": "@jupyter-widgets/base",
      "model_module_version": "2.0.0",
      "model_name": "LayoutModel",
      "state": {}
     },
     "1873fc2ea29f4f9e823bbeebf4551ba8": {
      "model_module": "@jupyter-widgets/base",
      "model_module_version": "2.0.0",
      "model_name": "LayoutModel",
      "state": {}
     },
     "18754e3aa91f4aa6972bfd82cbeb45ea": {
      "model_module": "@jupyter-widgets/controls",
      "model_module_version": "2.0.0",
      "model_name": "LabelStyleModel",
      "state": {
       "description_width": "",
       "font_family": null,
       "font_size": null,
       "font_style": null,
       "font_variant": null,
       "font_weight": null,
       "text_color": null,
       "text_decoration": null
      }
     },
     "188dfb8f1b1b4867a0a27cfe29f6e57f": {
      "model_module": "@jupyter-widgets/controls",
      "model_module_version": "2.0.0",
      "model_name": "VBoxModel",
      "state": {
       "children": [
        "IPY_MODEL_2c4bd4d067a947f5adfb3be5036f716e"
       ],
       "layout": "IPY_MODEL_9393e725a4e0495eab1fff6ac413037a"
      }
     },
     "18ea1690c5544d6d822d72f9d541d884": {
      "model_module": "@jupyter-widgets/base",
      "model_module_version": "2.0.0",
      "model_name": "LayoutModel",
      "state": {}
     },
     "1902362066eb4b6f8c87b3406b154d5d": {
      "model_module": "@jupyter-widgets/controls",
      "model_module_version": "2.0.0",
      "model_name": "HBoxModel",
      "state": {
       "children": [
        "IPY_MODEL_55a236991dc14153a822d681a3b53253",
        "IPY_MODEL_898079abd3894653ba68f4a306fda96b"
       ],
       "layout": "IPY_MODEL_c4256ca4f9ad4f07a2b94efb4b04b805"
      }
     },
     "193324a076244993afbf2db80c940b0f": {
      "model_module": "ipycanvas",
      "model_module_version": "^0.13",
      "model_name": "CanvasModel",
      "state": {
       "_canvas_manager": "IPY_MODEL_d9a833c7f08b41bd9d6176723d2ff2f4",
       "_model_module_version": "^0.13",
       "_view_module_version": "^0.13",
       "height": 900,
       "layout": "IPY_MODEL_3d245601c27c4d05a3dde56fd4d4df42",
       "width": 900
      }
     },
     "193a152abe18459c80e355d4e0de3def": {
      "model_module": "@jupyter-widgets/base",
      "model_module_version": "2.0.0",
      "model_name": "LayoutModel",
      "state": {}
     },
     "195241110e86404fa875f8cc346c5fdd": {
      "model_module": "ipycanvas",
      "model_module_version": "^0.13",
      "model_name": "CanvasModel",
      "state": {
       "_canvas_manager": "IPY_MODEL_d9a833c7f08b41bd9d6176723d2ff2f4",
       "_model_module_version": "^0.13",
       "_view_module_version": "^0.13",
       "height": 900,
       "layout": "IPY_MODEL_8c593950b39f47209ae5c4dd78e576a6",
       "width": 900
      }
     },
     "19673637b69a4b0ca793a58e13962ad4": {
      "model_module": "@jupyter-widgets/base",
      "model_module_version": "2.0.0",
      "model_name": "LayoutModel",
      "state": {}
     },
     "197b0d98c7c0497a9131b88e53b290d6": {
      "model_module": "ipycanvas",
      "model_module_version": "^0.13",
      "model_name": "CanvasModel",
      "state": {
       "_canvas_manager": "IPY_MODEL_d9a833c7f08b41bd9d6176723d2ff2f4",
       "_model_module_version": "^0.13",
       "_view_module_version": "^0.13",
       "height": 900,
       "layout": "IPY_MODEL_d7d7e7c94c644c72a72f9c869504e58c",
       "width": 900
      }
     },
     "1987ac6a881648b8af9e564700327db3": {
      "model_module": "@jupyter-widgets/base",
      "model_module_version": "2.0.0",
      "model_name": "LayoutModel",
      "state": {}
     },
     "1a7b040195ed4305a624325c292a1af2": {
      "model_module": "@jupyter-widgets/controls",
      "model_module_version": "2.0.0",
      "model_name": "SliderStyleModel",
      "state": {
       "description_width": ""
      }
     },
     "1b005fbda5ca4a9aa63c04c2aefee627": {
      "model_module": "@jupyter-widgets/base",
      "model_module_version": "2.0.0",
      "model_name": "LayoutModel",
      "state": {}
     },
     "1b13c26caca940de85c132541fedb0e4": {
      "model_module": "@jupyter-widgets/base",
      "model_module_version": "2.0.0",
      "model_name": "LayoutModel",
      "state": {}
     },
     "1b28a12320fe446ba5e470f2d2ebacbb": {
      "model_module": "@jupyter-widgets/controls",
      "model_module_version": "2.0.0",
      "model_name": "HBoxModel",
      "state": {
       "children": [
        "IPY_MODEL_3e005e4c8fd54ba39fb9ace9a43f8233",
        "IPY_MODEL_d58608bda73d4ee2b74514aa312d04e6"
       ],
       "layout": "IPY_MODEL_b96b50934f9e46d68d1dc404c543c24a"
      }
     },
     "1b5a9337aea04a4d97049d7150caeeaa": {
      "model_module": "@jupyter-widgets/controls",
      "model_module_version": "2.0.0",
      "model_name": "VBoxModel",
      "state": {
       "children": [
        "IPY_MODEL_afa6b45fdd414367bd7786119e4550a1"
       ],
       "layout": "IPY_MODEL_db4c419635574007aa0800fa8eb703dc"
      }
     },
     "1c2db9a46bfb4f7e8502166b4e116a01": {
      "model_module": "@jupyter-widgets/base",
      "model_module_version": "2.0.0",
      "model_name": "LayoutModel",
      "state": {}
     },
     "1c6ceeb31fb14ad7964027db14afee23": {
      "model_module": "@jupyter-widgets/base",
      "model_module_version": "2.0.0",
      "model_name": "LayoutModel",
      "state": {}
     },
     "1d02122c20ee40bda059fc7b2bd5f7a9": {
      "model_module": "@jupyter-widgets/base",
      "model_module_version": "2.0.0",
      "model_name": "LayoutModel",
      "state": {}
     },
     "1d06f4b63f4c48cc93a7673f9e4cc402": {
      "model_module": "@jupyter-widgets/base",
      "model_module_version": "2.0.0",
      "model_name": "LayoutModel",
      "state": {}
     },
     "1d2f8f13161242c1833a3befcbcf5791": {
      "model_module": "@jupyter-widgets/controls",
      "model_module_version": "2.0.0",
      "model_name": "HBoxModel",
      "state": {
       "children": [
        "IPY_MODEL_97ecd7c8470e4a68ae27592241a350fa"
       ],
       "layout": "IPY_MODEL_3e53b3a5b30042cbb342c18053b1b54e"
      }
     },
     "1d3b2461053b46aa9b188459cb9c18b0": {
      "model_module": "@jupyter-widgets/controls",
      "model_module_version": "2.0.0",
      "model_name": "HBoxModel",
      "state": {
       "children": [
        "IPY_MODEL_c9bee584f0b041049c9a71a6abd90e72"
       ],
       "layout": "IPY_MODEL_6171170a4dc24063b9af068a7d35bf9e"
      }
     },
     "1d43b812fd914ea48abfa75f6175bfb0": {
      "model_module": "@jupyter-widgets/base",
      "model_module_version": "2.0.0",
      "model_name": "LayoutModel",
      "state": {}
     },
     "1d5c2ca25c994f5d88803ed38404e289": {
      "model_module": "@jupyter-widgets/controls",
      "model_module_version": "2.0.0",
      "model_name": "VBoxModel",
      "state": {
       "children": [
        "IPY_MODEL_c5f61f1f8b3b4fba884a4dbe739a0d50"
       ],
       "layout": "IPY_MODEL_4b2e24e8699d4bef8ef0677097e2a893"
      }
     },
     "1d63de630b664f85ad3243b1db75d50c": {
      "model_module": "@jupyter-widgets/base",
      "model_module_version": "2.0.0",
      "model_name": "LayoutModel",
      "state": {}
     },
     "1da26e72f0044331b70e4f8c6d5e8d22": {
      "model_module": "@jupyter-widgets/base",
      "model_module_version": "2.0.0",
      "model_name": "LayoutModel",
      "state": {}
     },
     "1daabcd9d78c459a8038e76055300866": {
      "model_module": "@jupyter-widgets/controls",
      "model_module_version": "2.0.0",
      "model_name": "HTMLModel",
      "state": {
       "layout": "IPY_MODEL_70f2fc5ba31f48349c3c3bc27eaea137",
       "style": "IPY_MODEL_22ebf4255c1a41708acb852b829d3215",
       "value": "<style>.widget-readout { min-width: 20px !important; }</style>"
      }
     },
     "1dc8d4c2c69e4750a044056040102d2b": {
      "model_module": "ipycanvas",
      "model_module_version": "^0.13",
      "model_name": "CanvasModel",
      "state": {
       "_canvas_manager": "IPY_MODEL_d9a833c7f08b41bd9d6176723d2ff2f4",
       "_model_module_version": "^0.13",
       "_view_module_version": "^0.13",
       "height": 600,
       "layout": "IPY_MODEL_0fa471c6a23a4db387a30f51e2e9e433",
       "width": 600
      }
     },
     "1dca8885f22a432b93c6d5e5eb2a9473": {
      "model_module": "@jupyter-widgets/controls",
      "model_module_version": "2.0.0",
      "model_name": "HTMLStyleModel",
      "state": {
       "description_width": "",
       "font_size": null,
       "text_color": null
      }
     },
     "1dd69d4be8a948598927f10b16ce9415": {
      "model_module": "@jupyter-widgets/base",
      "model_module_version": "2.0.0",
      "model_name": "LayoutModel",
      "state": {}
     },
     "1dfc6009baa344b88e9f7d121c19df45": {
      "model_module": "@jupyter-widgets/base",
      "model_module_version": "2.0.0",
      "model_name": "LayoutModel",
      "state": {}
     },
     "1e013bada7f84757bd8fee1bdb22091d": {
      "model_module": "@jupyter-widgets/controls",
      "model_module_version": "2.0.0",
      "model_name": "VBoxModel",
      "state": {
       "children": [
        "IPY_MODEL_8a6a7f084f164bc9a6fd9ffa35c65e7c",
        "IPY_MODEL_362bb5a93cc74bfaab891ab59e847aa7",
        "IPY_MODEL_42bb81f3f2ed40edbd171289ab49e7a0"
       ],
       "layout": "IPY_MODEL_85608eaef5d3444ea5a8bd28a9d5bc14"
      }
     },
     "1e09811d2122433f82d649c61adb064f": {
      "model_module": "@jupyter-widgets/controls",
      "model_module_version": "2.0.0",
      "model_name": "HBoxModel",
      "state": {
       "children": [
        "IPY_MODEL_ccfc42fe5a0b42ceb858aff0d659555b"
       ],
       "layout": "IPY_MODEL_67963ca62b2f46988d234749be501a7a"
      }
     },
     "1eeb40364f4f422a9d76ea2a8beb7c7d": {
      "model_module": "@jupyter-widgets/controls",
      "model_module_version": "2.0.0",
      "model_name": "HTMLStyleModel",
      "state": {
       "description_width": "",
       "font_size": null,
       "text_color": null
      }
     },
     "1efc93eb34404ac797e0101263e38d8c": {
      "model_module": "@jupyter-widgets/controls",
      "model_module_version": "2.0.0",
      "model_name": "LabelStyleModel",
      "state": {
       "description_width": "",
       "font_family": null,
       "font_size": null,
       "font_style": null,
       "font_variant": null,
       "font_weight": null,
       "text_color": null,
       "text_decoration": null
      }
     },
     "1f0498d9e06b4737bf0c8fc34194009f": {
      "model_module": "@jupyter-widgets/controls",
      "model_module_version": "2.0.0",
      "model_name": "HBoxModel",
      "state": {
       "children": [
        "IPY_MODEL_a823412060e640c0b87027897f5732b4"
       ],
       "layout": "IPY_MODEL_d751c3d86b284e6bba21daf055511ebc"
      }
     },
     "1f06d724cb724755ae4eed19fe22fe94": {
      "model_module": "@jupyter-widgets/controls",
      "model_module_version": "2.0.0",
      "model_name": "SliderStyleModel",
      "state": {
       "description_width": ""
      }
     },
     "1f1ce9a974fe41559ed9cbb9013492db": {
      "model_module": "@jupyter-widgets/controls",
      "model_module_version": "2.0.0",
      "model_name": "LabelStyleModel",
      "state": {
       "description_width": "",
       "font_family": null,
       "font_size": null,
       "font_style": null,
       "font_variant": null,
       "font_weight": null,
       "text_color": null,
       "text_decoration": null
      }
     },
     "1f3a6b6729a7498fa725719cc0cadefe": {
      "model_module": "@jupyter-widgets/base",
      "model_module_version": "2.0.0",
      "model_name": "LayoutModel",
      "state": {}
     },
     "1f7cb4e8c77c49d19f4593a83a8ce04a": {
      "model_module": "@jupyter-widgets/controls",
      "model_module_version": "2.0.0",
      "model_name": "SliderStyleModel",
      "state": {
       "description_width": ""
      }
     },
     "1fa81c9a83c04be383f12568ff5cd023": {
      "model_module": "@jupyter-widgets/controls",
      "model_module_version": "2.0.0",
      "model_name": "VBoxModel",
      "state": {
       "children": [
        "IPY_MODEL_f8dac0001c7f498aab4f1ee2386e2837"
       ],
       "layout": "IPY_MODEL_e7e839939a4341a98bd8da397c3c97dc"
      }
     },
     "201b33741054402e8985a86757598113": {
      "model_module": "@jupyter-widgets/controls",
      "model_module_version": "2.0.0",
      "model_name": "LabelModel",
      "state": {
       "layout": "IPY_MODEL_5ada174cfe9f4641ba4c7ab1e52d3940",
       "style": "IPY_MODEL_edbde846230f4b8e8499bbae2d1a6726",
       "value": "Curtain"
      }
     },
     "204134ae74d84f309ef66f7cac1bc7ac": {
      "model_module": "@jupyter-widgets/base",
      "model_module_version": "2.0.0",
      "model_name": "LayoutModel",
      "state": {}
     },
     "20875f6307d24884a21177c7e865359d": {
      "model_module": "@jupyter-widgets/controls",
      "model_module_version": "2.0.0",
      "model_name": "LabelStyleModel",
      "state": {
       "description_width": "",
       "font_family": null,
       "font_size": null,
       "font_style": null,
       "font_variant": null,
       "font_weight": null,
       "text_color": null,
       "text_decoration": null
      }
     },
     "21a313913e184820a33bd05cc59ceda7": {
      "model_module": "@jupyter-widgets/base",
      "model_module_version": "2.0.0",
      "model_name": "LayoutModel",
      "state": {}
     },
     "21c4208924f74370b21449f84ca120da": {
      "model_module": "@jupyter-widgets/controls",
      "model_module_version": "2.0.0",
      "model_name": "VBoxModel",
      "state": {
       "children": [
        "IPY_MODEL_5e6a3a863ada45cda540c82f9a1bfd1e"
       ],
       "layout": "IPY_MODEL_ef0411ef264f4b39ba67ac74c115898f"
      }
     },
     "224e63469c7049689ea04a9e4835e2bd": {
      "model_module": "@jupyter-widgets/controls",
      "model_module_version": "2.0.0",
      "model_name": "HBoxModel",
      "state": {
       "children": [
        "IPY_MODEL_61178081e16b4354a89878a517d4ef79",
        "IPY_MODEL_347e02551d594aabab69d17986ecc016"
       ],
       "layout": "IPY_MODEL_f37ac8a77f174e689daf55ef5cc71726"
      }
     },
     "229d8f8f57a64a6597ffbe4723df0bda": {
      "model_module": "@jupyter-widgets/base",
      "model_module_version": "2.0.0",
      "model_name": "LayoutModel",
      "state": {}
     },
     "22ac2833fae14794925a119a271541f4": {
      "model_module": "@jupyter-widgets/controls",
      "model_module_version": "2.0.0",
      "model_name": "IntSliderModel",
      "state": {
       "behavior": "drag-tap",
       "layout": "IPY_MODEL_6592425caf4b4ff0acb48461acd51600",
       "max": 500,
       "style": "IPY_MODEL_11cb0384f4ad4a599c33ec8035316aca",
       "value": 250
      }
     },
     "22b1703969dc43a59b02262599a215c5": {
      "model_module": "@jupyter-widgets/controls",
      "model_module_version": "2.0.0",
      "model_name": "SliderStyleModel",
      "state": {
       "description_width": ""
      }
     },
     "22daf23186dc4a908004ad617dce0f05": {
      "model_module": "@jupyter-widgets/base",
      "model_module_version": "2.0.0",
      "model_name": "LayoutModel",
      "state": {}
     },
     "22ebf4255c1a41708acb852b829d3215": {
      "model_module": "@jupyter-widgets/controls",
      "model_module_version": "2.0.0",
      "model_name": "HTMLStyleModel",
      "state": {
       "description_width": "",
       "font_size": null,
       "text_color": null
      }
     },
     "22ec1a1ccd784e6397d43e028c749874": {
      "model_module": "@jupyter-widgets/controls",
      "model_module_version": "2.0.0",
      "model_name": "VBoxModel",
      "state": {
       "children": [
        "IPY_MODEL_41b5162bfcfd45ce9742b8e2545f06b3",
        "IPY_MODEL_a66e5020702c4d55a550470945da8591"
       ],
       "layout": "IPY_MODEL_fbbe9985d0494a53aee8c7bc94bfdb32"
      }
     },
     "230081c912964232b7d76182458464bd": {
      "model_module": "@jupyter-widgets/controls",
      "model_module_version": "2.0.0",
      "model_name": "HTMLStyleModel",
      "state": {
       "description_width": "",
       "font_size": null,
       "text_color": null
      }
     },
     "2324fb7c888f4a28ab49c9adf83f1940": {
      "model_module": "@jupyter-widgets/controls",
      "model_module_version": "2.0.0",
      "model_name": "FloatProgressModel",
      "state": {
       "bar_style": "success",
       "layout": "IPY_MODEL_8f67f917423e476b8a727801c01a2fcc",
       "style": "IPY_MODEL_e18490a751244d7bba6e802dca4737e1",
       "value": 100
      }
     },
     "23475f3c90f24922a6cc50c719515af9": {
      "model_module": "@jupyter-widgets/base",
      "model_module_version": "2.0.0",
      "model_name": "LayoutModel",
      "state": {}
     },
     "2349695f1eae42fc83cceb5e3a151d01": {
      "model_module": "@jupyter-widgets/controls",
      "model_module_version": "2.0.0",
      "model_name": "HBoxModel",
      "state": {
       "children": [
        "IPY_MODEL_a512d97f168245769f1402762287d843",
        "IPY_MODEL_8c303cf8333649fcb588ff64aa538950"
       ],
       "layout": "IPY_MODEL_5630408f0a9a4159a4cf0eb02b5aeb41"
      }
     },
     "2353b934f1204f3fa6678485b91337b3": {
      "model_module": "@jupyter-widgets/base",
      "model_module_version": "2.0.0",
      "model_name": "LayoutModel",
      "state": {}
     },
     "23bdbb792af34ec5bb0fb651c1307340": {
      "model_module": "@jupyter-widgets/base",
      "model_module_version": "2.0.0",
      "model_name": "LayoutModel",
      "state": {}
     },
     "23c7859f2ac44defbac8bbbd088f1f00": {
      "model_module": "@jupyter-widgets/controls",
      "model_module_version": "2.0.0",
      "model_name": "VBoxModel",
      "state": {
       "children": [
        "IPY_MODEL_527acc3521a0419eb3cb5b5a251a592d",
        "IPY_MODEL_b96bc62c307a43f783004b3f40b34a76"
       ],
       "layout": "IPY_MODEL_4dca933e1a2441baab210a3496831f29"
      }
     },
     "2419ea60705e45ee9b9574661cf397d9": {
      "model_module": "@jupyter-widgets/base",
      "model_module_version": "2.0.0",
      "model_name": "LayoutModel",
      "state": {
       "width": "100%"
      }
     },
     "245b846e9a0144519c6e5f403dc27def": {
      "model_module": "@jupyter-widgets/controls",
      "model_module_version": "2.0.0",
      "model_name": "LabelModel",
      "state": {
       "layout": "IPY_MODEL_40eef3c120da4766a204d83dd89602dd",
       "style": "IPY_MODEL_a1513955fd5d42bca7c5067a95313227",
       "value": "Curtain"
      }
     },
     "2467915e9b2f465b84e5b9d366e0353e": {
      "model_module": "@jupyter-widgets/controls",
      "model_module_version": "2.0.0",
      "model_name": "VBoxModel",
      "state": {
       "children": [
        "IPY_MODEL_9378dea6894f46a0a825b0b8cf66d11c",
        "IPY_MODEL_38074619c9224822bb3dab802a8d11d9",
        "IPY_MODEL_fdc34b16c61445eba8477dd1a5184d1d"
       ],
       "layout": "IPY_MODEL_51e0c48a46b6456dbb4ad78996e1ffeb"
      }
     },
     "246a7517cf3546318700d1a705bc5ca3": {
      "model_module": "@jupyter-widgets/base",
      "model_module_version": "2.0.0",
      "model_name": "LayoutModel",
      "state": {}
     },
     "2485cd4cdd694fda930684b18bb3f428": {
      "model_module": "@jupyter-widgets/controls",
      "model_module_version": "2.0.0",
      "model_name": "LabelStyleModel",
      "state": {
       "description_width": "",
       "font_family": null,
       "font_size": null,
       "font_style": null,
       "font_variant": null,
       "font_weight": null,
       "text_color": null,
       "text_decoration": null
      }
     },
     "25baa75377ca46d6a85af2016f81e54c": {
      "model_module": "@jupyter-widgets/controls",
      "model_module_version": "2.0.0",
      "model_name": "HBoxModel",
      "state": {
       "children": [
        "IPY_MODEL_d4aafd3f1c8b4fac812202eb80d989b9"
       ],
       "layout": "IPY_MODEL_799411b375554d72976adbfa679f65d4"
      }
     },
     "25c9ae88902b4f98816e6b90142cc21c": {
      "model_module": "@jupyter-widgets/base",
      "model_module_version": "2.0.0",
      "model_name": "LayoutModel",
      "state": {}
     },
     "25d6cbd2fa114169822bf7e77c460e99": {
      "model_module": "@jupyter-widgets/controls",
      "model_module_version": "2.0.0",
      "model_name": "HTMLModel",
      "state": {
       "layout": "IPY_MODEL_95422642d6f7438bb545c374523b72d3",
       "style": "IPY_MODEL_2d961a76b3694e939a1d05403abc13dd",
       "value": "<style>.widget-readout { min-width: 20px !important; }</style>"
      }
     },
     "263634dcdc8f420f98433b76febfa4f3": {
      "model_module": "@jupyter-widgets/controls",
      "model_module_version": "2.0.0",
      "model_name": "VBoxModel",
      "state": {
       "children": [
        "IPY_MODEL_b1bd4d26214c4c30a7bebe0dbbbd63ef"
       ],
       "layout": "IPY_MODEL_c2293baf4aa34234a8c6c3ed587969b4"
      }
     },
     "26415204548b4873b2af3d47269c38e8": {
      "model_module": "@jupyter-widgets/controls",
      "model_module_version": "2.0.0",
      "model_name": "HBoxModel",
      "state": {
       "children": [
        "IPY_MODEL_e2f06e6589d942dc94b06bc16d036a27"
       ],
       "layout": "IPY_MODEL_b709c1eccd7341fb9c58d0c96d6c274f"
      }
     },
     "2643bf6809fd45ddb78dcfd741c6a863": {
      "model_module": "@jupyter-widgets/base",
      "model_module_version": "2.0.0",
      "model_name": "LayoutModel",
      "state": {}
     },
     "26cc3dc1ea484dcc84d5ec1e2434b88e": {
      "model_module": "@jupyter-widgets/base",
      "model_module_version": "2.0.0",
      "model_name": "LayoutModel",
      "state": {}
     },
     "26cf40761ac245cc99b627190906ac8f": {
      "model_module": "ipycanvas",
      "model_module_version": "^0.13",
      "model_name": "CanvasModel",
      "state": {
       "_canvas_manager": "IPY_MODEL_d9a833c7f08b41bd9d6176723d2ff2f4",
       "_model_module_version": "^0.13",
       "_view_module_version": "^0.13",
       "height": 900,
       "layout": "IPY_MODEL_ff91feef4ebd4f2ea4d3d561c1967ede",
       "width": 900
      }
     },
     "26d1847755414df581db4f8fb26fd549": {
      "model_module": "@jupyter-widgets/base",
      "model_module_version": "2.0.0",
      "model_name": "LayoutModel",
      "state": {}
     },
     "26f5f487bf7b49679a3bfde91b0efb00": {
      "model_module": "@jupyter-widgets/base",
      "model_module_version": "2.0.0",
      "model_name": "LayoutModel",
      "state": {}
     },
     "2735161a15de424fac208a264c4acbea": {
      "model_module": "@jupyter-widgets/controls",
      "model_module_version": "2.0.0",
      "model_name": "VBoxModel",
      "state": {
       "layout": "IPY_MODEL_65fcc761003f4cedbfa7eeb1e8a25762"
      }
     },
     "2748f2606d594da0b387f170eef9f6e4": {
      "model_module": "@jupyter-widgets/controls",
      "model_module_version": "2.0.0",
      "model_name": "HBoxModel",
      "state": {
       "children": [
        "IPY_MODEL_7b52e9c049c248c3bbed444ad2091fdc",
        "IPY_MODEL_29fa0cb6a54e44f4ac07c216d593f1c4"
       ],
       "layout": "IPY_MODEL_9fa7b95542f6471fab52c2c5d32d5b25"
      }
     },
     "275ee0fbcd9141fc920e6f4c5b332c97": {
      "model_module": "@jupyter-widgets/base",
      "model_module_version": "2.0.0",
      "model_name": "LayoutModel",
      "state": {
       "width": "100%"
      }
     },
     "276de5f092ea4e31b8dcc94c7a08b04d": {
      "model_module": "ipycanvas",
      "model_module_version": "^0.13",
      "model_name": "CanvasModel",
      "state": {
       "_canvas_manager": "IPY_MODEL_d9a833c7f08b41bd9d6176723d2ff2f4",
       "_model_module_version": "^0.13",
       "_view_module_version": "^0.13",
       "height": 900,
       "layout": "IPY_MODEL_47740c6eaad3476f8f6d4b1d1893924b",
       "width": 900
      }
     },
     "27a3f697ff164c0b92b0a232acdc294e": {
      "model_module": "@jupyter-widgets/base",
      "model_module_version": "2.0.0",
      "model_name": "LayoutModel",
      "state": {}
     },
     "27df3723eed8447e9e8a22407c629628": {
      "model_module": "@jupyter-widgets/controls",
      "model_module_version": "2.0.0",
      "model_name": "SliderStyleModel",
      "state": {
       "description_width": ""
      }
     },
     "284b5f7b52b341478ba299d27be90b39": {
      "model_module": "@jupyter-widgets/controls",
      "model_module_version": "2.0.0",
      "model_name": "VBoxModel",
      "state": {
       "children": [
        "IPY_MODEL_2467915e9b2f465b84e5b9d366e0353e"
       ],
       "layout": "IPY_MODEL_631734e4c10a4d06a4ace82dcf0e5cf3"
      }
     },
     "288a2cae6d0a44aaacd80630a610b2c3": {
      "model_module": "@jupyter-widgets/base",
      "model_module_version": "2.0.0",
      "model_name": "LayoutModel",
      "state": {}
     },
     "28c02f29f9f34e5399daeb635df601c9": {
      "model_module": "@jupyter-widgets/base",
      "model_module_version": "2.0.0",
      "model_name": "LayoutModel",
      "state": {}
     },
     "28d0431c46664c7e85cc462ddca50cd4": {
      "model_module": "@jupyter-widgets/controls",
      "model_module_version": "2.0.0",
      "model_name": "HBoxModel",
      "state": {
       "children": [
        "IPY_MODEL_f26668f0ab8a4ca0862a85ab485db67a"
       ],
       "layout": "IPY_MODEL_e9a8d9e4ea30434b8863af538939e1d0"
      }
     },
     "28d8bea14e08470caa2ea40f956d6e50": {
      "model_module": "@jupyter-widgets/controls",
      "model_module_version": "2.0.0",
      "model_name": "IntSliderModel",
      "state": {
       "behavior": "drag-tap",
       "layout": "IPY_MODEL_779cc408d33f4aedb6b4d2f2ec29ad02",
       "max": 500,
       "style": "IPY_MODEL_a14ca023389040b8a2bfb9b2b6977229",
       "value": 163
      }
     },
     "28f20c31c507409c85c7b521ce58692f": {
      "model_module": "@jupyter-widgets/controls",
      "model_module_version": "2.0.0",
      "model_name": "SliderStyleModel",
      "state": {
       "description_width": ""
      }
     },
     "29394d782ed04fa992e4020d09c47484": {
      "model_module": "@jupyter-widgets/base",
      "model_module_version": "2.0.0",
      "model_name": "LayoutModel",
      "state": {}
     },
     "296415678f844f32a38ae69efd4adc9e": {
      "model_module": "@jupyter-widgets/controls",
      "model_module_version": "2.0.0",
      "model_name": "HBoxModel",
      "state": {
       "children": [
        "IPY_MODEL_34c2a220f79e41fab3c7f0aefd28f723",
        "IPY_MODEL_106b97f11e10493db8fd807d21e1f387"
       ],
       "layout": "IPY_MODEL_547f46a266b242d7a94c7b1e2c352f6a"
      }
     },
     "296b375a31a84c998ff23c815060d37e": {
      "model_module": "@jupyter-widgets/controls",
      "model_module_version": "2.0.0",
      "model_name": "ProgressStyleModel",
      "state": {
       "description_width": ""
      }
     },
     "2997cbe2b2f144d5a8b02850767ba3b9": {
      "model_module": "@jupyter-widgets/controls",
      "model_module_version": "2.0.0",
      "model_name": "HBoxModel",
      "state": {
       "children": [
        "IPY_MODEL_1fa81c9a83c04be383f12568ff5cd023"
       ],
       "layout": "IPY_MODEL_3b23b8081b0b409b826a1a82b6d5645b"
      }
     },
     "29ab633c0c4248558c3d3fa948eb5234": {
      "model_module": "@jupyter-widgets/controls",
      "model_module_version": "2.0.0",
      "model_name": "FloatProgressModel",
      "state": {
       "bar_style": "success",
       "layout": "IPY_MODEL_25c9ae88902b4f98816e6b90142cc21c",
       "style": "IPY_MODEL_608fa7ae3d7f42b8a1496f7953d19e69",
       "value": 100
      }
     },
     "29fa0cb6a54e44f4ac07c216d593f1c4": {
      "model_module": "@jupyter-widgets/controls",
      "model_module_version": "2.0.0",
      "model_name": "IntSliderModel",
      "state": {
       "behavior": "drag-tap",
       "layout": "IPY_MODEL_dc0704953d4b49f0bc65bb754903ce59",
       "max": 500,
       "style": "IPY_MODEL_4aa234d887e647bc89a28f0fc2052075",
       "value": 250
      }
     },
     "2a5a9cac644e4863b970acd3de1b0dfb": {
      "model_module": "@jupyter-widgets/controls",
      "model_module_version": "2.0.0",
      "model_name": "HTMLStyleModel",
      "state": {
       "description_width": "",
       "font_size": null,
       "text_color": null
      }
     },
     "2ab03850a767481eb64ef5bb7cc6bbdb": {
      "model_module": "@jupyter-widgets/controls",
      "model_module_version": "2.0.0",
      "model_name": "ProgressStyleModel",
      "state": {
       "description_width": ""
      }
     },
     "2abf28c38f044176be108f109b378c09": {
      "model_module": "@jupyter-widgets/controls",
      "model_module_version": "2.0.0",
      "model_name": "LabelModel",
      "state": {
       "layout": "IPY_MODEL_5839ce943c684194ab15df7402fa4dc9",
       "style": "IPY_MODEL_8a088a0c8fe64cfd853ea54a036c252d",
       "value": "Curtain"
      }
     },
     "2aedee0860324127bb912fefb7cf259d": {
      "model_module": "@jupyter-widgets/base",
      "model_module_version": "2.0.0",
      "model_name": "LayoutModel",
      "state": {}
     },
     "2b10ff1dd23d499fb26ff07fc740941e": {
      "model_module": "@jupyter-widgets/controls",
      "model_module_version": "2.0.0",
      "model_name": "HBoxModel",
      "state": {
       "children": [
        "IPY_MODEL_04e6207538ef473ea67e4aa9fec4287c"
       ],
       "layout": "IPY_MODEL_e2e2fb126acd4ac5a8532f3b0d2d8bef"
      }
     },
     "2b35f0f46669461ea8319487a3ac74ac": {
      "model_module": "@jupyter-widgets/base",
      "model_module_version": "2.0.0",
      "model_name": "LayoutModel",
      "state": {}
     },
     "2b677ed37e0c4a0d88b832a992cdcdb0": {
      "model_module": "@jupyter-widgets/base",
      "model_module_version": "2.0.0",
      "model_name": "LayoutModel",
      "state": {}
     },
     "2b883c6d854f4532a130babbe83efe7f": {
      "model_module": "@jupyter-widgets/controls",
      "model_module_version": "2.0.0",
      "model_name": "VBoxModel",
      "state": {
       "layout": "IPY_MODEL_2de6ca60220c4286b42f1e46b86214cd"
      }
     },
     "2b9eaf026d8c44a892df2457d9f29910": {
      "model_module": "@jupyter-widgets/controls",
      "model_module_version": "2.0.0",
      "model_name": "HBoxModel",
      "state": {
       "children": [
        "IPY_MODEL_99288dfd4c364206aacba1f97a4b9517"
       ],
       "layout": "IPY_MODEL_b87578b2b3af42bcbf7a008b5ba604a5"
      }
     },
     "2bd33f0d3d1b405d9c6f6cb08391f34c": {
      "model_module": "@jupyter-widgets/controls",
      "model_module_version": "2.0.0",
      "model_name": "IntSliderModel",
      "state": {
       "behavior": "drag-tap",
       "layout": "IPY_MODEL_67e26b1e52cc4ccb998c6010926f8809",
       "max": 500,
       "style": "IPY_MODEL_27df3723eed8447e9e8a22407c629628",
       "value": 250
      }
     },
     "2bebe458686f4d8781c52ff0f58dad3e": {
      "model_module": "@jupyter-widgets/controls",
      "model_module_version": "2.0.0",
      "model_name": "VBoxModel",
      "state": {
       "children": [
        "IPY_MODEL_f0aa09e9594448c5b2337f8fad596e03"
       ],
       "layout": "IPY_MODEL_94efaf8e1f244a3984b8269586c2dc50"
      }
     },
     "2c013c1981a742f7a22ed04d01eb00c6": {
      "model_module": "@jupyter-widgets/controls",
      "model_module_version": "2.0.0",
      "model_name": "SliderStyleModel",
      "state": {
       "description_width": ""
      }
     },
     "2c020aefac5a48059d0ebcf00de20b96": {
      "model_module": "@jupyter-widgets/controls",
      "model_module_version": "2.0.0",
      "model_name": "LabelModel",
      "state": {
       "layout": "IPY_MODEL_fa1157ad65d448dbb430b50da8deb7d0",
       "style": "IPY_MODEL_52056a76ca46437d90e0d86fedcee906",
       "value": "Curtain"
      }
     },
     "2c4bd4d067a947f5adfb3be5036f716e": {
      "model_module": "@jupyter-widgets/controls",
      "model_module_version": "2.0.0",
      "model_name": "VBoxModel",
      "state": {
       "children": [
        "IPY_MODEL_d59e2dc3e27544628c6e6936af769508",
        "IPY_MODEL_b27508557b534e6b8f653296066fe66f",
        "IPY_MODEL_d0f49be28c0b4f89b999952294cb4da9"
       ],
       "layout": "IPY_MODEL_8e315dc3a9954d068d13970eaf13d728"
      }
     },
     "2c97ee0e17a143bea0e5d74d1ac62a83": {
      "model_module": "@jupyter-widgets/base",
      "model_module_version": "2.0.0",
      "model_name": "LayoutModel",
      "state": {}
     },
     "2cb87e16b72646ae9388cd6109ad63b3": {
      "model_module": "@jupyter-widgets/controls",
      "model_module_version": "2.0.0",
      "model_name": "VBoxModel",
      "state": {
       "children": [
        "IPY_MODEL_61d32ed7cbda4bddac58354d26793bfd"
       ],
       "layout": "IPY_MODEL_75ac011ab51e4419956cae7fec430c03"
      }
     },
     "2d2ad80e66cf48448d1e08485256c824": {
      "model_module": "@jupyter-widgets/controls",
      "model_module_version": "2.0.0",
      "model_name": "VBoxModel",
      "state": {
       "layout": "IPY_MODEL_66d3018ab7894599b15a80021179c23b"
      }
     },
     "2d648e788538416688b207c727dcca01": {
      "model_module": "@jupyter-widgets/base",
      "model_module_version": "2.0.0",
      "model_name": "LayoutModel",
      "state": {}
     },
     "2d961a76b3694e939a1d05403abc13dd": {
      "model_module": "@jupyter-widgets/controls",
      "model_module_version": "2.0.0",
      "model_name": "HTMLStyleModel",
      "state": {
       "description_width": "",
       "font_size": null,
       "text_color": null
      }
     },
     "2de6ca60220c4286b42f1e46b86214cd": {
      "model_module": "@jupyter-widgets/base",
      "model_module_version": "2.0.0",
      "model_name": "LayoutModel",
      "state": {}
     },
     "2e0979d2168f41978a971347c05792e0": {
      "model_module": "@jupyter-widgets/controls",
      "model_module_version": "2.0.0",
      "model_name": "VBoxModel",
      "state": {
       "children": [
        "IPY_MODEL_26cf40761ac245cc99b627190906ac8f"
       ],
       "layout": "IPY_MODEL_02e5715aa8314dd59af5b4f5ea9c3ee8"
      }
     },
     "2e0c41874372475da822c75fad401031": {
      "model_module": "@jupyter-widgets/controls",
      "model_module_version": "2.0.0",
      "model_name": "VBoxModel",
      "state": {
       "children": [
        "IPY_MODEL_d7c1361570734956b576101507886d0e",
        "IPY_MODEL_09ae55ce30544adb8999154c0d7b6736",
        "IPY_MODEL_85babf525ca94f8186e97f247d42b6d1"
       ],
       "layout": "IPY_MODEL_e5734b47591e4605af02098f4440c547"
      }
     },
     "2e284a8caf614ca0b261fdb7e55616ad": {
      "model_module": "@jupyter-widgets/base",
      "model_module_version": "2.0.0",
      "model_name": "LayoutModel",
      "state": {}
     },
     "2e3b5f5359694648a8a3d59c2066de40": {
      "model_module": "@jupyter-widgets/base",
      "model_module_version": "2.0.0",
      "model_name": "LayoutModel",
      "state": {}
     },
     "2e3ffd2116984a05a4af38e7b3d40be2": {
      "model_module": "@jupyter-widgets/controls",
      "model_module_version": "2.0.0",
      "model_name": "HBoxModel",
      "state": {
       "children": [
        "IPY_MODEL_a2ab9ea9933c48a6b2e746456be6802a",
        "IPY_MODEL_56edebbb691e4ce3a6071bb49f84b53a"
       ],
       "layout": "IPY_MODEL_fd402549e9ea4631868b2cb1f0782b31"
      }
     },
     "2e4e8b5b1eeb47d388146c7134e80609": {
      "model_module": "@jupyter-widgets/base",
      "model_module_version": "2.0.0",
      "model_name": "LayoutModel",
      "state": {}
     },
     "2e96ffe9a14b45bebacb10855231f05a": {
      "model_module": "@jupyter-widgets/controls",
      "model_module_version": "2.0.0",
      "model_name": "VBoxModel",
      "state": {
       "children": [
        "IPY_MODEL_2e0c41874372475da822c75fad401031"
       ],
       "layout": "IPY_MODEL_0ef5f233ba504831841d49b6ef7ce640"
      }
     },
     "2f10336f2ed34d209a65e601edb8f47a": {
      "model_module": "@jupyter-widgets/base",
      "model_module_version": "2.0.0",
      "model_name": "LayoutModel",
      "state": {}
     },
     "2f1e5cd13135486ab215607fadee70ba": {
      "model_module": "@jupyter-widgets/base",
      "model_module_version": "2.0.0",
      "model_name": "LayoutModel",
      "state": {}
     },
     "2f5bd80a88444c7eac226fcff245f0a1": {
      "model_module": "@jupyter-widgets/controls",
      "model_module_version": "2.0.0",
      "model_name": "SliderStyleModel",
      "state": {
       "description_width": ""
      }
     },
     "2f92ffd75787436388050d5e2c480b1a": {
      "model_module": "@jupyter-widgets/controls",
      "model_module_version": "2.0.0",
      "model_name": "VBoxModel",
      "state": {
       "children": [
        "IPY_MODEL_fe53b6c93551462aaf34c07f07f0625c",
        "IPY_MODEL_399d0b1f819c4685ba6785899c72397b",
        "IPY_MODEL_82a2013e200d4c8883fdeda81f63c54d"
       ],
       "layout": "IPY_MODEL_843c4e3ceacd46b8ad720b1534b1e5e4"
      }
     },
     "2fa879f7aa684f7f9447f8ebad6d890b": {
      "model_module": "@jupyter-widgets/controls",
      "model_module_version": "2.0.0",
      "model_name": "IntSliderModel",
      "state": {
       "behavior": "drag-tap",
       "layout": "IPY_MODEL_51b98d70bab94cda89ade41af4b2ad09",
       "max": 500,
       "style": "IPY_MODEL_dc1022b878b94bad8160fc72b0a6b786",
       "value": 250
      }
     },
     "30123a350ea14409ad7509fe7154b658": {
      "model_module": "@jupyter-widgets/controls",
      "model_module_version": "2.0.0",
      "model_name": "VBoxModel",
      "state": {
       "layout": "IPY_MODEL_0dc392bce6cd4a5d9e7b679456a51704"
      }
     },
     "302fc3e61ff5492da2ebfe9bcb5ee22b": {
      "model_module": "@jupyter-widgets/controls",
      "model_module_version": "2.0.0",
      "model_name": "LabelStyleModel",
      "state": {
       "description_width": "",
       "font_family": null,
       "font_size": null,
       "font_style": null,
       "font_variant": null,
       "font_weight": null,
       "text_color": null,
       "text_decoration": null
      }
     },
     "30407e152aa54628973815594053b695": {
      "model_module": "@jupyter-widgets/base",
      "model_module_version": "2.0.0",
      "model_name": "LayoutModel",
      "state": {}
     },
     "304241a197564e10b71cd70f25f157d2": {
      "model_module": "@jupyter-widgets/controls",
      "model_module_version": "2.0.0",
      "model_name": "HTMLStyleModel",
      "state": {
       "description_width": "",
       "font_size": null,
       "text_color": null
      }
     },
     "305bf89c155f4f268491dcd8716d9b80": {
      "model_module": "@jupyter-widgets/base",
      "model_module_version": "2.0.0",
      "model_name": "LayoutModel",
      "state": {}
     },
     "30f734e393a04b65a4afc19149ff26e8": {
      "model_module": "ipycanvas",
      "model_module_version": "^0.13",
      "model_name": "CanvasModel",
      "state": {
       "_canvas_manager": "IPY_MODEL_d9a833c7f08b41bd9d6176723d2ff2f4",
       "_model_module_version": "^0.13",
       "_view_module_version": "^0.13",
       "height": 1620,
       "layout": "IPY_MODEL_c1d145d7e21f4f4baeeaf20c90ced4e7",
       "width": 1620
      }
     },
     "3167ef6bd2c847afbf1ba91458233eb1": {
      "model_module": "@jupyter-widgets/base",
      "model_module_version": "2.0.0",
      "model_name": "LayoutModel",
      "state": {}
     },
     "3177e50484594689906111118f19d913": {
      "model_module": "@jupyter-widgets/controls",
      "model_module_version": "2.0.0",
      "model_name": "IntSliderModel",
      "state": {
       "behavior": "drag-tap",
       "layout": "IPY_MODEL_95c541a53da840d3b7eddcd0e3bfcee8",
       "max": 500,
       "style": "IPY_MODEL_07fb25bfd5ef4c19afebfb575bd19b90",
       "value": 250
      }
     },
     "31bca1a3cadd491fa06f82f42efba6f1": {
      "model_module": "@jupyter-widgets/controls",
      "model_module_version": "2.0.0",
      "model_name": "LabelModel",
      "state": {
       "layout": "IPY_MODEL_7de9ee7fea2546e7bdee118798062458",
       "style": "IPY_MODEL_f18c3e8c1a1449969c148bb9fe1c62a8",
       "value": "Curtain"
      }
     },
     "31c3b74ca33c49e5a2089f10d640577f": {
      "model_module": "@jupyter-widgets/controls",
      "model_module_version": "2.0.0",
      "model_name": "HTMLModel",
      "state": {
       "layout": "IPY_MODEL_69b2daff808c46ebab99f0a3e718d033",
       "style": "IPY_MODEL_f7b94d83a39845b28562478f76748acd",
       "value": "<style>.widget-readout { min-width: 20px !important; }</style>"
      }
     },
     "31c9f60928924d6e8cc169ced79e7ad0": {
      "model_module": "@jupyter-widgets/base",
      "model_module_version": "2.0.0",
      "model_name": "LayoutModel",
      "state": {}
     },
     "31d110cb217c4018be357515a98047f2": {
      "model_module": "@jupyter-widgets/controls",
      "model_module_version": "2.0.0",
      "model_name": "VBoxModel",
      "state": {
       "layout": "IPY_MODEL_b4940bb2097d423eb35602cbac700c7e"
      }
     },
     "322e16acb2634fcd97e95c4a0ccc73c4": {
      "model_module": "@jupyter-widgets/base",
      "model_module_version": "2.0.0",
      "model_name": "LayoutModel",
      "state": {}
     },
     "323201d9d93b4014a6c62e02e880d86c": {
      "model_module": "@jupyter-widgets/controls",
      "model_module_version": "2.0.0",
      "model_name": "IntSliderModel",
      "state": {
       "behavior": "drag-tap",
       "layout": "IPY_MODEL_a75f75f6b65d44d0b5139dc5f84b26fd",
       "max": 500,
       "style": "IPY_MODEL_3c606411978544e18d035354338d3ac9",
       "value": 250
      }
     },
     "32571548a0fc4a34bef6662c7629455e": {
      "model_module": "@jupyter-widgets/base",
      "model_module_version": "2.0.0",
      "model_name": "LayoutModel",
      "state": {}
     },
     "32ccc9182f2e44749dd624be262b218d": {
      "model_module": "@jupyter-widgets/controls",
      "model_module_version": "2.0.0",
      "model_name": "LabelModel",
      "state": {
       "layout": "IPY_MODEL_b71a250099d94f2099f609e6c6d7c952",
       "style": "IPY_MODEL_4dce642140f642f080471ba5d7a2b540",
       "value": "Curtain"
      }
     },
     "32f2dcc919034a879e318bccbe54319d": {
      "model_module": "@jupyter-widgets/controls",
      "model_module_version": "2.0.0",
      "model_name": "LabelStyleModel",
      "state": {
       "description_width": "",
       "font_family": null,
       "font_size": null,
       "font_style": null,
       "font_variant": null,
       "font_weight": null,
       "text_color": null,
       "text_decoration": null
      }
     },
     "337126aebb9d4138b8ad46c533258315": {
      "model_module": "@jupyter-widgets/base",
      "model_module_version": "2.0.0",
      "model_name": "LayoutModel",
      "state": {}
     },
     "33e0346b163b45b8b30b0851c549ad8b": {
      "model_module": "@jupyter-widgets/controls",
      "model_module_version": "2.0.0",
      "model_name": "IntSliderModel",
      "state": {
       "behavior": "drag-tap",
       "layout": "IPY_MODEL_f1c8b68310dc47628a0dfe04a87ed469",
       "max": 1000,
       "style": "IPY_MODEL_f68370b791974a14b99d4cfeed550f05",
       "value": 500
      }
     },
     "33e8fea7d69642ada4894b61ac7247ce": {
      "model_module": "@jupyter-widgets/controls",
      "model_module_version": "2.0.0",
      "model_name": "VBoxModel",
      "state": {
       "layout": "IPY_MODEL_8f18060a9e8a45279a29c7a2c2e7febe"
      }
     },
     "33f31d46bb8a4696b1d166b371847966": {
      "model_module": "@jupyter-widgets/base",
      "model_module_version": "2.0.0",
      "model_name": "LayoutModel",
      "state": {}
     },
     "341aff8b21b14912867f5b0f610e8265": {
      "model_module": "@jupyter-widgets/base",
      "model_module_version": "2.0.0",
      "model_name": "LayoutModel",
      "state": {}
     },
     "341d519ac5874c38a6792a71aab0fde0": {
      "model_module": "@jupyter-widgets/base",
      "model_module_version": "2.0.0",
      "model_name": "LayoutModel",
      "state": {}
     },
     "34600e6932db469f924e3249abc2fa04": {
      "model_module": "@jupyter-widgets/base",
      "model_module_version": "2.0.0",
      "model_name": "LayoutModel",
      "state": {}
     },
     "347e02551d594aabab69d17986ecc016": {
      "model_module": "@jupyter-widgets/controls",
      "model_module_version": "2.0.0",
      "model_name": "IntSliderModel",
      "state": {
       "behavior": "drag-tap",
       "layout": "IPY_MODEL_6e6991a700e2439fb0d11bd1b4f6aa18",
       "max": 500,
       "style": "IPY_MODEL_b5318ced486e46bcae89edc541aad37d",
       "value": 250
      }
     },
     "34b10b5a50e74a50b6ee9bebebb73dbd": {
      "model_module": "@jupyter-widgets/base",
      "model_module_version": "2.0.0",
      "model_name": "LayoutModel",
      "state": {
       "width": "100%"
      }
     },
     "34c2a220f79e41fab3c7f0aefd28f723": {
      "model_module": "@jupyter-widgets/controls",
      "model_module_version": "2.0.0",
      "model_name": "LabelModel",
      "state": {
       "layout": "IPY_MODEL_cd049a1db1eb4fa191cdcac67feaf1ec",
       "style": "IPY_MODEL_5aa8808b84cf4c80840599fb478f2c36",
       "value": "Curtain"
      }
     },
     "3532a181d0a74d02b0fb56b0706dc1bd": {
      "model_module": "@jupyter-widgets/controls",
      "model_module_version": "2.0.0",
      "model_name": "FloatProgressModel",
      "state": {
       "bar_style": "success",
       "layout": "IPY_MODEL_2643bf6809fd45ddb78dcfd741c6a863",
       "style": "IPY_MODEL_2ab03850a767481eb64ef5bb7cc6bbdb",
       "value": 100
      }
     },
     "3539bc8497d84b62a690464aae01d1b2": {
      "model_module": "@jupyter-widgets/controls",
      "model_module_version": "2.0.0",
      "model_name": "LabelModel",
      "state": {
       "layout": "IPY_MODEL_de3863aeb4a04bb19f963cc07ef6072e",
       "style": "IPY_MODEL_20875f6307d24884a21177c7e865359d",
       "value": "Curtain"
      }
     },
     "35654e99a12a4f88b4a3195c83065c6b": {
      "model_module": "@jupyter-widgets/controls",
      "model_module_version": "2.0.0",
      "model_name": "HTMLModel",
      "state": {
       "layout": "IPY_MODEL_12d1e44e89274ef8881fe1f2b000f6f9",
       "style": "IPY_MODEL_594dc30ee6184708a87a7077ec659de0",
       "value": "<style>.widget-readout { min-width: 20px !important; }</style>"
      }
     },
     "35c32c6bcc7748ba8a301bb0b22ab33f": {
      "model_module": "@jupyter-widgets/controls",
      "model_module_version": "2.0.0",
      "model_name": "VBoxModel",
      "state": {
       "children": [
        "IPY_MODEL_2349695f1eae42fc83cceb5e3a151d01",
        "IPY_MODEL_507a4d90365a41e89eaeac4b90d3e7c3"
       ],
       "layout": "IPY_MODEL_3933263f0e2348b097233f551433a918"
      }
     },
     "36017aaac664463aa9b4d199c88caae2": {
      "model_module": "@jupyter-widgets/controls",
      "model_module_version": "2.0.0",
      "model_name": "LabelStyleModel",
      "state": {
       "description_width": "",
       "font_family": null,
       "font_size": null,
       "font_style": null,
       "font_variant": null,
       "font_weight": null,
       "text_color": null,
       "text_decoration": null
      }
     },
     "362ba7d740c24ec5b5e2dc1afb82e458": {
      "model_module": "@jupyter-widgets/base",
      "model_module_version": "2.0.0",
      "model_name": "LayoutModel",
      "state": {}
     },
     "362bb5a93cc74bfaab891ab59e847aa7": {
      "model_module": "@jupyter-widgets/controls",
      "model_module_version": "2.0.0",
      "model_name": "VBoxModel",
      "state": {
       "layout": "IPY_MODEL_99981af3811d46788addec766d5959be"
      }
     },
     "3645be1035e840aa8e23396499c34b7f": {
      "model_module": "@jupyter-widgets/controls",
      "model_module_version": "2.0.0",
      "model_name": "VBoxModel",
      "state": {
       "layout": "IPY_MODEL_957229566ddc415792593ef570c392c6"
      }
     },
     "36d865ccfb7c4198b882e12c561a45be": {
      "model_module": "@jupyter-widgets/controls",
      "model_module_version": "2.0.0",
      "model_name": "HTMLModel",
      "state": {
       "layout": "IPY_MODEL_009887db2eb84b3698bcd81d7fa60f7b",
       "style": "IPY_MODEL_80110b090e314ac49f8d0dcb254c3704",
       "value": " 100/100 [05:45&lt;00:00]"
      }
     },
     "36e164abe4404fd187a9948cbeabae41": {
      "model_module": "@jupyter-widgets/controls",
      "model_module_version": "2.0.0",
      "model_name": "HBoxModel",
      "state": {
       "children": [
        "IPY_MODEL_49f74cc8e0214a428aa80c214fb2f72c"
       ],
       "layout": "IPY_MODEL_2aedee0860324127bb912fefb7cf259d"
      }
     },
     "36e493a7050c434d9912e83671c47bd6": {
      "model_module": "@jupyter-widgets/base",
      "model_module_version": "2.0.0",
      "model_name": "LayoutModel",
      "state": {
       "width": "100%"
      }
     },
     "36f8a9d0deb0452fa3a7da2f7bf7f45d": {
      "model_module": "@jupyter-widgets/controls",
      "model_module_version": "2.0.0",
      "model_name": "VBoxModel",
      "state": {
       "children": [
        "IPY_MODEL_1232538627114333947b9f0de2c5102f",
        "IPY_MODEL_0c315894172148218d7a3e273927cc15"
       ],
       "layout": "IPY_MODEL_23bdbb792af34ec5bb0fb651c1307340"
      }
     },
     "3702e78a8afc45578db68c9fdcf02adc": {
      "model_module": "@jupyter-widgets/base",
      "model_module_version": "2.0.0",
      "model_name": "LayoutModel",
      "state": {}
     },
     "37032e79806d4023a37c85c1baf80d3f": {
      "model_module": "@jupyter-widgets/controls",
      "model_module_version": "2.0.0",
      "model_name": "VBoxModel",
      "state": {
       "children": [
        "IPY_MODEL_6f6a49adcae343b8893bc787bf629579"
       ],
       "layout": "IPY_MODEL_9bbdf4da49f347f9b6118fb8b19cb6b0"
      }
     },
     "373320abc80d453187fac2fcae240699": {
      "model_module": "ipycanvas",
      "model_module_version": "^0.13",
      "model_name": "CanvasModel",
      "state": {
       "_canvas_manager": "IPY_MODEL_d9a833c7f08b41bd9d6176723d2ff2f4",
       "_model_module_version": "^0.13",
       "_view_module_version": "^0.13",
       "height": 800,
       "layout": "IPY_MODEL_836da47585494a1f965a7f913a69c140",
       "width": 1000
      }
     },
     "377439b152894778a57cd71b0d7960df": {
      "model_module": "@jupyter-widgets/controls",
      "model_module_version": "2.0.0",
      "model_name": "LabelModel",
      "state": {
       "layout": "IPY_MODEL_ed2efa9e4a5f49e1887b9bfcd2c93786",
       "style": "IPY_MODEL_1efc93eb34404ac797e0101263e38d8c",
       "value": "Curtain"
      }
     },
     "3778cc6a5b5c43089b954ef57ec1d445": {
      "model_module": "@jupyter-widgets/base",
      "model_module_version": "2.0.0",
      "model_name": "LayoutModel",
      "state": {}
     },
     "379aeb0029634edca2c2a80fd6e8dfc2": {
      "model_module": "@jupyter-widgets/controls",
      "model_module_version": "2.0.0",
      "model_name": "HTMLModel",
      "state": {
       "layout": "IPY_MODEL_337126aebb9d4138b8ad46c533258315",
       "style": "IPY_MODEL_eed457e960754166b5aa169cc8005e44",
       "value": "<style>.widget-readout { min-width: 20px !important; }</style>"
      }
     },
     "37c0511ca48043a4b297b7bfa44339b6": {
      "model_module": "@jupyter-widgets/base",
      "model_module_version": "2.0.0",
      "model_name": "LayoutModel",
      "state": {}
     },
     "37c68aa19878437e99e6336457347cfc": {
      "model_module": "@jupyter-widgets/controls",
      "model_module_version": "2.0.0",
      "model_name": "VBoxModel",
      "state": {
       "layout": "IPY_MODEL_a296e1e4f7574bd681065df1dddf9f55"
      }
     },
     "38074619c9224822bb3dab802a8d11d9": {
      "model_module": "@jupyter-widgets/controls",
      "model_module_version": "2.0.0",
      "model_name": "VBoxModel",
      "state": {
       "layout": "IPY_MODEL_9db18d2ca2734334bacd7b5d56b44c95"
      }
     },
     "38f6ab7a712f433ba19dac4ea057daae": {
      "model_module": "@jupyter-widgets/controls",
      "model_module_version": "2.0.0",
      "model_name": "VBoxModel",
      "state": {
       "layout": "IPY_MODEL_f82e3fa995d643b1b4a673e940ded1bc"
      }
     },
     "3903f4aa57d24b08ab3bc9e743e6f0ae": {
      "model_module": "@jupyter-widgets/controls",
      "model_module_version": "2.0.0",
      "model_name": "SliderStyleModel",
      "state": {
       "description_width": ""
      }
     },
     "3933263f0e2348b097233f551433a918": {
      "model_module": "@jupyter-widgets/base",
      "model_module_version": "2.0.0",
      "model_name": "LayoutModel",
      "state": {}
     },
     "3944abf8edd64be1b618642a50978f82": {
      "model_module": "@jupyter-widgets/controls",
      "model_module_version": "2.0.0",
      "model_name": "HBoxModel",
      "state": {
       "children": [
        "IPY_MODEL_d3e1978c4efc43a88494cda56d8dde43"
       ],
       "layout": "IPY_MODEL_554f4134841a40eb8fa9cddf212bb85b"
      }
     },
     "39502f35af6e48b18d298a82c6376bc8": {
      "model_module": "@jupyter-widgets/controls",
      "model_module_version": "2.0.0",
      "model_name": "VBoxModel",
      "state": {
       "children": [
        "IPY_MODEL_42a0156dc9ff483b8f6d889b70578bb6"
       ],
       "layout": "IPY_MODEL_598cf0cdc0f645dc9d2f8950abaf3932"
      }
     },
     "396923202b1b41ecb63b2b97dddbfe4b": {
      "model_module": "@jupyter-widgets/controls",
      "model_module_version": "2.0.0",
      "model_name": "LabelModel",
      "state": {
       "layout": "IPY_MODEL_b50e3544861442fcb7f7c97c9b59055f",
       "style": "IPY_MODEL_0eb7ed6e8f3448cd86b0bf6ecca2d37a",
       "value": "Curtain"
      }
     },
     "399d0b1f819c4685ba6785899c72397b": {
      "model_module": "@jupyter-widgets/controls",
      "model_module_version": "2.0.0",
      "model_name": "VBoxModel",
      "state": {
       "layout": "IPY_MODEL_fa18fecc42c740d1a6c533c2e8922c54"
      }
     },
     "39b006165a0149adbe1ec9611c2e2130": {
      "model_module": "ipycanvas",
      "model_module_version": "^0.13",
      "model_name": "CanvasModel",
      "state": {
       "_canvas_manager": "IPY_MODEL_d9a833c7f08b41bd9d6176723d2ff2f4",
       "_model_module_version": "^0.13",
       "_view_module_version": "^0.13",
       "height": 600,
       "layout": "IPY_MODEL_ae9a8a0fa13c48abb6d57fac1c029885",
       "width": 600
      }
     },
     "3a4c677824284092b8e92f485a16231b": {
      "model_module": "@jupyter-widgets/controls",
      "model_module_version": "2.0.0",
      "model_name": "VBoxModel",
      "state": {
       "children": [
        "IPY_MODEL_a749922f58384441b4e68641ac47073d"
       ],
       "layout": "IPY_MODEL_171e32b4c7894fe5a5dc6bb6a12eb724"
      }
     },
     "3a5b82e4e28c47778c18a179e861f12e": {
      "model_module": "@jupyter-widgets/base",
      "model_module_version": "2.0.0",
      "model_name": "LayoutModel",
      "state": {}
     },
     "3a77ea29026d47309750da3d94c75d63": {
      "model_module": "@jupyter-widgets/controls",
      "model_module_version": "2.0.0",
      "model_name": "IntSliderModel",
      "state": {
       "behavior": "drag-tap",
       "layout": "IPY_MODEL_de65a32ca1a0400d9639fe0ff8c1cd0b",
       "max": 500,
       "style": "IPY_MODEL_8baefd6e70f94ee68c377918217b3d26",
       "value": 230
      }
     },
     "3a827bef55624a239c4715abb3fc2247": {
      "model_module": "@jupyter-widgets/base",
      "model_module_version": "2.0.0",
      "model_name": "LayoutModel",
      "state": {}
     },
     "3b23b8081b0b409b826a1a82b6d5645b": {
      "model_module": "@jupyter-widgets/base",
      "model_module_version": "2.0.0",
      "model_name": "LayoutModel",
      "state": {}
     },
     "3b5da5d8dae74b5b9ed4f5f01afb3b36": {
      "model_module": "@jupyter-widgets/base",
      "model_module_version": "2.0.0",
      "model_name": "LayoutModel",
      "state": {}
     },
     "3bd1ba03286149faad4c9671749ef3db": {
      "model_module": "@jupyter-widgets/controls",
      "model_module_version": "2.0.0",
      "model_name": "HBoxModel",
      "state": {
       "children": [
        "IPY_MODEL_1680de88ce0d49c19b95465be4c54be5"
       ],
       "layout": "IPY_MODEL_c29495bd6c1e4feb8bae46ee602148da"
      }
     },
     "3bf3a518c8a54b8cb2434057bed93f4a": {
      "model_module": "@jupyter-widgets/controls",
      "model_module_version": "2.0.0",
      "model_name": "HBoxModel",
      "state": {
       "children": [
        "IPY_MODEL_1354ffa009f649aa86a34ed84f4201f7",
        "IPY_MODEL_a84161f2a1cf4f90b575300d68653762",
        "IPY_MODEL_bfa3b12317ca48b58096b63e61f2d198"
       ],
       "layout": "IPY_MODEL_494c675ab1554d18945232c20e1aa5c9"
      }
     },
     "3bfb1cc8652241d7a57ad6a052a02a91": {
      "model_module": "@jupyter-widgets/base",
      "model_module_version": "2.0.0",
      "model_name": "LayoutModel",
      "state": {}
     },
     "3c0bb6d100154713b83d9ad437415792": {
      "model_module": "@jupyter-widgets/base",
      "model_module_version": "2.0.0",
      "model_name": "LayoutModel",
      "state": {}
     },
     "3c10003eaa224bcaa06d8ec3dbb8e5e0": {
      "model_module": "@jupyter-widgets/controls",
      "model_module_version": "2.0.0",
      "model_name": "VBoxModel",
      "state": {
       "children": [
        "IPY_MODEL_224e63469c7049689ea04a9e4835e2bd",
        "IPY_MODEL_4d15d4fc46c74ac28cb7c0550031b7e0"
       ],
       "layout": "IPY_MODEL_08fc62c254fb4ec2a66cd51ad08e87ef"
      }
     },
     "3c606411978544e18d035354338d3ac9": {
      "model_module": "@jupyter-widgets/controls",
      "model_module_version": "2.0.0",
      "model_name": "SliderStyleModel",
      "state": {
       "description_width": ""
      }
     },
     "3ca0d98a9cc74bc2bbda02d8c963e11f": {
      "model_module": "@jupyter-widgets/base",
      "model_module_version": "2.0.0",
      "model_name": "LayoutModel",
      "state": {}
     },
     "3ca585ed1134424ebcf566c75bcee9a1": {
      "model_module": "@jupyter-widgets/controls",
      "model_module_version": "2.0.0",
      "model_name": "HBoxModel",
      "state": {
       "children": [
        "IPY_MODEL_aa19bccf30e648908569541565d77e8a"
       ],
       "layout": "IPY_MODEL_daa8e1d77d43469aa87e77a6cb1ec6ab"
      }
     },
     "3cccd147ed5344dfb51148ab023d83a9": {
      "model_module": "@jupyter-widgets/base",
      "model_module_version": "2.0.0",
      "model_name": "LayoutModel",
      "state": {
       "width": "100%"
      }
     },
     "3cf8d5a97a9e45378c3747feb1579a2a": {
      "model_module": "@jupyter-widgets/controls",
      "model_module_version": "2.0.0",
      "model_name": "VBoxModel",
      "state": {
       "children": [
        "IPY_MODEL_650de44e7c474b4fb70e5f1890221ee8",
        "IPY_MODEL_d9ee2539d49e4994882414edbe23ed90"
       ],
       "layout": "IPY_MODEL_3e939f26333f4fb394ef4a1623100ab7"
      }
     },
     "3cf9074cd9e446b4bd0351d15e40f15d": {
      "model_module": "ipycanvas",
      "model_module_version": "^0.13",
      "model_name": "CanvasModel",
      "state": {
       "_canvas_manager": "IPY_MODEL_d9a833c7f08b41bd9d6176723d2ff2f4",
       "_model_module_version": "^0.13",
       "_view_module_version": "^0.13",
       "height": 900,
       "layout": "IPY_MODEL_972bc317f81b4cb78726c7515aecd398",
       "width": 900
      }
     },
     "3d245601c27c4d05a3dde56fd4d4df42": {
      "model_module": "@jupyter-widgets/base",
      "model_module_version": "2.0.0",
      "model_name": "LayoutModel",
      "state": {}
     },
     "3d3cbd830e7d47789c81e7c9e5aca5ba": {
      "model_module": "@jupyter-widgets/base",
      "model_module_version": "2.0.0",
      "model_name": "LayoutModel",
      "state": {}
     },
     "3d43f2333f444339b9e11b0cf9d3539b": {
      "model_module": "@jupyter-widgets/base",
      "model_module_version": "2.0.0",
      "model_name": "LayoutModel",
      "state": {}
     },
     "3d46e215ab5a4bdaa5f292b51fb4165c": {
      "model_module": "@jupyter-widgets/controls",
      "model_module_version": "2.0.0",
      "model_name": "HBoxModel",
      "state": {
       "children": [
        "IPY_MODEL_0525e613245e4bb2b0bf25773bc1ee2a"
       ],
       "layout": "IPY_MODEL_0a81767285f7421c9b619004f3bc619c"
      }
     },
     "3d621082375e4339aecea096ad914555": {
      "model_module": "@jupyter-widgets/controls",
      "model_module_version": "2.0.0",
      "model_name": "VBoxModel",
      "state": {
       "children": [
        "IPY_MODEL_d2d151db46534f509caa85ea3c911c5a",
        "IPY_MODEL_8df9d7a81b394b2f92199a9779cd6790"
       ],
       "layout": "IPY_MODEL_1d63de630b664f85ad3243b1db75d50c"
      }
     },
     "3e005e4c8fd54ba39fb9ace9a43f8233": {
      "model_module": "@jupyter-widgets/controls",
      "model_module_version": "2.0.0",
      "model_name": "LabelModel",
      "state": {
       "layout": "IPY_MODEL_3ca0d98a9cc74bc2bbda02d8c963e11f",
       "style": "IPY_MODEL_4b1dccb8c1f249f898be471818b42342",
       "value": "Curtain"
      }
     },
     "3e30fed5dee040e3b5730d652c7995ff": {
      "model_module": "@jupyter-widgets/base",
      "model_module_version": "2.0.0",
      "model_name": "LayoutModel",
      "state": {}
     },
     "3e35c9abe0d6457b98692a6b86e1ef53": {
      "model_module": "@jupyter-widgets/controls",
      "model_module_version": "2.0.0",
      "model_name": "VBoxModel",
      "state": {
       "children": [
        "IPY_MODEL_e1f5b485951c4321823cccd58cc0add9"
       ],
       "layout": "IPY_MODEL_6992c312de944acdb303502fcfb9f75f"
      }
     },
     "3e53b3a5b30042cbb342c18053b1b54e": {
      "model_module": "@jupyter-widgets/base",
      "model_module_version": "2.0.0",
      "model_name": "LayoutModel",
      "state": {}
     },
     "3e8273215af641119d397bf33d50ba26": {
      "model_module": "ipycanvas",
      "model_module_version": "^0.13",
      "model_name": "CanvasModel",
      "state": {
       "_canvas_manager": "IPY_MODEL_d9a833c7f08b41bd9d6176723d2ff2f4",
       "_model_module_version": "^0.13",
       "_view_module_version": "^0.13",
       "height": 240,
       "layout": "IPY_MODEL_4684e85370ac40ffb3f41c02b1858b98",
       "width": 400
      }
     },
     "3e9277f930cb43ffbdf12705954d0a8e": {
      "model_module": "@jupyter-widgets/controls",
      "model_module_version": "2.0.0",
      "model_name": "VBoxModel",
      "state": {
       "children": [
        "IPY_MODEL_b758ab62024a46f8bd326c8dbd652bb9"
       ],
       "layout": "IPY_MODEL_876240f3a6c4450892caeebc12e1c06f"
      }
     },
     "3e939f26333f4fb394ef4a1623100ab7": {
      "model_module": "@jupyter-widgets/base",
      "model_module_version": "2.0.0",
      "model_name": "LayoutModel",
      "state": {}
     },
     "3eac1040292a4230bc3a000083703a30": {
      "model_module": "@jupyter-widgets/base",
      "model_module_version": "2.0.0",
      "model_name": "LayoutModel",
      "state": {}
     },
     "3ebbe58869ca4ff19fb777fb419857ce": {
      "model_module": "@jupyter-widgets/controls",
      "model_module_version": "2.0.0",
      "model_name": "HBoxModel",
      "state": {
       "children": [
        "IPY_MODEL_810bb27cc451488da2161e847085cfbf"
       ],
       "layout": "IPY_MODEL_a3fe603c9f204f688320b62ebd64c911"
      }
     },
     "3ec0b2f5c6dd4b738e3bda300210d73d": {
      "model_module": "@jupyter-widgets/controls",
      "model_module_version": "2.0.0",
      "model_name": "VBoxModel",
      "state": {
       "children": [
        "IPY_MODEL_f829e84b89ef49abb0a929c9441d4fc1",
        "IPY_MODEL_b3cd61dcd5524dcf90f30e1ebd6b76b1"
       ],
       "layout": "IPY_MODEL_a16a17152e2344c0a5b93ee8689f85a7"
      }
     },
     "3f53a8bd886f44ef8714f8524296a7fc": {
      "model_module": "@jupyter-widgets/base",
      "model_module_version": "2.0.0",
      "model_name": "LayoutModel",
      "state": {}
     },
     "3fc42bf9cc9449759cf5d92b555bc4eb": {
      "model_module": "@jupyter-widgets/base",
      "model_module_version": "2.0.0",
      "model_name": "LayoutModel",
      "state": {}
     },
     "3ffa8604de9a441c987d7408009d5fc3": {
      "model_module": "@jupyter-widgets/base",
      "model_module_version": "2.0.0",
      "model_name": "LayoutModel",
      "state": {}
     },
     "4013ebb6f52e47e995eab76e7a4e3d50": {
      "model_module": "@jupyter-widgets/controls",
      "model_module_version": "2.0.0",
      "model_name": "VBoxModel",
      "state": {
       "children": [
        "IPY_MODEL_9f4e07cb6615463c8a8cded1061f9fd4"
       ],
       "layout": "IPY_MODEL_c5fb1592f6d04973801e0bfd588aceeb"
      }
     },
     "4019e5ffb370464aa3990ddb5669cb91": {
      "model_module": "@jupyter-widgets/base",
      "model_module_version": "2.0.0",
      "model_name": "LayoutModel",
      "state": {}
     },
     "4059108f97b94bacb0c90c1fa3711f78": {
      "model_module": "@jupyter-widgets/base",
      "model_module_version": "2.0.0",
      "model_name": "LayoutModel",
      "state": {}
     },
     "40683cd26d4d4d7fbdff34b9052604e8": {
      "model_module": "@jupyter-widgets/controls",
      "model_module_version": "2.0.0",
      "model_name": "HTMLStyleModel",
      "state": {
       "description_width": "",
       "font_size": null,
       "text_color": null
      }
     },
     "4077e3ea9fce40898d013e60f035be99": {
      "model_module": "@jupyter-widgets/controls",
      "model_module_version": "2.0.0",
      "model_name": "VBoxModel",
      "state": {
       "children": [
        "IPY_MODEL_a681058d1f7342b7b8e133e9f719da52"
       ],
       "layout": "IPY_MODEL_1344d4b9b46f400f97b75c93f9b504f9"
      }
     },
     "40839ab602fe42c4bfddd30ba21f5047": {
      "model_module": "@jupyter-widgets/controls",
      "model_module_version": "2.0.0",
      "model_name": "VBoxModel",
      "state": {
       "children": [
        "IPY_MODEL_373320abc80d453187fac2fcae240699"
       ],
       "layout": "IPY_MODEL_bf46d630ef994d31b0ac0fb55e4a6c23"
      }
     },
     "40eef3c120da4766a204d83dd89602dd": {
      "model_module": "@jupyter-widgets/base",
      "model_module_version": "2.0.0",
      "model_name": "LayoutModel",
      "state": {}
     },
     "4195f04efc644f10b79ad1e400f0dd78": {
      "model_module": "@jupyter-widgets/base",
      "model_module_version": "2.0.0",
      "model_name": "LayoutModel",
      "state": {}
     },
     "419f898085394a258d29f605ed9027f7": {
      "model_module": "@jupyter-widgets/base",
      "model_module_version": "2.0.0",
      "model_name": "LayoutModel",
      "state": {}
     },
     "41b5162bfcfd45ce9742b8e2545f06b3": {
      "model_module": "@jupyter-widgets/controls",
      "model_module_version": "2.0.0",
      "model_name": "HBoxModel",
      "state": {
       "children": [
        "IPY_MODEL_da5f44976f5149fcbe26fa069a21906b",
        "IPY_MODEL_28d8bea14e08470caa2ea40f956d6e50"
       ],
       "layout": "IPY_MODEL_4c3b534203e64bf1af24051bc5d4fabe"
      }
     },
     "42a0156dc9ff483b8f6d889b70578bb6": {
      "model_module": "@jupyter-widgets/controls",
      "model_module_version": "2.0.0",
      "model_name": "VBoxModel",
      "state": {
       "children": [
        "IPY_MODEL_b120b7d3528f48ac9f93ed44b6d194ee",
        "IPY_MODEL_8d437f390b9b4124b4f99efcb3cd23fe",
        "IPY_MODEL_e97fc282edde495d915153440ee26d9e"
       ],
       "layout": "IPY_MODEL_c0ab43b9b4b843bda8fa7d59d89a135e"
      }
     },
     "42b25d79c91d4bb5abd5db327cea990c": {
      "model_module": "@jupyter-widgets/base",
      "model_module_version": "2.0.0",
      "model_name": "LayoutModel",
      "state": {}
     },
     "42b4939548254336a481dfbc31b939a6": {
      "model_module": "@jupyter-widgets/base",
      "model_module_version": "2.0.0",
      "model_name": "LayoutModel",
      "state": {}
     },
     "42bb81f3f2ed40edbd171289ab49e7a0": {
      "model_module": "@jupyter-widgets/controls",
      "model_module_version": "2.0.0",
      "model_name": "VBoxModel",
      "state": {
       "children": [
        "IPY_MODEL_17a83004e19548a6b5e7c3796eae97e0",
        "IPY_MODEL_ba1f34de3d2940f085b9c965705ede72"
       ],
       "layout": "IPY_MODEL_9c36a431896e47ebbc6cb4a4f0b199e6"
      }
     },
     "42bf4ad8026b496087b0e57b6ba764ad": {
      "model_module": "@jupyter-widgets/controls",
      "model_module_version": "2.0.0",
      "model_name": "LabelStyleModel",
      "state": {
       "description_width": "",
       "font_family": null,
       "font_size": null,
       "font_style": null,
       "font_variant": null,
       "font_weight": null,
       "text_color": null,
       "text_decoration": null
      }
     },
     "4334a16953a34a14a5744fc3fc1aa29c": {
      "model_module": "@jupyter-widgets/controls",
      "model_module_version": "2.0.0",
      "model_name": "IntSliderModel",
      "state": {
       "behavior": "drag-tap",
       "layout": "IPY_MODEL_6a8b700ab091469b99c71ca7639cb99f",
       "max": 1992,
       "style": "IPY_MODEL_ecf359617a6a4b5aa5941c19bf7058bb",
       "value": 543
      }
     },
     "434c3c8a97ba4efeb4c3afefcffd4cda": {
      "model_module": "@jupyter-widgets/base",
      "model_module_version": "2.0.0",
      "model_name": "LayoutModel",
      "state": {}
     },
     "438169a56d3247a9a5469c1d392bac41": {
      "model_module": "@jupyter-widgets/controls",
      "model_module_version": "2.0.0",
      "model_name": "VBoxModel",
      "state": {
       "children": [
        "IPY_MODEL_de197c0a9d2441c5a6165379d27f1061",
        "IPY_MODEL_25d6cbd2fa114169822bf7e77c460e99"
       ],
       "layout": "IPY_MODEL_7c3bca9cacdb4fc0a8ac67542a14b0cb"
      }
     },
     "4384e3ff664b46b5bfa83a300b409c14": {
      "model_module": "@jupyter-widgets/base",
      "model_module_version": "2.0.0",
      "model_name": "LayoutModel",
      "state": {}
     },
     "43b11ad0dc384499ba3855d9a3880d2c": {
      "model_module": "@jupyter-widgets/controls",
      "model_module_version": "2.0.0",
      "model_name": "VBoxModel",
      "state": {
       "children": [
        "IPY_MODEL_f8d735ab13cf43fd826dd74395a4f627"
       ],
       "layout": "IPY_MODEL_28c02f29f9f34e5399daeb635df601c9"
      }
     },
     "43cbb1fe89e4482bbb00c986e5710036": {
      "model_module": "@jupyter-widgets/controls",
      "model_module_version": "2.0.0",
      "model_name": "HBoxModel",
      "state": {
       "children": [
        "IPY_MODEL_21c4208924f74370b21449f84ca120da"
       ],
       "layout": "IPY_MODEL_8eb9c7dfa1dd4ed3ab95fc1e4018e12e"
      }
     },
     "43d57b5c038a44abb31c26e1fd308d2a": {
      "model_module": "@jupyter-widgets/controls",
      "model_module_version": "2.0.0",
      "model_name": "LabelModel",
      "state": {
       "layout": "IPY_MODEL_8557ca014f1d4805856abce22e5d6619",
       "style": "IPY_MODEL_0de9f5b0c81e47ddb8248b7f9e6953b7",
       "value": "Curtain"
      }
     },
     "43e1d923057b428a8260aa110aa93808": {
      "model_module": "@jupyter-widgets/base",
      "model_module_version": "2.0.0",
      "model_name": "LayoutModel",
      "state": {}
     },
     "440ba37f0c354f74be8a6bb1fb085d60": {
      "model_module": "@jupyter-widgets/base",
      "model_module_version": "2.0.0",
      "model_name": "LayoutModel",
      "state": {}
     },
     "4432b4fd91c947adbb2bc9b800bcb904": {
      "model_module": "@jupyter-widgets/controls",
      "model_module_version": "2.0.0",
      "model_name": "HBoxModel",
      "state": {
       "children": [
        "IPY_MODEL_bbee35db955e4c9fb462fb902a6fce74",
        "IPY_MODEL_3a77ea29026d47309750da3d94c75d63"
       ],
       "layout": "IPY_MODEL_ed28e06cc9c94d3eaf68c434da668601"
      }
     },
     "444e932d82f14367ad35707cb83a2d87": {
      "model_module": "@jupyter-widgets/base",
      "model_module_version": "2.0.0",
      "model_name": "LayoutModel",
      "state": {}
     },
     "446128542d8749a0870c319e72e86c24": {
      "model_module": "@jupyter-widgets/controls",
      "model_module_version": "2.0.0",
      "model_name": "VBoxModel",
      "state": {
       "children": [
        "IPY_MODEL_e161dd70cf1346548a1b10864d9a2c8c",
        "IPY_MODEL_faf56d641227464ea9c2ac16d1676b01"
       ],
       "layout": "IPY_MODEL_e8d2c70d1da7412890899a45d641f723"
      }
     },
     "44e399e0daf2492983442b9aeb027990": {
      "model_module": "@jupyter-widgets/controls",
      "model_module_version": "2.0.0",
      "model_name": "VBoxModel",
      "state": {
       "children": [
        "IPY_MODEL_ab4a5101ce964ac69ed83b5853154976",
        "IPY_MODEL_0963032c9da948cc9f2508014334042c"
       ],
       "layout": "IPY_MODEL_0caff284c9a041c7a58bda82b357d8fc"
      }
     },
     "44fbc39858ae45aa94e6986a3576e25d": {
      "model_module": "@jupyter-widgets/base",
      "model_module_version": "2.0.0",
      "model_name": "LayoutModel",
      "state": {}
     },
     "45062f3968bb42eaa346453b6ec5b2e5": {
      "model_module": "@jupyter-widgets/base",
      "model_module_version": "2.0.0",
      "model_name": "LayoutModel",
      "state": {}
     },
     "45525b65ca674a63b77bb60a77036f3a": {
      "model_module": "@jupyter-widgets/base",
      "model_module_version": "2.0.0",
      "model_name": "LayoutModel",
      "state": {
       "width": "100%"
      }
     },
     "455a6d76c67441219085170a382214d9": {
      "model_module": "@jupyter-widgets/base",
      "model_module_version": "2.0.0",
      "model_name": "LayoutModel",
      "state": {}
     },
     "45ce916bb40d44f99aece97c78e51518": {
      "model_module": "@jupyter-widgets/controls",
      "model_module_version": "2.0.0",
      "model_name": "VBoxModel",
      "state": {
       "children": [
        "IPY_MODEL_feab46fdbe814a4888de2b3a859787e7",
        "IPY_MODEL_c514cbab7f6d480a914cead05ef75b31"
       ],
       "layout": "IPY_MODEL_f1e7167a503b487caa010e88b924d6db"
      }
     },
     "4608850c25f44c6d874977bc69eeffa8": {
      "model_module": "@jupyter-widgets/controls",
      "model_module_version": "2.0.0",
      "model_name": "LabelModel",
      "state": {
       "layout": "IPY_MODEL_3167ef6bd2c847afbf1ba91458233eb1",
       "style": "IPY_MODEL_552beae8f03d4ad4ad3e0db4afcb5a5a",
       "value": "Curtain"
      }
     },
     "4684e85370ac40ffb3f41c02b1858b98": {
      "model_module": "@jupyter-widgets/base",
      "model_module_version": "2.0.0",
      "model_name": "LayoutModel",
      "state": {}
     },
     "46a73aea6d0a48e9ac119c8baff43829": {
      "model_module": "@jupyter-widgets/base",
      "model_module_version": "2.0.0",
      "model_name": "LayoutModel",
      "state": {
       "width": "100%"
      }
     },
     "46bb4e7576244bf0bb6e514637f16901": {
      "model_module": "@jupyter-widgets/base",
      "model_module_version": "2.0.0",
      "model_name": "LayoutModel",
      "state": {}
     },
     "4733f0f603ca49aaba2b887675bf2bb1": {
      "model_module": "@jupyter-widgets/base",
      "model_module_version": "2.0.0",
      "model_name": "LayoutModel",
      "state": {}
     },
     "4762773782ba4975a0bae8c2e251388e": {
      "model_module": "@jupyter-widgets/controls",
      "model_module_version": "2.0.0",
      "model_name": "HBoxModel",
      "state": {
       "children": [
        "IPY_MODEL_5becd01ac8a84fb5a8dffcbe8702159f"
       ],
       "layout": "IPY_MODEL_804b482f3a0c4260b62c5551af766303"
      }
     },
     "47740c6eaad3476f8f6d4b1d1893924b": {
      "model_module": "@jupyter-widgets/base",
      "model_module_version": "2.0.0",
      "model_name": "LayoutModel",
      "state": {}
     },
     "47b183503ce249d59a4d7693d98c6adc": {
      "model_module": "@jupyter-widgets/controls",
      "model_module_version": "2.0.0",
      "model_name": "HBoxModel",
      "state": {
       "children": [
        "IPY_MODEL_a916e770be354c00b4af1a1e127d28e1"
       ],
       "layout": "IPY_MODEL_6c6fbe75e56646f58aa7fecc7507a98b"
      }
     },
     "47f7447f81c941c499c69efe71ea5564": {
      "model_module": "@jupyter-widgets/base",
      "model_module_version": "2.0.0",
      "model_name": "LayoutModel",
      "state": {}
     },
     "481a0793ef74490390ada6f38ea02e7b": {
      "model_module": "@jupyter-widgets/base",
      "model_module_version": "2.0.0",
      "model_name": "LayoutModel",
      "state": {}
     },
     "483ee574b2704508a762be825c970252": {
      "model_module": "@jupyter-widgets/base",
      "model_module_version": "2.0.0",
      "model_name": "LayoutModel",
      "state": {
       "width": "100%"
      }
     },
     "4874ecd61bde42738382858d9c0359c5": {
      "model_module": "@jupyter-widgets/base",
      "model_module_version": "2.0.0",
      "model_name": "LayoutModel",
      "state": {}
     },
     "487c55a1665a410bb61df81231dbbb08": {
      "model_module": "@jupyter-widgets/controls",
      "model_module_version": "2.0.0",
      "model_name": "LabelModel",
      "state": {
       "layout": "IPY_MODEL_c1c348e667bd4fb6922e267550a2c809",
       "style": "IPY_MODEL_e3d872a19bce44deb25a5c4eb62d8b20",
       "value": "Curtain"
      }
     },
     "48ad2baaeddb408480d1061db594b0c0": {
      "model_module": "@jupyter-widgets/base",
      "model_module_version": "2.0.0",
      "model_name": "LayoutModel",
      "state": {}
     },
     "48c4476fa9794b88b7b8797c0be35514": {
      "model_module": "@jupyter-widgets/base",
      "model_module_version": "2.0.0",
      "model_name": "LayoutModel",
      "state": {}
     },
     "48e18591ff8946c68d2b81c429953ea5": {
      "model_module": "@jupyter-widgets/controls",
      "model_module_version": "2.0.0",
      "model_name": "SliderStyleModel",
      "state": {
       "description_width": ""
      }
     },
     "494c675ab1554d18945232c20e1aa5c9": {
      "model_module": "@jupyter-widgets/base",
      "model_module_version": "2.0.0",
      "model_name": "LayoutModel",
      "state": {}
     },
     "49724e32e6a846388da91c9f478a8e17": {
      "model_module": "@jupyter-widgets/controls",
      "model_module_version": "2.0.0",
      "model_name": "HTMLStyleModel",
      "state": {
       "description_width": "",
       "font_size": null,
       "text_color": null
      }
     },
     "4973add882ca428885f81880d90e184c": {
      "model_module": "@jupyter-widgets/base",
      "model_module_version": "2.0.0",
      "model_name": "LayoutModel",
      "state": {
       "width": "100%"
      }
     },
     "49c6a4cf6a0e44b5a2905bd49b1720ab": {
      "model_module": "@jupyter-widgets/controls",
      "model_module_version": "2.0.0",
      "model_name": "LabelModel",
      "state": {
       "layout": "IPY_MODEL_4a85bb9dddb448c29ee2873692f50bc2",
       "style": "IPY_MODEL_e4154c3bc4fb4064824360f7a01a7888",
       "value": "Curtain"
      }
     },
     "49d43954f85342ab9e11f561ec48d709": {
      "model_module": "@jupyter-widgets/controls",
      "model_module_version": "2.0.0",
      "model_name": "HBoxModel",
      "state": {
       "children": [
        "IPY_MODEL_49c6a4cf6a0e44b5a2905bd49b1720ab",
        "IPY_MODEL_d961ed0d5cb24314898641b8873ba6fb"
       ],
       "layout": "IPY_MODEL_cbaced1d04dd49f8ac09a94847121f15"
      }
     },
     "49f74cc8e0214a428aa80c214fb2f72c": {
      "model_module": "@jupyter-widgets/controls",
      "model_module_version": "2.0.0",
      "model_name": "VBoxModel",
      "state": {
       "children": [
        "IPY_MODEL_c56b26dfa74d4e2dba811e45c951505d"
       ],
       "layout": "IPY_MODEL_0a71c94771b944329856d29feae50766"
      }
     },
     "4a69b1c9fdbd41509a3797e17d6cffde": {
      "model_module": "@jupyter-widgets/base",
      "model_module_version": "2.0.0",
      "model_name": "LayoutModel",
      "state": {}
     },
     "4a85bb9dddb448c29ee2873692f50bc2": {
      "model_module": "@jupyter-widgets/base",
      "model_module_version": "2.0.0",
      "model_name": "LayoutModel",
      "state": {}
     },
     "4aa234d887e647bc89a28f0fc2052075": {
      "model_module": "@jupyter-widgets/controls",
      "model_module_version": "2.0.0",
      "model_name": "SliderStyleModel",
      "state": {
       "description_width": ""
      }
     },
     "4b1315c0a6ea450396faef2e78ae5df2": {
      "model_module": "@jupyter-widgets/base",
      "model_module_version": "2.0.0",
      "model_name": "LayoutModel",
      "state": {}
     },
     "4b1dccb8c1f249f898be471818b42342": {
      "model_module": "@jupyter-widgets/controls",
      "model_module_version": "2.0.0",
      "model_name": "LabelStyleModel",
      "state": {
       "description_width": "",
       "font_family": null,
       "font_size": null,
       "font_style": null,
       "font_variant": null,
       "font_weight": null,
       "text_color": null,
       "text_decoration": null
      }
     },
     "4b2e24e8699d4bef8ef0677097e2a893": {
      "model_module": "@jupyter-widgets/base",
      "model_module_version": "2.0.0",
      "model_name": "LayoutModel",
      "state": {}
     },
     "4b463987850b46cdbbd96cae53de1f38": {
      "model_module": "@jupyter-widgets/base",
      "model_module_version": "2.0.0",
      "model_name": "LayoutModel",
      "state": {}
     },
     "4b8cfbaafe7d42adbe74f8927f1312fe": {
      "model_module": "@jupyter-widgets/base",
      "model_module_version": "2.0.0",
      "model_name": "LayoutModel",
      "state": {}
     },
     "4bcb5fb3606d4e2b93c380482bc7dd72": {
      "model_module": "@jupyter-widgets/base",
      "model_module_version": "2.0.0",
      "model_name": "LayoutModel",
      "state": {}
     },
     "4c399a4009624c759182ab7a1a7f2e22": {
      "model_module": "@jupyter-widgets/controls",
      "model_module_version": "2.0.0",
      "model_name": "HTMLModel",
      "state": {
       "layout": "IPY_MODEL_e1c12833301c462594bcb7360901a504",
       "style": "IPY_MODEL_955c46d772ca4f219b9d89ff21c7c67d",
       "value": "<style>.widget-readout { min-width: 20px !important; }</style>"
      }
     },
     "4c3b534203e64bf1af24051bc5d4fabe": {
      "model_module": "@jupyter-widgets/base",
      "model_module_version": "2.0.0",
      "model_name": "LayoutModel",
      "state": {}
     },
     "4c4b6ff2d53a4049a0bf0d427353c1b5": {
      "model_module": "@jupyter-widgets/controls",
      "model_module_version": "2.0.0",
      "model_name": "HBoxModel",
      "state": {
       "children": [
        "IPY_MODEL_32ccc9182f2e44749dd624be262b218d",
        "IPY_MODEL_323201d9d93b4014a6c62e02e880d86c"
       ],
       "layout": "IPY_MODEL_08df76c3901949a0b7ce99a8aa4d4b96"
      }
     },
     "4c53047405114a4ca0b72ca87fddb2b8": {
      "model_module": "@jupyter-widgets/base",
      "model_module_version": "2.0.0",
      "model_name": "LayoutModel",
      "state": {}
     },
     "4c5ed74b55d549beb5848b77a42f3ad8": {
      "model_module": "@jupyter-widgets/controls",
      "model_module_version": "2.0.0",
      "model_name": "HTMLStyleModel",
      "state": {
       "description_width": "",
       "font_size": null,
       "text_color": null
      }
     },
     "4c61a9b4b6194ece8c46fa9bb9b7bfcb": {
      "model_module": "@jupyter-widgets/controls",
      "model_module_version": "2.0.0",
      "model_name": "LabelModel",
      "state": {
       "layout": "IPY_MODEL_91169b53a4df4104a72c7c1305a1fdad",
       "style": "IPY_MODEL_32f2dcc919034a879e318bccbe54319d",
       "value": "Curtain"
      }
     },
     "4c7e01e8dcee47e29b93e637ab0e3974": {
      "model_module": "@jupyter-widgets/base",
      "model_module_version": "2.0.0",
      "model_name": "LayoutModel",
      "state": {}
     },
     "4cc65f60abf64e14900f9813c25f94d0": {
      "model_module": "@jupyter-widgets/controls",
      "model_module_version": "2.0.0",
      "model_name": "VBoxModel",
      "state": {
       "children": [
        "IPY_MODEL_7ffe241fe61146b7833b170ac53a61c5",
        "IPY_MODEL_607950f3d9184e2085049254f7dd2a07",
        "IPY_MODEL_45ce916bb40d44f99aece97c78e51518"
       ],
       "layout": "IPY_MODEL_c560732726904dadbab27ca0efbed49e"
      }
     },
     "4cf45560e4424cbf9eda4091435b81fb": {
      "model_module": "@jupyter-widgets/controls",
      "model_module_version": "2.0.0",
      "model_name": "HBoxModel",
      "state": {
       "children": [
        "IPY_MODEL_5224c43f0c9d45c2b7fb8a4421d70f9d"
       ],
       "layout": "IPY_MODEL_806a4020cee749649ecb94f7dfda437f"
      }
     },
     "4cf5341c37bc4731a9a1fdd2b42330ae": {
      "model_module": "@jupyter-widgets/controls",
      "model_module_version": "2.0.0",
      "model_name": "HTMLStyleModel",
      "state": {
       "description_width": "",
       "font_size": null,
       "text_color": null
      }
     },
     "4d041ca94b8e41d0bd0d65e9c83c19fb": {
      "model_module": "@jupyter-widgets/controls",
      "model_module_version": "2.0.0",
      "model_name": "VBoxModel",
      "state": {
       "children": [
        "IPY_MODEL_5707c096de03450d8cd783021751d140",
        "IPY_MODEL_e099bcdcea9d4d619f29106d0d18aedc"
       ],
       "layout": "IPY_MODEL_322e16acb2634fcd97e95c4a0ccc73c4"
      }
     },
     "4d15d4fc46c74ac28cb7c0550031b7e0": {
      "model_module": "@jupyter-widgets/controls",
      "model_module_version": "2.0.0",
      "model_name": "HTMLModel",
      "state": {
       "layout": "IPY_MODEL_cc6d2d7b6dea48098999a84e4b407aaa",
       "style": "IPY_MODEL_feed4a793fab463f860c59315acbb59c",
       "value": "<style>.widget-readout { min-width: 20px !important; }</style>"
      }
     },
     "4d2557ebfee941f88d1660038db960a7": {
      "model_module": "@jupyter-widgets/base",
      "model_module_version": "2.0.0",
      "model_name": "LayoutModel",
      "state": {}
     },
     "4d62280ac29a4722831629d8d303e44d": {
      "model_module": "@jupyter-widgets/controls",
      "model_module_version": "2.0.0",
      "model_name": "HTMLModel",
      "state": {
       "layout": "IPY_MODEL_683a98c019af4bd9a7720a153f49a304",
       "style": "IPY_MODEL_af171ba9e6ae496f90f4717c3e3c40f9",
       "value": "<style>.widget-readout { min-width: 20px !important; }</style>"
      }
     },
     "4d623648d47d4bd390f7a4b2bccb9a2c": {
      "model_module": "@jupyter-widgets/controls",
      "model_module_version": "2.0.0",
      "model_name": "VBoxModel",
      "state": {
       "children": [
        "IPY_MODEL_120588fbf9b84281a1b088fbc47e76d2"
       ],
       "layout": "IPY_MODEL_cdcb61743c4d4a4d9d1dcdec58124cf1"
      }
     },
     "4d8da1de33fe4e2c985beb0eddb515b8": {
      "model_module": "@jupyter-widgets/controls",
      "model_module_version": "2.0.0",
      "model_name": "LabelModel",
      "state": {
       "layout": "IPY_MODEL_45062f3968bb42eaa346453b6ec5b2e5",
       "style": "IPY_MODEL_575360142a074b19b597576ab18e6514",
       "value": "Curtain"
      }
     },
     "4dca933e1a2441baab210a3496831f29": {
      "model_module": "@jupyter-widgets/base",
      "model_module_version": "2.0.0",
      "model_name": "LayoutModel",
      "state": {}
     },
     "4dce642140f642f080471ba5d7a2b540": {
      "model_module": "@jupyter-widgets/controls",
      "model_module_version": "2.0.0",
      "model_name": "LabelStyleModel",
      "state": {
       "description_width": "",
       "font_family": null,
       "font_size": null,
       "font_style": null,
       "font_variant": null,
       "font_weight": null,
       "text_color": null,
       "text_decoration": null
      }
     },
     "4de4925130b345ed9805f02ccde2eb46": {
      "model_module": "@jupyter-widgets/controls",
      "model_module_version": "2.0.0",
      "model_name": "VBoxModel",
      "state": {
       "children": [
        "IPY_MODEL_02a9e3561adb4b65a9e99fb69d36be85"
       ],
       "layout": "IPY_MODEL_2e284a8caf614ca0b261fdb7e55616ad"
      }
     },
     "4ee79d65f849443d9644ba7486953147": {
      "model_module": "@jupyter-widgets/controls",
      "model_module_version": "2.0.0",
      "model_name": "HTMLModel",
      "state": {
       "layout": "IPY_MODEL_fc13b794d4394de8b31635fd5fd01208",
       "style": "IPY_MODEL_40683cd26d4d4d7fbdff34b9052604e8",
       "value": " 100/100 [03:12&lt;00:00]"
      }
     },
     "4f004904db674327b91e2a7ed31208f3": {
      "model_module": "@jupyter-widgets/controls",
      "model_module_version": "2.0.0",
      "model_name": "VBoxModel",
      "state": {
       "children": [
        "IPY_MODEL_3bd1ba03286149faad4c9671749ef3db",
        "IPY_MODEL_ea7dcc073b0f4ef5ad09b57f1f76813f",
        "IPY_MODEL_be1c629125534ed5bc4452feaddc5dbb"
       ],
       "layout": "IPY_MODEL_679f95eba9bd453d8e294775e51192b1"
      }
     },
     "4f4375f196054a3ba8a3c7712cf82f64": {
      "model_module": "@jupyter-widgets/controls",
      "model_module_version": "2.0.0",
      "model_name": "HTMLModel",
      "state": {
       "layout": "IPY_MODEL_883a1992085e4d23ba76f465927ffeaf",
       "style": "IPY_MODEL_7f4cab8d316f4728b4815abe62d2372f",
       "value": "<style>.widget-readout { min-width: 20px !important; }</style>"
      }
     },
     "4f49782a7df74044af727ab5d2d595d6": {
      "model_module": "@jupyter-widgets/base",
      "model_module_version": "2.0.0",
      "model_name": "LayoutModel",
      "state": {}
     },
     "4f4a66ff6b7a48df9ecd873509b712fc": {
      "model_module": "@jupyter-widgets/base",
      "model_module_version": "2.0.0",
      "model_name": "LayoutModel",
      "state": {}
     },
     "4f970cac20a94ccd9a5a044f3b413571": {
      "model_module": "@jupyter-widgets/controls",
      "model_module_version": "2.0.0",
      "model_name": "VBoxModel",
      "state": {
       "children": [
        "IPY_MODEL_a639ccc19edd44ceb24411dd90b142a2"
       ],
       "layout": "IPY_MODEL_a972a63d26444fc08d80b1b36aa52cf8"
      }
     },
     "4fd837500d51430ca15ff3d925926f6a": {
      "model_module": "@jupyter-widgets/base",
      "model_module_version": "2.0.0",
      "model_name": "LayoutModel",
      "state": {}
     },
     "50297226c30c4e1691638d2635f4b327": {
      "model_module": "@jupyter-widgets/controls",
      "model_module_version": "2.0.0",
      "model_name": "IntSliderModel",
      "state": {
       "behavior": "drag-tap",
       "layout": "IPY_MODEL_46a73aea6d0a48e9ac119c8baff43829",
       "max": 500,
       "style": "IPY_MODEL_9ec73d1bce33474085e77fcb0219a103",
       "value": 199
      }
     },
     "5031dcfd9cff4bf9b7683de63504ce08": {
      "model_module": "@jupyter-widgets/controls",
      "model_module_version": "2.0.0",
      "model_name": "HTMLStyleModel",
      "state": {
       "description_width": "",
       "font_size": null,
       "text_color": null
      }
     },
     "507a4d90365a41e89eaeac4b90d3e7c3": {
      "model_module": "@jupyter-widgets/controls",
      "model_module_version": "2.0.0",
      "model_name": "HTMLModel",
      "state": {
       "layout": "IPY_MODEL_4c53047405114a4ca0b72ca87fddb2b8",
       "style": "IPY_MODEL_130d104459684781ad3cca35563ef028",
       "value": "<style>.widget-readout { min-width: 20px !important; }</style>"
      }
     },
     "50a706727f2d4e14b65570ebad05a657": {
      "model_module": "@jupyter-widgets/controls",
      "model_module_version": "2.0.0",
      "model_name": "IntSliderModel",
      "state": {
       "behavior": "drag-tap",
       "layout": "IPY_MODEL_aff21e0020d04888b74c2cbb62d6278b",
       "max": 500,
       "style": "IPY_MODEL_7871520e999c48c3bcbc46ee0dea7026",
       "value": 250
      }
     },
     "5182689acf014efbb850bc5e6a5189f1": {
      "model_module": "@jupyter-widgets/controls",
      "model_module_version": "2.0.0",
      "model_name": "HBoxModel",
      "state": {
       "children": [
        "IPY_MODEL_16cbd1a3641a4d3fb9c5a476656569aa",
        "IPY_MODEL_545bc8e5438e4c93bfab476ad175520b"
       ],
       "layout": "IPY_MODEL_2c97ee0e17a143bea0e5d74d1ac62a83"
      }
     },
     "51b98d70bab94cda89ade41af4b2ad09": {
      "model_module": "@jupyter-widgets/base",
      "model_module_version": "2.0.0",
      "model_name": "LayoutModel",
      "state": {
       "width": "100%"
      }
     },
     "51e0c48a46b6456dbb4ad78996e1ffeb": {
      "model_module": "@jupyter-widgets/base",
      "model_module_version": "2.0.0",
      "model_name": "LayoutModel",
      "state": {}
     },
     "51eb28e4af334c758a6fd0a496992369": {
      "model_module": "@jupyter-widgets/base",
      "model_module_version": "2.0.0",
      "model_name": "LayoutModel",
      "state": {}
     },
     "51fe41eb8fdd4d05bf473cf7c89c967e": {
      "model_module": "@jupyter-widgets/controls",
      "model_module_version": "2.0.0",
      "model_name": "HBoxModel",
      "state": {
       "children": [
        "IPY_MODEL_7e8ae39bb1924ef08b6dd14406396968",
        "IPY_MODEL_0961338db7e048e1b297587a347f3dde"
       ],
       "layout": "IPY_MODEL_d5199c742fde4d6aad34c4c3560615b8"
      }
     },
     "52056a76ca46437d90e0d86fedcee906": {
      "model_module": "@jupyter-widgets/controls",
      "model_module_version": "2.0.0",
      "model_name": "LabelStyleModel",
      "state": {
       "description_width": "",
       "font_family": null,
       "font_size": null,
       "font_style": null,
       "font_variant": null,
       "font_weight": null,
       "text_color": null,
       "text_decoration": null
      }
     },
     "5224c43f0c9d45c2b7fb8a4421d70f9d": {
      "model_module": "@jupyter-widgets/controls",
      "model_module_version": "2.0.0",
      "model_name": "VBoxModel",
      "state": {
       "children": [
        "IPY_MODEL_8298f6d088764df7a06b8009635de61d"
       ],
       "layout": "IPY_MODEL_2b677ed37e0c4a0d88b832a992cdcdb0"
      }
     },
     "52464dad44fe4bcfbe8b621c2020907d": {
      "model_module": "@jupyter-widgets/controls",
      "model_module_version": "2.0.0",
      "model_name": "VBoxModel",
      "state": {
       "children": [
        "IPY_MODEL_5182689acf014efbb850bc5e6a5189f1",
        "IPY_MODEL_763b7d72cf604e5783239cb1d2c2aa5f"
       ],
       "layout": "IPY_MODEL_8a72a77cc72a4858bd0e2fdca4f6a41f"
      }
     },
     "5253f4fe1fb6490c87d787f2c74682e7": {
      "model_module": "@jupyter-widgets/controls",
      "model_module_version": "2.0.0",
      "model_name": "HTMLModel",
      "state": {
       "layout": "IPY_MODEL_f8383039fcf8406f8656a6064372cc6d",
       "style": "IPY_MODEL_c3194038bc8b423290772492a73ff903",
       "value": "<style>.widget-readout { min-width: 20px !important; }</style>"
      }
     },
     "52727a01135e48a28d4c60232925e612": {
      "model_module": "@jupyter-widgets/controls",
      "model_module_version": "2.0.0",
      "model_name": "HBoxModel",
      "state": {
       "children": [
        "IPY_MODEL_6c014b08f1a746ebb259a9a6583edf10",
        "IPY_MODEL_52dc8686df104a06929a7e237e0c9006"
       ],
       "layout": "IPY_MODEL_51eb28e4af334c758a6fd0a496992369"
      }
     },
     "527acc3521a0419eb3cb5b5a251a592d": {
      "model_module": "@jupyter-widgets/controls",
      "model_module_version": "2.0.0",
      "model_name": "HBoxModel",
      "state": {
       "children": [
        "IPY_MODEL_91fe554952cd435987022c2319dc6135",
        "IPY_MODEL_bd5aa7d7ad55448dbd1b5c8feaec37de"
       ],
       "layout": "IPY_MODEL_9cefb6209c2143b3bc020df8c536a797"
      }
     },
     "528f5de77d594255a45ae9beddac7e09": {
      "model_module": "@jupyter-widgets/controls",
      "model_module_version": "2.0.0",
      "model_name": "HBoxModel",
      "state": {
       "children": [
        "IPY_MODEL_680151e38387400c8d947d87e524742c"
       ],
       "layout": "IPY_MODEL_78f9a7408ac74f2c832448e037827c7f"
      }
     },
     "52dc8686df104a06929a7e237e0c9006": {
      "model_module": "@jupyter-widgets/controls",
      "model_module_version": "2.0.0",
      "model_name": "IntSliderModel",
      "state": {
       "behavior": "drag-tap",
       "layout": "IPY_MODEL_745ea93830e0424daacb792fde559aa6",
       "max": 500,
       "style": "IPY_MODEL_a94c86c859274fc6adc459e95ca702da",
       "value": 250
      }
     },
     "5355be4f42bb4ebd90ef751900c64f4d": {
      "model_module": "@jupyter-widgets/base",
      "model_module_version": "2.0.0",
      "model_name": "LayoutModel",
      "state": {}
     },
     "5390c88bf9334adea69d5cff3b1665da": {
      "model_module": "@jupyter-widgets/controls",
      "model_module_version": "2.0.0",
      "model_name": "HBoxModel",
      "state": {
       "children": [
        "IPY_MODEL_0169825e8f5347c48c7056fbd26cb6d6"
       ],
       "layout": "IPY_MODEL_21a313913e184820a33bd05cc59ceda7"
      }
     },
     "53b20299d9f94a1c9bab54e7f8226bb4": {
      "model_module": "@jupyter-widgets/base",
      "model_module_version": "2.0.0",
      "model_name": "LayoutModel",
      "state": {
       "width": "100%"
      }
     },
     "53ce5d76caa34ac4a0ac17767ef81305": {
      "model_module": "@jupyter-widgets/controls",
      "model_module_version": "2.0.0",
      "model_name": "HTMLStyleModel",
      "state": {
       "description_width": "",
       "font_size": null,
       "text_color": null
      }
     },
     "543cad7d180440d1844a5b54ace564ac": {
      "model_module": "@jupyter-widgets/base",
      "model_module_version": "2.0.0",
      "model_name": "LayoutModel",
      "state": {}
     },
     "54427ecec5ef49a78ae25bd9198c3fc1": {
      "model_module": "@jupyter-widgets/controls",
      "model_module_version": "2.0.0",
      "model_name": "HTMLModel",
      "state": {
       "layout": "IPY_MODEL_1f3a6b6729a7498fa725719cc0cadefe",
       "style": "IPY_MODEL_a0bbdf5f4f4a4638a41cd7b8a169ab84",
       "value": "<style>.widget-readout { min-width: 20px !important; }</style>"
      }
     },
     "5459d2d685a44c3cb829071f94c02e9b": {
      "model_module": "@jupyter-widgets/base",
      "model_module_version": "2.0.0",
      "model_name": "LayoutModel",
      "state": {}
     },
     "545bc8e5438e4c93bfab476ad175520b": {
      "model_module": "@jupyter-widgets/controls",
      "model_module_version": "2.0.0",
      "model_name": "IntSliderModel",
      "state": {
       "behavior": "drag-tap",
       "layout": "IPY_MODEL_9a8a2515deb844e290cda39482ebd2ba",
       "max": 500,
       "style": "IPY_MODEL_d7da1e66ee7343b1ab76079bf10316c8",
       "value": 262
      }
     },
     "54746ab621b0432ea6fea72f70fac0c5": {
      "model_module": "@jupyter-widgets/controls",
      "model_module_version": "2.0.0",
      "model_name": "VBoxModel",
      "state": {
       "children": [
        "IPY_MODEL_5390c88bf9334adea69d5cff3b1665da",
        "IPY_MODEL_98dfc61d4ae543af82b5e4f54121d633",
        "IPY_MODEL_3cf8d5a97a9e45378c3747feb1579a2a"
       ],
       "layout": "IPY_MODEL_a1c2dcb7352e491b9f11a7881b474807"
      }
     },
     "547f46a266b242d7a94c7b1e2c352f6a": {
      "model_module": "@jupyter-widgets/base",
      "model_module_version": "2.0.0",
      "model_name": "LayoutModel",
      "state": {}
     },
     "552beae8f03d4ad4ad3e0db4afcb5a5a": {
      "model_module": "@jupyter-widgets/controls",
      "model_module_version": "2.0.0",
      "model_name": "LabelStyleModel",
      "state": {
       "description_width": "",
       "font_family": null,
       "font_size": null,
       "font_style": null,
       "font_variant": null,
       "font_weight": null,
       "text_color": null,
       "text_decoration": null
      }
     },
     "552fc35a6f5946e28fb7a9f651d94ed4": {
      "model_module": "@jupyter-widgets/controls",
      "model_module_version": "2.0.0",
      "model_name": "VBoxModel",
      "state": {
       "children": [
        "IPY_MODEL_8ee00faf96614d97ac7de539f5c463a3",
        "IPY_MODEL_dedb1b2d606d453288a589fe0b0ab06f",
        "IPY_MODEL_ae6e0081f3c44f6297118a9636a4630e"
       ],
       "layout": "IPY_MODEL_362ba7d740c24ec5b5e2dc1afb82e458"
      }
     },
     "554f4134841a40eb8fa9cddf212bb85b": {
      "model_module": "@jupyter-widgets/base",
      "model_module_version": "2.0.0",
      "model_name": "LayoutModel",
      "state": {}
     },
     "559feb83f11d4eaa89488ea1c141f82c": {
      "model_module": "@jupyter-widgets/controls",
      "model_module_version": "2.0.0",
      "model_name": "VBoxModel",
      "state": {
       "children": [
        "IPY_MODEL_a47aee8771dd40a9b15d147080388fde",
        "IPY_MODEL_94b09259db6149589045d9abc0e03adf",
        "IPY_MODEL_36f8a9d0deb0452fa3a7da2f7bf7f45d"
       ],
       "layout": "IPY_MODEL_f8cc7170b71a46a5814567a4de523eda"
      }
     },
     "55a236991dc14153a822d681a3b53253": {
      "model_module": "@jupyter-widgets/controls",
      "model_module_version": "2.0.0",
      "model_name": "LabelModel",
      "state": {
       "layout": "IPY_MODEL_adc50e73e8bd451fbabe16476a0c467d",
       "style": "IPY_MODEL_9d098392a1d84202b1b8c35911e76c85",
       "value": "Curtain"
      }
     },
     "55aee2acf5a044ffbf4228543a52a132": {
      "model_module": "@jupyter-widgets/base",
      "model_module_version": "2.0.0",
      "model_name": "LayoutModel",
      "state": {}
     },
     "55b4338f9aa44db0914cb252d40c4104": {
      "model_module": "@jupyter-widgets/base",
      "model_module_version": "2.0.0",
      "model_name": "LayoutModel",
      "state": {}
     },
     "55e4fe0bdb264b35913e6ccf6752ae55": {
      "model_module": "@jupyter-widgets/base",
      "model_module_version": "2.0.0",
      "model_name": "LayoutModel",
      "state": {}
     },
     "5630408f0a9a4159a4cf0eb02b5aeb41": {
      "model_module": "@jupyter-widgets/base",
      "model_module_version": "2.0.0",
      "model_name": "LayoutModel",
      "state": {}
     },
     "56a6268cc7834480aaa9bfcdc763d501": {
      "model_module": "@jupyter-widgets/base",
      "model_module_version": "2.0.0",
      "model_name": "LayoutModel",
      "state": {}
     },
     "56edebbb691e4ce3a6071bb49f84b53a": {
      "model_module": "@jupyter-widgets/controls",
      "model_module_version": "2.0.0",
      "model_name": "IntSliderModel",
      "state": {
       "behavior": "drag-tap",
       "layout": "IPY_MODEL_53b20299d9f94a1c9bab54e7f8226bb4",
       "max": 500,
       "style": "IPY_MODEL_e711cc43a6f74dc5958276d7e425fb79",
       "value": 124
      }
     },
     "5707c096de03450d8cd783021751d140": {
      "model_module": "@jupyter-widgets/controls",
      "model_module_version": "2.0.0",
      "model_name": "HBoxModel",
      "state": {
       "children": [
        "IPY_MODEL_377439b152894778a57cd71b0d7960df",
        "IPY_MODEL_b7eb5661bb654e9e9fc73c5454ecac47"
       ],
       "layout": "IPY_MODEL_3d43f2333f444339b9e11b0cf9d3539b"
      }
     },
     "575360142a074b19b597576ab18e6514": {
      "model_module": "@jupyter-widgets/controls",
      "model_module_version": "2.0.0",
      "model_name": "LabelStyleModel",
      "state": {
       "description_width": "",
       "font_family": null,
       "font_size": null,
       "font_style": null,
       "font_variant": null,
       "font_weight": null,
       "text_color": null,
       "text_decoration": null
      }
     },
     "575b65c5007e4bfdb68442f4a19c7b74": {
      "model_module": "@jupyter-widgets/base",
      "model_module_version": "2.0.0",
      "model_name": "LayoutModel",
      "state": {}
     },
     "57656c8a242b4a65addeb0b73f25bfd6": {
      "model_module": "@jupyter-widgets/controls",
      "model_module_version": "2.0.0",
      "model_name": "VBoxModel",
      "state": {
       "children": [
        "IPY_MODEL_988a3fbc1b3c490cb9b2ca0b6f6c45a4",
        "IPY_MODEL_f6189781a54942fe92dcbc4c7213499b",
        "IPY_MODEL_44e399e0daf2492983442b9aeb027990"
       ],
       "layout": "IPY_MODEL_039e3055149f44789036c02188d3aad1"
      }
     },
     "57bed592728d412e9a6e16e1151c65d4": {
      "model_module": "@jupyter-widgets/controls",
      "model_module_version": "2.0.0",
      "model_name": "VBoxModel",
      "state": {
       "children": [
        "IPY_MODEL_a35b32dff5f84385870390a895db4b56"
       ],
       "layout": "IPY_MODEL_3d3cbd830e7d47789c81e7c9e5aca5ba"
      }
     },
     "5839ce943c684194ab15df7402fa4dc9": {
      "model_module": "@jupyter-widgets/base",
      "model_module_version": "2.0.0",
      "model_name": "LayoutModel",
      "state": {}
     },
     "58755f1feeb84efe96a5cdc2e650e537": {
      "model_module": "@jupyter-widgets/base",
      "model_module_version": "2.0.0",
      "model_name": "LayoutModel",
      "state": {}
     },
     "58775922cf9e445eab2f3bcee61266a1": {
      "model_module": "@jupyter-widgets/base",
      "model_module_version": "2.0.0",
      "model_name": "LayoutModel",
      "state": {}
     },
     "58883d0026884c87b08d91942252af4b": {
      "model_module": "@jupyter-widgets/base",
      "model_module_version": "2.0.0",
      "model_name": "LayoutModel",
      "state": {}
     },
     "594dc30ee6184708a87a7077ec659de0": {
      "model_module": "@jupyter-widgets/controls",
      "model_module_version": "2.0.0",
      "model_name": "HTMLStyleModel",
      "state": {
       "description_width": "",
       "font_size": null,
       "text_color": null
      }
     },
     "598cf0cdc0f645dc9d2f8950abaf3932": {
      "model_module": "@jupyter-widgets/base",
      "model_module_version": "2.0.0",
      "model_name": "LayoutModel",
      "state": {}
     },
     "5a2b03187d3a46d49c70698c71aba416": {
      "model_module": "@jupyter-widgets/base",
      "model_module_version": "2.0.0",
      "model_name": "LayoutModel",
      "state": {}
     },
     "5a45ceb77dd744b1a222273213262c24": {
      "model_module": "@jupyter-widgets/base",
      "model_module_version": "2.0.0",
      "model_name": "LayoutModel",
      "state": {}
     },
     "5a46ac8db4d549e4ace8736482754312": {
      "model_module": "@jupyter-widgets/base",
      "model_module_version": "2.0.0",
      "model_name": "LayoutModel",
      "state": {}
     },
     "5a47d2630d1e453b8552c16af1e25b34": {
      "model_module": "@jupyter-widgets/controls",
      "model_module_version": "2.0.0",
      "model_name": "IntSliderModel",
      "state": {
       "behavior": "drag-tap",
       "layout": "IPY_MODEL_ad6f96b3f5c44f00b04066d9245763df",
       "max": 500,
       "style": "IPY_MODEL_2f5bd80a88444c7eac226fcff245f0a1",
       "value": 250
      }
     },
     "5a7e5d28c6d346e6bf4411cce8e466f4": {
      "model_module": "@jupyter-widgets/controls",
      "model_module_version": "2.0.0",
      "model_name": "HBoxModel",
      "state": {
       "children": [
        "IPY_MODEL_bab6ba2137b245b9ad37aadf3c6a3f4c"
       ],
       "layout": "IPY_MODEL_85d5f8c31e924e7aa47646dddcf0c000"
      }
     },
     "5aa8808b84cf4c80840599fb478f2c36": {
      "model_module": "@jupyter-widgets/controls",
      "model_module_version": "2.0.0",
      "model_name": "LabelStyleModel",
      "state": {
       "description_width": "",
       "font_family": null,
       "font_size": null,
       "font_style": null,
       "font_variant": null,
       "font_weight": null,
       "text_color": null,
       "text_decoration": null
      }
     },
     "5ad948cb813948619a423b4187fe9a72": {
      "model_module": "@jupyter-widgets/controls",
      "model_module_version": "2.0.0",
      "model_name": "LabelModel",
      "state": {
       "layout": "IPY_MODEL_eef37f359e6745dabac1ef223fc9dc01",
       "style": "IPY_MODEL_0696b8b836f14e6db68903fa88af0764",
       "value": "Curtain"
      }
     },
     "5ada174cfe9f4641ba4c7ab1e52d3940": {
      "model_module": "@jupyter-widgets/base",
      "model_module_version": "2.0.0",
      "model_name": "LayoutModel",
      "state": {}
     },
     "5b1d5dcb19e5492482a1bd73af4cdfa8": {
      "model_module": "@jupyter-widgets/controls",
      "model_module_version": "2.0.0",
      "model_name": "LabelStyleModel",
      "state": {
       "description_width": "",
       "font_family": null,
       "font_size": null,
       "font_style": null,
       "font_variant": null,
       "font_weight": null,
       "text_color": null,
       "text_decoration": null
      }
     },
     "5b23362308884b80b96b7d3bb4659eab": {
      "model_module": "@jupyter-widgets/controls",
      "model_module_version": "2.0.0",
      "model_name": "HTMLModel",
      "state": {
       "layout": "IPY_MODEL_f3ba16864ecd4d39957ad3bfd060e0dc",
       "style": "IPY_MODEL_91629fbad4ea49109f17129810957506",
       "value": "<style>.widget-readout { min-width: 20px !important; }</style>"
      }
     },
     "5b404f771a9141a29d63d8f0cacadace": {
      "model_module": "@jupyter-widgets/base",
      "model_module_version": "2.0.0",
      "model_name": "LayoutModel",
      "state": {}
     },
     "5b5241ee65c94604affc44429d1b5a74": {
      "model_module": "@jupyter-widgets/base",
      "model_module_version": "2.0.0",
      "model_name": "LayoutModel",
      "state": {
       "width": "100%"
      }
     },
     "5b5a6d6c27c14746a224168bd23509fb": {
      "model_module": "@jupyter-widgets/base",
      "model_module_version": "2.0.0",
      "model_name": "LayoutModel",
      "state": {}
     },
     "5bc1f45306ff496d875c37b1df81ab89": {
      "model_module": "@jupyter-widgets/controls",
      "model_module_version": "2.0.0",
      "model_name": "HTMLModel",
      "state": {
       "layout": "IPY_MODEL_b0dd2b32584847dabb2aeae3c9955320",
       "style": "IPY_MODEL_6792a4fa2fd14c0b965a27b136c6ea90",
       "value": "<style>.widget-readout { min-width: 20px !important; }</style>"
      }
     },
     "5becd01ac8a84fb5a8dffcbe8702159f": {
      "model_module": "@jupyter-widgets/controls",
      "model_module_version": "2.0.0",
      "model_name": "VBoxModel",
      "state": {
       "children": [
        "IPY_MODEL_f4e9942121aa4e5c81fa35beb5a1e95c"
       ],
       "layout": "IPY_MODEL_f944751448044d9ba94dd9f44756fd2d"
      }
     },
     "5c107b751cee438b8bc350a8dff0f500": {
      "model_module": "@jupyter-widgets/base",
      "model_module_version": "2.0.0",
      "model_name": "LayoutModel",
      "state": {}
     },
     "5ca2c130c0b546b8a3d078ef89771c2c": {
      "model_module": "@jupyter-widgets/base",
      "model_module_version": "2.0.0",
      "model_name": "LayoutModel",
      "state": {}
     },
     "5cfefb5e625e4ea1a4f58ef8a2d3e654": {
      "model_module": "@jupyter-widgets/controls",
      "model_module_version": "2.0.0",
      "model_name": "SliderStyleModel",
      "state": {
       "description_width": ""
      }
     },
     "5d7cbb848086458987c7f6d4737be15f": {
      "model_module": "@jupyter-widgets/base",
      "model_module_version": "2.0.0",
      "model_name": "LayoutModel",
      "state": {}
     },
     "5db51067858a4b3c803321db1609657e": {
      "model_module": "@jupyter-widgets/base",
      "model_module_version": "2.0.0",
      "model_name": "LayoutModel",
      "state": {}
     },
     "5e6a3a863ada45cda540c82f9a1bfd1e": {
      "model_module": "ipycanvas",
      "model_module_version": "^0.13",
      "model_name": "CanvasModel",
      "state": {
       "_canvas_manager": "IPY_MODEL_d9a833c7f08b41bd9d6176723d2ff2f4",
       "_model_module_version": "^0.13",
       "_view_module_version": "^0.13",
       "height": 900,
       "layout": "IPY_MODEL_af9e587038244403a20a9f3d2e2a5c5d",
       "width": 900
      }
     },
     "5e7c132a32664b85bec09c27511a4cc9": {
      "model_module": "@jupyter-widgets/base",
      "model_module_version": "2.0.0",
      "model_name": "LayoutModel",
      "state": {}
     },
     "5eb6708fc11749f089972a55102656d9": {
      "model_module": "@jupyter-widgets/controls",
      "model_module_version": "2.0.0",
      "model_name": "SliderStyleModel",
      "state": {
       "description_width": ""
      }
     },
     "5ed5be1e51884ab7b2dbcec4070d696e": {
      "model_module": "@jupyter-widgets/controls",
      "model_module_version": "2.0.0",
      "model_name": "VBoxModel",
      "state": {
       "children": [
        "IPY_MODEL_ac2afcae6d354228a2e3036fd3c47abc",
        "IPY_MODEL_7c70e0c8e54d426db6712e2d464b4a01"
       ],
       "layout": "IPY_MODEL_c56d4fb4f28242389947bf8ad58a8120"
      }
     },
     "5ed661e2f4a2409996478bfde90e5717": {
      "model_module": "@jupyter-widgets/controls",
      "model_module_version": "2.0.0",
      "model_name": "HBoxModel",
      "state": {
       "children": [
        "IPY_MODEL_7fdd24183f1b41b49355aaee5047e566"
       ],
       "layout": "IPY_MODEL_a3e4a48660d944b5a88aa6589a817094"
      }
     },
     "5f0731b099aa4d65869f079dcd19c2a1": {
      "model_module": "@jupyter-widgets/controls",
      "model_module_version": "2.0.0",
      "model_name": "IntSliderModel",
      "state": {
       "behavior": "drag-tap",
       "layout": "IPY_MODEL_483ee574b2704508a762be825c970252",
       "max": 500,
       "style": "IPY_MODEL_7ad62b11a3c248beb533f840cb2aa784",
       "value": 208
      }
     },
     "5f6ddd978ece4edbad3ebb1f5bdadded": {
      "model_module": "@jupyter-widgets/controls",
      "model_module_version": "2.0.0",
      "model_name": "HTMLModel",
      "state": {
       "layout": "IPY_MODEL_7ca4e2def55b46ae8119d6dd6ccc63df",
       "style": "IPY_MODEL_e926a3090ee34f96b269f4811a1de911",
       "value": "<style>.widget-readout { min-width: 20px !important; }</style>"
      }
     },
     "6027ca4a558e481299269bc646a76448": {
      "model_module": "@jupyter-widgets/controls",
      "model_module_version": "2.0.0",
      "model_name": "HBoxModel",
      "state": {
       "children": [
        "IPY_MODEL_3539bc8497d84b62a690464aae01d1b2",
        "IPY_MODEL_068a1b9ba7924c3f9823aac793e549e2"
       ],
       "layout": "IPY_MODEL_8d12f55654f74383833793ec62a9a3db"
      }
     },
     "60634a456470467983a4b1651203191e": {
      "model_module": "@jupyter-widgets/base",
      "model_module_version": "2.0.0",
      "model_name": "LayoutModel",
      "state": {}
     },
     "607950f3d9184e2085049254f7dd2a07": {
      "model_module": "@jupyter-widgets/controls",
      "model_module_version": "2.0.0",
      "model_name": "VBoxModel",
      "state": {
       "layout": "IPY_MODEL_3e30fed5dee040e3b5730d652c7995ff"
      }
     },
     "608fa7ae3d7f42b8a1496f7953d19e69": {
      "model_module": "@jupyter-widgets/controls",
      "model_module_version": "2.0.0",
      "model_name": "ProgressStyleModel",
      "state": {
       "description_width": ""
      }
     },
     "60e638d310e1455fa56fabe0fa061c42": {
      "model_module": "@jupyter-widgets/base",
      "model_module_version": "2.0.0",
      "model_name": "LayoutModel",
      "state": {}
     },
     "61178081e16b4354a89878a517d4ef79": {
      "model_module": "@jupyter-widgets/controls",
      "model_module_version": "2.0.0",
      "model_name": "LabelModel",
      "state": {
       "layout": "IPY_MODEL_cd88fc3f6cb548369135b00998f38a71",
       "style": "IPY_MODEL_98fd41915add45a7b2ed179ee14a4856",
       "value": "Curtain"
      }
     },
     "6171170a4dc24063b9af068a7d35bf9e": {
      "model_module": "@jupyter-widgets/base",
      "model_module_version": "2.0.0",
      "model_name": "LayoutModel",
      "state": {}
     },
     "6190d81c05414ffbbf862384287dd3e9": {
      "model_module": "@jupyter-widgets/base",
      "model_module_version": "2.0.0",
      "model_name": "LayoutModel",
      "state": {
       "width": "100%"
      }
     },
     "619212c71cc241959bf7dbc48b4b9115": {
      "model_module": "@jupyter-widgets/base",
      "model_module_version": "2.0.0",
      "model_name": "LayoutModel",
      "state": {}
     },
     "61a66295a6834890b53f178cdbf99ad9": {
      "model_module": "@jupyter-widgets/controls",
      "model_module_version": "2.0.0",
      "model_name": "VBoxModel",
      "state": {
       "children": [
        "IPY_MODEL_57656c8a242b4a65addeb0b73f25bfd6"
       ],
       "layout": "IPY_MODEL_c1d6c459087d4a3e97a1d15a4a2aaf53"
      }
     },
     "61a96db9aa1f4696a6d3b35b3c6007fa": {
      "model_module": "@jupyter-widgets/controls",
      "model_module_version": "2.0.0",
      "model_name": "LabelStyleModel",
      "state": {
       "description_width": "",
       "font_family": null,
       "font_size": null,
       "font_style": null,
       "font_variant": null,
       "font_weight": null,
       "text_color": null,
       "text_decoration": null
      }
     },
     "61b4fe4e6e85407981efe9fbea72b12c": {
      "model_module": "@jupyter-widgets/controls",
      "model_module_version": "2.0.0",
      "model_name": "HTMLStyleModel",
      "state": {
       "description_width": "",
       "font_size": null,
       "text_color": null
      }
     },
     "61d32ed7cbda4bddac58354d26793bfd": {
      "model_module": "ipycanvas",
      "model_module_version": "^0.13",
      "model_name": "CanvasModel",
      "state": {
       "_canvas_manager": "IPY_MODEL_d9a833c7f08b41bd9d6176723d2ff2f4",
       "_model_module_version": "^0.13",
       "_view_module_version": "^0.13",
       "height": 900,
       "layout": "IPY_MODEL_434c3c8a97ba4efeb4c3afefcffd4cda",
       "width": 900
      }
     },
     "61f492959fd145338711670d66fa9edc": {
      "model_module": "@jupyter-widgets/controls",
      "model_module_version": "2.0.0",
      "model_name": "VBoxModel",
      "state": {
       "children": [
        "IPY_MODEL_c69f823e2e0c40ea849fc7f7460e0270"
       ],
       "layout": "IPY_MODEL_32571548a0fc4a34bef6662c7629455e"
      }
     },
     "62ebc01a7e034815bd87e8c12aebb173": {
      "model_module": "@jupyter-widgets/base",
      "model_module_version": "2.0.0",
      "model_name": "LayoutModel",
      "state": {}
     },
     "63067e8a133c453cbfc5c157ff72c102": {
      "model_module": "@jupyter-widgets/base",
      "model_module_version": "2.0.0",
      "model_name": "LayoutModel",
      "state": {}
     },
     "631734e4c10a4d06a4ace82dcf0e5cf3": {
      "model_module": "@jupyter-widgets/base",
      "model_module_version": "2.0.0",
      "model_name": "LayoutModel",
      "state": {}
     },
     "63370ce628d044b9a87404059f9a440b": {
      "model_module": "@jupyter-widgets/base",
      "model_module_version": "2.0.0",
      "model_name": "LayoutModel",
      "state": {}
     },
     "633a00f4e20f438eb6b4ce37f80844df": {
      "model_module": "@jupyter-widgets/base",
      "model_module_version": "2.0.0",
      "model_name": "LayoutModel",
      "state": {}
     },
     "636e19fd0f2e467d953ce53e2091008b": {
      "model_module": "@jupyter-widgets/controls",
      "model_module_version": "2.0.0",
      "model_name": "HBoxModel",
      "state": {
       "children": [
        "IPY_MODEL_11b96543235f49b29f95f7499f5113e4"
       ],
       "layout": "IPY_MODEL_5a2b03187d3a46d49c70698c71aba416"
      }
     },
     "639ef4ad26644b6c9204f8ee14907675": {
      "model_module": "@jupyter-widgets/controls",
      "model_module_version": "2.0.0",
      "model_name": "LabelModel",
      "state": {
       "layout": "IPY_MODEL_a1f3769df7cf4a4aa55eeabe75e5402d",
       "style": "IPY_MODEL_84901300d89d416eb52d1cb6b247e9d3",
       "value": "Curtain"
      }
     },
     "640b1e3ab9f642da849b6174a30c8779": {
      "model_module": "@jupyter-widgets/controls",
      "model_module_version": "2.0.0",
      "model_name": "VBoxModel",
      "state": {
       "children": [
        "IPY_MODEL_296415678f844f32a38ae69efd4adc9e",
        "IPY_MODEL_9b03e49369504be3966b248d0ac14277"
       ],
       "layout": "IPY_MODEL_56a6268cc7834480aaa9bfcdc763d501"
      }
     },
     "64a1954b2a114fa99ec9ab3a2ad525a5": {
      "model_module": "@jupyter-widgets/base",
      "model_module_version": "2.0.0",
      "model_name": "LayoutModel",
      "state": {}
     },
     "650de44e7c474b4fb70e5f1890221ee8": {
      "model_module": "@jupyter-widgets/controls",
      "model_module_version": "2.0.0",
      "model_name": "HBoxModel",
      "state": {
       "children": [
        "IPY_MODEL_ac2ab0a08fdb49d58f10af002ece2006",
        "IPY_MODEL_22ac2833fae14794925a119a271541f4"
       ],
       "layout": "IPY_MODEL_b689394104be49f996d5fd390458fd77"
      }
     },
     "65506bd32c1b41d8be73d05d2b529cdc": {
      "model_module": "@jupyter-widgets/base",
      "model_module_version": "2.0.0",
      "model_name": "LayoutModel",
      "state": {}
     },
     "656f8efe5f5f42e5b30ad5ab5838313d": {
      "model_module": "@jupyter-widgets/base",
      "model_module_version": "2.0.0",
      "model_name": "LayoutModel",
      "state": {}
     },
     "6588ffb0cc6a483baa89f76b2f00655e": {
      "model_module": "@jupyter-widgets/controls",
      "model_module_version": "2.0.0",
      "model_name": "VBoxModel",
      "state": {
       "children": [
        "IPY_MODEL_85017a251bb74182a23739b11401d4a8"
       ],
       "layout": "IPY_MODEL_c1718b7f96ca45acabce5f70d55b8582"
      }
     },
     "6592425caf4b4ff0acb48461acd51600": {
      "model_module": "@jupyter-widgets/base",
      "model_module_version": "2.0.0",
      "model_name": "LayoutModel",
      "state": {
       "width": "100%"
      }
     },
     "65be66914f4a41d2baf6946b11353058": {
      "model_module": "@jupyter-widgets/base",
      "model_module_version": "2.0.0",
      "model_name": "LayoutModel",
      "state": {}
     },
     "65e4f3355c894e88a162e30a5a628512": {
      "model_module": "@jupyter-widgets/controls",
      "model_module_version": "2.0.0",
      "model_name": "LabelStyleModel",
      "state": {
       "description_width": "",
       "font_family": null,
       "font_size": null,
       "font_style": null,
       "font_variant": null,
       "font_weight": null,
       "text_color": null,
       "text_decoration": null
      }
     },
     "65f6634d9985438781327448035a3974": {
      "model_module": "@jupyter-widgets/controls",
      "model_module_version": "2.0.0",
      "model_name": "HBoxModel",
      "state": {
       "children": [
        "IPY_MODEL_d879729d0a2240c1ad8b2ada01a7dddd",
        "IPY_MODEL_7ea8a276c24e46bb8a10618cf1176d8d"
       ],
       "layout": "IPY_MODEL_a19b23884d59470da0756aa6cdfdf422"
      }
     },
     "65fcc761003f4cedbfa7eeb1e8a25762": {
      "model_module": "@jupyter-widgets/base",
      "model_module_version": "2.0.0",
      "model_name": "LayoutModel",
      "state": {}
     },
     "664377ec53d74552aa9800f01b2e0c92": {
      "model_module": "@jupyter-widgets/controls",
      "model_module_version": "2.0.0",
      "model_name": "VBoxModel",
      "state": {
       "children": [
        "IPY_MODEL_aebe7b97fa874ee1b8bb76f65d98d25c",
        "IPY_MODEL_30123a350ea14409ad7509fe7154b658",
        "IPY_MODEL_8e31f2cdef2f411cbfeab0498e31aa69"
       ],
       "layout": "IPY_MODEL_63067e8a133c453cbfc5c157ff72c102"
      }
     },
     "667992dda3474c6fa2d23c5388150dfc": {
      "model_module": "@jupyter-widgets/controls",
      "model_module_version": "2.0.0",
      "model_name": "VBoxModel",
      "state": {
       "children": [
        "IPY_MODEL_0c39f14c30b24eb1940cdd9d48f56d6e"
       ],
       "layout": "IPY_MODEL_58755f1feeb84efe96a5cdc2e650e537"
      }
     },
     "66b8d004fce749f4a860ee25d7e1388e": {
      "model_module": "@jupyter-widgets/base",
      "model_module_version": "2.0.0",
      "model_name": "LayoutModel",
      "state": {}
     },
     "66d3018ab7894599b15a80021179c23b": {
      "model_module": "@jupyter-widgets/base",
      "model_module_version": "2.0.0",
      "model_name": "LayoutModel",
      "state": {}
     },
     "66d58bf651b847b38f3b7d2b6b89628a": {
      "model_module": "@jupyter-widgets/controls",
      "model_module_version": "2.0.0",
      "model_name": "HTMLModel",
      "state": {
       "layout": "IPY_MODEL_2d648e788538416688b207c727dcca01",
       "style": "IPY_MODEL_e95ffe4967f74969a4f0bde53f9e2fbf",
       "value": "100%"
      }
     },
     "66f67a5a62ad41cb893583f2e04bf0b7": {
      "model_module": "@jupyter-widgets/base",
      "model_module_version": "2.0.0",
      "model_name": "LayoutModel",
      "state": {}
     },
     "674e3bf785294eb5b48c232e781c6141": {
      "model_module": "@jupyter-widgets/controls",
      "model_module_version": "2.0.0",
      "model_name": "LabelModel",
      "state": {
       "layout": "IPY_MODEL_7a9be27490c8481481e8356d75fc4a61",
       "style": "IPY_MODEL_0c752488969c4921ab8c071be4b549d6",
       "value": "Curtain"
      }
     },
     "674fffc0b15244968fad9d680fb4f082": {
      "model_module": "@jupyter-widgets/controls",
      "model_module_version": "2.0.0",
      "model_name": "VBoxModel",
      "state": {
       "layout": "IPY_MODEL_97673119ff314ecdb57aa6e386cd7e1e"
      }
     },
     "6792a4fa2fd14c0b965a27b136c6ea90": {
      "model_module": "@jupyter-widgets/controls",
      "model_module_version": "2.0.0",
      "model_name": "HTMLStyleModel",
      "state": {
       "description_width": "",
       "font_size": null,
       "text_color": null
      }
     },
     "67963ca62b2f46988d234749be501a7a": {
      "model_module": "@jupyter-widgets/base",
      "model_module_version": "2.0.0",
      "model_name": "LayoutModel",
      "state": {}
     },
     "679f95eba9bd453d8e294775e51192b1": {
      "model_module": "@jupyter-widgets/base",
      "model_module_version": "2.0.0",
      "model_name": "LayoutModel",
      "state": {}
     },
     "67d0268555a443f58d1652085e060f08": {
      "model_module": "@jupyter-widgets/base",
      "model_module_version": "2.0.0",
      "model_name": "LayoutModel",
      "state": {}
     },
     "67e26b1e52cc4ccb998c6010926f8809": {
      "model_module": "@jupyter-widgets/base",
      "model_module_version": "2.0.0",
      "model_name": "LayoutModel",
      "state": {
       "width": "100%"
      }
     },
     "67e6cc13fee14a24824bc7233e20a3fd": {
      "model_module": "@jupyter-widgets/base",
      "model_module_version": "2.0.0",
      "model_name": "LayoutModel",
      "state": {}
     },
     "680151e38387400c8d947d87e524742c": {
      "model_module": "@jupyter-widgets/controls",
      "model_module_version": "2.0.0",
      "model_name": "VBoxModel",
      "state": {
       "children": [
        "IPY_MODEL_c7d16001b3594f3aaf81707686900ba0"
       ],
       "layout": "IPY_MODEL_3eac1040292a4230bc3a000083703a30"
      }
     },
     "682ee58d717f45eeb06000d370628640": {
      "model_module": "@jupyter-widgets/base",
      "model_module_version": "2.0.0",
      "model_name": "LayoutModel",
      "state": {}
     },
     "683a98c019af4bd9a7720a153f49a304": {
      "model_module": "@jupyter-widgets/base",
      "model_module_version": "2.0.0",
      "model_name": "LayoutModel",
      "state": {}
     },
     "6899783babc045418877517610fffed5": {
      "model_module": "@jupyter-widgets/controls",
      "model_module_version": "2.0.0",
      "model_name": "SliderStyleModel",
      "state": {
       "description_width": ""
      }
     },
     "68c44b246a48490bbfed85de42d26faf": {
      "model_module": "@jupyter-widgets/controls",
      "model_module_version": "2.0.0",
      "model_name": "LabelModel",
      "state": {
       "layout": "IPY_MODEL_5a46ac8db4d549e4ace8736482754312",
       "style": "IPY_MODEL_6d27d26d89a2408da75a290adf1109f6",
       "value": "Curtain"
      }
     },
     "68fcede507714cad9093081700984a05": {
      "model_module": "@jupyter-widgets/controls",
      "model_module_version": "2.0.0",
      "model_name": "HBoxModel",
      "state": {
       "children": [
        "IPY_MODEL_bbb02e4d4248423e9b6a0faa77ec19c4",
        "IPY_MODEL_5a47d2630d1e453b8552c16af1e25b34"
       ],
       "layout": "IPY_MODEL_f3446c76d2a044c3b6a68343ff5f0389"
      }
     },
     "6951cffb2fbe48be951597b612a6babd": {
      "model_module": "@jupyter-widgets/base",
      "model_module_version": "2.0.0",
      "model_name": "LayoutModel",
      "state": {}
     },
     "6992c312de944acdb303502fcfb9f75f": {
      "model_module": "@jupyter-widgets/base",
      "model_module_version": "2.0.0",
      "model_name": "LayoutModel",
      "state": {}
     },
     "69b2daff808c46ebab99f0a3e718d033": {
      "model_module": "@jupyter-widgets/base",
      "model_module_version": "2.0.0",
      "model_name": "LayoutModel",
      "state": {}
     },
     "69b741d3001e465887e78c220bf2d6e8": {
      "model_module": "@jupyter-widgets/base",
      "model_module_version": "2.0.0",
      "model_name": "LayoutModel",
      "state": {}
     },
     "6a64f3ffbaaf41a2a469f60461a91ce2": {
      "model_module": "@jupyter-widgets/controls",
      "model_module_version": "2.0.0",
      "model_name": "HBoxModel",
      "state": {
       "children": [
        "IPY_MODEL_4013ebb6f52e47e995eab76e7a4e3d50"
       ],
       "layout": "IPY_MODEL_19673637b69a4b0ca793a58e13962ad4"
      }
     },
     "6a7bd93804c54b8bb4f8f70503ef7c6a": {
      "model_module": "@jupyter-widgets/base",
      "model_module_version": "2.0.0",
      "model_name": "LayoutModel",
      "state": {
       "width": "100%"
      }
     },
     "6a8b700ab091469b99c71ca7639cb99f": {
      "model_module": "@jupyter-widgets/base",
      "model_module_version": "2.0.0",
      "model_name": "LayoutModel",
      "state": {
       "width": "100%"
      }
     },
     "6aa8df411500467bb8698ba670eead82": {
      "model_module": "@jupyter-widgets/controls",
      "model_module_version": "2.0.0",
      "model_name": "VBoxModel",
      "state": {
       "children": [
        "IPY_MODEL_49d43954f85342ab9e11f561ec48d709",
        "IPY_MODEL_be28daadbe754aafb4afea84badfbbc7"
       ],
       "layout": "IPY_MODEL_6c4b16527d9348bc90abb552074968f0"
      }
     },
     "6ac31249eeb949eb9db44059a006d109": {
      "model_module": "@jupyter-widgets/controls",
      "model_module_version": "2.0.0",
      "model_name": "VBoxModel",
      "state": {
       "children": [
        "IPY_MODEL_9674570cf59f4b1b8947b07235f6d4e8"
       ],
       "layout": "IPY_MODEL_55aee2acf5a044ffbf4228543a52a132"
      }
     },
     "6afd46f8a6884986af26c2802a66fc05": {
      "model_module": "@jupyter-widgets/controls",
      "model_module_version": "2.0.0",
      "model_name": "HBoxModel",
      "state": {
       "children": [
        "IPY_MODEL_37032e79806d4023a37c85c1baf80d3f"
       ],
       "layout": "IPY_MODEL_65be66914f4a41d2baf6946b11353058"
      }
     },
     "6b1c733a47404924ad33469efde9611e": {
      "model_module": "@jupyter-widgets/base",
      "model_module_version": "2.0.0",
      "model_name": "LayoutModel",
      "state": {
       "width": "100%"
      }
     },
     "6b6c5ced391e4493b10f9fc2d181bcc1": {
      "model_module": "@jupyter-widgets/base",
      "model_module_version": "2.0.0",
      "model_name": "LayoutModel",
      "state": {}
     },
     "6bfaadb7bd5b4e4c89b02beead5adf69": {
      "model_module": "@jupyter-widgets/base",
      "model_module_version": "2.0.0",
      "model_name": "LayoutModel",
      "state": {}
     },
     "6c014b08f1a746ebb259a9a6583edf10": {
      "model_module": "@jupyter-widgets/controls",
      "model_module_version": "2.0.0",
      "model_name": "LabelModel",
      "state": {
       "layout": "IPY_MODEL_e9f9a31591a942a3a002a3e5a23e1950",
       "style": "IPY_MODEL_a35d509c3c394296b350ba2761b1e7d6",
       "value": "Curtain"
      }
     },
     "6c1a5b75dfcf41dfb5d2912799f838fe": {
      "model_module": "@jupyter-widgets/controls",
      "model_module_version": "2.0.0",
      "model_name": "FloatProgressModel",
      "state": {
       "bar_style": "success",
       "layout": "IPY_MODEL_145a697a82bf408bafad224350ba381f",
       "style": "IPY_MODEL_6e70ec4a54e14d26b8b6ac1faea0e1ce",
       "value": 100
      }
     },
     "6c4b16527d9348bc90abb552074968f0": {
      "model_module": "@jupyter-widgets/base",
      "model_module_version": "2.0.0",
      "model_name": "LayoutModel",
      "state": {}
     },
     "6c6fbe75e56646f58aa7fecc7507a98b": {
      "model_module": "@jupyter-widgets/base",
      "model_module_version": "2.0.0",
      "model_name": "LayoutModel",
      "state": {}
     },
     "6cc6ef7391304aa9af5458000d4516d4": {
      "model_module": "@jupyter-widgets/controls",
      "model_module_version": "2.0.0",
      "model_name": "HBoxModel",
      "state": {
       "children": [
        "IPY_MODEL_aca77e9e4de1472d96bcc484d800dbdb",
        "IPY_MODEL_8a5b2d8fdfe64c7f8648ac5373362fe4"
       ],
       "layout": "IPY_MODEL_98f6e51a5cb741069ae162c4f3a1fe04"
      }
     },
     "6d27d26d89a2408da75a290adf1109f6": {
      "model_module": "@jupyter-widgets/controls",
      "model_module_version": "2.0.0",
      "model_name": "LabelStyleModel",
      "state": {
       "description_width": "",
       "font_family": null,
       "font_size": null,
       "font_style": null,
       "font_variant": null,
       "font_weight": null,
       "text_color": null,
       "text_decoration": null
      }
     },
     "6d2e8bed23d14df78ebb0537d65b07fe": {
      "model_module": "@jupyter-widgets/controls",
      "model_module_version": "2.0.0",
      "model_name": "HBoxModel",
      "state": {
       "children": [
        "IPY_MODEL_2bebe458686f4d8781c52ff0f58dad3e"
       ],
       "layout": "IPY_MODEL_088587aaad614b5dae56e15cc5b22ab5"
      }
     },
     "6d612c2a774d4e3e9e75ff1dc6dfaff8": {
      "model_module": "@jupyter-widgets/base",
      "model_module_version": "2.0.0",
      "model_name": "LayoutModel",
      "state": {}
     },
     "6dde92ee9b7a4b979b36dbcb85f12315": {
      "model_module": "@jupyter-widgets/controls",
      "model_module_version": "2.0.0",
      "model_name": "HTMLStyleModel",
      "state": {
       "description_width": "",
       "font_size": null,
       "text_color": null
      }
     },
     "6e08b987a7014b1e82fef7de225df55c": {
      "model_module": "@jupyter-widgets/base",
      "model_module_version": "2.0.0",
      "model_name": "LayoutModel",
      "state": {}
     },
     "6e5ad1331f4448fb941a1651dccedbcf": {
      "model_module": "@jupyter-widgets/controls",
      "model_module_version": "2.0.0",
      "model_name": "VBoxModel",
      "state": {
       "layout": "IPY_MODEL_76eb86b727b0417e9d94538cc9168645"
      }
     },
     "6e6991a700e2439fb0d11bd1b4f6aa18": {
      "model_module": "@jupyter-widgets/base",
      "model_module_version": "2.0.0",
      "model_name": "LayoutModel",
      "state": {
       "width": "100%"
      }
     },
     "6e70ec4a54e14d26b8b6ac1faea0e1ce": {
      "model_module": "@jupyter-widgets/controls",
      "model_module_version": "2.0.0",
      "model_name": "ProgressStyleModel",
      "state": {
       "description_width": ""
      }
     },
     "6e76ba32c28a4fe6ab16d1e55cbe11a6": {
      "model_module": "@jupyter-widgets/controls",
      "model_module_version": "2.0.0",
      "model_name": "VBoxModel",
      "state": {
       "children": [
        "IPY_MODEL_76ed8da3074b4bf3a998f0f3345af8a7"
       ],
       "layout": "IPY_MODEL_1d43b812fd914ea48abfa75f6175bfb0"
      }
     },
     "6ea5136ad3a54dbcac8d9f3731bf858b": {
      "model_module": "@jupyter-widgets/controls",
      "model_module_version": "2.0.0",
      "model_name": "HTMLStyleModel",
      "state": {
       "description_width": "",
       "font_size": null,
       "text_color": null
      }
     },
     "6eb6a7860b174f019d3f41080d8df03f": {
      "model_module": "@jupyter-widgets/controls",
      "model_module_version": "2.0.0",
      "model_name": "VBoxModel",
      "state": {
       "children": [
        "IPY_MODEL_bf56e11b767741d8bd33a1b95c0353de"
       ],
       "layout": "IPY_MODEL_4b1315c0a6ea450396faef2e78ae5df2"
      }
     },
     "6f3e7e7984b743af944031b3e25bab3a": {
      "model_module": "@jupyter-widgets/base",
      "model_module_version": "2.0.0",
      "model_name": "LayoutModel",
      "state": {}
     },
     "6f5e2872647448ea943b5cbb72b4bbb4": {
      "model_module": "ipycanvas",
      "model_module_version": "^0.13",
      "model_name": "CanvasModel",
      "state": {
       "_canvas_manager": "IPY_MODEL_d9a833c7f08b41bd9d6176723d2ff2f4",
       "_model_module_version": "^0.13",
       "_view_module_version": "^0.13",
       "height": 480,
       "layout": "IPY_MODEL_c75e69baa49b46938bf4313e58d3c11b",
       "width": 800
      }
     },
     "6f6a49adcae343b8893bc787bf629579": {
      "model_module": "@jupyter-widgets/controls",
      "model_module_version": "2.0.0",
      "model_name": "VBoxModel",
      "state": {
       "children": [
        "IPY_MODEL_3d46e215ab5a4bdaa5f292b51fb4165c",
        "IPY_MODEL_14dafe8d34774d1dbd066cee202c871c",
        "IPY_MODEL_17a88b38c68a4a559d776198c216b47d"
       ],
       "layout": "IPY_MODEL_7bf3b52a46e24cc3abde17ae765d1369"
      }
     },
     "6f8f92215692451bbaaf5bcd3e94083d": {
      "model_module": "@jupyter-widgets/controls",
      "model_module_version": "2.0.0",
      "model_name": "VBoxModel",
      "state": {
       "layout": "IPY_MODEL_757dfd51658f4c56a4175d8705c6ec8e"
      }
     },
     "7061b6c014414439935c0a95d93ce421": {
      "model_module": "@jupyter-widgets/base",
      "model_module_version": "2.0.0",
      "model_name": "LayoutModel",
      "state": {}
     },
     "7066ebef46d74a2f9443961e834035c1": {
      "model_module": "@jupyter-widgets/base",
      "model_module_version": "2.0.0",
      "model_name": "LayoutModel",
      "state": {}
     },
     "707e5a94fad144b3bb2cac487343cb0b": {
      "model_module": "@jupyter-widgets/base",
      "model_module_version": "2.0.0",
      "model_name": "LayoutModel",
      "state": {}
     },
     "70f2fc5ba31f48349c3c3bc27eaea137": {
      "model_module": "@jupyter-widgets/base",
      "model_module_version": "2.0.0",
      "model_name": "LayoutModel",
      "state": {}
     },
     "70fd774430724b0cb0e9024b38a77ef4": {
      "model_module": "@jupyter-widgets/base",
      "model_module_version": "2.0.0",
      "model_name": "LayoutModel",
      "state": {}
     },
     "7132ed05133045ee98e2281d6299cf81": {
      "model_module": "@jupyter-widgets/controls",
      "model_module_version": "2.0.0",
      "model_name": "HBoxModel",
      "state": {
       "children": [
        "IPY_MODEL_7b0a3033e98a495ebfa73d1ae41f232e"
       ],
       "layout": "IPY_MODEL_e1a8b60a8a33444fb1fcc9c81bb10007"
      }
     },
     "7146033237a54175bc78d84d8f644f24": {
      "model_module": "@jupyter-widgets/base",
      "model_module_version": "2.0.0",
      "model_name": "LayoutModel",
      "state": {}
     },
     "71a9f86257e34f468ef6902b131e7dee": {
      "model_module": "@jupyter-widgets/controls",
      "model_module_version": "2.0.0",
      "model_name": "VBoxModel",
      "state": {
       "children": [
        "IPY_MODEL_b6e7530a213a4f6481174711fd529294",
        "IPY_MODEL_2d2ad80e66cf48448d1e08485256c824",
        "IPY_MODEL_d4527f7f752349c19e041329ebf5931c"
       ],
       "layout": "IPY_MODEL_440ba37f0c354f74be8a6bb1fb085d60"
      }
     },
     "71b8b732425b416eb87a666e2081cb74": {
      "model_module": "@jupyter-widgets/controls",
      "model_module_version": "2.0.0",
      "model_name": "SliderStyleModel",
      "state": {
       "description_width": ""
      }
     },
     "720fe78165d9431f81c7028d9dd179ba": {
      "model_module": "@jupyter-widgets/controls",
      "model_module_version": "2.0.0",
      "model_name": "VBoxModel",
      "state": {
       "children": [
        "IPY_MODEL_b6e3b385407144dba5335f3b671c7bf7"
       ],
       "layout": "IPY_MODEL_29394d782ed04fa992e4020d09c47484"
      }
     },
     "72312aac63374ba88aa0a27b7a724537": {
      "model_module": "@jupyter-widgets/controls",
      "model_module_version": "2.0.0",
      "model_name": "HTMLStyleModel",
      "state": {
       "description_width": "",
       "font_size": null,
       "text_color": null
      }
     },
     "72320486b4ff4760be8c7ae5e5fa005f": {
      "model_module": "@jupyter-widgets/controls",
      "model_module_version": "2.0.0",
      "model_name": "HTMLModel",
      "state": {
       "layout": "IPY_MODEL_eadb697a83e549b88802e57d708d701f",
       "style": "IPY_MODEL_9c6516ae67d04a908abd9ccd44c2daa4",
       "value": "<style>.widget-readout { min-width: 20px !important; }</style>"
      }
     },
     "7279dc244741467d96ea2f7c1e75ec73": {
      "model_module": "@jupyter-widgets/base",
      "model_module_version": "2.0.0",
      "model_name": "LayoutModel",
      "state": {}
     },
     "728da23db8d24c4b924a8b52b8201d04": {
      "model_module": "@jupyter-widgets/base",
      "model_module_version": "2.0.0",
      "model_name": "LayoutModel",
      "state": {}
     },
     "72ae2de07b80461f9f963bc503585c0e": {
      "model_module": "@jupyter-widgets/base",
      "model_module_version": "2.0.0",
      "model_name": "LayoutModel",
      "state": {
       "width": "100%"
      }
     },
     "72d5bf8c9bff4ef8b1f8a792c6fb6ec6": {
      "model_module": "@jupyter-widgets/base",
      "model_module_version": "2.0.0",
      "model_name": "LayoutModel",
      "state": {}
     },
     "73515d5defb14ba1b3c25fba26ba7c7e": {
      "model_module": "@jupyter-widgets/controls",
      "model_module_version": "2.0.0",
      "model_name": "LabelStyleModel",
      "state": {
       "description_width": "",
       "font_family": null,
       "font_size": null,
       "font_style": null,
       "font_variant": null,
       "font_weight": null,
       "text_color": null,
       "text_decoration": null
      }
     },
     "7356eeb0e83e49029cc9c0c71dd1782d": {
      "model_module": "@jupyter-widgets/controls",
      "model_module_version": "2.0.0",
      "model_name": "LabelModel",
      "state": {
       "layout": "IPY_MODEL_00bdf8a131dc4ad89bfde5f59024e749",
       "style": "IPY_MODEL_9a601729f54c419e910e43105638f08d",
       "value": "Curtain"
      }
     },
     "7364b8551ea24eaa8659406312810430": {
      "model_module": "@jupyter-widgets/controls",
      "model_module_version": "2.0.0",
      "model_name": "HTMLStyleModel",
      "state": {
       "description_width": "",
       "font_size": null,
       "text_color": null
      }
     },
     "73658c947fa24b478f0f412b561d5c80": {
      "model_module": "ipycanvas",
      "model_module_version": "^0.13",
      "model_name": "CanvasModel",
      "state": {
       "_canvas_manager": "IPY_MODEL_d9a833c7f08b41bd9d6176723d2ff2f4",
       "_model_module_version": "^0.13",
       "_view_module_version": "^0.13",
       "height": 2845,
       "layout": "IPY_MODEL_0bfa80ad189e422486f3f97896b7abb9",
       "width": 2988
      }
     },
     "73ccec13868a40afb3248e3ef49f19c8": {
      "model_module": "@jupyter-widgets/controls",
      "model_module_version": "2.0.0",
      "model_name": "VBoxModel",
      "state": {
       "layout": "IPY_MODEL_81899075b4b64c1b9d2918bbdedfac2e"
      }
     },
     "7430ba2ba009499db4f59cdb840ef36d": {
      "model_module": "@jupyter-widgets/controls",
      "model_module_version": "2.0.0",
      "model_name": "HBoxModel",
      "state": {
       "children": [
        "IPY_MODEL_284b5f7b52b341478ba299d27be90b39"
       ],
       "layout": "IPY_MODEL_5b5a6d6c27c14746a224168bd23509fb"
      }
     },
     "74328b4be87746d786e86d467181d740": {
      "model_module": "@jupyter-widgets/base",
      "model_module_version": "2.0.0",
      "model_name": "LayoutModel",
      "state": {}
     },
     "744e7416c8374a6c81e49603f1bc016c": {
      "model_module": "@jupyter-widgets/controls",
      "model_module_version": "2.0.0",
      "model_name": "VBoxModel",
      "state": {
       "children": [
        "IPY_MODEL_950e2aa613384770adbd2cc6a700bce1"
       ],
       "layout": "IPY_MODEL_ae9fc58a8ab7401d85574cf9e448de30"
      }
     },
     "7450e242207849b2b8813f40136b3c12": {
      "model_module": "@jupyter-widgets/controls",
      "model_module_version": "2.0.0",
      "model_name": "HTMLStyleModel",
      "state": {
       "description_width": "",
       "font_size": null,
       "text_color": null
      }
     },
     "745ea93830e0424daacb792fde559aa6": {
      "model_module": "@jupyter-widgets/base",
      "model_module_version": "2.0.0",
      "model_name": "LayoutModel",
      "state": {
       "width": "100%"
      }
     },
     "74bf70f1e1874485ba7bdfc226258867": {
      "model_module": "@jupyter-widgets/base",
      "model_module_version": "2.0.0",
      "model_name": "LayoutModel",
      "state": {
       "width": "100%"
      }
     },
     "74c661c8ef2340ec9b54b539ea3f9010": {
      "model_module": "@jupyter-widgets/base",
      "model_module_version": "2.0.0",
      "model_name": "LayoutModel",
      "state": {}
     },
     "74f819f184fd402394d9baaee304606c": {
      "model_module": "@jupyter-widgets/controls",
      "model_module_version": "2.0.0",
      "model_name": "HBoxModel",
      "state": {
       "children": [
        "IPY_MODEL_c419d741bb43429da64b7a4f879b3de6"
       ],
       "layout": "IPY_MODEL_55e4fe0bdb264b35913e6ccf6752ae55"
      }
     },
     "752f0d732c284e99918c02edf08523ff": {
      "model_module": "@jupyter-widgets/base",
      "model_module_version": "2.0.0",
      "model_name": "LayoutModel",
      "state": {}
     },
     "757dfd51658f4c56a4175d8705c6ec8e": {
      "model_module": "@jupyter-widgets/base",
      "model_module_version": "2.0.0",
      "model_name": "LayoutModel",
      "state": {}
     },
     "757ef817ad8d45169069308e00541074": {
      "model_module": "@jupyter-widgets/controls",
      "model_module_version": "2.0.0",
      "model_name": "VBoxModel",
      "state": {
       "layout": "IPY_MODEL_752f0d732c284e99918c02edf08523ff"
      }
     },
     "75ac011ab51e4419956cae7fec430c03": {
      "model_module": "@jupyter-widgets/base",
      "model_module_version": "2.0.0",
      "model_name": "LayoutModel",
      "state": {}
     },
     "75bc56d22e5d4a52ab777ac6eb7b847d": {
      "model_module": "@jupyter-widgets/controls",
      "model_module_version": "2.0.0",
      "model_name": "HTMLStyleModel",
      "state": {
       "description_width": "",
       "font_size": null,
       "text_color": null
      }
     },
     "75d71f88ad10459aa53ce60123f12213": {
      "model_module": "@jupyter-widgets/controls",
      "model_module_version": "2.0.0",
      "model_name": "SliderStyleModel",
      "state": {
       "description_width": ""
      }
     },
     "7603681984f44fd1bf030d36a5c2e10a": {
      "model_module": "@jupyter-widgets/base",
      "model_module_version": "2.0.0",
      "model_name": "LayoutModel",
      "state": {}
     },
     "76233f7d5f9e49c2947997bd1a57caf7": {
      "model_module": "@jupyter-widgets/controls",
      "model_module_version": "2.0.0",
      "model_name": "HBoxModel",
      "state": {
       "children": [
        "IPY_MODEL_263634dcdc8f420f98433b76febfa4f3"
       ],
       "layout": "IPY_MODEL_9b37b93d909b400e990699821e569eac"
      }
     },
     "763b7d72cf604e5783239cb1d2c2aa5f": {
      "model_module": "@jupyter-widgets/controls",
      "model_module_version": "2.0.0",
      "model_name": "HTMLModel",
      "state": {
       "layout": "IPY_MODEL_db12ec2228af406e8cef7b1648533242",
       "style": "IPY_MODEL_230081c912964232b7d76182458464bd",
       "value": "<style>.widget-readout { min-width: 20px !important; }</style>"
      }
     },
     "7640bfbc920f489481495114047b2e08": {
      "model_module": "@jupyter-widgets/controls",
      "model_module_version": "2.0.0",
      "model_name": "IntSliderModel",
      "state": {
       "behavior": "drag-tap",
       "layout": "IPY_MODEL_74bf70f1e1874485ba7bdfc226258867",
       "max": 500,
       "style": "IPY_MODEL_c1b2e55a7e6f416db1835b51fbd1098b",
       "value": 189
      }
     },
     "7643548ebb084ced9b1dabdb550c6e3a": {
      "model_module": "ipycanvas",
      "model_module_version": "^0.13",
      "model_name": "CanvasModel",
      "state": {
       "_canvas_manager": "IPY_MODEL_d9a833c7f08b41bd9d6176723d2ff2f4",
       "_model_module_version": "^0.13",
       "_view_module_version": "^0.13",
       "height": 900,
       "layout": "IPY_MODEL_e014c6f5881f4b05bdb4f99a490d4f3d",
       "width": 900
      }
     },
     "76eb86b727b0417e9d94538cc9168645": {
      "model_module": "@jupyter-widgets/base",
      "model_module_version": "2.0.0",
      "model_name": "LayoutModel",
      "state": {}
     },
     "76ed8da3074b4bf3a998f0f3345af8a7": {
      "model_module": "@jupyter-widgets/controls",
      "model_module_version": "2.0.0",
      "model_name": "VBoxModel",
      "state": {
       "children": [
        "IPY_MODEL_47b183503ce249d59a4d7693d98c6adc",
        "IPY_MODEL_757ef817ad8d45169069308e00541074",
        "IPY_MODEL_22ec1a1ccd784e6397d43e028c749874"
       ],
       "layout": "IPY_MODEL_b5f21938b4c9489ebf2e83e9ec6cd3bb"
      }
     },
     "77347363bb1f4b6785e9f58e32998ca5": {
      "model_module": "@jupyter-widgets/controls",
      "model_module_version": "2.0.0",
      "model_name": "IntSliderModel",
      "state": {
       "behavior": "drag-tap",
       "layout": "IPY_MODEL_9e41462bc964484fb0e1cb65d946b312",
       "max": 500,
       "style": "IPY_MODEL_bd9d55c84a414526a65938a568ab5c3c",
       "value": 250
      }
     },
     "773932273e8743d8929c17204190325d": {
      "model_module": "@jupyter-widgets/controls",
      "model_module_version": "2.0.0",
      "model_name": "VBoxModel",
      "state": {
       "layout": "IPY_MODEL_e37a5feb7c0d438888f64a6a546d5524"
      }
     },
     "775f4b0fa47940079f985f13080fc793": {
      "model_module": "ipycanvas",
      "model_module_version": "^0.13",
      "model_name": "CanvasModel",
      "state": {
       "_canvas_manager": "IPY_MODEL_d9a833c7f08b41bd9d6176723d2ff2f4",
       "_model_module_version": "^0.13",
       "_view_module_version": "^0.13",
       "height": 900,
       "layout": "IPY_MODEL_c6846ab9932642a0bfb0403a7bfff925",
       "width": 900
      }
     },
     "779cc408d33f4aedb6b4d2f2ec29ad02": {
      "model_module": "@jupyter-widgets/base",
      "model_module_version": "2.0.0",
      "model_name": "LayoutModel",
      "state": {
       "width": "100%"
      }
     },
     "7871520e999c48c3bcbc46ee0dea7026": {
      "model_module": "@jupyter-widgets/controls",
      "model_module_version": "2.0.0",
      "model_name": "SliderStyleModel",
      "state": {
       "description_width": ""
      }
     },
     "78f9a7408ac74f2c832448e037827c7f": {
      "model_module": "@jupyter-widgets/base",
      "model_module_version": "2.0.0",
      "model_name": "LayoutModel",
      "state": {}
     },
     "790c8f488fb54790a4be3330166203e6": {
      "model_module": "ipycanvas",
      "model_module_version": "^0.13",
      "model_name": "CanvasModel",
      "state": {
       "_canvas_manager": "IPY_MODEL_d9a833c7f08b41bd9d6176723d2ff2f4",
       "_model_module_version": "^0.13",
       "_view_module_version": "^0.13",
       "height": 480,
       "layout": "IPY_MODEL_4fd837500d51430ca15ff3d925926f6a",
       "width": 800
      }
     },
     "79126c664c9f4fcba4893b16b4d9276f": {
      "model_module": "@jupyter-widgets/controls",
      "model_module_version": "2.0.0",
      "model_name": "VBoxModel",
      "state": {
       "children": [
        "IPY_MODEL_195241110e86404fa875f8cc346c5fdd"
       ],
       "layout": "IPY_MODEL_33f31d46bb8a4696b1d166b371847966"
      }
     },
     "793d448a9b82465aabfe1665385296a7": {
      "model_module": "@jupyter-widgets/controls",
      "model_module_version": "2.0.0",
      "model_name": "VBoxModel",
      "state": {
       "layout": "IPY_MODEL_024144b85684422e80368c9e5d0ad8a6"
      }
     },
     "7988f3a3a4ab47bf808207024cc262f2": {
      "model_module": "@jupyter-widgets/controls",
      "model_module_version": "2.0.0",
      "model_name": "HTMLModel",
      "state": {
       "layout": "IPY_MODEL_0e87a94c12a4427ca5270252f4cdcd79",
       "style": "IPY_MODEL_d9dd8151f84744369ca3ce059c521d6a",
       "value": "<style>.widget-readout { min-width: 20px !important; }</style>"
      }
     },
     "799411b375554d72976adbfa679f65d4": {
      "model_module": "@jupyter-widgets/base",
      "model_module_version": "2.0.0",
      "model_name": "LayoutModel",
      "state": {}
     },
     "79b2c556e5fe4e549e20359f10c9a598": {
      "model_module": "@jupyter-widgets/base",
      "model_module_version": "2.0.0",
      "model_name": "LayoutModel",
      "state": {}
     },
     "79b82edb8a944c8295113f84dfb8797d": {
      "model_module": "@jupyter-widgets/base",
      "model_module_version": "2.0.0",
      "model_name": "LayoutModel",
      "state": {}
     },
     "7a21d00b0c5b4f49ae24caa328126121": {
      "model_module": "@jupyter-widgets/base",
      "model_module_version": "2.0.0",
      "model_name": "LayoutModel",
      "state": {}
     },
     "7a9be27490c8481481e8356d75fc4a61": {
      "model_module": "@jupyter-widgets/base",
      "model_module_version": "2.0.0",
      "model_name": "LayoutModel",
      "state": {}
     },
     "7ad62b11a3c248beb533f840cb2aa784": {
      "model_module": "@jupyter-widgets/controls",
      "model_module_version": "2.0.0",
      "model_name": "SliderStyleModel",
      "state": {
       "description_width": ""
      }
     },
     "7ae944dc55f44f3cb1ea72ea73928077": {
      "model_module": "@jupyter-widgets/base",
      "model_module_version": "2.0.0",
      "model_name": "LayoutModel",
      "state": {}
     },
     "7b01d995494f44aaaa1e02b509175470": {
      "model_module": "@jupyter-widgets/controls",
      "model_module_version": "2.0.0",
      "model_name": "HBoxModel",
      "state": {
       "children": [
        "IPY_MODEL_b478b593f0fa4f63b92da87b047c52fc"
       ],
       "layout": "IPY_MODEL_64a1954b2a114fa99ec9ab3a2ad525a5"
      }
     },
     "7b07329a74c142b482248e2b65d59050": {
      "model_module": "@jupyter-widgets/base",
      "model_module_version": "2.0.0",
      "model_name": "LayoutModel",
      "state": {}
     },
     "7b0a3033e98a495ebfa73d1ae41f232e": {
      "model_module": "@jupyter-widgets/controls",
      "model_module_version": "2.0.0",
      "model_name": "VBoxModel",
      "state": {
       "children": [
        "IPY_MODEL_193324a076244993afbf2db80c940b0f"
       ],
       "layout": "IPY_MODEL_8d9c4a29fbff4d788a792b6937414dfc"
      }
     },
     "7b4e6223699945dcbe8350e766b2ef73": {
      "model_module": "@jupyter-widgets/controls",
      "model_module_version": "2.0.0",
      "model_name": "HBoxModel",
      "state": {
       "children": [
        "IPY_MODEL_ed8f27daa4154c34b3ba656adaef701f"
       ],
       "layout": "IPY_MODEL_09f24270fb864385b54fc6342e4bebff"
      }
     },
     "7b52e9c049c248c3bbed444ad2091fdc": {
      "model_module": "@jupyter-widgets/controls",
      "model_module_version": "2.0.0",
      "model_name": "LabelModel",
      "state": {
       "layout": "IPY_MODEL_fb4ed6e4eb0b423cac379d502719ef9e",
       "style": "IPY_MODEL_881ce3453c2a465f8a259008570b390f",
       "value": "Curtain"
      }
     },
     "7bf3b52a46e24cc3abde17ae765d1369": {
      "model_module": "@jupyter-widgets/base",
      "model_module_version": "2.0.0",
      "model_name": "LayoutModel",
      "state": {}
     },
     "7c1bd393fbc2473a8b0660a7e41e5eb8": {
      "model_module": "ipycanvas",
      "model_module_version": "^0.13",
      "model_name": "CanvasModel",
      "state": {
       "_canvas_manager": "IPY_MODEL_d9a833c7f08b41bd9d6176723d2ff2f4",
       "_model_module_version": "^0.13",
       "_view_module_version": "^0.13",
       "height": 400,
       "layout": "IPY_MODEL_7603681984f44fd1bf030d36a5c2e10a",
       "width": 400
      }
     },
     "7c3bca9cacdb4fc0a8ac67542a14b0cb": {
      "model_module": "@jupyter-widgets/base",
      "model_module_version": "2.0.0",
      "model_name": "LayoutModel",
      "state": {}
     },
     "7c3e273572c04f0096b61fb6cca4c3c9": {
      "model_module": "@jupyter-widgets/controls",
      "model_module_version": "2.0.0",
      "model_name": "VBoxModel",
      "state": {
       "layout": "IPY_MODEL_85be379580fd478aa84eaee055b26098"
      }
     },
     "7c4100d020b340faafd9b56d84d9f7a1": {
      "model_module": "@jupyter-widgets/controls",
      "model_module_version": "2.0.0",
      "model_name": "IntSliderModel",
      "state": {
       "behavior": "drag-tap",
       "layout": "IPY_MODEL_f12d5fa73bf74ec1b3c71ecc5dec95fb",
       "max": 1992,
       "style": "IPY_MODEL_48e18591ff8946c68d2b81c429953ea5",
       "value": 996
      }
     },
     "7c70e0c8e54d426db6712e2d464b4a01": {
      "model_module": "@jupyter-widgets/controls",
      "model_module_version": "2.0.0",
      "model_name": "HTMLModel",
      "state": {
       "layout": "IPY_MODEL_e94e02d8b0a1437dacf3f3a0cf4a829a",
       "style": "IPY_MODEL_304241a197564e10b71cd70f25f157d2",
       "value": "<style>.widget-readout { min-width: 20px !important; }</style>"
      }
     },
     "7ca4e2def55b46ae8119d6dd6ccc63df": {
      "model_module": "@jupyter-widgets/base",
      "model_module_version": "2.0.0",
      "model_name": "LayoutModel",
      "state": {}
     },
     "7d1d0f41acf840e280b60e38a68bfb8a": {
      "model_module": "@jupyter-widgets/controls",
      "model_module_version": "2.0.0",
      "model_name": "HTMLModel",
      "state": {
       "layout": "IPY_MODEL_4bcb5fb3606d4e2b93c380482bc7dd72",
       "style": "IPY_MODEL_c3dbd0b086054c2299696e7734ce2eda",
       "value": " 100/100 [04:30&lt;00:00]"
      }
     },
     "7d1f18f05ea24a86a96fe3c749fc53b9": {
      "model_module": "@jupyter-widgets/controls",
      "model_module_version": "2.0.0",
      "model_name": "HTMLModel",
      "state": {
       "layout": "IPY_MODEL_e03da3cddccd490d94d73ebe60821c5c",
       "style": "IPY_MODEL_4cf5341c37bc4731a9a1fdd2b42330ae",
       "value": "<style>.widget-readout { min-width: 20px !important; }</style>"
      }
     },
     "7d21cfb157944d06a8e1e8412b77f415": {
      "model_module": "@jupyter-widgets/base",
      "model_module_version": "2.0.0",
      "model_name": "LayoutModel",
      "state": {}
     },
     "7d2f4e870d74488eaba3e1f02e829d81": {
      "model_module": "@jupyter-widgets/base",
      "model_module_version": "2.0.0",
      "model_name": "LayoutModel",
      "state": {}
     },
     "7da978e37fc147eb8cc50e6dec7de3db": {
      "model_module": "@jupyter-widgets/base",
      "model_module_version": "2.0.0",
      "model_name": "LayoutModel",
      "state": {}
     },
     "7de9ee7fea2546e7bdee118798062458": {
      "model_module": "@jupyter-widgets/base",
      "model_module_version": "2.0.0",
      "model_name": "LayoutModel",
      "state": {}
     },
     "7e0783ca41c24288ab6d5522d23787a9": {
      "model_module": "@jupyter-widgets/controls",
      "model_module_version": "2.0.0",
      "model_name": "LabelStyleModel",
      "state": {
       "description_width": "",
       "font_family": null,
       "font_size": null,
       "font_style": null,
       "font_variant": null,
       "font_weight": null,
       "text_color": null,
       "text_decoration": null
      }
     },
     "7e6fc9e1233b4c3a877262c2b32c5226": {
      "model_module": "@jupyter-widgets/controls",
      "model_module_version": "2.0.0",
      "model_name": "HTMLStyleModel",
      "state": {
       "description_width": "",
       "font_size": null,
       "text_color": null
      }
     },
     "7e8ae39bb1924ef08b6dd14406396968": {
      "model_module": "@jupyter-widgets/controls",
      "model_module_version": "2.0.0",
      "model_name": "LabelModel",
      "state": {
       "layout": "IPY_MODEL_c34c479d15754b028913fa3921aaf6a2",
       "style": "IPY_MODEL_5b1d5dcb19e5492482a1bd73af4cdfa8",
       "value": "Curtain"
      }
     },
     "7ea8a276c24e46bb8a10618cf1176d8d": {
      "model_module": "@jupyter-widgets/controls",
      "model_module_version": "2.0.0",
      "model_name": "IntSliderModel",
      "state": {
       "behavior": "drag-tap",
       "layout": "IPY_MODEL_4973add882ca428885f81880d90e184c",
       "max": 500,
       "style": "IPY_MODEL_bbdcba12f4b048428637a1ea2e0d9182",
       "value": 126
      }
     },
     "7f0ccdb3973a4db28e8b831cc7565a88": {
      "model_module": "@jupyter-widgets/base",
      "model_module_version": "2.0.0",
      "model_name": "LayoutModel",
      "state": {}
     },
     "7f2082895d44419e8ea784209d9f08cf": {
      "model_module": "@jupyter-widgets/base",
      "model_module_version": "2.0.0",
      "model_name": "LayoutModel",
      "state": {}
     },
     "7f2d66e6d0424287a3187c738292f6e8": {
      "model_module": "@jupyter-widgets/controls",
      "model_module_version": "2.0.0",
      "model_name": "HTMLModel",
      "state": {
       "layout": "IPY_MODEL_95a7f07f024348178a6c870f6999ec58",
       "style": "IPY_MODEL_2a5a9cac644e4863b970acd3de1b0dfb",
       "value": "<style>.widget-readout { min-width: 20px !important; }</style>"
      }
     },
     "7f4cab8d316f4728b4815abe62d2372f": {
      "model_module": "@jupyter-widgets/controls",
      "model_module_version": "2.0.0",
      "model_name": "HTMLStyleModel",
      "state": {
       "description_width": "",
       "font_size": null,
       "text_color": null
      }
     },
     "7f56a07331f74e619b56cba1d4a1bfc0": {
      "model_module": "@jupyter-widgets/controls",
      "model_module_version": "2.0.0",
      "model_name": "HBoxModel",
      "state": {
       "children": [
        "IPY_MODEL_acd7f5f5ba5e45b4a0e2c1cb47920dd9",
        "IPY_MODEL_dbe02cda82fa4e84b71e5b31fe1412c3",
        "IPY_MODEL_abee6bb65eb64299aadba85b19e357f3"
       ],
       "layout": "IPY_MODEL_7061b6c014414439935c0a95d93ce421"
      }
     },
     "7f74e367bdc54955a7c46bf56d3108c5": {
      "model_module": "@jupyter-widgets/base",
      "model_module_version": "2.0.0",
      "model_name": "LayoutModel",
      "state": {}
     },
     "7fa3e7c252204f81b8b311842f079e19": {
      "model_module": "@jupyter-widgets/controls",
      "model_module_version": "2.0.0",
      "model_name": "HBoxModel",
      "state": {
       "children": [
        "IPY_MODEL_6e76ba32c28a4fe6ab16d1e55cbe11a6"
       ],
       "layout": "IPY_MODEL_47f7447f81c941c499c69efe71ea5564"
      }
     },
     "7fb8ad34cd5e48e98d56f498f345d196": {
      "model_module": "@jupyter-widgets/controls",
      "model_module_version": "2.0.0",
      "model_name": "LabelModel",
      "state": {
       "layout": "IPY_MODEL_fd25cfc64fc04011890963d90085ccb7",
       "style": "IPY_MODEL_01eec025a3f740438c0aad5e9b443045",
       "value": "Curtain"
      }
     },
     "7fd796aa168240dfab571b7d6001ab89": {
      "model_module": "@jupyter-widgets/controls",
      "model_module_version": "2.0.0",
      "model_name": "VBoxModel",
      "state": {
       "children": [
        "IPY_MODEL_af4f79625e5f44848271618f0ae2186e"
       ],
       "layout": "IPY_MODEL_23475f3c90f24922a6cc50c719515af9"
      }
     },
     "7fdc4ccccc854e839431de2e91bb2bc0": {
      "model_module": "@jupyter-widgets/controls",
      "model_module_version": "2.0.0",
      "model_name": "HBoxModel",
      "state": {
       "children": [
        "IPY_MODEL_66d58bf651b847b38f3b7d2b6b89628a",
        "IPY_MODEL_6c1a5b75dfcf41dfb5d2912799f838fe",
        "IPY_MODEL_4ee79d65f849443d9644ba7486953147"
       ],
       "layout": "IPY_MODEL_ed8c71390696428c89d1bbf60935be10"
      }
     },
     "7fdd24183f1b41b49355aaee5047e566": {
      "model_module": "@jupyter-widgets/controls",
      "model_module_version": "2.0.0",
      "model_name": "VBoxModel",
      "state": {
       "children": [
        "IPY_MODEL_b8dab3f70ace4325adc4ed548a31e15c"
       ],
       "layout": "IPY_MODEL_74c661c8ef2340ec9b54b539ea3f9010"
      }
     },
     "7ffe241fe61146b7833b170ac53a61c5": {
      "model_module": "@jupyter-widgets/controls",
      "model_module_version": "2.0.0",
      "model_name": "HBoxModel",
      "state": {
       "children": [
        "IPY_MODEL_89c9cded1aa844c6ac722b5f21187942"
       ],
       "layout": "IPY_MODEL_1b13c26caca940de85c132541fedb0e4"
      }
     },
     "80110b090e314ac49f8d0dcb254c3704": {
      "model_module": "@jupyter-widgets/controls",
      "model_module_version": "2.0.0",
      "model_name": "HTMLStyleModel",
      "state": {
       "description_width": "",
       "font_size": null,
       "text_color": null
      }
     },
     "804b482f3a0c4260b62c5551af766303": {
      "model_module": "@jupyter-widgets/base",
      "model_module_version": "2.0.0",
      "model_name": "LayoutModel",
      "state": {}
     },
     "806a4020cee749649ecb94f7dfda437f": {
      "model_module": "@jupyter-widgets/base",
      "model_module_version": "2.0.0",
      "model_name": "LayoutModel",
      "state": {}
     },
     "8085c18cee014074af6bc4c1b65edc4f": {
      "model_module": "@jupyter-widgets/base",
      "model_module_version": "2.0.0",
      "model_name": "LayoutModel",
      "state": {}
     },
     "810bb27cc451488da2161e847085cfbf": {
      "model_module": "@jupyter-widgets/controls",
      "model_module_version": "2.0.0",
      "model_name": "VBoxModel",
      "state": {
       "children": [
        "IPY_MODEL_f315a8d79ed44a2c836a9be1608e6143"
       ],
       "layout": "IPY_MODEL_f3bfc0282c3a45288f1b2a543136ec7c"
      }
     },
     "81293c9d6ab14fddbcde8170cad5fa20": {
      "model_module": "@jupyter-widgets/base",
      "model_module_version": "2.0.0",
      "model_name": "LayoutModel",
      "state": {}
     },
     "813669b213db4709921db69ab508d9ae": {
      "model_module": "@jupyter-widgets/controls",
      "model_module_version": "2.0.0",
      "model_name": "VBoxModel",
      "state": {
       "children": [
        "IPY_MODEL_552fc35a6f5946e28fb7a9f651d94ed4"
       ],
       "layout": "IPY_MODEL_8259ece9ebf94e78a77e3b7287420916"
      }
     },
     "8150d32875bb460480e5874ce1873475": {
      "model_module": "@jupyter-widgets/base",
      "model_module_version": "2.0.0",
      "model_name": "LayoutModel",
      "state": {}
     },
     "815ecc5e05c748e88bba8cae4643103b": {
      "model_module": "@jupyter-widgets/base",
      "model_module_version": "2.0.0",
      "model_name": "LayoutModel",
      "state": {}
     },
     "81899075b4b64c1b9d2918bbdedfac2e": {
      "model_module": "@jupyter-widgets/base",
      "model_module_version": "2.0.0",
      "model_name": "LayoutModel",
      "state": {}
     },
     "81925697e576433dbb966a7466eb52db": {
      "model_module": "@jupyter-widgets/controls",
      "model_module_version": "2.0.0",
      "model_name": "SliderStyleModel",
      "state": {
       "description_width": ""
      }
     },
     "82033ff3947649bda972ac6e39c72ee8": {
      "model_module": "@jupyter-widgets/base",
      "model_module_version": "2.0.0",
      "model_name": "LayoutModel",
      "state": {}
     },
     "820a3a86d8094d3bba4cc57304868d7e": {
      "model_module": "@jupyter-widgets/controls",
      "model_module_version": "2.0.0",
      "model_name": "HBoxModel",
      "state": {
       "children": [
        "IPY_MODEL_e9c1702dc7ac46498009634b812af8b9",
        "IPY_MODEL_33e0346b163b45b8b30b0851c549ad8b"
       ],
       "layout": "IPY_MODEL_b632e2d4346a48eea5b8f5f2b7425ca6"
      }
     },
     "8259ece9ebf94e78a77e3b7287420916": {
      "model_module": "@jupyter-widgets/base",
      "model_module_version": "2.0.0",
      "model_name": "LayoutModel",
      "state": {}
     },
     "826c91f315604b8ba578e8d552a62cdd": {
      "model_module": "@jupyter-widgets/controls",
      "model_module_version": "2.0.0",
      "model_name": "HBoxModel",
      "state": {
       "children": [
        "IPY_MODEL_9e1bb4d563de4236b7cc9777a671247a"
       ],
       "layout": "IPY_MODEL_c0ce44d3cc5e475d801b7853cb068f60"
      }
     },
     "8298f6d088764df7a06b8009635de61d": {
      "model_module": "@jupyter-widgets/controls",
      "model_module_version": "2.0.0",
      "model_name": "VBoxModel",
      "state": {
       "children": [
        "IPY_MODEL_826c91f315604b8ba578e8d552a62cdd",
        "IPY_MODEL_840d372109a4466f858ada8544d58fdf",
        "IPY_MODEL_d3a28431e5bc4541b465e16266aaf526"
       ],
       "layout": "IPY_MODEL_e974037b352143809a190dce7b9d82b4"
      }
     },
     "82a2013e200d4c8883fdeda81f63c54d": {
      "model_module": "@jupyter-widgets/controls",
      "model_module_version": "2.0.0",
      "model_name": "VBoxModel",
      "state": {
       "children": [
        "IPY_MODEL_cea2466ec5264fcdaf9a233e0907b4c9",
        "IPY_MODEL_54427ecec5ef49a78ae25bd9198c3fc1"
       ],
       "layout": "IPY_MODEL_cc14de23df104ac086eb77ff1147d771"
      }
     },
     "82a9692e8fe8429d8a351f44b4b3f803": {
      "model_module": "@jupyter-widgets/base",
      "model_module_version": "2.0.0",
      "model_name": "LayoutModel",
      "state": {}
     },
     "82b86616ffd24af6bb96b4e531a41c18": {
      "model_module": "@jupyter-widgets/base",
      "model_module_version": "2.0.0",
      "model_name": "LayoutModel",
      "state": {}
     },
     "82c8b0e87aee484fb869882d4f4309be": {
      "model_module": "@jupyter-widgets/base",
      "model_module_version": "2.0.0",
      "model_name": "LayoutModel",
      "state": {}
     },
     "83046c3780fe47da988f28d7098d5570": {
      "model_module": "@jupyter-widgets/controls",
      "model_module_version": "2.0.0",
      "model_name": "HBoxModel",
      "state": {
       "children": [
        "IPY_MODEL_188dfb8f1b1b4867a0a27cfe29f6e57f"
       ],
       "layout": "IPY_MODEL_6d612c2a774d4e3e9e75ff1dc6dfaff8"
      }
     },
     "834a93c9398c491ca762ae383451f386": {
      "model_module": "@jupyter-widgets/base",
      "model_module_version": "2.0.0",
      "model_name": "LayoutModel",
      "state": {}
     },
     "835edc3dda134b79be95a131f2efaadc": {
      "model_module": "@jupyter-widgets/controls",
      "model_module_version": "2.0.0",
      "model_name": "VBoxModel",
      "state": {
       "children": [
        "IPY_MODEL_4cc65f60abf64e14900f9813c25f94d0"
       ],
       "layout": "IPY_MODEL_dad07add1d8c43b399169de118f93fc7"
      }
     },
     "836da47585494a1f965a7f913a69c140": {
      "model_module": "@jupyter-widgets/base",
      "model_module_version": "2.0.0",
      "model_name": "LayoutModel",
      "state": {}
     },
     "8385215bf7a741c1afe4ed75c3562a80": {
      "model_module": "@jupyter-widgets/base",
      "model_module_version": "2.0.0",
      "model_name": "LayoutModel",
      "state": {}
     },
     "83fea9497c914fecb873f88361fe801a": {
      "model_module": "@jupyter-widgets/base",
      "model_module_version": "2.0.0",
      "model_name": "LayoutModel",
      "state": {
       "width": "100%"
      }
     },
     "8401858af69b45d5945c5752b1abcb3e": {
      "model_module": "@jupyter-widgets/controls",
      "model_module_version": "2.0.0",
      "model_name": "HBoxModel",
      "state": {
       "children": [
        "IPY_MODEL_0b5273e6510c47059711a864228bcc17"
       ],
       "layout": "IPY_MODEL_a6271ea3b7ef4ad384fe796898caeaff"
      }
     },
     "840d372109a4466f858ada8544d58fdf": {
      "model_module": "@jupyter-widgets/controls",
      "model_module_version": "2.0.0",
      "model_name": "VBoxModel",
      "state": {
       "layout": "IPY_MODEL_481a0793ef74490390ada6f38ea02e7b"
      }
     },
     "8429f619d8d84dddb9cbd223bdebd2cc": {
      "model_module": "@jupyter-widgets/controls",
      "model_module_version": "2.0.0",
      "model_name": "IntSliderModel",
      "state": {
       "behavior": "drag-tap",
       "layout": "IPY_MODEL_8cfc565c9d804e69b7cdfa3da623d564",
       "max": 1000,
       "style": "IPY_MODEL_95935cee1a5441c386218bca86de4fb4",
       "value": 500
      }
     },
     "843c4e3ceacd46b8ad720b1534b1e5e4": {
      "model_module": "@jupyter-widgets/base",
      "model_module_version": "2.0.0",
      "model_name": "LayoutModel",
      "state": {}
     },
     "8486283cb4de4a38abc78e242acc6643": {
      "model_module": "@jupyter-widgets/base",
      "model_module_version": "2.0.0",
      "model_name": "LayoutModel",
      "state": {}
     },
     "8489df5d14434468bd5cce4a16f65147": {
      "model_module": "@jupyter-widgets/controls",
      "model_module_version": "2.0.0",
      "model_name": "VBoxModel",
      "state": {
       "children": [
        "IPY_MODEL_e4bae3456f7a452890e20263cba52cc8",
        "IPY_MODEL_5f6ddd978ece4edbad3ebb1f5bdadded"
       ],
       "layout": "IPY_MODEL_5e7c132a32664b85bec09c27511a4cc9"
      }
     },
     "84901300d89d416eb52d1cb6b247e9d3": {
      "model_module": "@jupyter-widgets/controls",
      "model_module_version": "2.0.0",
      "model_name": "LabelStyleModel",
      "state": {
       "description_width": "",
       "font_family": null,
       "font_size": null,
       "font_style": null,
       "font_variant": null,
       "font_weight": null,
       "text_color": null,
       "text_decoration": null
      }
     },
     "849c889c0e8046cc808b2b73d589d6ba": {
      "model_module": "@jupyter-widgets/base",
      "model_module_version": "2.0.0",
      "model_name": "LayoutModel",
      "state": {}
     },
     "85017a251bb74182a23739b11401d4a8": {
      "model_module": "ipycanvas",
      "model_module_version": "^0.13",
      "model_name": "CanvasModel",
      "state": {
       "_canvas_manager": "IPY_MODEL_d9a833c7f08b41bd9d6176723d2ff2f4",
       "_model_module_version": "^0.13",
       "_view_module_version": "^0.13",
       "height": 900,
       "layout": "IPY_MODEL_44fbc39858ae45aa94e6986a3576e25d",
       "width": 900
      }
     },
     "854d11c4b44a49e28211ea531d457000": {
      "model_module": "@jupyter-widgets/base",
      "model_module_version": "2.0.0",
      "model_name": "LayoutModel",
      "state": {}
     },
     "854ffb14e08540e794ed96f170b7e857": {
      "model_module": "@jupyter-widgets/base",
      "model_module_version": "2.0.0",
      "model_name": "LayoutModel",
      "state": {}
     },
     "8557ca014f1d4805856abce22e5d6619": {
      "model_module": "@jupyter-widgets/base",
      "model_module_version": "2.0.0",
      "model_name": "LayoutModel",
      "state": {}
     },
     "85608eaef5d3444ea5a8bd28a9d5bc14": {
      "model_module": "@jupyter-widgets/base",
      "model_module_version": "2.0.0",
      "model_name": "LayoutModel",
      "state": {}
     },
     "85790ac23040416da283fbb08ed55a89": {
      "model_module": "@jupyter-widgets/base",
      "model_module_version": "2.0.0",
      "model_name": "LayoutModel",
      "state": {}
     },
     "85babf525ca94f8186e97f247d42b6d1": {
      "model_module": "@jupyter-widgets/controls",
      "model_module_version": "2.0.0",
      "model_name": "VBoxModel",
      "state": {
       "children": [
        "IPY_MODEL_2748f2606d594da0b387f170eef9f6e4",
        "IPY_MODEL_c1f14a53b242456b913e06cbdedf676f"
       ],
       "layout": "IPY_MODEL_8d98f235135c42da938d9a396f188705"
      }
     },
     "85be379580fd478aa84eaee055b26098": {
      "model_module": "@jupyter-widgets/base",
      "model_module_version": "2.0.0",
      "model_name": "LayoutModel",
      "state": {}
     },
     "85d5f8c31e924e7aa47646dddcf0c000": {
      "model_module": "@jupyter-widgets/base",
      "model_module_version": "2.0.0",
      "model_name": "LayoutModel",
      "state": {}
     },
     "85e52a2b6e2943d9b3fd88ca0bd0a3eb": {
      "model_module": "@jupyter-widgets/base",
      "model_module_version": "2.0.0",
      "model_name": "LayoutModel",
      "state": {}
     },
     "868e61cc96f648ed8453d77ad414b72c": {
      "model_module": "@jupyter-widgets/controls",
      "model_module_version": "2.0.0",
      "model_name": "HBoxModel",
      "state": {
       "children": [
        "IPY_MODEL_4608850c25f44c6d874977bc69eeffa8",
        "IPY_MODEL_50297226c30c4e1691638d2635f4b327"
       ],
       "layout": "IPY_MODEL_f736e3d6958a444099646fb03cddf8b5"
      }
     },
     "87059a6a92374847970039f413722b2a": {
      "model_module": "@jupyter-widgets/controls",
      "model_module_version": "2.0.0",
      "model_name": "VBoxModel",
      "state": {
       "children": [
        "IPY_MODEL_7c1bd393fbc2473a8b0660a7e41e5eb8"
       ],
       "layout": "IPY_MODEL_8a538a7067fe469e8e7f9317ae3146fc"
      }
     },
     "87502cd03f154f4bb76b72c3e94f6f9f": {
      "model_module": "@jupyter-widgets/controls",
      "model_module_version": "2.0.0",
      "model_name": "LabelStyleModel",
      "state": {
       "description_width": "",
       "font_family": null,
       "font_size": null,
       "font_style": null,
       "font_variant": null,
       "font_weight": null,
       "text_color": null,
       "text_decoration": null
      }
     },
     "876240f3a6c4450892caeebc12e1c06f": {
      "model_module": "@jupyter-widgets/base",
      "model_module_version": "2.0.0",
      "model_name": "LayoutModel",
      "state": {}
     },
     "876681b2f43d4b55b7ae4c50f913cd3f": {
      "model_module": "@jupyter-widgets/controls",
      "model_module_version": "2.0.0",
      "model_name": "HTMLStyleModel",
      "state": {
       "description_width": "",
       "font_size": null,
       "text_color": null
      }
     },
     "881ce3453c2a465f8a259008570b390f": {
      "model_module": "@jupyter-widgets/controls",
      "model_module_version": "2.0.0",
      "model_name": "LabelStyleModel",
      "state": {
       "description_width": "",
       "font_family": null,
       "font_size": null,
       "font_style": null,
       "font_variant": null,
       "font_weight": null,
       "text_color": null,
       "text_decoration": null
      }
     },
     "883a1992085e4d23ba76f465927ffeaf": {
      "model_module": "@jupyter-widgets/base",
      "model_module_version": "2.0.0",
      "model_name": "LayoutModel",
      "state": {}
     },
     "8894e5a0fbef48288b427b6d50d47202": {
      "model_module": "@jupyter-widgets/base",
      "model_module_version": "2.0.0",
      "model_name": "LayoutModel",
      "state": {}
     },
     "8968e51f82f94d2eb570ac6e2d0389d4": {
      "model_module": "@jupyter-widgets/base",
      "model_module_version": "2.0.0",
      "model_name": "LayoutModel",
      "state": {}
     },
     "898079abd3894653ba68f4a306fda96b": {
      "model_module": "@jupyter-widgets/controls",
      "model_module_version": "2.0.0",
      "model_name": "IntSliderModel",
      "state": {
       "behavior": "drag-tap",
       "layout": "IPY_MODEL_36e493a7050c434d9912e83671c47bd6",
       "max": 500,
       "style": "IPY_MODEL_1a7b040195ed4305a624325c292a1af2",
       "value": 156
      }
     },
     "89c9cded1aa844c6ac722b5f21187942": {
      "model_module": "@jupyter-widgets/controls",
      "model_module_version": "2.0.0",
      "model_name": "VBoxModel",
      "state": {
       "children": [
        "IPY_MODEL_197b0d98c7c0497a9131b88e53b290d6"
       ],
       "layout": "IPY_MODEL_4f49782a7df74044af727ab5d2d595d6"
      }
     },
     "89f6a19a06b04dc4bc5a790a53ab20bb": {
      "model_module": "@jupyter-widgets/base",
      "model_module_version": "2.0.0",
      "model_name": "LayoutModel",
      "state": {}
     },
     "8a088a0c8fe64cfd853ea54a036c252d": {
      "model_module": "@jupyter-widgets/controls",
      "model_module_version": "2.0.0",
      "model_name": "LabelStyleModel",
      "state": {
       "description_width": "",
       "font_family": null,
       "font_size": null,
       "font_style": null,
       "font_variant": null,
       "font_weight": null,
       "text_color": null,
       "text_decoration": null
      }
     },
     "8a538a7067fe469e8e7f9317ae3146fc": {
      "model_module": "@jupyter-widgets/base",
      "model_module_version": "2.0.0",
      "model_name": "LayoutModel",
      "state": {}
     },
     "8a5b2d8fdfe64c7f8648ac5373362fe4": {
      "model_module": "@jupyter-widgets/controls",
      "model_module_version": "2.0.0",
      "model_name": "IntSliderModel",
      "state": {
       "behavior": "drag-tap",
       "layout": "IPY_MODEL_b08484aab10a47d8b2d963a957a147e0",
       "max": 500,
       "style": "IPY_MODEL_d5a6f2b9f1594e348b641836c7701e5d",
       "value": 250
      }
     },
     "8a6a7f084f164bc9a6fd9ffa35c65e7c": {
      "model_module": "@jupyter-widgets/controls",
      "model_module_version": "2.0.0",
      "model_name": "HBoxModel",
      "state": {
       "children": [
        "IPY_MODEL_ae0ae96b805c4ae8b03bd6e2abb5e00a"
       ],
       "layout": "IPY_MODEL_5db51067858a4b3c803321db1609657e"
      }
     },
     "8a72a77cc72a4858bd0e2fdca4f6a41f": {
      "model_module": "@jupyter-widgets/base",
      "model_module_version": "2.0.0",
      "model_name": "LayoutModel",
      "state": {}
     },
     "8a9c08f2c9a84663be2e8dddc6fab858": {
      "model_module": "@jupyter-widgets/base",
      "model_module_version": "2.0.0",
      "model_name": "LayoutModel",
      "state": {}
     },
     "8b79accc57754e2db228bd69aaf3c8da": {
      "model_module": "@jupyter-widgets/controls",
      "model_module_version": "2.0.0",
      "model_name": "VBoxModel",
      "state": {
       "children": [
        "IPY_MODEL_e3338505768446879380546f25a47e6b"
       ],
       "layout": "IPY_MODEL_419f898085394a258d29f605ed9027f7"
      }
     },
     "8baefd6e70f94ee68c377918217b3d26": {
      "model_module": "@jupyter-widgets/controls",
      "model_module_version": "2.0.0",
      "model_name": "SliderStyleModel",
      "state": {
       "description_width": ""
      }
     },
     "8c303cf8333649fcb588ff64aa538950": {
      "model_module": "@jupyter-widgets/controls",
      "model_module_version": "2.0.0",
      "model_name": "IntSliderModel",
      "state": {
       "behavior": "drag-tap",
       "layout": "IPY_MODEL_11552022cf274109b5f2ca5886ecf9a3",
       "max": 500,
       "style": "IPY_MODEL_5eb6708fc11749f089972a55102656d9",
       "value": 250
      }
     },
     "8c593950b39f47209ae5c4dd78e576a6": {
      "model_module": "@jupyter-widgets/base",
      "model_module_version": "2.0.0",
      "model_name": "LayoutModel",
      "state": {}
     },
     "8cd36d218bd54152bd4ada5760c55d2c": {
      "model_module": "@jupyter-widgets/controls",
      "model_module_version": "2.0.0",
      "model_name": "IntSliderModel",
      "state": {
       "behavior": "drag-tap",
       "layout": "IPY_MODEL_ca7775412f2c4896a3043db5ef6a8058",
       "max": 300,
       "style": "IPY_MODEL_1f7cb4e8c77c49d19f4593a83a8ce04a",
       "value": 150
      }
     },
     "8cd37b7218a34f9ea2e3c41b4e593bc8": {
      "model_module": "@jupyter-widgets/controls",
      "model_module_version": "2.0.0",
      "model_name": "HBoxModel",
      "state": {
       "children": [
        "IPY_MODEL_720fe78165d9431f81c7028d9dd179ba"
       ],
       "layout": "IPY_MODEL_b7cb0cb1faed4071b5f72aad4ed6ea78"
      }
     },
     "8ceb6b065b47492db59c7d5435db2711": {
      "model_module": "@jupyter-widgets/base",
      "model_module_version": "2.0.0",
      "model_name": "LayoutModel",
      "state": {
       "width": "100%"
      }
     },
     "8cf0639185f04fc7bdce505d3b90962d": {
      "model_module": "@jupyter-widgets/base",
      "model_module_version": "2.0.0",
      "model_name": "LayoutModel",
      "state": {}
     },
     "8cf7390b94b34c14931926f2fa2c16d4": {
      "model_module": "@jupyter-widgets/controls",
      "model_module_version": "2.0.0",
      "model_name": "HBoxModel",
      "state": {
       "children": [
        "IPY_MODEL_4d8da1de33fe4e2c985beb0eddb515b8",
        "IPY_MODEL_8ea7ac1bd1a0407fbee09fbd16403dea"
       ],
       "layout": "IPY_MODEL_fe7935d5b4b741cb8d2fcf1f6346d186"
      }
     },
     "8cfc565c9d804e69b7cdfa3da623d564": {
      "model_module": "@jupyter-widgets/base",
      "model_module_version": "2.0.0",
      "model_name": "LayoutModel",
      "state": {
       "width": "100%"
      }
     },
     "8d12f55654f74383833793ec62a9a3db": {
      "model_module": "@jupyter-widgets/base",
      "model_module_version": "2.0.0",
      "model_name": "LayoutModel",
      "state": {}
     },
     "8d437f390b9b4124b4f99efcb3cd23fe": {
      "model_module": "@jupyter-widgets/controls",
      "model_module_version": "2.0.0",
      "model_name": "VBoxModel",
      "state": {
       "layout": "IPY_MODEL_d4488c60a0064a44b073b1bed18eb3ad"
      }
     },
     "8d98f235135c42da938d9a396f188705": {
      "model_module": "@jupyter-widgets/base",
      "model_module_version": "2.0.0",
      "model_name": "LayoutModel",
      "state": {}
     },
     "8d9c4a29fbff4d788a792b6937414dfc": {
      "model_module": "@jupyter-widgets/base",
      "model_module_version": "2.0.0",
      "model_name": "LayoutModel",
      "state": {}
     },
     "8dbf60c7ddf04323893b470c4a18b487": {
      "model_module": "@jupyter-widgets/controls",
      "model_module_version": "2.0.0",
      "model_name": "HBoxModel",
      "state": {
       "children": [
        "IPY_MODEL_3e35c9abe0d6457b98692a6b86e1ef53"
       ],
       "layout": "IPY_MODEL_aef5050d3e7944eeb2d15438630c8329"
      }
     },
     "8df9d7a81b394b2f92199a9779cd6790": {
      "model_module": "@jupyter-widgets/controls",
      "model_module_version": "2.0.0",
      "model_name": "HTMLModel",
      "state": {
       "layout": "IPY_MODEL_91de8b078a514d839f4ce061717d71c0",
       "style": "IPY_MODEL_1eeb40364f4f422a9d76ea2a8beb7c7d",
       "value": "<style>.widget-readout { min-width: 20px !important; }</style>"
      }
     },
     "8e0dafcc10794f16a3f07cc39ce841fc": {
      "model_module": "@jupyter-widgets/controls",
      "model_module_version": "2.0.0",
      "model_name": "LabelModel",
      "state": {
       "layout": "IPY_MODEL_dfe4087df6f04c76af3c527d2a8810b2",
       "style": "IPY_MODEL_7e0783ca41c24288ab6d5522d23787a9",
       "value": "Curtain"
      }
     },
     "8e315dc3a9954d068d13970eaf13d728": {
      "model_module": "@jupyter-widgets/base",
      "model_module_version": "2.0.0",
      "model_name": "LayoutModel",
      "state": {}
     },
     "8e31f2cdef2f411cbfeab0498e31aa69": {
      "model_module": "@jupyter-widgets/controls",
      "model_module_version": "2.0.0",
      "model_name": "VBoxModel",
      "state": {
       "children": [
        "IPY_MODEL_96976f9cd50e4ba09ebe065d3c25d5bb",
        "IPY_MODEL_b3a75b52f68445c086ba15b936b34fd5"
       ],
       "layout": "IPY_MODEL_543cad7d180440d1844a5b54ace564ac"
      }
     },
     "8e3635db85ba479fb8cafa0b84537a08": {
      "model_module": "@jupyter-widgets/controls",
      "model_module_version": "2.0.0",
      "model_name": "HBoxModel",
      "state": {
       "children": [
        "IPY_MODEL_1d5c2ca25c994f5d88803ed38404e289"
       ],
       "layout": "IPY_MODEL_4019e5ffb370464aa3990ddb5669cb91"
      }
     },
     "8e8c45c271f741db832cddf1cf634950": {
      "model_module": "ipycanvas",
      "model_module_version": "^0.13",
      "model_name": "CanvasModel",
      "state": {
       "_canvas_manager": "IPY_MODEL_d9a833c7f08b41bd9d6176723d2ff2f4",
       "_model_module_version": "^0.13",
       "_view_module_version": "^0.13",
       "height": 0,
       "layout": "IPY_MODEL_ce621e2b11e94835bec8706de0d7380e",
       "width": 0
      }
     },
     "8ea7ac1bd1a0407fbee09fbd16403dea": {
      "model_module": "@jupyter-widgets/controls",
      "model_module_version": "2.0.0",
      "model_name": "IntSliderModel",
      "state": {
       "behavior": "drag-tap",
       "layout": "IPY_MODEL_d8a5e364ad0745ab883853023d2698f0",
       "max": 500,
       "style": "IPY_MODEL_28f20c31c507409c85c7b521ce58692f",
       "value": 250
      }
     },
     "8eb9c7dfa1dd4ed3ab95fc1e4018e12e": {
      "model_module": "@jupyter-widgets/base",
      "model_module_version": "2.0.0",
      "model_name": "LayoutModel",
      "state": {}
     },
     "8ec70cca0c7647c2be08905c1e44d604": {
      "model_module": "@jupyter-widgets/base",
      "model_module_version": "2.0.0",
      "model_name": "LayoutModel",
      "state": {}
     },
     "8ee00faf96614d97ac7de539f5c463a3": {
      "model_module": "@jupyter-widgets/controls",
      "model_module_version": "2.0.0",
      "model_name": "HBoxModel",
      "state": {
       "children": [
        "IPY_MODEL_b0d24c70f2234b59a346da5d352f56a7"
       ],
       "layout": "IPY_MODEL_849c889c0e8046cc808b2b73d589d6ba"
      }
     },
     "8f18060a9e8a45279a29c7a2c2e7febe": {
      "model_module": "@jupyter-widgets/base",
      "model_module_version": "2.0.0",
      "model_name": "LayoutModel",
      "state": {}
     },
     "8f67f917423e476b8a727801c01a2fcc": {
      "model_module": "@jupyter-widgets/base",
      "model_module_version": "2.0.0",
      "model_name": "LayoutModel",
      "state": {}
     },
     "8faa7aeed8414a2798311abbdb67e299": {
      "model_module": "@jupyter-widgets/controls",
      "model_module_version": "2.0.0",
      "model_name": "VBoxModel",
      "state": {
       "layout": "IPY_MODEL_5c107b751cee438b8bc350a8dff0f500"
      }
     },
     "907803a1d2fb4b8f852271a54194a264": {
      "model_module": "@jupyter-widgets/controls",
      "model_module_version": "2.0.0",
      "model_name": "LabelModel",
      "state": {
       "layout": "IPY_MODEL_e5b1102f441c40aeb34855b72e1ffe79",
       "style": "IPY_MODEL_cf6611712d9c41488affe04dc31fbd20",
       "value": "Curtain"
      }
     },
     "90d378cc54f84bf7b496efaa4ff40ddb": {
      "model_module": "ipycanvas",
      "model_module_version": "^0.13",
      "model_name": "CanvasModel",
      "state": {
       "_canvas_manager": "IPY_MODEL_d9a833c7f08b41bd9d6176723d2ff2f4",
       "_model_module_version": "^0.13",
       "_view_module_version": "^0.13",
       "height": 900,
       "layout": "IPY_MODEL_31c9f60928924d6e8cc169ced79e7ad0",
       "width": 900
      }
     },
     "91169b53a4df4104a72c7c1305a1fdad": {
      "model_module": "@jupyter-widgets/base",
      "model_module_version": "2.0.0",
      "model_name": "LayoutModel",
      "state": {}
     },
     "91629fbad4ea49109f17129810957506": {
      "model_module": "@jupyter-widgets/controls",
      "model_module_version": "2.0.0",
      "model_name": "HTMLStyleModel",
      "state": {
       "description_width": "",
       "font_size": null,
       "text_color": null
      }
     },
     "91de8b078a514d839f4ce061717d71c0": {
      "model_module": "@jupyter-widgets/base",
      "model_module_version": "2.0.0",
      "model_name": "LayoutModel",
      "state": {}
     },
     "91ded86ace0b46c4b2ceb4b7068fc7ce": {
      "model_module": "@jupyter-widgets/base",
      "model_module_version": "2.0.0",
      "model_name": "LayoutModel",
      "state": {}
     },
     "91fe554952cd435987022c2319dc6135": {
      "model_module": "@jupyter-widgets/controls",
      "model_module_version": "2.0.0",
      "model_name": "LabelModel",
      "state": {
       "layout": "IPY_MODEL_70fd774430724b0cb0e9024b38a77ef4",
       "style": "IPY_MODEL_1f1ce9a974fe41559ed9cbb9013492db",
       "value": "Curtain"
      }
     },
     "923947ad4788422ca76b601bceaebf13": {
      "model_module": "@jupyter-widgets/controls",
      "model_module_version": "2.0.0",
      "model_name": "SliderStyleModel",
      "state": {
       "description_width": ""
      }
     },
     "93672a496cfe4ac5ba2331a73a8ce945": {
      "model_module": "@jupyter-widgets/controls",
      "model_module_version": "2.0.0",
      "model_name": "HTMLModel",
      "state": {
       "layout": "IPY_MODEL_07a425d53b82496d957152d05bad3f70",
       "style": "IPY_MODEL_dc115cafaf0649c889aad35c1e406e27",
       "value": "<style>.widget-readout { min-width: 20px !important; }</style>"
      }
     },
     "9378dea6894f46a0a825b0b8cf66d11c": {
      "model_module": "@jupyter-widgets/controls",
      "model_module_version": "2.0.0",
      "model_name": "HBoxModel",
      "state": {
       "children": [
        "IPY_MODEL_4de4925130b345ed9805f02ccde2eb46"
       ],
       "layout": "IPY_MODEL_9a583955eaac4361940f18eda2f99ab6"
      }
     },
     "93855856ce834c75a06f84f0e5dc1e4d": {
      "model_module": "@jupyter-widgets/base",
      "model_module_version": "2.0.0",
      "model_name": "LayoutModel",
      "state": {}
     },
     "9393e725a4e0495eab1fff6ac413037a": {
      "model_module": "@jupyter-widgets/base",
      "model_module_version": "2.0.0",
      "model_name": "LayoutModel",
      "state": {}
     },
     "947eabb76078420ca47f458c6a17fc15": {
      "model_module": "@jupyter-widgets/controls",
      "model_module_version": "2.0.0",
      "model_name": "HBoxModel",
      "state": {
       "children": [
        "IPY_MODEL_57bed592728d412e9a6e16e1151c65d4"
       ],
       "layout": "IPY_MODEL_b68d7ad4d6344c84be185a982a72fb34"
      }
     },
     "9494ee02b3664577983044290f0ff590": {
      "model_module": "@jupyter-widgets/controls",
      "model_module_version": "2.0.0",
      "model_name": "HTMLModel",
      "state": {
       "layout": "IPY_MODEL_0395fed77826490aad44927b689581d5",
       "style": "IPY_MODEL_7364b8551ea24eaa8659406312810430",
       "value": "<style>.widget-readout { min-width: 20px !important; }</style>"
      }
     },
     "94b09259db6149589045d9abc0e03adf": {
      "model_module": "@jupyter-widgets/controls",
      "model_module_version": "2.0.0",
      "model_name": "VBoxModel",
      "state": {
       "layout": "IPY_MODEL_7b07329a74c142b482248e2b65d59050"
      }
     },
     "94cdce3b6686485b97609f62e5179305": {
      "model_module": "@jupyter-widgets/controls",
      "model_module_version": "2.0.0",
      "model_name": "HBoxModel",
      "state": {
       "children": [
        "IPY_MODEL_a3a884154d20411183751d1417a07359"
       ],
       "layout": "IPY_MODEL_3702e78a8afc45578db68c9fdcf02adc"
      }
     },
     "94efaf8e1f244a3984b8269586c2dc50": {
      "model_module": "@jupyter-widgets/base",
      "model_module_version": "2.0.0",
      "model_name": "LayoutModel",
      "state": {}
     },
     "950e2aa613384770adbd2cc6a700bce1": {
      "model_module": "@jupyter-widgets/controls",
      "model_module_version": "2.0.0",
      "model_name": "VBoxModel",
      "state": {
       "children": [
        "IPY_MODEL_7b4e6223699945dcbe8350e766b2ef73",
        "IPY_MODEL_e984d7c61a91409e8582040b4f770dad",
        "IPY_MODEL_438169a56d3247a9a5469c1d392bac41"
       ],
       "layout": "IPY_MODEL_f1aabd94b6d7454093d27e80fff41edf"
      }
     },
     "95422642d6f7438bb545c374523b72d3": {
      "model_module": "@jupyter-widgets/base",
      "model_module_version": "2.0.0",
      "model_name": "LayoutModel",
      "state": {}
     },
     "955c46d772ca4f219b9d89ff21c7c67d": {
      "model_module": "@jupyter-widgets/controls",
      "model_module_version": "2.0.0",
      "model_name": "HTMLStyleModel",
      "state": {
       "description_width": "",
       "font_size": null,
       "text_color": null
      }
     },
     "957229566ddc415792593ef570c392c6": {
      "model_module": "@jupyter-widgets/base",
      "model_module_version": "2.0.0",
      "model_name": "LayoutModel",
      "state": {}
     },
     "9575866f60524b089c5e5919657c1964": {
      "model_module": "@jupyter-widgets/base",
      "model_module_version": "2.0.0",
      "model_name": "LayoutModel",
      "state": {}
     },
     "95935cee1a5441c386218bca86de4fb4": {
      "model_module": "@jupyter-widgets/controls",
      "model_module_version": "2.0.0",
      "model_name": "SliderStyleModel",
      "state": {
       "description_width": ""
      }
     },
     "95a7f07f024348178a6c870f6999ec58": {
      "model_module": "@jupyter-widgets/base",
      "model_module_version": "2.0.0",
      "model_name": "LayoutModel",
      "state": {}
     },
     "95c541a53da840d3b7eddcd0e3bfcee8": {
      "model_module": "@jupyter-widgets/base",
      "model_module_version": "2.0.0",
      "model_name": "LayoutModel",
      "state": {
       "width": "100%"
      }
     },
     "95ee6b273b01480ea92dc3211e1e5f2a": {
      "model_module": "@jupyter-widgets/base",
      "model_module_version": "2.0.0",
      "model_name": "LayoutModel",
      "state": {}
     },
     "9674570cf59f4b1b8947b07235f6d4e8": {
      "model_module": "@jupyter-widgets/controls",
      "model_module_version": "2.0.0",
      "model_name": "VBoxModel",
      "state": {
       "children": [
        "IPY_MODEL_f7281743f9bc41499b8ba2a4b781e8dd",
        "IPY_MODEL_6e5ad1331f4448fb941a1651dccedbcf",
        "IPY_MODEL_52464dad44fe4bcfbe8b621c2020907d"
       ],
       "layout": "IPY_MODEL_34600e6932db469f924e3249abc2fa04"
      }
     },
     "96976f9cd50e4ba09ebe065d3c25d5bb": {
      "model_module": "@jupyter-widgets/controls",
      "model_module_version": "2.0.0",
      "model_name": "HBoxModel",
      "state": {
       "children": [
        "IPY_MODEL_8e0dafcc10794f16a3f07cc39ce841fc",
        "IPY_MODEL_77347363bb1f4b6785e9f58e32998ca5"
       ],
       "layout": "IPY_MODEL_c91f943ca23042f0a6ac44140146f369"
      }
     },
     "972bc317f81b4cb78726c7515aecd398": {
      "model_module": "@jupyter-widgets/base",
      "model_module_version": "2.0.0",
      "model_name": "LayoutModel",
      "state": {}
     },
     "973ebf7b2f144f8a8ae65f4d83b540eb": {
      "model_module": "@jupyter-widgets/controls",
      "model_module_version": "2.0.0",
      "model_name": "VBoxModel",
      "state": {
       "children": [
        "IPY_MODEL_d6d27497011a4bc3a7c05b184288f8f1",
        "IPY_MODEL_df19b4f8d0784ba7b5b4a77e1770994b",
        "IPY_MODEL_eb74ed0497cd461abc8192fd03e0ddb2"
       ],
       "layout": "IPY_MODEL_e0a678ec4d0c415e8bb92bd5299deb03"
      }
     },
     "975db363b7724b4d971eedb4bcc66216": {
      "model_module": "@jupyter-widgets/base",
      "model_module_version": "2.0.0",
      "model_name": "LayoutModel",
      "state": {}
     },
     "97673119ff314ecdb57aa6e386cd7e1e": {
      "model_module": "@jupyter-widgets/base",
      "model_module_version": "2.0.0",
      "model_name": "LayoutModel",
      "state": {}
     },
     "977fc693422b4f1492ae5f9600f163c8": {
      "model_module": "@jupyter-widgets/controls",
      "model_module_version": "2.0.0",
      "model_name": "SliderStyleModel",
      "state": {
       "description_width": ""
      }
     },
     "97ecd7c8470e4a68ae27592241a350fa": {
      "model_module": "@jupyter-widgets/controls",
      "model_module_version": "2.0.0",
      "model_name": "VBoxModel",
      "state": {
       "children": [
        "IPY_MODEL_ac09d757cb934369988d576b85d2e6e0"
       ],
       "layout": "IPY_MODEL_85790ac23040416da283fbb08ed55a89"
      }
     },
     "9825af98e1da40cfa3995169b0526306": {
      "model_module": "@jupyter-widgets/base",
      "model_module_version": "2.0.0",
      "model_name": "LayoutModel",
      "state": {}
     },
     "988a3fbc1b3c490cb9b2ca0b6f6c45a4": {
      "model_module": "@jupyter-widgets/controls",
      "model_module_version": "2.0.0",
      "model_name": "HBoxModel",
      "state": {
       "children": [
        "IPY_MODEL_10091de3a18149ba9ae476e909532168"
       ],
       "layout": "IPY_MODEL_8a9c08f2c9a84663be2e8dddc6fab858"
      }
     },
     "98a1f199748c4e139e2c7eedcc1026e0": {
      "model_module": "@jupyter-widgets/base",
      "model_module_version": "2.0.0",
      "model_name": "LayoutModel",
      "state": {}
     },
     "98b6b1b46674497f9ae372114931f242": {
      "model_module": "@jupyter-widgets/controls",
      "model_module_version": "2.0.0",
      "model_name": "SliderStyleModel",
      "state": {
       "description_width": ""
      }
     },
     "98dfc61d4ae543af82b5e4f54121d633": {
      "model_module": "@jupyter-widgets/controls",
      "model_module_version": "2.0.0",
      "model_name": "VBoxModel",
      "state": {
       "layout": "IPY_MODEL_ff66bd44364347a7aef92a98cdc7da76"
      }
     },
     "98f6e51a5cb741069ae162c4f3a1fe04": {
      "model_module": "@jupyter-widgets/base",
      "model_module_version": "2.0.0",
      "model_name": "LayoutModel",
      "state": {}
     },
     "98fd41915add45a7b2ed179ee14a4856": {
      "model_module": "@jupyter-widgets/controls",
      "model_module_version": "2.0.0",
      "model_name": "LabelStyleModel",
      "state": {
       "description_width": "",
       "font_family": null,
       "font_size": null,
       "font_style": null,
       "font_variant": null,
       "font_weight": null,
       "text_color": null,
       "text_decoration": null
      }
     },
     "9911feaf28cd4c2aa80c63f7d62a12e1": {
      "model_module": "@jupyter-widgets/controls",
      "model_module_version": "2.0.0",
      "model_name": "HBoxModel",
      "state": {
       "children": [
        "IPY_MODEL_4d623648d47d4bd390f7a4b2bccb9a2c"
       ],
       "layout": "IPY_MODEL_d0e12c44a8964d168408023ab96a3942"
      }
     },
     "99288dfd4c364206aacba1f97a4b9517": {
      "model_module": "@jupyter-widgets/controls",
      "model_module_version": "2.0.0",
      "model_name": "VBoxModel",
      "state": {
       "children": [
        "IPY_MODEL_1e013bada7f84757bd8fee1bdb22091d"
       ],
       "layout": "IPY_MODEL_288a2cae6d0a44aaacd80630a610b2c3"
      }
     },
     "9975af6d692a4cf5b31a36f752c28014": {
      "model_module": "@jupyter-widgets/controls",
      "model_module_version": "2.0.0",
      "model_name": "ProgressStyleModel",
      "state": {
       "description_width": ""
      }
     },
     "998ae6dfdc7a4f50b363d560dd3b505a": {
      "model_module": "@jupyter-widgets/controls",
      "model_module_version": "2.0.0",
      "model_name": "VBoxModel",
      "state": {
       "children": [
        "IPY_MODEL_d53ab078855647aabf61882880f168a9"
       ],
       "layout": "IPY_MODEL_fbae4a1e62584d5298a1136716d3e070"
      }
     },
     "99981af3811d46788addec766d5959be": {
      "model_module": "@jupyter-widgets/base",
      "model_module_version": "2.0.0",
      "model_name": "LayoutModel",
      "state": {}
     },
     "99aeefb81ce545758cd18a4103c2c0ae": {
      "model_module": "@jupyter-widgets/controls",
      "model_module_version": "2.0.0",
      "model_name": "LabelStyleModel",
      "state": {
       "description_width": "",
       "font_family": null,
       "font_size": null,
       "font_style": null,
       "font_variant": null,
       "font_weight": null,
       "text_color": null,
       "text_decoration": null
      }
     },
     "9a25717ee49242f4b6d162856b00aacc": {
      "model_module": "@jupyter-widgets/base",
      "model_module_version": "2.0.0",
      "model_name": "LayoutModel",
      "state": {}
     },
     "9a583955eaac4361940f18eda2f99ab6": {
      "model_module": "@jupyter-widgets/base",
      "model_module_version": "2.0.0",
      "model_name": "LayoutModel",
      "state": {}
     },
     "9a601729f54c419e910e43105638f08d": {
      "model_module": "@jupyter-widgets/controls",
      "model_module_version": "2.0.0",
      "model_name": "LabelStyleModel",
      "state": {
       "description_width": "",
       "font_family": null,
       "font_size": null,
       "font_style": null,
       "font_variant": null,
       "font_weight": null,
       "text_color": null,
       "text_decoration": null
      }
     },
     "9a8a2515deb844e290cda39482ebd2ba": {
      "model_module": "@jupyter-widgets/base",
      "model_module_version": "2.0.0",
      "model_name": "LayoutModel",
      "state": {
       "width": "100%"
      }
     },
     "9b03e49369504be3966b248d0ac14277": {
      "model_module": "@jupyter-widgets/controls",
      "model_module_version": "2.0.0",
      "model_name": "HTMLModel",
      "state": {
       "layout": "IPY_MODEL_5355be4f42bb4ebd90ef751900c64f4d",
       "style": "IPY_MODEL_61b4fe4e6e85407981efe9fbea72b12c",
       "value": "<style>.widget-readout { min-width: 20px !important; }</style>"
      }
     },
     "9b0ed80fa0894286896313b6d736ea0d": {
      "model_module": "@jupyter-widgets/controls",
      "model_module_version": "2.0.0",
      "model_name": "VBoxModel",
      "state": {
       "layout": "IPY_MODEL_91ded86ace0b46c4b2ceb4b7068fc7ce"
      }
     },
     "9b37b93d909b400e990699821e569eac": {
      "model_module": "@jupyter-widgets/base",
      "model_module_version": "2.0.0",
      "model_name": "LayoutModel",
      "state": {}
     },
     "9b77809c348c46d39a60ed8bb3a8eb4a": {
      "model_module": "@jupyter-widgets/base",
      "model_module_version": "2.0.0",
      "model_name": "LayoutModel",
      "state": {}
     },
     "9bbdf4da49f347f9b6118fb8b19cb6b0": {
      "model_module": "@jupyter-widgets/base",
      "model_module_version": "2.0.0",
      "model_name": "LayoutModel",
      "state": {}
     },
     "9c36a431896e47ebbc6cb4a4f0b199e6": {
      "model_module": "@jupyter-widgets/base",
      "model_module_version": "2.0.0",
      "model_name": "LayoutModel",
      "state": {}
     },
     "9c6516ae67d04a908abd9ccd44c2daa4": {
      "model_module": "@jupyter-widgets/controls",
      "model_module_version": "2.0.0",
      "model_name": "HTMLStyleModel",
      "state": {
       "description_width": "",
       "font_size": null,
       "text_color": null
      }
     },
     "9cefb6209c2143b3bc020df8c536a797": {
      "model_module": "@jupyter-widgets/base",
      "model_module_version": "2.0.0",
      "model_name": "LayoutModel",
      "state": {}
     },
     "9d098392a1d84202b1b8c35911e76c85": {
      "model_module": "@jupyter-widgets/controls",
      "model_module_version": "2.0.0",
      "model_name": "LabelStyleModel",
      "state": {
       "description_width": "",
       "font_family": null,
       "font_size": null,
       "font_style": null,
       "font_variant": null,
       "font_weight": null,
       "text_color": null,
       "text_decoration": null
      }
     },
     "9d189745662947c5a8810bbc35fd60d4": {
      "model_module": "@jupyter-widgets/controls",
      "model_module_version": "2.0.0",
      "model_name": "HTMLStyleModel",
      "state": {
       "description_width": "",
       "font_size": null,
       "text_color": null
      }
     },
     "9db18d2ca2734334bacd7b5d56b44c95": {
      "model_module": "@jupyter-widgets/base",
      "model_module_version": "2.0.0",
      "model_name": "LayoutModel",
      "state": {}
     },
     "9e1041c809124ba39eaf135b5b5e4572": {
      "model_module": "@jupyter-widgets/controls",
      "model_module_version": "2.0.0",
      "model_name": "VBoxModel",
      "state": {
       "children": [
        "IPY_MODEL_4f004904db674327b91e2a7ed31208f3"
       ],
       "layout": "IPY_MODEL_66f67a5a62ad41cb893583f2e04bf0b7"
      }
     },
     "9e1bb4d563de4236b7cc9777a671247a": {
      "model_module": "@jupyter-widgets/controls",
      "model_module_version": "2.0.0",
      "model_name": "VBoxModel",
      "state": {
       "children": [
        "IPY_MODEL_276de5f092ea4e31b8dcc94c7a08b04d"
       ],
       "layout": "IPY_MODEL_18ea1690c5544d6d822d72f9d541d884"
      }
     },
     "9e40392f812446ffbcc8f3204161d7e3": {
      "model_module": "@jupyter-widgets/base",
      "model_module_version": "2.0.0",
      "model_name": "LayoutModel",
      "state": {}
     },
     "9e41462bc964484fb0e1cb65d946b312": {
      "model_module": "@jupyter-widgets/base",
      "model_module_version": "2.0.0",
      "model_name": "LayoutModel",
      "state": {
       "width": "100%"
      }
     },
     "9e80a3976eae422a99d594007c0dbe8c": {
      "model_module": "@jupyter-widgets/base",
      "model_module_version": "2.0.0",
      "model_name": "LayoutModel",
      "state": {}
     },
     "9ec73d1bce33474085e77fcb0219a103": {
      "model_module": "@jupyter-widgets/controls",
      "model_module_version": "2.0.0",
      "model_name": "SliderStyleModel",
      "state": {
       "description_width": ""
      }
     },
     "9f4e07cb6615463c8a8cded1061f9fd4": {
      "model_module": "@jupyter-widgets/controls",
      "model_module_version": "2.0.0",
      "model_name": "VBoxModel",
      "state": {
       "children": [
        "IPY_MODEL_a2de2f491bba451ca2e0304e598956e4",
        "IPY_MODEL_f6bac5031f61458989419335b9fd1a3e",
        "IPY_MODEL_df3cb37268af4c559c5955658690f56d"
       ],
       "layout": "IPY_MODEL_707e5a94fad144b3bb2cac487343cb0b"
      }
     },
     "9fa7b95542f6471fab52c2c5d32d5b25": {
      "model_module": "@jupyter-widgets/base",
      "model_module_version": "2.0.0",
      "model_name": "LayoutModel",
      "state": {}
     },
     "9feb1fff169f4e6ba5757c0a759e3547": {
      "model_module": "ipycanvas",
      "model_module_version": "^0.13",
      "model_name": "CanvasModel",
      "state": {
       "_canvas_manager": "IPY_MODEL_d9a833c7f08b41bd9d6176723d2ff2f4",
       "_model_module_version": "^0.13",
       "_view_module_version": "^0.13",
       "height": 1620,
       "layout": "IPY_MODEL_1c6ceeb31fb14ad7964027db14afee23",
       "width": 1620
      }
     },
     "a0096b48b3554750a56dd5ee80a477f3": {
      "model_module": "@jupyter-widgets/controls",
      "model_module_version": "2.0.0",
      "model_name": "VBoxModel",
      "state": {
       "children": [
        "IPY_MODEL_0e69451eeb9e4421b77046111524c49a"
       ],
       "layout": "IPY_MODEL_d44ab7c2907a40a0bd96878ebd3dabaf"
      }
     },
     "a0bbdf5f4f4a4638a41cd7b8a169ab84": {
      "model_module": "@jupyter-widgets/controls",
      "model_module_version": "2.0.0",
      "model_name": "HTMLStyleModel",
      "state": {
       "description_width": "",
       "font_size": null,
       "text_color": null
      }
     },
     "a11c0e66cf3a4e37b83fc7651c5f72cf": {
      "model_module": "@jupyter-widgets/base",
      "model_module_version": "2.0.0",
      "model_name": "LayoutModel",
      "state": {}
     },
     "a14c3f67af2b444980d665d3dbbf938a": {
      "model_module": "@jupyter-widgets/controls",
      "model_module_version": "2.0.0",
      "model_name": "LabelStyleModel",
      "state": {
       "description_width": "",
       "font_family": null,
       "font_size": null,
       "font_style": null,
       "font_variant": null,
       "font_weight": null,
       "text_color": null,
       "text_decoration": null
      }
     },
     "a14ca023389040b8a2bfb9b2b6977229": {
      "model_module": "@jupyter-widgets/controls",
      "model_module_version": "2.0.0",
      "model_name": "SliderStyleModel",
      "state": {
       "description_width": ""
      }
     },
     "a1513955fd5d42bca7c5067a95313227": {
      "model_module": "@jupyter-widgets/controls",
      "model_module_version": "2.0.0",
      "model_name": "LabelStyleModel",
      "state": {
       "description_width": "",
       "font_family": null,
       "font_size": null,
       "font_style": null,
       "font_variant": null,
       "font_weight": null,
       "text_color": null,
       "text_decoration": null
      }
     },
     "a16a17152e2344c0a5b93ee8689f85a7": {
      "model_module": "@jupyter-widgets/base",
      "model_module_version": "2.0.0",
      "model_name": "LayoutModel",
      "state": {}
     },
     "a19b23884d59470da0756aa6cdfdf422": {
      "model_module": "@jupyter-widgets/base",
      "model_module_version": "2.0.0",
      "model_name": "LayoutModel",
      "state": {}
     },
     "a1c2dcb7352e491b9f11a7881b474807": {
      "model_module": "@jupyter-widgets/base",
      "model_module_version": "2.0.0",
      "model_name": "LayoutModel",
      "state": {}
     },
     "a1eb2869c5214965823e1530ddf24a4d": {
      "model_module": "@jupyter-widgets/controls",
      "model_module_version": "2.0.0",
      "model_name": "VBoxModel",
      "state": {
       "children": [
        "IPY_MODEL_0054444405dc4779b0ef660b5515cd2b",
        "IPY_MODEL_7f2d66e6d0424287a3187c738292f6e8"
       ],
       "layout": "IPY_MODEL_27a3f697ff164c0b92b0a232acdc294e"
      }
     },
     "a1f3769df7cf4a4aa55eeabe75e5402d": {
      "model_module": "@jupyter-widgets/base",
      "model_module_version": "2.0.0",
      "model_name": "LayoutModel",
      "state": {}
     },
     "a1f6c1634167472bbc82f76dd9741c39": {
      "model_module": "@jupyter-widgets/controls",
      "model_module_version": "2.0.0",
      "model_name": "IntSliderModel",
      "state": {
       "behavior": "drag-tap",
       "layout": "IPY_MODEL_a6219a9d43314fb280aa12c03266e19c",
       "max": 500,
       "style": "IPY_MODEL_d41fb2a8635246e7ba6cfd771d85d0ce",
       "value": 250
      }
     },
     "a223548da1d94e6c86b3e1fac5da38fb": {
      "model_module": "@jupyter-widgets/controls",
      "model_module_version": "2.0.0",
      "model_name": "LabelModel",
      "state": {
       "layout": "IPY_MODEL_f263f9b665fa4792942a89ab459a880d",
       "style": "IPY_MODEL_a14c3f67af2b444980d665d3dbbf938a",
       "value": "Curtain"
      }
     },
     "a237ff2963db43bc8ff9910389f728b6": {
      "model_module": "@jupyter-widgets/base",
      "model_module_version": "2.0.0",
      "model_name": "LayoutModel",
      "state": {}
     },
     "a296e1e4f7574bd681065df1dddf9f55": {
      "model_module": "@jupyter-widgets/base",
      "model_module_version": "2.0.0",
      "model_name": "LayoutModel",
      "state": {}
     },
     "a2ab9ea9933c48a6b2e746456be6802a": {
      "model_module": "@jupyter-widgets/controls",
      "model_module_version": "2.0.0",
      "model_name": "LabelModel",
      "state": {
       "layout": "IPY_MODEL_e17c0c72c315430997ae84b9f44c28ab",
       "style": "IPY_MODEL_36017aaac664463aa9b4d199c88caae2",
       "value": "Curtain"
      }
     },
     "a2beab42efcc4298a91f5974ca53a65b": {
      "model_module": "@jupyter-widgets/base",
      "model_module_version": "2.0.0",
      "model_name": "LayoutModel",
      "state": {}
     },
     "a2d471fb0e864c5197487c4797ac8fb0": {
      "model_module": "@jupyter-widgets/controls",
      "model_module_version": "2.0.0",
      "model_name": "HTMLStyleModel",
      "state": {
       "description_width": "",
       "font_size": null,
       "text_color": null
      }
     },
     "a2de2f491bba451ca2e0304e598956e4": {
      "model_module": "@jupyter-widgets/controls",
      "model_module_version": "2.0.0",
      "model_name": "HBoxModel",
      "state": {
       "children": [
        "IPY_MODEL_2cb87e16b72646ae9388cd6109ad63b3"
       ],
       "layout": "IPY_MODEL_9e40392f812446ffbcc8f3204161d7e3"
      }
     },
     "a3147f4e0cce41a18336a2849be6788f": {
      "model_module": "@jupyter-widgets/controls",
      "model_module_version": "2.0.0",
      "model_name": "HBoxModel",
      "state": {
       "children": [
        "IPY_MODEL_667992dda3474c6fa2d23c5388150dfc"
       ],
       "layout": "IPY_MODEL_728da23db8d24c4b924a8b52b8201d04"
      }
     },
     "a35b32dff5f84385870390a895db4b56": {
      "model_module": "ipycanvas",
      "model_module_version": "^0.13",
      "model_name": "CanvasModel",
      "state": {
       "_canvas_manager": "IPY_MODEL_d9a833c7f08b41bd9d6176723d2ff2f4",
       "_model_module_version": "^0.13",
       "_view_module_version": "^0.13",
       "height": 1120,
       "layout": "IPY_MODEL_82b86616ffd24af6bb96b4e531a41c18",
       "width": 1400
      }
     },
     "a35d509c3c394296b350ba2761b1e7d6": {
      "model_module": "@jupyter-widgets/controls",
      "model_module_version": "2.0.0",
      "model_name": "LabelStyleModel",
      "state": {
       "description_width": "",
       "font_family": null,
       "font_size": null,
       "font_style": null,
       "font_variant": null,
       "font_weight": null,
       "text_color": null,
       "text_decoration": null
      }
     },
     "a3a884154d20411183751d1417a07359": {
      "model_module": "@jupyter-widgets/controls",
      "model_module_version": "2.0.0",
      "model_name": "VBoxModel",
      "state": {
       "children": [
        "IPY_MODEL_c82e5884853e48da85fc6e8b76f4d8c6"
       ],
       "layout": "IPY_MODEL_7d21cfb157944d06a8e1e8412b77f415"
      }
     },
     "a3e4a48660d944b5a88aa6589a817094": {
      "model_module": "@jupyter-widgets/base",
      "model_module_version": "2.0.0",
      "model_name": "LayoutModel",
      "state": {}
     },
     "a3fe603c9f204f688320b62ebd64c911": {
      "model_module": "@jupyter-widgets/base",
      "model_module_version": "2.0.0",
      "model_name": "LayoutModel",
      "state": {}
     },
     "a421db6cef2d4842832c66b2d3b19fe4": {
      "model_module": "@jupyter-widgets/controls",
      "model_module_version": "2.0.0",
      "model_name": "SliderStyleModel",
      "state": {
       "description_width": ""
      }
     },
     "a42fc25304c740a0906c1c8617554478": {
      "model_module": "@jupyter-widgets/controls",
      "model_module_version": "2.0.0",
      "model_name": "IntSliderModel",
      "state": {
       "behavior": "drag-tap",
       "layout": "IPY_MODEL_275ee0fbcd9141fc920e6f4c5b332c97",
       "max": 500,
       "style": "IPY_MODEL_1771abd847924a0499b29c9b36668caf",
       "value": 250
      }
     },
     "a47aba84f02d4406b76c39492e1424d6": {
      "model_module": "@jupyter-widgets/base",
      "model_module_version": "2.0.0",
      "model_name": "LayoutModel",
      "state": {}
     },
     "a47aee8771dd40a9b15d147080388fde": {
      "model_module": "@jupyter-widgets/controls",
      "model_module_version": "2.0.0",
      "model_name": "HBoxModel",
      "state": {
       "children": [
        "IPY_MODEL_bbe051c365d2414180a61fb186415c7d"
       ],
       "layout": "IPY_MODEL_cf3fdcf4c9904524be7f3862f3ba02ec"
      }
     },
     "a4fd7f17cec54da2bec931f76d140818": {
      "model_module": "@jupyter-widgets/base",
      "model_module_version": "2.0.0",
      "model_name": "LayoutModel",
      "state": {}
     },
     "a511c965d8564ac19cac18bcc9dbbb38": {
      "model_module": "@jupyter-widgets/base",
      "model_module_version": "2.0.0",
      "model_name": "LayoutModel",
      "state": {}
     },
     "a512d97f168245769f1402762287d843": {
      "model_module": "@jupyter-widgets/controls",
      "model_module_version": "2.0.0",
      "model_name": "LabelModel",
      "state": {
       "layout": "IPY_MODEL_7d2f4e870d74488eaba3e1f02e829d81",
       "style": "IPY_MODEL_1048f969a9004d7fad6df67c6816fc66",
       "value": "Curtain"
      }
     },
     "a54b5f081772455da89aa441d928e2b6": {
      "model_module": "@jupyter-widgets/controls",
      "model_module_version": "2.0.0",
      "model_name": "HBoxModel",
      "state": {
       "children": [
        "IPY_MODEL_7356eeb0e83e49029cc9c0c71dd1782d",
        "IPY_MODEL_0177b3a30bf449e79ea33738fd101bb7"
       ],
       "layout": "IPY_MODEL_f63c0fbc23be4300b7174ed577cb85b1"
      }
     },
     "a54c0e83954b40d59d6451225e4072d9": {
      "model_module": "@jupyter-widgets/base",
      "model_module_version": "2.0.0",
      "model_name": "LayoutModel",
      "state": {}
     },
     "a57c5297aa9a48eea903007c6458fa27": {
      "model_module": "@jupyter-widgets/controls",
      "model_module_version": "2.0.0",
      "model_name": "HBoxModel",
      "state": {
       "children": [
        "IPY_MODEL_eede261da8d74a78a5d3dd55429f5884",
        "IPY_MODEL_a42fc25304c740a0906c1c8617554478"
       ],
       "layout": "IPY_MODEL_58883d0026884c87b08d91942252af4b"
      }
     },
     "a5a782dfc2414668873a870f0a5a3f6c": {
      "model_module": "@jupyter-widgets/controls",
      "model_module_version": "2.0.0",
      "model_name": "VBoxModel",
      "state": {
       "children": [
        "IPY_MODEL_06f8de37a9ea4aeabc0a0ddf1a3ad651",
        "IPY_MODEL_4c399a4009624c759182ab7a1a7f2e22"
       ],
       "layout": "IPY_MODEL_b1ba46eee8a1477fb9eed00ee69d9f3f"
      }
     },
     "a5de232cc1864a82bc4c49abd46c063a": {
      "model_module": "@jupyter-widgets/controls",
      "model_module_version": "2.0.0",
      "model_name": "VBoxModel",
      "state": {
       "children": [
        "IPY_MODEL_b846afe0ffba4091a7c5ecf4957fcfd5",
        "IPY_MODEL_ebe67b05e1de433899d017bd9888134c"
       ],
       "layout": "IPY_MODEL_62ebc01a7e034815bd87e8c12aebb173"
      }
     },
     "a5e17aacc725424da2df24e651782981": {
      "model_module": "@jupyter-widgets/controls",
      "model_module_version": "2.0.0",
      "model_name": "LabelModel",
      "state": {
       "layout": "IPY_MODEL_2f1e5cd13135486ab215607fadee70ba",
       "style": "IPY_MODEL_42bf4ad8026b496087b0e57b6ba764ad",
       "value": "Curtain"
      }
     },
     "a6219a9d43314fb280aa12c03266e19c": {
      "model_module": "@jupyter-widgets/base",
      "model_module_version": "2.0.0",
      "model_name": "LayoutModel",
      "state": {
       "width": "100%"
      }
     },
     "a6271ea3b7ef4ad384fe796898caeaff": {
      "model_module": "@jupyter-widgets/base",
      "model_module_version": "2.0.0",
      "model_name": "LayoutModel",
      "state": {}
     },
     "a639ccc19edd44ceb24411dd90b142a2": {
      "model_module": "@jupyter-widgets/controls",
      "model_module_version": "2.0.0",
      "model_name": "VBoxModel",
      "state": {
       "children": [
        "IPY_MODEL_bad40efaa81b4ca480ddd4a0c05021e2",
        "IPY_MODEL_73ccec13868a40afb3248e3ef49f19c8",
        "IPY_MODEL_d860f61a748c444c8fb96de7c84892bd"
       ],
       "layout": "IPY_MODEL_087df207133a43f9a33e1f5a255781a7"
      }
     },
     "a66e5020702c4d55a550470945da8591": {
      "model_module": "@jupyter-widgets/controls",
      "model_module_version": "2.0.0",
      "model_name": "HTMLModel",
      "state": {
       "layout": "IPY_MODEL_95ee6b273b01480ea92dc3211e1e5f2a",
       "style": "IPY_MODEL_53ce5d76caa34ac4a0ac17767ef81305",
       "value": "<style>.widget-readout { min-width: 20px !important; }</style>"
      }
     },
     "a681058d1f7342b7b8e133e9f719da52": {
      "model_module": "ipycanvas",
      "model_module_version": "^0.13",
      "model_name": "CanvasModel",
      "state": {
       "_canvas_manager": "IPY_MODEL_d9a833c7f08b41bd9d6176723d2ff2f4",
       "_model_module_version": "^0.13",
       "_view_module_version": "^0.13",
       "height": 600,
       "layout": "IPY_MODEL_02bc30e5b86a4e049a7adabf04a51c7b",
       "width": 600
      }
     },
     "a6b8e48ad5784ff28dc8a661fb123407": {
      "model_module": "@jupyter-widgets/base",
      "model_module_version": "2.0.0",
      "model_name": "LayoutModel",
      "state": {}
     },
     "a749922f58384441b4e68641ac47073d": {
      "model_module": "@jupyter-widgets/controls",
      "model_module_version": "2.0.0",
      "model_name": "VBoxModel",
      "state": {
       "children": [
        "IPY_MODEL_e455d65c67ec4ebbae19943e210956b0",
        "IPY_MODEL_38f6ab7a712f433ba19dac4ea057daae",
        "IPY_MODEL_e05aa84f78df49e9943632d0ce4d4f87"
       ],
       "layout": "IPY_MODEL_a2beab42efcc4298a91f5974ca53a65b"
      }
     },
     "a75f75f6b65d44d0b5139dc5f84b26fd": {
      "model_module": "@jupyter-widgets/base",
      "model_module_version": "2.0.0",
      "model_name": "LayoutModel",
      "state": {
       "width": "100%"
      }
     },
     "a78d256df6e04717809cda49c3316812": {
      "model_module": "@jupyter-widgets/controls",
      "model_module_version": "2.0.0",
      "model_name": "HBoxModel",
      "state": {
       "children": [
        "IPY_MODEL_4077e3ea9fce40898d013e60f035be99"
       ],
       "layout": "IPY_MODEL_48c4476fa9794b88b7b8797c0be35514"
      }
     },
     "a823412060e640c0b87027897f5732b4": {
      "model_module": "@jupyter-widgets/controls",
      "model_module_version": "2.0.0",
      "model_name": "VBoxModel",
      "state": {
       "children": [
        "IPY_MODEL_d3bfd65addfe44069611092feb24eecc"
       ],
       "layout": "IPY_MODEL_975db363b7724b4d971eedb4bcc66216"
      }
     },
     "a84161f2a1cf4f90b575300d68653762": {
      "model_module": "@jupyter-widgets/controls",
      "model_module_version": "2.0.0",
      "model_name": "FloatProgressModel",
      "state": {
       "bar_style": "success",
       "layout": "IPY_MODEL_66b8d004fce749f4a860ee25d7e1388e",
       "style": "IPY_MODEL_296b375a31a84c998ff23c815060d37e",
       "value": 100
      }
     },
     "a916e770be354c00b4af1a1e127d28e1": {
      "model_module": "@jupyter-widgets/controls",
      "model_module_version": "2.0.0",
      "model_name": "VBoxModel",
      "state": {
       "children": [
        "IPY_MODEL_90d378cc54f84bf7b496efaa4ff40ddb"
       ],
       "layout": "IPY_MODEL_d7003a007a8245f1a22fccc2cd33f48a"
      }
     },
     "a94c86c859274fc6adc459e95ca702da": {
      "model_module": "@jupyter-widgets/controls",
      "model_module_version": "2.0.0",
      "model_name": "SliderStyleModel",
      "state": {
       "description_width": ""
      }
     },
     "a972a63d26444fc08d80b1b36aa52cf8": {
      "model_module": "@jupyter-widgets/base",
      "model_module_version": "2.0.0",
      "model_name": "LayoutModel",
      "state": {}
     },
     "a9af9c4642d144fcbe7333840c04261b": {
      "model_module": "@jupyter-widgets/base",
      "model_module_version": "2.0.0",
      "model_name": "LayoutModel",
      "state": {}
     },
     "a9de3ce6d5ad4d1c8749771c341a4f2a": {
      "model_module": "@jupyter-widgets/controls",
      "model_module_version": "2.0.0",
      "model_name": "IntSliderModel",
      "state": {
       "behavior": "drag-tap",
       "layout": "IPY_MODEL_cfea49e43ff84a929262b7261ae10556",
       "max": 500,
       "style": "IPY_MODEL_977fc693422b4f1492ae5f9600f163c8",
       "value": 250
      }
     },
     "aa115f88c6ab43d28924271a5298844c": {
      "model_module": "@jupyter-widgets/base",
      "model_module_version": "2.0.0",
      "model_name": "LayoutModel",
      "state": {}
     },
     "aa19bccf30e648908569541565d77e8a": {
      "model_module": "@jupyter-widgets/controls",
      "model_module_version": "2.0.0",
      "model_name": "VBoxModel",
      "state": {
       "children": [
        "IPY_MODEL_b3f6084673324dbf9b51e6342c782649"
       ],
       "layout": "IPY_MODEL_60e638d310e1455fa56fabe0fa061c42"
      }
     },
     "aa5c106eadcb48d3b55b3d531a77c6c5": {
      "model_module": "@jupyter-widgets/controls",
      "model_module_version": "2.0.0",
      "model_name": "HTMLStyleModel",
      "state": {
       "description_width": "",
       "font_size": null,
       "text_color": null
      }
     },
     "aa69bb211857464aa977f7fa3aac4b36": {
      "model_module": "@jupyter-widgets/base",
      "model_module_version": "2.0.0",
      "model_name": "LayoutModel",
      "state": {}
     },
     "aa76cc5b5a48412780869b4c80612de8": {
      "model_module": "@jupyter-widgets/controls",
      "model_module_version": "2.0.0",
      "model_name": "HTMLStyleModel",
      "state": {
       "description_width": "",
       "font_size": null,
       "text_color": null
      }
     },
     "aabf26a4009b4382a7ddb0a7ef60dbf7": {
      "model_module": "@jupyter-widgets/controls",
      "model_module_version": "2.0.0",
      "model_name": "IntSliderModel",
      "state": {
       "behavior": "drag-tap",
       "layout": "IPY_MODEL_45525b65ca674a63b77bb60a77036f3a",
       "max": 500,
       "style": "IPY_MODEL_cefbfe1fdba74e6a938342b87fc29c5c",
       "value": 250
      }
     },
     "ab4a5101ce964ac69ed83b5853154976": {
      "model_module": "@jupyter-widgets/controls",
      "model_module_version": "2.0.0",
      "model_name": "HBoxModel",
      "state": {
       "children": [
        "IPY_MODEL_2abf28c38f044176be108f109b378c09",
        "IPY_MODEL_2bd33f0d3d1b405d9c6f6cb08391f34c"
       ],
       "layout": "IPY_MODEL_08af66662b9945f4a16d5ee84828bc5f"
      }
     },
     "ab52f86bef0240959a8dd024e10bd688": {
      "model_module": "@jupyter-widgets/base",
      "model_module_version": "2.0.0",
      "model_name": "LayoutModel",
      "state": {}
     },
     "abee6bb65eb64299aadba85b19e357f3": {
      "model_module": "@jupyter-widgets/controls",
      "model_module_version": "2.0.0",
      "model_name": "HTMLModel",
      "state": {
       "layout": "IPY_MODEL_d6198a0f8c4b454ab1415176fd68f252",
       "style": "IPY_MODEL_4c5ed74b55d549beb5848b77a42f3ad8",
       "value": " 100/100 [01:53&lt;00:00]"
      }
     },
     "ac09d757cb934369988d576b85d2e6e0": {
      "model_module": "ipycanvas",
      "model_module_version": "^0.13",
      "model_name": "CanvasModel",
      "state": {
       "_canvas_manager": "IPY_MODEL_d9a833c7f08b41bd9d6176723d2ff2f4",
       "_model_module_version": "^0.13",
       "_view_module_version": "^0.13",
       "height": 540,
       "layout": "IPY_MODEL_9e80a3976eae422a99d594007c0dbe8c",
       "width": 900
      }
     },
     "ac2ab0a08fdb49d58f10af002ece2006": {
      "model_module": "@jupyter-widgets/controls",
      "model_module_version": "2.0.0",
      "model_name": "LabelModel",
      "state": {
       "layout": "IPY_MODEL_8968e51f82f94d2eb570ac6e2d0389d4",
       "style": "IPY_MODEL_61a96db9aa1f4696a6d3b35b3c6007fa",
       "value": "Curtain"
      }
     },
     "ac2afcae6d354228a2e3036fd3c47abc": {
      "model_module": "@jupyter-widgets/controls",
      "model_module_version": "2.0.0",
      "model_name": "HBoxModel",
      "state": {
       "children": [
        "IPY_MODEL_396923202b1b41ecb63b2b97dddbfe4b",
        "IPY_MODEL_a9de3ce6d5ad4d1c8749771c341a4f2a"
       ],
       "layout": "IPY_MODEL_2f10336f2ed34d209a65e601edb8f47a"
      }
     },
     "ac3124ff7c94445e870d43bc1865e0c1": {
      "model_module": "@jupyter-widgets/controls",
      "model_module_version": "2.0.0",
      "model_name": "VBoxModel",
      "state": {
       "layout": "IPY_MODEL_e60b2cec371a48eea69c5ba5d3ce04eb"
      }
     },
     "aca2764920954ab3a197c1d3138b0872": {
      "model_module": "ipycanvas",
      "model_module_version": "^0.13",
      "model_name": "CanvasModel",
      "state": {
       "_canvas_manager": "IPY_MODEL_d9a833c7f08b41bd9d6176723d2ff2f4",
       "_model_module_version": "^0.13",
       "_view_module_version": "^0.13",
       "height": 900,
       "layout": "IPY_MODEL_00cd3d3d0726474c9917c532677f8bd0",
       "width": 900
      }
     },
     "aca77e9e4de1472d96bcc484d800dbdb": {
      "model_module": "@jupyter-widgets/controls",
      "model_module_version": "2.0.0",
      "model_name": "LabelModel",
      "state": {
       "layout": "IPY_MODEL_c14b629ba22c4e708bf987aee648c763",
       "style": "IPY_MODEL_99aeefb81ce545758cd18a4103c2c0ae",
       "value": "Curtain"
      }
     },
     "acbfb6425cbd4609912cffc989f0ff0e": {
      "model_module": "@jupyter-widgets/base",
      "model_module_version": "2.0.0",
      "model_name": "LayoutModel",
      "state": {}
     },
     "acd7f5f5ba5e45b4a0e2c1cb47920dd9": {
      "model_module": "@jupyter-widgets/controls",
      "model_module_version": "2.0.0",
      "model_name": "HTMLModel",
      "state": {
       "layout": "IPY_MODEL_04dc48358e4d451cb5cf615036c8fe7a",
       "style": "IPY_MODEL_0d566967e61b40af9eb1b208c564d720",
       "value": "100%"
      }
     },
     "ad2fb310053c47af85f90884e588c61a": {
      "model_module": "@jupyter-widgets/base",
      "model_module_version": "2.0.0",
      "model_name": "LayoutModel",
      "state": {}
     },
     "ad6f96b3f5c44f00b04066d9245763df": {
      "model_module": "@jupyter-widgets/base",
      "model_module_version": "2.0.0",
      "model_name": "LayoutModel",
      "state": {
       "width": "100%"
      }
     },
     "ad73d9c2d15f4a98994ff9028444c390": {
      "model_module": "@jupyter-widgets/base",
      "model_module_version": "2.0.0",
      "model_name": "LayoutModel",
      "state": {}
     },
     "adc50e73e8bd451fbabe16476a0c467d": {
      "model_module": "@jupyter-widgets/base",
      "model_module_version": "2.0.0",
      "model_name": "LayoutModel",
      "state": {}
     },
     "ade4c08e17954d2ca7a540a88ac2e395": {
      "model_module": "@jupyter-widgets/controls",
      "model_module_version": "2.0.0",
      "model_name": "HBoxModel",
      "state": {
       "children": [
        "IPY_MODEL_af92a83927ea4504825d84b21d4f4179"
       ],
       "layout": "IPY_MODEL_3a827bef55624a239c4715abb3fc2247"
      }
     },
     "ae0ae96b805c4ae8b03bd6e2abb5e00a": {
      "model_module": "@jupyter-widgets/controls",
      "model_module_version": "2.0.0",
      "model_name": "VBoxModel",
      "state": {
       "children": [
        "IPY_MODEL_6f5e2872647448ea943b5cbb72b4bbb4"
       ],
       "layout": "IPY_MODEL_455a6d76c67441219085170a382214d9"
      }
     },
     "ae6e0081f3c44f6297118a9636a4630e": {
      "model_module": "@jupyter-widgets/controls",
      "model_module_version": "2.0.0",
      "model_name": "VBoxModel",
      "state": {
       "children": [
        "IPY_MODEL_868e61cc96f648ed8453d77ad414b72c",
        "IPY_MODEL_b49937c79dfe4ef383c44abe87864154"
       ],
       "layout": "IPY_MODEL_d2fe78a1beb040cab0d56680c67bcf77"
      }
     },
     "ae9a8a0fa13c48abb6d57fac1c029885": {
      "model_module": "@jupyter-widgets/base",
      "model_module_version": "2.0.0",
      "model_name": "LayoutModel",
      "state": {}
     },
     "ae9fc58a8ab7401d85574cf9e448de30": {
      "model_module": "@jupyter-widgets/base",
      "model_module_version": "2.0.0",
      "model_name": "LayoutModel",
      "state": {}
     },
     "aebe7b97fa874ee1b8bb76f65d98d25c": {
      "model_module": "@jupyter-widgets/controls",
      "model_module_version": "2.0.0",
      "model_name": "HBoxModel",
      "state": {
       "children": [
        "IPY_MODEL_6588ffb0cc6a483baa89f76b2f00655e"
       ],
       "layout": "IPY_MODEL_0c43f55c91224d27a5da84e1b4248481"
      }
     },
     "aef5050d3e7944eeb2d15438630c8329": {
      "model_module": "@jupyter-widgets/base",
      "model_module_version": "2.0.0",
      "model_name": "LayoutModel",
      "state": {}
     },
     "af171ba9e6ae496f90f4717c3e3c40f9": {
      "model_module": "@jupyter-widgets/controls",
      "model_module_version": "2.0.0",
      "model_name": "HTMLStyleModel",
      "state": {
       "description_width": "",
       "font_size": null,
       "text_color": null
      }
     },
     "af256a2853b04a9a90f82885c3bf4c1e": {
      "model_module": "@jupyter-widgets/base",
      "model_module_version": "2.0.0",
      "model_name": "LayoutModel",
      "state": {}
     },
     "af2965ca9456485da78f71a7d0b65202": {
      "model_module": "@jupyter-widgets/base",
      "model_module_version": "2.0.0",
      "model_name": "LayoutModel",
      "state": {}
     },
     "af4f79625e5f44848271618f0ae2186e": {
      "model_module": "ipycanvas",
      "model_module_version": "^0.13",
      "model_name": "CanvasModel",
      "state": {
       "_canvas_manager": "IPY_MODEL_d9a833c7f08b41bd9d6176723d2ff2f4",
       "_model_module_version": "^0.13",
       "_view_module_version": "^0.13",
       "height": 480,
       "layout": "IPY_MODEL_204134ae74d84f309ef66f7cac1bc7ac",
       "width": 800
      }
     },
     "af8a743abcbf4627a4deb18fd921eed9": {
      "model_module": "@jupyter-widgets/controls",
      "model_module_version": "2.0.0",
      "model_name": "HTMLStyleModel",
      "state": {
       "description_width": "",
       "font_size": null,
       "text_color": null
      }
     },
     "af92a83927ea4504825d84b21d4f4179": {
      "model_module": "@jupyter-widgets/controls",
      "model_module_version": "2.0.0",
      "model_name": "VBoxModel",
      "state": {
       "children": [
        "IPY_MODEL_16d8a23bab504e9a9e7fe32c9b53f195"
       ],
       "layout": "IPY_MODEL_60634a456470467983a4b1651203191e"
      }
     },
     "af9e587038244403a20a9f3d2e2a5c5d": {
      "model_module": "@jupyter-widgets/base",
      "model_module_version": "2.0.0",
      "model_name": "LayoutModel",
      "state": {}
     },
     "afa6b45fdd414367bd7786119e4550a1": {
      "model_module": "@jupyter-widgets/controls",
      "model_module_version": "2.0.0",
      "model_name": "VBoxModel",
      "state": {
       "children": [
        "IPY_MODEL_947eabb76078420ca47f458c6a17fc15",
        "IPY_MODEL_9b0ed80fa0894286896313b6d736ea0d",
        "IPY_MODEL_4d041ca94b8e41d0bd0d65e9c83c19fb"
       ],
       "layout": "IPY_MODEL_6f3e7e7984b743af944031b3e25bab3a"
      }
     },
     "aff21e0020d04888b74c2cbb62d6278b": {
      "model_module": "@jupyter-widgets/base",
      "model_module_version": "2.0.0",
      "model_name": "LayoutModel",
      "state": {
       "width": "100%"
      }
     },
     "b01e894196394ae0983b04d514fd8d4a": {
      "model_module": "@jupyter-widgets/base",
      "model_module_version": "2.0.0",
      "model_name": "LayoutModel",
      "state": {}
     },
     "b03bd47528324fb2ac2dccd709807cd3": {
      "model_module": "@jupyter-widgets/base",
      "model_module_version": "2.0.0",
      "model_name": "LayoutModel",
      "state": {}
     },
     "b08484aab10a47d8b2d963a957a147e0": {
      "model_module": "@jupyter-widgets/base",
      "model_module_version": "2.0.0",
      "model_name": "LayoutModel",
      "state": {
       "width": "100%"
      }
     },
     "b0887b53a320474e8a4a443347b31a2b": {
      "model_module": "@jupyter-widgets/controls",
      "model_module_version": "2.0.0",
      "model_name": "HBoxModel",
      "state": {
       "children": [
        "IPY_MODEL_3a4c677824284092b8e92f485a16231b"
       ],
       "layout": "IPY_MODEL_7da978e37fc147eb8cc50e6dec7de3db"
      }
     },
     "b0af31c719354dfc9365bd9fc36db398": {
      "model_module": "@jupyter-widgets/base",
      "model_module_version": "2.0.0",
      "model_name": "LayoutModel",
      "state": {}
     },
     "b0d24c70f2234b59a346da5d352f56a7": {
      "model_module": "@jupyter-widgets/controls",
      "model_module_version": "2.0.0",
      "model_name": "VBoxModel",
      "state": {
       "children": [
        "IPY_MODEL_e407492b33f34c428bfdaf068905acec"
       ],
       "layout": "IPY_MODEL_5459d2d685a44c3cb829071f94c02e9b"
      }
     },
     "b0dd2b32584847dabb2aeae3c9955320": {
      "model_module": "@jupyter-widgets/base",
      "model_module_version": "2.0.0",
      "model_name": "LayoutModel",
      "state": {}
     },
     "b0dfc7fb2b4947efb59045b811336827": {
      "model_module": "@jupyter-widgets/base",
      "model_module_version": "2.0.0",
      "model_name": "LayoutModel",
      "state": {
       "width": "100%"
      }
     },
     "b120b7d3528f48ac9f93ed44b6d194ee": {
      "model_module": "@jupyter-widgets/controls",
      "model_module_version": "2.0.0",
      "model_name": "HBoxModel",
      "state": {
       "children": [
        "IPY_MODEL_40839ab602fe42c4bfddd30ba21f5047"
       ],
       "layout": "IPY_MODEL_bb349a6a89d842dba8b3dfcca8af496f"
      }
     },
     "b1ba46eee8a1477fb9eed00ee69d9f3f": {
      "model_module": "@jupyter-widgets/base",
      "model_module_version": "2.0.0",
      "model_name": "LayoutModel",
      "state": {}
     },
     "b1bd4d26214c4c30a7bebe0dbbbd63ef": {
      "model_module": "@jupyter-widgets/controls",
      "model_module_version": "2.0.0",
      "model_name": "VBoxModel",
      "state": {
       "children": [
        "IPY_MODEL_a78d256df6e04717809cda49c3316812",
        "IPY_MODEL_019726662109440da06d391d13647666",
        "IPY_MODEL_a5de232cc1864a82bc4c49abd46c063a"
       ],
       "layout": "IPY_MODEL_0a430cd565dd4a89ba518300eb595763"
      }
     },
     "b1e425987b6e4e0099be92881529dcb1": {
      "model_module": "@jupyter-widgets/controls",
      "model_module_version": "2.0.0",
      "model_name": "HTMLModel",
      "state": {
       "layout": "IPY_MODEL_db96f9ca77a74162ba9d0486d3a11d12",
       "style": "IPY_MODEL_af8a743abcbf4627a4deb18fd921eed9",
       "value": "100%"
      }
     },
     "b1eab8e544a94670ba5b7dd55eab8b4f": {
      "model_module": "@jupyter-widgets/base",
      "model_module_version": "2.0.0",
      "model_name": "LayoutModel",
      "state": {}
     },
     "b21b0e88636e4417bf2e221879e18177": {
      "model_module": "ipycanvas",
      "model_module_version": "^0.13",
      "model_name": "CanvasModel",
      "state": {
       "_canvas_manager": "IPY_MODEL_d9a833c7f08b41bd9d6176723d2ff2f4",
       "_model_module_version": "^0.13",
       "_view_module_version": "^0.13",
       "height": 480,
       "layout": "IPY_MODEL_f6490288397f4ecf8253ca0ada3fc1ab",
       "width": 800
      }
     },
     "b27508557b534e6b8f653296066fe66f": {
      "model_module": "@jupyter-widgets/controls",
      "model_module_version": "2.0.0",
      "model_name": "VBoxModel",
      "state": {
       "layout": "IPY_MODEL_a54c0e83954b40d59d6451225e4072d9"
      }
     },
     "b37ea2eca58846e9959f053caa97cdd7": {
      "model_module": "@jupyter-widgets/base",
      "model_module_version": "2.0.0",
      "model_name": "LayoutModel",
      "state": {}
     },
     "b3a75b52f68445c086ba15b936b34fd5": {
      "model_module": "@jupyter-widgets/controls",
      "model_module_version": "2.0.0",
      "model_name": "HTMLModel",
      "state": {
       "layout": "IPY_MODEL_3c0bb6d100154713b83d9ad437415792",
       "style": "IPY_MODEL_c31fbf55e9a041e0b44b57d72e1a2cc0",
       "value": "<style>.widget-readout { min-width: 20px !important; }</style>"
      }
     },
     "b3cd61dcd5524dcf90f30e1ebd6b76b1": {
      "model_module": "@jupyter-widgets/controls",
      "model_module_version": "2.0.0",
      "model_name": "HTMLModel",
      "state": {
       "layout": "IPY_MODEL_0d1f284f43424920b86ca7477882be11",
       "style": "IPY_MODEL_0b51a53828ed43038e853046edd45b85",
       "value": "<style>.widget-readout { min-width: 20px !important; }</style>"
      }
     },
     "b3f128673438434698e83bc5eb172073": {
      "model_module": "@jupyter-widgets/base",
      "model_module_version": "2.0.0",
      "model_name": "LayoutModel",
      "state": {}
     },
     "b3f6084673324dbf9b51e6342c782649": {
      "model_module": "ipycanvas",
      "model_module_version": "^0.13",
      "model_name": "CanvasModel",
      "state": {
       "_canvas_manager": "IPY_MODEL_d9a833c7f08b41bd9d6176723d2ff2f4",
       "_model_module_version": "^0.13",
       "_view_module_version": "^0.13",
       "height": 480,
       "layout": "IPY_MODEL_7279dc244741467d96ea2f7c1e75ec73",
       "width": 800
      }
     },
     "b46d67099be840489bb1f1cbab90620b": {
      "model_module": "@jupyter-widgets/controls",
      "model_module_version": "2.0.0",
      "model_name": "HBoxModel",
      "state": {
       "children": [
        "IPY_MODEL_bf95435798be48d9b1e0d6e12e9df2a7",
        "IPY_MODEL_2324fb7c888f4a28ab49c9adf83f1940",
        "IPY_MODEL_c9621479fb174ad788ce6769bf56be35"
       ],
       "layout": "IPY_MODEL_c3ff2968e43142439ac5eb8cc815cf0f"
      }
     },
     "b478b593f0fa4f63b92da87b047c52fc": {
      "model_module": "@jupyter-widgets/controls",
      "model_module_version": "2.0.0",
      "model_name": "VBoxModel",
      "state": {
       "children": [
        "IPY_MODEL_664377ec53d74552aa9800f01b2e0c92"
       ],
       "layout": "IPY_MODEL_0c980f25955c4b0db71952b1cacd8a08"
      }
     },
     "b4938f25c7334fcda35a0ed4e4754265": {
      "model_module": "@jupyter-widgets/controls",
      "model_module_version": "2.0.0",
      "model_name": "IntSliderModel",
      "state": {
       "behavior": "drag-tap",
       "layout": "IPY_MODEL_0ecf85c5c5d04b3f80d94a28fa8df503",
       "max": 500,
       "style": "IPY_MODEL_5cfefb5e625e4ea1a4f58ef8a2d3e654",
       "value": 188
      }
     },
     "b4940bb2097d423eb35602cbac700c7e": {
      "model_module": "@jupyter-widgets/base",
      "model_module_version": "2.0.0",
      "model_name": "LayoutModel",
      "state": {}
     },
     "b49937c79dfe4ef383c44abe87864154": {
      "model_module": "@jupyter-widgets/controls",
      "model_module_version": "2.0.0",
      "model_name": "HTMLModel",
      "state": {
       "layout": "IPY_MODEL_79b82edb8a944c8295113f84dfb8797d",
       "style": "IPY_MODEL_49724e32e6a846388da91c9f478a8e17",
       "value": "<style>.widget-readout { min-width: 20px !important; }</style>"
      }
     },
     "b50e3544861442fcb7f7c97c9b59055f": {
      "model_module": "@jupyter-widgets/base",
      "model_module_version": "2.0.0",
      "model_name": "LayoutModel",
      "state": {}
     },
     "b5318ced486e46bcae89edc541aad37d": {
      "model_module": "@jupyter-widgets/controls",
      "model_module_version": "2.0.0",
      "model_name": "SliderStyleModel",
      "state": {
       "description_width": ""
      }
     },
     "b5ad35abd4cf42c6b632b0910cd4f329": {
      "model_module": "@jupyter-widgets/controls",
      "model_module_version": "2.0.0",
      "model_name": "VBoxModel",
      "state": {
       "children": [
        "IPY_MODEL_ce1dc1dbf6614dc1abf2cb83f78cfbde"
       ],
       "layout": "IPY_MODEL_1822e1e3eede4b20b7c0fd05103bf6e5"
      }
     },
     "b5f21938b4c9489ebf2e83e9ec6cd3bb": {
      "model_module": "@jupyter-widgets/base",
      "model_module_version": "2.0.0",
      "model_name": "LayoutModel",
      "state": {}
     },
     "b611dfb746f84ffba185975d744e3794": {
      "model_module": "@jupyter-widgets/controls",
      "model_module_version": "2.0.0",
      "model_name": "HTMLModel",
      "state": {
       "layout": "IPY_MODEL_f4c9d9b534b44e6e96a22299197ea2ad",
       "style": "IPY_MODEL_876681b2f43d4b55b7ae4c50f913cd3f",
       "value": "100%"
      }
     },
     "b61eb07eb5ff48e09a8667f416413fe1": {
      "model_module": "@jupyter-widgets/base",
      "model_module_version": "2.0.0",
      "model_name": "LayoutModel",
      "state": {}
     },
     "b632e2d4346a48eea5b8f5f2b7425ca6": {
      "model_module": "@jupyter-widgets/base",
      "model_module_version": "2.0.0",
      "model_name": "LayoutModel",
      "state": {}
     },
     "b689394104be49f996d5fd390458fd77": {
      "model_module": "@jupyter-widgets/base",
      "model_module_version": "2.0.0",
      "model_name": "LayoutModel",
      "state": {}
     },
     "b68d7ad4d6344c84be185a982a72fb34": {
      "model_module": "@jupyter-widgets/base",
      "model_module_version": "2.0.0",
      "model_name": "LayoutModel",
      "state": {}
     },
     "b6e3b385407144dba5335f3b671c7bf7": {
      "model_module": "@jupyter-widgets/controls",
      "model_module_version": "2.0.0",
      "model_name": "VBoxModel",
      "state": {
       "children": [
        "IPY_MODEL_528f5de77d594255a45ae9beddac7e09",
        "IPY_MODEL_0bb7831b2fde47f79e3441cf2b5fe984",
        "IPY_MODEL_0d45ffaf2edd43f29250015c41f4672f"
       ],
       "layout": "IPY_MODEL_834a93c9398c491ca762ae383451f386"
      }
     },
     "b6e7530a213a4f6481174711fd529294": {
      "model_module": "@jupyter-widgets/controls",
      "model_module_version": "2.0.0",
      "model_name": "HBoxModel",
      "state": {
       "children": [
        "IPY_MODEL_0df95108723142728e4fe4c3e7e95431"
       ],
       "layout": "IPY_MODEL_43e1d923057b428a8260aa110aa93808"
      }
     },
     "b709c1eccd7341fb9c58d0c96d6c274f": {
      "model_module": "@jupyter-widgets/base",
      "model_module_version": "2.0.0",
      "model_name": "LayoutModel",
      "state": {}
     },
     "b71a250099d94f2099f609e6c6d7c952": {
      "model_module": "@jupyter-widgets/base",
      "model_module_version": "2.0.0",
      "model_name": "LayoutModel",
      "state": {}
     },
     "b72cefac716c4c4393833c8464c6b2cc": {
      "model_module": "@jupyter-widgets/controls",
      "model_module_version": "2.0.0",
      "model_name": "HBoxModel",
      "state": {
       "children": [
        "IPY_MODEL_b611dfb746f84ffba185975d744e3794",
        "IPY_MODEL_3532a181d0a74d02b0fb56b0706dc1bd",
        "IPY_MODEL_7d1d0f41acf840e280b60e38a68bfb8a"
       ],
       "layout": "IPY_MODEL_93855856ce834c75a06f84f0e5dc1e4d"
      }
     },
     "b758ab62024a46f8bd326c8dbd652bb9": {
      "model_module": "@jupyter-widgets/controls",
      "model_module_version": "2.0.0",
      "model_name": "VBoxModel",
      "state": {
       "children": [
        "IPY_MODEL_36e164abe4404fd187a9948cbeabae41",
        "IPY_MODEL_3645be1035e840aa8e23396499c34b7f",
        "IPY_MODEL_446128542d8749a0870c319e72e86c24"
       ],
       "layout": "IPY_MODEL_aa115f88c6ab43d28924271a5298844c"
      }
     },
     "b75f396d644748c486480b21e81f6fb3": {
      "model_module": "@jupyter-widgets/base",
      "model_module_version": "2.0.0",
      "model_name": "LayoutModel",
      "state": {}
     },
     "b7c531020b134348a79de04a983281c3": {
      "model_module": "@jupyter-widgets/controls",
      "model_module_version": "2.0.0",
      "model_name": "HTMLStyleModel",
      "state": {
       "description_width": "",
       "font_size": null,
       "text_color": null
      }
     },
     "b7cb0cb1faed4071b5f72aad4ed6ea78": {
      "model_module": "@jupyter-widgets/base",
      "model_module_version": "2.0.0",
      "model_name": "LayoutModel",
      "state": {}
     },
     "b7eb5661bb654e9e9fc73c5454ecac47": {
      "model_module": "@jupyter-widgets/controls",
      "model_module_version": "2.0.0",
      "model_name": "IntSliderModel",
      "state": {
       "behavior": "drag-tap",
       "layout": "IPY_MODEL_6190d81c05414ffbbf862384287dd3e9",
       "max": 1000,
       "style": "IPY_MODEL_a421db6cef2d4842832c66b2d3b19fe4",
       "value": 375
      }
     },
     "b804af1d539940e1a8aaa7ddbc397d0d": {
      "model_module": "@jupyter-widgets/base",
      "model_module_version": "2.0.0",
      "model_name": "LayoutModel",
      "state": {}
     },
     "b820c0a4747545a8aa68d88bbaafb61c": {
      "model_module": "ipycanvas",
      "model_module_version": "^0.13",
      "model_name": "CanvasModel",
      "state": {
       "_canvas_manager": "IPY_MODEL_d9a833c7f08b41bd9d6176723d2ff2f4",
       "_model_module_version": "^0.13",
       "_view_module_version": "^0.13",
       "height": 900,
       "layout": "IPY_MODEL_22daf23186dc4a908004ad617dce0f05",
       "width": 900
      }
     },
     "b846afe0ffba4091a7c5ecf4957fcfd5": {
      "model_module": "@jupyter-widgets/controls",
      "model_module_version": "2.0.0",
      "model_name": "HBoxModel",
      "state": {
       "children": [
        "IPY_MODEL_dc92f10fca0b4a69a26bc3040a181c61",
        "IPY_MODEL_0cbdd170ffe3471485f6327fddf7bdd9"
       ],
       "layout": "IPY_MODEL_b01e894196394ae0983b04d514fd8d4a"
      }
     },
     "b849527355ce4835acd1ac0cc0d8ed4b": {
      "model_module": "@jupyter-widgets/base",
      "model_module_version": "2.0.0",
      "model_name": "LayoutModel",
      "state": {}
     },
     "b87578b2b3af42bcbf7a008b5ba604a5": {
      "model_module": "@jupyter-widgets/base",
      "model_module_version": "2.0.0",
      "model_name": "LayoutModel",
      "state": {}
     },
     "b8d9d3a58cc14576818695e4d4582266": {
      "model_module": "@jupyter-widgets/controls",
      "model_module_version": "2.0.0",
      "model_name": "HTMLStyleModel",
      "state": {
       "description_width": "",
       "font_size": null,
       "text_color": null
      }
     },
     "b8dab3f70ace4325adc4ed548a31e15c": {
      "model_module": "@jupyter-widgets/controls",
      "model_module_version": "2.0.0",
      "model_name": "VBoxModel",
      "state": {
       "children": [
        "IPY_MODEL_8401858af69b45d5945c5752b1abcb3e",
        "IPY_MODEL_2735161a15de424fac208a264c4acbea",
        "IPY_MODEL_a1eb2869c5214965823e1530ddf24a4d"
       ],
       "layout": "IPY_MODEL_d1dbe3b122014f1fb4bf41ed004bacf8"
      }
     },
     "b8f598195a9842408d1b3f36505f6722": {
      "model_module": "@jupyter-widgets/controls",
      "model_module_version": "2.0.0",
      "model_name": "LabelModel",
      "state": {
       "layout": "IPY_MODEL_5a45ceb77dd744b1a222273213262c24",
       "style": "IPY_MODEL_fa8f384f70294ca5b0de8f4bed176f01",
       "value": "Curtain"
      }
     },
     "b96b50934f9e46d68d1dc404c543c24a": {
      "model_module": "@jupyter-widgets/base",
      "model_module_version": "2.0.0",
      "model_name": "LayoutModel",
      "state": {}
     },
     "b96bc62c307a43f783004b3f40b34a76": {
      "model_module": "@jupyter-widgets/controls",
      "model_module_version": "2.0.0",
      "model_name": "HTMLModel",
      "state": {
       "layout": "IPY_MODEL_ad73d9c2d15f4a98994ff9028444c390",
       "style": "IPY_MODEL_9d189745662947c5a8810bbc35fd60d4",
       "value": "<style>.widget-readout { min-width: 20px !important; }</style>"
      }
     },
     "b9ec87d34cec4be7b87c2315123f31d3": {
      "model_module": "@jupyter-widgets/base",
      "model_module_version": "2.0.0",
      "model_name": "LayoutModel",
      "state": {}
     },
     "ba1f34de3d2940f085b9c965705ede72": {
      "model_module": "@jupyter-widgets/controls",
      "model_module_version": "2.0.0",
      "model_name": "HTMLModel",
      "state": {
       "layout": "IPY_MODEL_72d5bf8c9bff4ef8b1f8a792c6fb6ec6",
       "style": "IPY_MODEL_d7b9663bc72049ab8582a8f8bfce0334",
       "value": "<style>.widget-readout { min-width: 20px !important; }</style>"
      }
     },
     "ba85c87aad4b42549f79c98ec4b45cef": {
      "model_module": "@jupyter-widgets/controls",
      "model_module_version": "2.0.0",
      "model_name": "HTMLModel",
      "state": {
       "layout": "IPY_MODEL_3a5b82e4e28c47778c18a179e861f12e",
       "style": "IPY_MODEL_c9ac9f8569ce4817b1a4c4fa29f74898",
       "value": "<style>.widget-readout { min-width: 20px !important; }</style>"
      }
     },
     "baadcde4b2174cd9953a4e2222e3a4ff": {
      "model_module": "@jupyter-widgets/controls",
      "model_module_version": "2.0.0",
      "model_name": "VBoxModel",
      "state": {
       "children": [
        "IPY_MODEL_1dc8d4c2c69e4750a044056040102d2b"
       ],
       "layout": "IPY_MODEL_d44da6ad73d34917ac64921d1059314b"
      }
     },
     "bab6ba2137b245b9ad37aadf3c6a3f4c": {
      "model_module": "@jupyter-widgets/controls",
      "model_module_version": "2.0.0",
      "model_name": "VBoxModel",
      "state": {
       "children": [
        "IPY_MODEL_559feb83f11d4eaa89488ea1c141f82c"
       ],
       "layout": "IPY_MODEL_137d7f5493dd42d6ba8629f3799acc38"
      }
     },
     "bad40efaa81b4ca480ddd4a0c05021e2": {
      "model_module": "@jupyter-widgets/controls",
      "model_module_version": "2.0.0",
      "model_name": "HBoxModel",
      "state": {
       "children": [
        "IPY_MODEL_0f36845a85574e36a11b97df4b251eaa"
       ],
       "layout": "IPY_MODEL_341d519ac5874c38a6792a71aab0fde0"
      }
     },
     "bb2ee27457d940f5801e9c83505212a2": {
      "model_module": "@jupyter-widgets/base",
      "model_module_version": "2.0.0",
      "model_name": "LayoutModel",
      "state": {
       "width": "100%"
      }
     },
     "bb349a6a89d842dba8b3dfcca8af496f": {
      "model_module": "@jupyter-widgets/base",
      "model_module_version": "2.0.0",
      "model_name": "LayoutModel",
      "state": {}
     },
     "bb64c1d56ac24172afc1feb983417f78": {
      "model_module": "@jupyter-widgets/base",
      "model_module_version": "2.0.0",
      "model_name": "LayoutModel",
      "state": {}
     },
     "bb6c2bdfeadf4c298842adbc0ec8e4e8": {
      "model_module": "@jupyter-widgets/controls",
      "model_module_version": "2.0.0",
      "model_name": "HTMLModel",
      "state": {
       "layout": "IPY_MODEL_bb64c1d56ac24172afc1feb983417f78",
       "style": "IPY_MODEL_b8d9d3a58cc14576818695e4d4582266",
       "value": "<style>.widget-readout { min-width: 20px !important; }</style>"
      }
     },
     "bb70ceffe61b4632a31f3de7fd940573": {
      "model_module": "@jupyter-widgets/controls",
      "model_module_version": "2.0.0",
      "model_name": "HBoxModel",
      "state": {
       "children": [
        "IPY_MODEL_674e3bf785294eb5b48c232e781c6141",
        "IPY_MODEL_a1f6c1634167472bbc82f76dd9741c39"
       ],
       "layout": "IPY_MODEL_9825af98e1da40cfa3995169b0526306"
      }
     },
     "bbb02e4d4248423e9b6a0faa77ec19c4": {
      "model_module": "@jupyter-widgets/controls",
      "model_module_version": "2.0.0",
      "model_name": "LabelModel",
      "state": {
       "layout": "IPY_MODEL_67e6cc13fee14a24824bc7233e20a3fd",
       "style": "IPY_MODEL_2485cd4cdd694fda930684b18bb3f428",
       "value": "Curtain"
      }
     },
     "bbca34af0e294771a9d1190fd4cb0c8a": {
      "model_module": "@jupyter-widgets/controls",
      "model_module_version": "2.0.0",
      "model_name": "HBoxModel",
      "state": {
       "children": [
        "IPY_MODEL_61a66295a6834890b53f178cdbf99ad9"
       ],
       "layout": "IPY_MODEL_3ffa8604de9a441c987d7408009d5fc3"
      }
     },
     "bbdcba12f4b048428637a1ea2e0d9182": {
      "model_module": "@jupyter-widgets/controls",
      "model_module_version": "2.0.0",
      "model_name": "SliderStyleModel",
      "state": {
       "description_width": ""
      }
     },
     "bbe051c365d2414180a61fb186415c7d": {
      "model_module": "@jupyter-widgets/controls",
      "model_module_version": "2.0.0",
      "model_name": "VBoxModel",
      "state": {
       "children": [
        "IPY_MODEL_39b006165a0149adbe1ec9611c2e2130"
       ],
       "layout": "IPY_MODEL_8150d32875bb460480e5874ce1873475"
      }
     },
     "bbee35db955e4c9fb462fb902a6fce74": {
      "model_module": "@jupyter-widgets/controls",
      "model_module_version": "2.0.0",
      "model_name": "LabelModel",
      "state": {
       "layout": "IPY_MODEL_682ee58d717f45eeb06000d370628640",
       "style": "IPY_MODEL_0b074fea492b4db29a382bcff62c5fbe",
       "value": "Curtain"
      }
     },
     "bc91b5b80bbb4ea085128e1cd90f2dc5": {
      "model_module": "@jupyter-widgets/base",
      "model_module_version": "2.0.0",
      "model_name": "LayoutModel",
      "state": {}
     },
     "bd0646b8017646dc97a7c71162e6343f": {
      "model_module": "@jupyter-widgets/base",
      "model_module_version": "2.0.0",
      "model_name": "LayoutModel",
      "state": {}
     },
     "bd5aa7d7ad55448dbd1b5c8feaec37de": {
      "model_module": "@jupyter-widgets/controls",
      "model_module_version": "2.0.0",
      "model_name": "IntSliderModel",
      "state": {
       "behavior": "drag-tap",
       "layout": "IPY_MODEL_bb2ee27457d940f5801e9c83505212a2",
       "max": 500,
       "style": "IPY_MODEL_1f06d724cb724755ae4eed19fe22fe94"
      }
     },
     "bd9d55c84a414526a65938a568ab5c3c": {
      "model_module": "@jupyter-widgets/controls",
      "model_module_version": "2.0.0",
      "model_name": "SliderStyleModel",
      "state": {
       "description_width": ""
      }
     },
     "bde506a353774e6986e5a0c8476c20d0": {
      "model_module": "@jupyter-widgets/base",
      "model_module_version": "2.0.0",
      "model_name": "LayoutModel",
      "state": {}
     },
     "be1c629125534ed5bc4452feaddc5dbb": {
      "model_module": "@jupyter-widgets/controls",
      "model_module_version": "2.0.0",
      "model_name": "VBoxModel",
      "state": {
       "children": [
        "IPY_MODEL_4432b4fd91c947adbb2bc9b800bcb904",
        "IPY_MODEL_31c3b74ca33c49e5a2089f10d640577f"
       ],
       "layout": "IPY_MODEL_b3f128673438434698e83bc5eb172073"
      }
     },
     "be28daadbe754aafb4afea84badfbbc7": {
      "model_module": "@jupyter-widgets/controls",
      "model_module_version": "2.0.0",
      "model_name": "HTMLModel",
      "state": {
       "layout": "IPY_MODEL_444e932d82f14367ad35707cb83a2d87",
       "style": "IPY_MODEL_0318a93ab36a447f8ec560e40663f621",
       "value": "<style>.widget-readout { min-width: 20px !important; }</style>"
      }
     },
     "be94b78fa00d4470b2bccc743d4777f8": {
      "model_module": "@jupyter-widgets/base",
      "model_module_version": "2.0.0",
      "model_name": "LayoutModel",
      "state": {}
     },
     "bf24044c85be42ec80c6f1ab6684f722": {
      "model_module": "ipycanvas",
      "model_module_version": "^0.13",
      "model_name": "CanvasModel",
      "state": {
       "_canvas_manager": "IPY_MODEL_d9a833c7f08b41bd9d6176723d2ff2f4",
       "_model_module_version": "^0.13",
       "_view_module_version": "^0.13",
       "height": 900,
       "layout": "IPY_MODEL_bd0646b8017646dc97a7c71162e6343f",
       "width": 900
      }
     },
     "bf28b4783163466d90ed915a4f6e2941": {
      "model_module": "@jupyter-widgets/base",
      "model_module_version": "2.0.0",
      "model_name": "LayoutModel",
      "state": {}
     },
     "bf46d630ef994d31b0ac0fb55e4a6c23": {
      "model_module": "@jupyter-widgets/base",
      "model_module_version": "2.0.0",
      "model_name": "LayoutModel",
      "state": {}
     },
     "bf56e11b767741d8bd33a1b95c0353de": {
      "model_module": "ipycanvas",
      "model_module_version": "^0.13",
      "model_name": "CanvasModel",
      "state": {
       "_canvas_manager": "IPY_MODEL_d9a833c7f08b41bd9d6176723d2ff2f4",
       "_model_module_version": "^0.13",
       "_view_module_version": "^0.13",
       "height": 900,
       "layout": "IPY_MODEL_82a9692e8fe8429d8a351f44b4b3f803",
       "width": 540
      }
     },
     "bf95435798be48d9b1e0d6e12e9df2a7": {
      "model_module": "@jupyter-widgets/controls",
      "model_module_version": "2.0.0",
      "model_name": "HTMLModel",
      "state": {
       "layout": "IPY_MODEL_10552f8040ea4f8a9f790b5a87f257b1",
       "style": "IPY_MODEL_6ea5136ad3a54dbcac8d9f3731bf858b",
       "value": "100%"
      }
     },
     "bfa3b12317ca48b58096b63e61f2d198": {
      "model_module": "@jupyter-widgets/controls",
      "model_module_version": "2.0.0",
      "model_name": "HTMLModel",
      "state": {
       "layout": "IPY_MODEL_f83ffed8c15c46e0b7715b6a07d1993e",
       "style": "IPY_MODEL_72312aac63374ba88aa0a27b7a724537",
       "value": " 100/100 [01:21&lt;00:00]"
      }
     },
     "c07351a0ac3d43be806fd6a0fb2b5cd3": {
      "model_module": "@jupyter-widgets/base",
      "model_module_version": "2.0.0",
      "model_name": "LayoutModel",
      "state": {}
     },
     "c092ea5e434845ef9461291fbff14a7a": {
      "model_module": "@jupyter-widgets/controls",
      "model_module_version": "2.0.0",
      "model_name": "LabelModel",
      "state": {
       "layout": "IPY_MODEL_1da26e72f0044331b70e4f8c6d5e8d22",
       "style": "IPY_MODEL_dea3fa45ef114e409930c8a82ea4aaf6",
       "value": "Curtain"
      }
     },
     "c0ab43b9b4b843bda8fa7d59d89a135e": {
      "model_module": "@jupyter-widgets/base",
      "model_module_version": "2.0.0",
      "model_name": "LayoutModel",
      "state": {}
     },
     "c0b3a9f5e5a4433aa506c47d59f5cc31": {
      "model_module": "@jupyter-widgets/controls",
      "model_module_version": "2.0.0",
      "model_name": "HTMLModel",
      "state": {
       "layout": "IPY_MODEL_a6b8e48ad5784ff28dc8a661fb123407",
       "style": "IPY_MODEL_75bc56d22e5d4a52ab777ac6eb7b847d",
       "value": "<style>.widget-readout { min-width: 20px !important; }</style>"
      }
     },
     "c0ce44d3cc5e475d801b7853cb068f60": {
      "model_module": "@jupyter-widgets/base",
      "model_module_version": "2.0.0",
      "model_name": "LayoutModel",
      "state": {}
     },
     "c12eedb379654a848160b3d51c1cbe85": {
      "model_module": "@jupyter-widgets/base",
      "model_module_version": "2.0.0",
      "model_name": "LayoutModel",
      "state": {}
     },
     "c14b629ba22c4e708bf987aee648c763": {
      "model_module": "@jupyter-widgets/base",
      "model_module_version": "2.0.0",
      "model_name": "LayoutModel",
      "state": {}
     },
     "c1718b7f96ca45acabce5f70d55b8582": {
      "model_module": "@jupyter-widgets/base",
      "model_module_version": "2.0.0",
      "model_name": "LayoutModel",
      "state": {}
     },
     "c1b2e55a7e6f416db1835b51fbd1098b": {
      "model_module": "@jupyter-widgets/controls",
      "model_module_version": "2.0.0",
      "model_name": "SliderStyleModel",
      "state": {
       "description_width": ""
      }
     },
     "c1c348e667bd4fb6922e267550a2c809": {
      "model_module": "@jupyter-widgets/base",
      "model_module_version": "2.0.0",
      "model_name": "LayoutModel",
      "state": {}
     },
     "c1d145d7e21f4f4baeeaf20c90ced4e7": {
      "model_module": "@jupyter-widgets/base",
      "model_module_version": "2.0.0",
      "model_name": "LayoutModel",
      "state": {}
     },
     "c1d6c459087d4a3e97a1d15a4a2aaf53": {
      "model_module": "@jupyter-widgets/base",
      "model_module_version": "2.0.0",
      "model_name": "LayoutModel",
      "state": {}
     },
     "c1f14a53b242456b913e06cbdedf676f": {
      "model_module": "@jupyter-widgets/controls",
      "model_module_version": "2.0.0",
      "model_name": "HTMLModel",
      "state": {
       "layout": "IPY_MODEL_d942db2fabcd411293fd1fe1556603c9",
       "style": "IPY_MODEL_1593a852d36d44cea2cc03a63b72e03d",
       "value": "<style>.widget-readout { min-width: 20px !important; }</style>"
      }
     },
     "c1f55169248f4b6583ba5c5b3843881c": {
      "model_module": "@jupyter-widgets/controls",
      "model_module_version": "2.0.0",
      "model_name": "HBoxModel",
      "state": {
       "children": [
        "IPY_MODEL_39502f35af6e48b18d298a82c6376bc8"
       ],
       "layout": "IPY_MODEL_5ca2c130c0b546b8a3d078ef89771c2c"
      }
     },
     "c2293baf4aa34234a8c6c3ed587969b4": {
      "model_module": "@jupyter-widgets/base",
      "model_module_version": "2.0.0",
      "model_name": "LayoutModel",
      "state": {}
     },
     "c29495bd6c1e4feb8bae46ee602148da": {
      "model_module": "@jupyter-widgets/base",
      "model_module_version": "2.0.0",
      "model_name": "LayoutModel",
      "state": {}
     },
     "c2b630a317e149b88a6b9ec6cf865493": {
      "model_module": "@jupyter-widgets/base",
      "model_module_version": "2.0.0",
      "model_name": "LayoutModel",
      "state": {
       "width": "100%"
      }
     },
     "c2be808b582f4320a2fc0b060a4a7434": {
      "model_module": "@jupyter-widgets/controls",
      "model_module_version": "2.0.0",
      "model_name": "VBoxModel",
      "state": {
       "layout": "IPY_MODEL_145085fcb8a641d289d81a5c6a6d7e6a"
      }
     },
     "c3194038bc8b423290772492a73ff903": {
      "model_module": "@jupyter-widgets/controls",
      "model_module_version": "2.0.0",
      "model_name": "HTMLStyleModel",
      "state": {
       "description_width": "",
       "font_size": null,
       "text_color": null
      }
     },
     "c31fbf55e9a041e0b44b57d72e1a2cc0": {
      "model_module": "@jupyter-widgets/controls",
      "model_module_version": "2.0.0",
      "model_name": "HTMLStyleModel",
      "state": {
       "description_width": "",
       "font_size": null,
       "text_color": null
      }
     },
     "c34c479d15754b028913fa3921aaf6a2": {
      "model_module": "@jupyter-widgets/base",
      "model_module_version": "2.0.0",
      "model_name": "LayoutModel",
      "state": {}
     },
     "c36497a956c6439b8ae300c88727c4f3": {
      "model_module": "@jupyter-widgets/controls",
      "model_module_version": "2.0.0",
      "model_name": "HBoxModel",
      "state": {
       "children": [
        "IPY_MODEL_d4b3015ea6f147158cb224e3f23cf2e3",
        "IPY_MODEL_f1d70cbda85a4ebf876f7854611a1f29"
       ],
       "layout": "IPY_MODEL_48ad2baaeddb408480d1061db594b0c0"
      }
     },
     "c3dbd0b086054c2299696e7734ce2eda": {
      "model_module": "@jupyter-widgets/controls",
      "model_module_version": "2.0.0",
      "model_name": "HTMLStyleModel",
      "state": {
       "description_width": "",
       "font_size": null,
       "text_color": null
      }
     },
     "c3ff2968e43142439ac5eb8cc815cf0f": {
      "model_module": "@jupyter-widgets/base",
      "model_module_version": "2.0.0",
      "model_name": "LayoutModel",
      "state": {}
     },
     "c419d741bb43429da64b7a4f879b3de6": {
      "model_module": "@jupyter-widgets/controls",
      "model_module_version": "2.0.0",
      "model_name": "VBoxModel",
      "state": {
       "children": [
        "IPY_MODEL_ceab9f7a53554ff986f3b2de06c4677b"
       ],
       "layout": "IPY_MODEL_3f53a8bd886f44ef8714f8524296a7fc"
      }
     },
     "c4256ca4f9ad4f07a2b94efb4b04b805": {
      "model_module": "@jupyter-widgets/base",
      "model_module_version": "2.0.0",
      "model_name": "LayoutModel",
      "state": {}
     },
     "c514cbab7f6d480a914cead05ef75b31": {
      "model_module": "@jupyter-widgets/controls",
      "model_module_version": "2.0.0",
      "model_name": "HTMLModel",
      "state": {
       "layout": "IPY_MODEL_f7b64a8b4e84458a983b8bc6769e4e8a",
       "style": "IPY_MODEL_7450e242207849b2b8813f40136b3c12",
       "value": "<style>.widget-readout { min-width: 20px !important; }</style>"
      }
     },
     "c538f6fe73044edaa08e0fde68d6d73c": {
      "model_module": "@jupyter-widgets/controls",
      "model_module_version": "2.0.0",
      "model_name": "VBoxModel",
      "state": {
       "children": [
        "IPY_MODEL_7132ed05133045ee98e2281d6299cf81",
        "IPY_MODEL_773932273e8743d8929c17204190325d",
        "IPY_MODEL_35c32c6bcc7748ba8a301bb0b22ab33f"
       ],
       "layout": "IPY_MODEL_7a21d00b0c5b4f49ae24caa328126121"
      }
     },
     "c560732726904dadbab27ca0efbed49e": {
      "model_module": "@jupyter-widgets/base",
      "model_module_version": "2.0.0",
      "model_name": "LayoutModel",
      "state": {}
     },
     "c56b26dfa74d4e2dba811e45c951505d": {
      "model_module": "ipycanvas",
      "model_module_version": "^0.13",
      "model_name": "CanvasModel",
      "state": {
       "_canvas_manager": "IPY_MODEL_d9a833c7f08b41bd9d6176723d2ff2f4",
       "_model_module_version": "^0.13",
       "_view_module_version": "^0.13",
       "height": 900,
       "layout": "IPY_MODEL_58775922cf9e445eab2f3bcee61266a1",
       "width": 900
      }
     },
     "c56d4fb4f28242389947bf8ad58a8120": {
      "model_module": "@jupyter-widgets/base",
      "model_module_version": "2.0.0",
      "model_name": "LayoutModel",
      "state": {}
     },
     "c5f61f1f8b3b4fba884a4dbe739a0d50": {
      "model_module": "@jupyter-widgets/controls",
      "model_module_version": "2.0.0",
      "model_name": "VBoxModel",
      "state": {
       "children": [
        "IPY_MODEL_ade4c08e17954d2ca7a540a88ac2e395",
        "IPY_MODEL_ac3124ff7c94445e870d43bc1865e0c1",
        "IPY_MODEL_3c10003eaa224bcaa06d8ec3dbb8e5e0"
       ],
       "layout": "IPY_MODEL_db570943b909401aab5ceb390e86a1ec"
      }
     },
     "c5fb1592f6d04973801e0bfd588aceeb": {
      "model_module": "@jupyter-widgets/base",
      "model_module_version": "2.0.0",
      "model_name": "LayoutModel",
      "state": {}
     },
     "c629a2acb3714754bca8877f4f8f2e2d": {
      "model_module": "@jupyter-widgets/base",
      "model_module_version": "2.0.0",
      "model_name": "LayoutModel",
      "state": {}
     },
     "c6846ab9932642a0bfb0403a7bfff925": {
      "model_module": "@jupyter-widgets/base",
      "model_module_version": "2.0.0",
      "model_name": "LayoutModel",
      "state": {}
     },
     "c685b09d4b274fe88d79f3cda19ac66e": {
      "model_module": "ipycanvas",
      "model_module_version": "^0.13",
      "model_name": "CanvasModel",
      "state": {
       "_canvas_manager": "IPY_MODEL_d9a833c7f08b41bd9d6176723d2ff2f4",
       "_model_module_version": "^0.13",
       "_view_module_version": "^0.13",
       "height": 900,
       "layout": "IPY_MODEL_9575866f60524b089c5e5919657c1964",
       "width": 900
      }
     },
     "c69f823e2e0c40ea849fc7f7460e0270": {
      "model_module": "ipycanvas",
      "model_module_version": "^0.13",
      "model_name": "CanvasModel",
      "state": {
       "_canvas_manager": "IPY_MODEL_d9a833c7f08b41bd9d6176723d2ff2f4",
       "_model_module_version": "^0.13",
       "_view_module_version": "^0.13",
       "height": 2845,
       "layout": "IPY_MODEL_c958992e05e2452da5945fbaccb3abd3",
       "width": 2988
      }
     },
     "c75c15cbe4384f0f94f58328d22ea37a": {
      "model_module": "@jupyter-widgets/base",
      "model_module_version": "2.0.0",
      "model_name": "LayoutModel",
      "state": {}
     },
     "c75e69baa49b46938bf4313e58d3c11b": {
      "model_module": "@jupyter-widgets/base",
      "model_module_version": "2.0.0",
      "model_name": "LayoutModel",
      "state": {}
     },
     "c76e17a95fdc4681acdb725f27e02eb1": {
      "model_module": "@jupyter-widgets/base",
      "model_module_version": "2.0.0",
      "model_name": "LayoutModel",
      "state": {}
     },
     "c79319dcb42f404da2e48c226f977fea": {
      "model_module": "@jupyter-widgets/controls",
      "model_module_version": "2.0.0",
      "model_name": "VBoxModel",
      "state": {
       "children": [
        "IPY_MODEL_1b28a12320fe446ba5e470f2d2ebacbb",
        "IPY_MODEL_93672a496cfe4ac5ba2331a73a8ce945"
       ],
       "layout": "IPY_MODEL_4d2557ebfee941f88d1660038db960a7"
      }
     },
     "c7d16001b3594f3aaf81707686900ba0": {
      "model_module": "ipycanvas",
      "model_module_version": "^0.13",
      "model_name": "CanvasModel",
      "state": {
       "_canvas_manager": "IPY_MODEL_d9a833c7f08b41bd9d6176723d2ff2f4",
       "_model_module_version": "^0.13",
       "_view_module_version": "^0.13",
       "height": 900,
       "layout": "IPY_MODEL_229d8f8f57a64a6597ffbe4723df0bda",
       "width": 900
      }
     },
     "c7f83c77a6174b598efc83bcb58ad3a8": {
      "model_module": "@jupyter-widgets/controls",
      "model_module_version": "2.0.0",
      "model_name": "HBoxModel",
      "state": {
       "children": [
        "IPY_MODEL_05701d13384b40e0acdc980c266b41be"
       ],
       "layout": "IPY_MODEL_8894e5a0fbef48288b427b6d50d47202"
      }
     },
     "c8065beb0aa4444fb57713e45c860d26": {
      "model_module": "@jupyter-widgets/controls",
      "model_module_version": "2.0.0",
      "model_name": "HBoxModel",
      "state": {
       "children": [
        "IPY_MODEL_61f492959fd145338711670d66fa9edc"
       ],
       "layout": "IPY_MODEL_c76e17a95fdc4681acdb725f27e02eb1"
      }
     },
     "c82e5884853e48da85fc6e8b76f4d8c6": {
      "model_module": "@jupyter-widgets/controls",
      "model_module_version": "2.0.0",
      "model_name": "VBoxModel",
      "state": {
       "children": [
        "IPY_MODEL_c7f83c77a6174b598efc83bcb58ad3a8",
        "IPY_MODEL_f273cf7fd462479c8685aa7271990724",
        "IPY_MODEL_6aa8df411500467bb8698ba670eead82"
       ],
       "layout": "IPY_MODEL_b849527355ce4835acd1ac0cc0d8ed4b"
      }
     },
     "c838dfc3ed5a41909aea71b917d10ae3": {
      "model_module": "@jupyter-widgets/controls",
      "model_module_version": "2.0.0",
      "model_name": "VBoxModel",
      "state": {
       "children": [
        "IPY_MODEL_8cf7390b94b34c14931926f2fa2c16d4",
        "IPY_MODEL_9494ee02b3664577983044290f0ff590"
       ],
       "layout": "IPY_MODEL_a237ff2963db43bc8ff9910389f728b6"
      }
     },
     "c91f943ca23042f0a6ac44140146f369": {
      "model_module": "@jupyter-widgets/base",
      "model_module_version": "2.0.0",
      "model_name": "LayoutModel",
      "state": {}
     },
     "c93c0c699d1f4a089f63192399234b6a": {
      "model_module": "@jupyter-widgets/base",
      "model_module_version": "2.0.0",
      "model_name": "LayoutModel",
      "state": {}
     },
     "c958992e05e2452da5945fbaccb3abd3": {
      "model_module": "@jupyter-widgets/base",
      "model_module_version": "2.0.0",
      "model_name": "LayoutModel",
      "state": {}
     },
     "c9621479fb174ad788ce6769bf56be35": {
      "model_module": "@jupyter-widgets/controls",
      "model_module_version": "2.0.0",
      "model_name": "HTMLModel",
      "state": {
       "layout": "IPY_MODEL_26d1847755414df581db4f8fb26fd549",
       "style": "IPY_MODEL_aa76cc5b5a48412780869b4c80612de8",
       "value": " 100/100 [02:46&lt;00:00]"
      }
     },
     "c9ac9f8569ce4817b1a4c4fa29f74898": {
      "model_module": "@jupyter-widgets/controls",
      "model_module_version": "2.0.0",
      "model_name": "HTMLStyleModel",
      "state": {
       "description_width": "",
       "font_size": null,
       "text_color": null
      }
     },
     "c9bee584f0b041049c9a71a6abd90e72": {
      "model_module": "@jupyter-widgets/controls",
      "model_module_version": "2.0.0",
      "model_name": "VBoxModel",
      "state": {
       "children": [
        "IPY_MODEL_e0f428981f89470fb6b5ae704e993496"
       ],
       "layout": "IPY_MODEL_46bb4e7576244bf0bb6e514637f16901"
      }
     },
     "c9e9c1afbba1466d8cff9e9a8c0b07d0": {
      "model_module": "@jupyter-widgets/controls",
      "model_module_version": "2.0.0",
      "model_name": "HBoxModel",
      "state": {
       "children": [
        "IPY_MODEL_12a578954270409997e82e0d3325ead2"
       ],
       "layout": "IPY_MODEL_13e14c0ccc9941a0a00a048d1d046b61"
      }
     },
     "ca7775412f2c4896a3043db5ef6a8058": {
      "model_module": "@jupyter-widgets/base",
      "model_module_version": "2.0.0",
      "model_name": "LayoutModel",
      "state": {
       "width": "100%"
      }
     },
     "cb5dcbe7299549d49411a948e58cdbd0": {
      "model_module": "@jupyter-widgets/controls",
      "model_module_version": "2.0.0",
      "model_name": "HBoxModel",
      "state": {
       "children": [
        "IPY_MODEL_b1e425987b6e4e0099be92881529dcb1",
        "IPY_MODEL_29ab633c0c4248558c3d3fa948eb5234",
        "IPY_MODEL_36d865ccfb7c4198b882e12c561a45be"
       ],
       "layout": "IPY_MODEL_b03bd47528324fb2ac2dccd709807cd3"
      }
     },
     "cbaced1d04dd49f8ac09a94847121f15": {
      "model_module": "@jupyter-widgets/base",
      "model_module_version": "2.0.0",
      "model_name": "LayoutModel",
      "state": {}
     },
     "cbd029909e4845089be6396fecf507f6": {
      "model_module": "ipycanvas",
      "model_module_version": "^0.13",
      "model_name": "CanvasModel",
      "state": {
       "_canvas_manager": "IPY_MODEL_d9a833c7f08b41bd9d6176723d2ff2f4",
       "_model_module_version": "^0.13",
       "_view_module_version": "^0.13",
       "height": 900,
       "layout": "IPY_MODEL_8085c18cee014074af6bc4c1b65edc4f",
       "width": 900
      }
     },
     "cc14de23df104ac086eb77ff1147d771": {
      "model_module": "@jupyter-widgets/base",
      "model_module_version": "2.0.0",
      "model_name": "LayoutModel",
      "state": {}
     },
     "cc6d2d7b6dea48098999a84e4b407aaa": {
      "model_module": "@jupyter-widgets/base",
      "model_module_version": "2.0.0",
      "model_name": "LayoutModel",
      "state": {}
     },
     "cc79558e56ef43c083682741250aec4b": {
      "model_module": "@jupyter-widgets/base",
      "model_module_version": "2.0.0",
      "model_name": "LayoutModel",
      "state": {
       "width": "100%"
      }
     },
     "cc921c40e227452584ff58d355d5f563": {
      "model_module": "@jupyter-widgets/controls",
      "model_module_version": "2.0.0",
      "model_name": "VBoxModel",
      "state": {
       "children": [
        "IPY_MODEL_eda7ec2ef66b42b3a9a02bc18d978729"
       ],
       "layout": "IPY_MODEL_b0af31c719354dfc9365bd9fc36db398"
      }
     },
     "ccfc42fe5a0b42ceb858aff0d659555b": {
      "model_module": "@jupyter-widgets/controls",
      "model_module_version": "2.0.0",
      "model_name": "VBoxModel",
      "state": {
       "children": [
        "IPY_MODEL_973ebf7b2f144f8a8ae65f4d83b540eb"
       ],
       "layout": "IPY_MODEL_7f74e367bdc54955a7c46bf56d3108c5"
      }
     },
     "cd049a1db1eb4fa191cdcac67feaf1ec": {
      "model_module": "@jupyter-widgets/base",
      "model_module_version": "2.0.0",
      "model_name": "LayoutModel",
      "state": {}
     },
     "cd72b6d5d34a41789e560f664fcf5c58": {
      "model_module": "@jupyter-widgets/base",
      "model_module_version": "2.0.0",
      "model_name": "LayoutModel",
      "state": {}
     },
     "cd88fc3f6cb548369135b00998f38a71": {
      "model_module": "@jupyter-widgets/base",
      "model_module_version": "2.0.0",
      "model_name": "LayoutModel",
      "state": {}
     },
     "cd964f0ca6744153afbc623bc2e06f8c": {
      "model_module": "@jupyter-widgets/controls",
      "model_module_version": "2.0.0",
      "model_name": "VBoxModel",
      "state": {
       "children": [
        "IPY_MODEL_6027ca4a558e481299269bc646a76448",
        "IPY_MODEL_e72edf60c6794952ae9cb339ae298159"
       ],
       "layout": "IPY_MODEL_6b6c5ced391e4493b10f9fc2d181bcc1"
      }
     },
     "cdb07cadfc3a42c098a1080aae0e2b4a": {
      "model_module": "@jupyter-widgets/controls",
      "model_module_version": "2.0.0",
      "model_name": "SliderStyleModel",
      "state": {
       "description_width": ""
      }
     },
     "cdcb61743c4d4a4d9d1dcdec58124cf1": {
      "model_module": "@jupyter-widgets/base",
      "model_module_version": "2.0.0",
      "model_name": "LayoutModel",
      "state": {}
     },
     "ce1dc1dbf6614dc1abf2cb83f78cfbde": {
      "model_module": "@jupyter-widgets/controls",
      "model_module_version": "2.0.0",
      "model_name": "VBoxModel",
      "state": {
       "children": [
        "IPY_MODEL_6d2e8bed23d14df78ebb0537d65b07fe",
        "IPY_MODEL_8faa7aeed8414a2798311abbdb67e299",
        "IPY_MODEL_028d969c32074f8db072e0b9dab488e9"
       ],
       "layout": "IPY_MODEL_42b25d79c91d4bb5abd5db327cea990c"
      }
     },
     "ce621e2b11e94835bec8706de0d7380e": {
      "model_module": "@jupyter-widgets/base",
      "model_module_version": "2.0.0",
      "model_name": "LayoutModel",
      "state": {}
     },
     "ce8c4f15f4b549acb924350a655ebc4d": {
      "model_module": "@jupyter-widgets/base",
      "model_module_version": "2.0.0",
      "model_name": "LayoutModel",
      "state": {}
     },
     "cea2466ec5264fcdaf9a233e0907b4c9": {
      "model_module": "@jupyter-widgets/controls",
      "model_module_version": "2.0.0",
      "model_name": "HBoxModel",
      "state": {
       "children": [
        "IPY_MODEL_7fb8ad34cd5e48e98d56f498f345d196",
        "IPY_MODEL_8429f619d8d84dddb9cbd223bdebd2cc"
       ],
       "layout": "IPY_MODEL_c629a2acb3714754bca8877f4f8f2e2d"
      }
     },
     "ceab9f7a53554ff986f3b2de06c4677b": {
      "model_module": "@jupyter-widgets/controls",
      "model_module_version": "2.0.0",
      "model_name": "VBoxModel",
      "state": {
       "children": [
        "IPY_MODEL_c8065beb0aa4444fb57713e45c860d26",
        "IPY_MODEL_e5f127024a214438b95e9ad573a5e19c",
        "IPY_MODEL_10b75e450cea4ab0bb3c27ba2acdf350"
       ],
       "layout": "IPY_MODEL_42b4939548254336a481dfbc31b939a6"
      }
     },
     "cee98468dcba440bbf4f69ed4b3edf96": {
      "model_module": "@jupyter-widgets/base",
      "model_module_version": "2.0.0",
      "model_name": "LayoutModel",
      "state": {}
     },
     "cefbfe1fdba74e6a938342b87fc29c5c": {
      "model_module": "@jupyter-widgets/controls",
      "model_module_version": "2.0.0",
      "model_name": "SliderStyleModel",
      "state": {
       "description_width": ""
      }
     },
     "cf3fdcf4c9904524be7f3862f3ba02ec": {
      "model_module": "@jupyter-widgets/base",
      "model_module_version": "2.0.0",
      "model_name": "LayoutModel",
      "state": {}
     },
     "cf4348acd6b2452fb94093232a5eeb97": {
      "model_module": "@jupyter-widgets/base",
      "model_module_version": "2.0.0",
      "model_name": "LayoutModel",
      "state": {}
     },
     "cf55fbdce65f4e4eae368fe1aafc3db6": {
      "model_module": "@jupyter-widgets/controls",
      "model_module_version": "2.0.0",
      "model_name": "HBoxModel",
      "state": {
       "children": [
        "IPY_MODEL_6eb6a7860b174f019d3f41080d8df03f"
       ],
       "layout": "IPY_MODEL_55b4338f9aa44db0914cb252d40c4104"
      }
     },
     "cf6611712d9c41488affe04dc31fbd20": {
      "model_module": "@jupyter-widgets/controls",
      "model_module_version": "2.0.0",
      "model_name": "LabelStyleModel",
      "state": {
       "description_width": "",
       "font_family": null,
       "font_size": null,
       "font_style": null,
       "font_variant": null,
       "font_weight": null,
       "text_color": null,
       "text_decoration": null
      }
     },
     "cfc9db67a458451d90b387a9f2f522d6": {
      "model_module": "@jupyter-widgets/controls",
      "model_module_version": "2.0.0",
      "model_name": "HTMLModel",
      "state": {
       "layout": "IPY_MODEL_128882643a1a48e1ac88d1c61f172929",
       "style": "IPY_MODEL_fc0ce4bd704b442fb0ce42c786eaf422",
       "value": "<style>.widget-readout { min-width: 20px !important; }</style>"
      }
     },
     "cfea49e43ff84a929262b7261ae10556": {
      "model_module": "@jupyter-widgets/base",
      "model_module_version": "2.0.0",
      "model_name": "LayoutModel",
      "state": {
       "width": "100%"
      }
     },
     "d06d299d01e24ac7abcfa0170c6769c4": {
      "model_module": "@jupyter-widgets/base",
      "model_module_version": "2.0.0",
      "model_name": "LayoutModel",
      "state": {}
     },
     "d07c1c9aed0b482a9a49d429a786dd6f": {
      "model_module": "@jupyter-widgets/base",
      "model_module_version": "2.0.0",
      "model_name": "LayoutModel",
      "state": {}
     },
     "d0e12c44a8964d168408023ab96a3942": {
      "model_module": "@jupyter-widgets/base",
      "model_module_version": "2.0.0",
      "model_name": "LayoutModel",
      "state": {}
     },
     "d0f49be28c0b4f89b999952294cb4da9": {
      "model_module": "@jupyter-widgets/controls",
      "model_module_version": "2.0.0",
      "model_name": "VBoxModel",
      "state": {
       "children": [
        "IPY_MODEL_a54b5f081772455da89aa441d928e2b6",
        "IPY_MODEL_35654e99a12a4f88b4a3195c83065c6b"
       ],
       "layout": "IPY_MODEL_e5fe1cb7b7a946ad9a00f63d8993cd80"
      }
     },
     "d103b9c7bead43e2a909620ef1b7fabd": {
      "model_module": "@jupyter-widgets/controls",
      "model_module_version": "2.0.0",
      "model_name": "HBoxModel",
      "state": {
       "children": [
        "IPY_MODEL_87059a6a92374847970039f413722b2a"
       ],
       "layout": "IPY_MODEL_17d576abaac049d5ac2ec51874e393ee"
      }
     },
     "d17994dc726a48d281dd62be0530b454": {
      "model_module": "@jupyter-widgets/controls",
      "model_module_version": "2.0.0",
      "model_name": "HBoxModel",
      "state": {
       "children": [
        "IPY_MODEL_79126c664c9f4fcba4893b16b4d9276f"
       ],
       "layout": "IPY_MODEL_e10f02314c724a488d4d0d64613f68e6"
      }
     },
     "d1c49a212dcb487e86bf1b77408b08b9": {
      "model_module": "@jupyter-widgets/base",
      "model_module_version": "2.0.0",
      "model_name": "LayoutModel",
      "state": {}
     },
     "d1dbe3b122014f1fb4bf41ed004bacf8": {
      "model_module": "@jupyter-widgets/base",
      "model_module_version": "2.0.0",
      "model_name": "LayoutModel",
      "state": {}
     },
     "d2d151db46534f509caa85ea3c911c5a": {
      "model_module": "@jupyter-widgets/controls",
      "model_module_version": "2.0.0",
      "model_name": "HBoxModel",
      "state": {
       "children": [
        "IPY_MODEL_43d57b5c038a44abb31c26e1fd308d2a",
        "IPY_MODEL_147a8b8a02fc47d0b6af40e0f95e8c79"
       ],
       "layout": "IPY_MODEL_82033ff3947649bda972ac6e39c72ee8"
      }
     },
     "d2fe78a1beb040cab0d56680c67bcf77": {
      "model_module": "@jupyter-widgets/base",
      "model_module_version": "2.0.0",
      "model_name": "LayoutModel",
      "state": {}
     },
     "d3596372a0cc4e4f94a0c9de6d312a06": {
      "model_module": "@jupyter-widgets/base",
      "model_module_version": "2.0.0",
      "model_name": "LayoutModel",
      "state": {}
     },
     "d3a28431e5bc4541b465e16266aaf526": {
      "model_module": "@jupyter-widgets/controls",
      "model_module_version": "2.0.0",
      "model_name": "VBoxModel",
      "state": {
       "children": [
        "IPY_MODEL_4c4b6ff2d53a4049a0bf0d427353c1b5",
        "IPY_MODEL_e85cbb90be934f249a154d267b9a986d"
       ],
       "layout": "IPY_MODEL_aa69bb211857464aa977f7fa3aac4b36"
      }
     },
     "d3bfd65addfe44069611092feb24eecc": {
      "model_module": "@jupyter-widgets/controls",
      "model_module_version": "2.0.0",
      "model_name": "VBoxModel",
      "state": {
       "children": [
        "IPY_MODEL_f72742241a704b3985c2e6e72abd2b35",
        "IPY_MODEL_0f0ecca0e5f74d64801b5302302d244c",
        "IPY_MODEL_640b1e3ab9f642da849b6174a30c8779"
       ],
       "layout": "IPY_MODEL_4195f04efc644f10b79ad1e400f0dd78"
      }
     },
     "d3e1978c4efc43a88494cda56d8dde43": {
      "model_module": "@jupyter-widgets/controls",
      "model_module_version": "2.0.0",
      "model_name": "VBoxModel",
      "state": {
       "children": [
        "IPY_MODEL_f1d3addfd50049c0866dc35378e46f4b"
       ],
       "layout": "IPY_MODEL_305bf89c155f4f268491dcd8716d9b80"
      }
     },
     "d41fb2a8635246e7ba6cfd771d85d0ce": {
      "model_module": "@jupyter-widgets/controls",
      "model_module_version": "2.0.0",
      "model_name": "SliderStyleModel",
      "state": {
       "description_width": ""
      }
     },
     "d4488c60a0064a44b073b1bed18eb3ad": {
      "model_module": "@jupyter-widgets/base",
      "model_module_version": "2.0.0",
      "model_name": "LayoutModel",
      "state": {}
     },
     "d44ab7c2907a40a0bd96878ebd3dabaf": {
      "model_module": "@jupyter-widgets/base",
      "model_module_version": "2.0.0",
      "model_name": "LayoutModel",
      "state": {}
     },
     "d44da6ad73d34917ac64921d1059314b": {
      "model_module": "@jupyter-widgets/base",
      "model_module_version": "2.0.0",
      "model_name": "LayoutModel",
      "state": {}
     },
     "d4527f7f752349c19e041329ebf5931c": {
      "model_module": "@jupyter-widgets/controls",
      "model_module_version": "2.0.0",
      "model_name": "VBoxModel",
      "state": {
       "children": [
        "IPY_MODEL_2e3ffd2116984a05a4af38e7b3d40be2",
        "IPY_MODEL_4d62280ac29a4722831629d8d303e44d"
       ],
       "layout": "IPY_MODEL_e3204f5e18304cb399f6e7446b36a0a9"
      }
     },
     "d4aafd3f1c8b4fac812202eb80d989b9": {
      "model_module": "@jupyter-widgets/controls",
      "model_module_version": "2.0.0",
      "model_name": "VBoxModel",
      "state": {
       "children": [
        "IPY_MODEL_c538f6fe73044edaa08e0fde68d6d73c"
       ],
       "layout": "IPY_MODEL_a4fd7f17cec54da2bec931f76d140818"
      }
     },
     "d4b3015ea6f147158cb224e3f23cf2e3": {
      "model_module": "@jupyter-widgets/controls",
      "model_module_version": "2.0.0",
      "model_name": "LabelModel",
      "state": {
       "layout": "IPY_MODEL_186ca2e05bcf4cec8a14aa3d461a6e7b",
       "style": "IPY_MODEL_182c642728d24f778fb2489f177e35b7",
       "value": "Curtain"
      }
     },
     "d5199c742fde4d6aad34c4c3560615b8": {
      "model_module": "@jupyter-widgets/base",
      "model_module_version": "2.0.0",
      "model_name": "LayoutModel",
      "state": {}
     },
     "d53ab078855647aabf61882880f168a9": {
      "model_module": "@jupyter-widgets/controls",
      "model_module_version": "2.0.0",
      "model_name": "VBoxModel",
      "state": {
       "children": [
        "IPY_MODEL_3ca585ed1134424ebcf566c75bcee9a1",
        "IPY_MODEL_d7d43df8c24c438ca049a51f0b82c4e8",
        "IPY_MODEL_23c7859f2ac44defbac8bbbd088f1f00"
       ],
       "layout": "IPY_MODEL_1708c78fcd7647309f2b02bc6383a9a7"
      }
     },
     "d58608bda73d4ee2b74514aa312d04e6": {
      "model_module": "@jupyter-widgets/controls",
      "model_module_version": "2.0.0",
      "model_name": "IntSliderModel",
      "state": {
       "behavior": "drag-tap",
       "layout": "IPY_MODEL_cc79558e56ef43c083682741250aec4b",
       "max": 500,
       "style": "IPY_MODEL_cdb07cadfc3a42c098a1080aae0e2b4a",
       "value": 250
      }
     },
     "d59e2dc3e27544628c6e6936af769508": {
      "model_module": "@jupyter-widgets/controls",
      "model_module_version": "2.0.0",
      "model_name": "HBoxModel",
      "state": {
       "children": [
        "IPY_MODEL_8b79accc57754e2db228bd69aaf3c8da"
       ],
       "layout": "IPY_MODEL_81293c9d6ab14fddbcde8170cad5fa20"
      }
     },
     "d5a6f2b9f1594e348b641836c7701e5d": {
      "model_module": "@jupyter-widgets/controls",
      "model_module_version": "2.0.0",
      "model_name": "SliderStyleModel",
      "state": {
       "description_width": ""
      }
     },
     "d6198a0f8c4b454ab1415176fd68f252": {
      "model_module": "@jupyter-widgets/base",
      "model_module_version": "2.0.0",
      "model_name": "LayoutModel",
      "state": {}
     },
     "d667f1c392f940b68b465eaee8309d8a": {
      "model_module": "@jupyter-widgets/controls",
      "model_module_version": "2.0.0",
      "model_name": "SliderStyleModel",
      "state": {
       "description_width": ""
      }
     },
     "d6cdab951fd045a9ae458b8d35b3ab5f": {
      "model_module": "@jupyter-widgets/base",
      "model_module_version": "2.0.0",
      "model_name": "LayoutModel",
      "state": {}
     },
     "d6d27497011a4bc3a7c05b184288f8f1": {
      "model_module": "@jupyter-widgets/controls",
      "model_module_version": "2.0.0",
      "model_name": "HBoxModel",
      "state": {
       "children": [
        "IPY_MODEL_7fd796aa168240dfab571b7d6001ab89"
       ],
       "layout": "IPY_MODEL_7ae944dc55f44f3cb1ea72ea73928077"
      }
     },
     "d7003a007a8245f1a22fccc2cd33f48a": {
      "model_module": "@jupyter-widgets/base",
      "model_module_version": "2.0.0",
      "model_name": "LayoutModel",
      "state": {}
     },
     "d751c3d86b284e6bba21daf055511ebc": {
      "model_module": "@jupyter-widgets/base",
      "model_module_version": "2.0.0",
      "model_name": "LayoutModel",
      "state": {}
     },
     "d7b9663bc72049ab8582a8f8bfce0334": {
      "model_module": "@jupyter-widgets/controls",
      "model_module_version": "2.0.0",
      "model_name": "HTMLStyleModel",
      "state": {
       "description_width": "",
       "font_size": null,
       "text_color": null
      }
     },
     "d7c1361570734956b576101507886d0e": {
      "model_module": "@jupyter-widgets/controls",
      "model_module_version": "2.0.0",
      "model_name": "HBoxModel",
      "state": {
       "children": [
        "IPY_MODEL_dddc05cd678d4a4582eec3577bf83eaf"
       ],
       "layout": "IPY_MODEL_af256a2853b04a9a90f82885c3bf4c1e"
      }
     },
     "d7d43df8c24c438ca049a51f0b82c4e8": {
      "model_module": "@jupyter-widgets/controls",
      "model_module_version": "2.0.0",
      "model_name": "VBoxModel",
      "state": {
       "layout": "IPY_MODEL_67d0268555a443f58d1652085e060f08"
      }
     },
     "d7d7e7c94c644c72a72f9c869504e58c": {
      "model_module": "@jupyter-widgets/base",
      "model_module_version": "2.0.0",
      "model_name": "LayoutModel",
      "state": {}
     },
     "d7da1e66ee7343b1ab76079bf10316c8": {
      "model_module": "@jupyter-widgets/controls",
      "model_module_version": "2.0.0",
      "model_name": "SliderStyleModel",
      "state": {
       "description_width": ""
      }
     },
     "d860f61a748c444c8fb96de7c84892bd": {
      "model_module": "@jupyter-widgets/controls",
      "model_module_version": "2.0.0",
      "model_name": "VBoxModel",
      "state": {
       "children": [
        "IPY_MODEL_0b21f91f545546399dc082b3128d1f1d",
        "IPY_MODEL_0df99c6c51474f118fa9760d0a7dd649"
       ],
       "layout": "IPY_MODEL_4059108f97b94bacb0c90c1fa3711f78"
      }
     },
     "d879729d0a2240c1ad8b2ada01a7dddd": {
      "model_module": "@jupyter-widgets/controls",
      "model_module_version": "2.0.0",
      "model_name": "LabelModel",
      "state": {
       "layout": "IPY_MODEL_4874ecd61bde42738382858d9c0359c5",
       "style": "IPY_MODEL_65e4f3355c894e88a162e30a5a628512",
       "value": "Curtain"
      }
     },
     "d8a5e364ad0745ab883853023d2698f0": {
      "model_module": "@jupyter-widgets/base",
      "model_module_version": "2.0.0",
      "model_name": "LayoutModel",
      "state": {
       "width": "100%"
      }
     },
     "d942db2fabcd411293fd1fe1556603c9": {
      "model_module": "@jupyter-widgets/base",
      "model_module_version": "2.0.0",
      "model_name": "LayoutModel",
      "state": {}
     },
     "d961ed0d5cb24314898641b8873ba6fb": {
      "model_module": "@jupyter-widgets/controls",
      "model_module_version": "2.0.0",
      "model_name": "IntSliderModel",
      "state": {
       "behavior": "drag-tap",
       "layout": "IPY_MODEL_3cccd147ed5344dfb51148ab023d83a9",
       "max": 500,
       "style": "IPY_MODEL_71b8b732425b416eb87a666e2081cb74",
       "value": 225
      }
     },
     "d9a833c7f08b41bd9d6176723d2ff2f4": {
      "model_module": "ipycanvas",
      "model_module_version": "^0.13",
      "model_name": "CanvasManagerModel",
      "state": {
       "_model_module_version": "^0.13",
       "_view_module": null,
       "_view_module_version": ""
      }
     },
     "d9dd8151f84744369ca3ce059c521d6a": {
      "model_module": "@jupyter-widgets/controls",
      "model_module_version": "2.0.0",
      "model_name": "HTMLStyleModel",
      "state": {
       "description_width": "",
       "font_size": null,
       "text_color": null
      }
     },
     "d9ee2539d49e4994882414edbe23ed90": {
      "model_module": "@jupyter-widgets/controls",
      "model_module_version": "2.0.0",
      "model_name": "HTMLModel",
      "state": {
       "layout": "IPY_MODEL_4f4a66ff6b7a48df9ecd873509b712fc",
       "style": "IPY_MODEL_b7c531020b134348a79de04a983281c3",
       "value": "<style>.widget-readout { min-width: 20px !important; }</style>"
      }
     },
     "da295b1caecc4b9c86fba36bc0830296": {
      "model_module": "@jupyter-widgets/controls",
      "model_module_version": "2.0.0",
      "model_name": "VBoxModel",
      "state": {
       "layout": "IPY_MODEL_bc91b5b80bbb4ea085128e1cd90f2dc5"
      }
     },
     "da5f44976f5149fcbe26fa069a21906b": {
      "model_module": "@jupyter-widgets/controls",
      "model_module_version": "2.0.0",
      "model_name": "LabelModel",
      "state": {
       "layout": "IPY_MODEL_ab52f86bef0240959a8dd024e10bd688",
       "style": "IPY_MODEL_f394746b15e14a829d52eda768bb9f17",
       "value": "Curtain"
      }
     },
     "daa8e1d77d43469aa87e77a6cb1ec6ab": {
      "model_module": "@jupyter-widgets/base",
      "model_module_version": "2.0.0",
      "model_name": "LayoutModel",
      "state": {}
     },
     "dad07add1d8c43b399169de118f93fc7": {
      "model_module": "@jupyter-widgets/base",
      "model_module_version": "2.0.0",
      "model_name": "LayoutModel",
      "state": {}
     },
     "db12ec2228af406e8cef7b1648533242": {
      "model_module": "@jupyter-widgets/base",
      "model_module_version": "2.0.0",
      "model_name": "LayoutModel",
      "state": {}
     },
     "db4c419635574007aa0800fa8eb703dc": {
      "model_module": "@jupyter-widgets/base",
      "model_module_version": "2.0.0",
      "model_name": "LayoutModel",
      "state": {}
     },
     "db54dfd88a244cc2bee8a7401af786ae": {
      "model_module": "@jupyter-widgets/controls",
      "model_module_version": "2.0.0",
      "model_name": "VBoxModel",
      "state": {
       "children": [
        "IPY_MODEL_c36497a956c6439b8ae300c88727c4f3",
        "IPY_MODEL_7988f3a3a4ab47bf808207024cc262f2"
       ],
       "layout": "IPY_MODEL_a511c965d8564ac19cac18bcc9dbbb38"
      }
     },
     "db570943b909401aab5ceb390e86a1ec": {
      "model_module": "@jupyter-widgets/base",
      "model_module_version": "2.0.0",
      "model_name": "LayoutModel",
      "state": {}
     },
     "db6f0a98f07749c189c89dbdb56bf8f4": {
      "model_module": "@jupyter-widgets/controls",
      "model_module_version": "2.0.0",
      "model_name": "HBoxModel",
      "state": {
       "children": [
        "IPY_MODEL_b8f598195a9842408d1b3f36505f6722",
        "IPY_MODEL_7c4100d020b340faafd9b56d84d9f7a1"
       ],
       "layout": "IPY_MODEL_193a152abe18459c80e355d4e0de3def"
      }
     },
     "db96f9ca77a74162ba9d0486d3a11d12": {
      "model_module": "@jupyter-widgets/base",
      "model_module_version": "2.0.0",
      "model_name": "LayoutModel",
      "state": {}
     },
     "dbdf24d73ab2429c8bca5d3ab1d757c4": {
      "model_module": "@jupyter-widgets/controls",
      "model_module_version": "2.0.0",
      "model_name": "IntSliderModel",
      "state": {
       "behavior": "drag-tap",
       "layout": "IPY_MODEL_6b1c733a47404924ad33469efde9611e",
       "max": 500,
       "style": "IPY_MODEL_2c013c1981a742f7a22ed04d01eb00c6",
       "value": 250
      }
     },
     "dbe02cda82fa4e84b71e5b31fe1412c3": {
      "model_module": "@jupyter-widgets/controls",
      "model_module_version": "2.0.0",
      "model_name": "FloatProgressModel",
      "state": {
       "bar_style": "success",
       "layout": "IPY_MODEL_af2965ca9456485da78f71a7d0b65202",
       "style": "IPY_MODEL_9975af6d692a4cf5b31a36f752c28014",
       "value": 100
      }
     },
     "dc0704953d4b49f0bc65bb754903ce59": {
      "model_module": "@jupyter-widgets/base",
      "model_module_version": "2.0.0",
      "model_name": "LayoutModel",
      "state": {
       "width": "100%"
      }
     },
     "dc1022b878b94bad8160fc72b0a6b786": {
      "model_module": "@jupyter-widgets/controls",
      "model_module_version": "2.0.0",
      "model_name": "SliderStyleModel",
      "state": {
       "description_width": ""
      }
     },
     "dc115cafaf0649c889aad35c1e406e27": {
      "model_module": "@jupyter-widgets/controls",
      "model_module_version": "2.0.0",
      "model_name": "HTMLStyleModel",
      "state": {
       "description_width": "",
       "font_size": null,
       "text_color": null
      }
     },
     "dc92f10fca0b4a69a26bc3040a181c61": {
      "model_module": "@jupyter-widgets/controls",
      "model_module_version": "2.0.0",
      "model_name": "LabelModel",
      "state": {
       "layout": "IPY_MODEL_e2f9792b175f4bdbb315d11b369eb62b",
       "style": "IPY_MODEL_302fc3e61ff5492da2ebfe9bcb5ee22b",
       "value": "Curtain"
      }
     },
     "dc9aa6fbc5be480f8368cf4d8ef7209f": {
      "model_module": "@jupyter-widgets/controls",
      "model_module_version": "2.0.0",
      "model_name": "HTMLStyleModel",
      "state": {
       "description_width": "",
       "font_size": null,
       "text_color": null
      }
     },
     "dcc3f82a14904455ad81a305af5fa883": {
      "model_module": "@jupyter-widgets/controls",
      "model_module_version": "2.0.0",
      "model_name": "HBoxModel",
      "state": {
       "children": [
        "IPY_MODEL_2e96ffe9a14b45bebacb10855231f05a"
       ],
       "layout": "IPY_MODEL_74328b4be87746d786e86d467181d740"
      }
     },
     "dce322e24b8c4a998d3d6e05886f6ddc": {
      "model_module": "@jupyter-widgets/base",
      "model_module_version": "2.0.0",
      "model_name": "LayoutModel",
      "state": {}
     },
     "ddd89c49f9d7439082cb41ea352dd37f": {
      "model_module": "@jupyter-widgets/controls",
      "model_module_version": "2.0.0",
      "model_name": "IntSliderModel",
      "state": {
       "behavior": "drag-tap",
       "layout": "IPY_MODEL_6a7bd93804c54b8bb4f8f70503ef7c6a",
       "max": 1000,
       "style": "IPY_MODEL_22b1703969dc43a59b02262599a215c5",
       "value": 500
      }
     },
     "dddc05cd678d4a4582eec3577bf83eaf": {
      "model_module": "@jupyter-widgets/controls",
      "model_module_version": "2.0.0",
      "model_name": "VBoxModel",
      "state": {
       "children": [
        "IPY_MODEL_3e8273215af641119d397bf33d50ba26"
       ],
       "layout": "IPY_MODEL_ee06d92deb624e16b9c1af2bd79c113d"
      }
     },
     "de197c0a9d2441c5a6165379d27f1061": {
      "model_module": "@jupyter-widgets/controls",
      "model_module_version": "2.0.0",
      "model_name": "HBoxModel",
      "state": {
       "children": [
        "IPY_MODEL_201b33741054402e8985a86757598113",
        "IPY_MODEL_4334a16953a34a14a5744fc3fc1aa29c"
       ],
       "layout": "IPY_MODEL_3778cc6a5b5c43089b954ef57ec1d445"
      }
     },
     "de1e7af9ad894a8ebcbe9f0e0ffe5da5": {
      "model_module": "@jupyter-widgets/controls",
      "model_module_version": "2.0.0",
      "model_name": "HBoxModel",
      "state": {
       "children": [
        "IPY_MODEL_835edc3dda134b79be95a131f2efaadc"
       ],
       "layout": "IPY_MODEL_26f5f487bf7b49679a3bfde91b0efb00"
      }
     },
     "de3863aeb4a04bb19f963cc07ef6072e": {
      "model_module": "@jupyter-widgets/base",
      "model_module_version": "2.0.0",
      "model_name": "LayoutModel",
      "state": {}
     },
     "de552c40e70e41cc8aef0f14c227fcd6": {
      "model_module": "@jupyter-widgets/controls",
      "model_module_version": "2.0.0",
      "model_name": "HTMLStyleModel",
      "state": {
       "description_width": "",
       "font_size": null,
       "text_color": null
      }
     },
     "de62bc17eaa340489e2c5fef542ddbca": {
      "model_module": "@jupyter-widgets/controls",
      "model_module_version": "2.0.0",
      "model_name": "VBoxModel",
      "state": {
       "children": [
        "IPY_MODEL_bf24044c85be42ec80c6f1ab6684f722"
       ],
       "layout": "IPY_MODEL_2353b934f1204f3fa6678485b91337b3"
      }
     },
     "de65a32ca1a0400d9639fe0ff8c1cd0b": {
      "model_module": "@jupyter-widgets/base",
      "model_module_version": "2.0.0",
      "model_name": "LayoutModel",
      "state": {
       "width": "100%"
      }
     },
     "dea3fa45ef114e409930c8a82ea4aaf6": {
      "model_module": "@jupyter-widgets/controls",
      "model_module_version": "2.0.0",
      "model_name": "LabelStyleModel",
      "state": {
       "description_width": "",
       "font_family": null,
       "font_size": null,
       "font_style": null,
       "font_variant": null,
       "font_weight": null,
       "text_color": null,
       "text_decoration": null
      }
     },
     "dedb1b2d606d453288a589fe0b0ab06f": {
      "model_module": "@jupyter-widgets/controls",
      "model_module_version": "2.0.0",
      "model_name": "VBoxModel",
      "state": {
       "layout": "IPY_MODEL_2e3b5f5359694648a8a3d59c2066de40"
      }
     },
     "df19b4f8d0784ba7b5b4a77e1770994b": {
      "model_module": "@jupyter-widgets/controls",
      "model_module_version": "2.0.0",
      "model_name": "VBoxModel",
      "state": {
       "layout": "IPY_MODEL_4733f0f603ca49aaba2b887675bf2bb1"
      }
     },
     "df3cb37268af4c559c5955658690f56d": {
      "model_module": "@jupyter-widgets/controls",
      "model_module_version": "2.0.0",
      "model_name": "VBoxModel",
      "state": {
       "children": [
        "IPY_MODEL_65f6634d9985438781327448035a3974",
        "IPY_MODEL_dfffbeb88bc64fb696c7b4bc9b577617"
       ],
       "layout": "IPY_MODEL_a47aba84f02d4406b76c39492e1424d6"
      }
     },
     "df945035e1de4af5985aa4c1b2e9aa1a": {
      "model_module": "@jupyter-widgets/base",
      "model_module_version": "2.0.0",
      "model_name": "LayoutModel",
      "state": {}
     },
     "dfe4087df6f04c76af3c527d2a8810b2": {
      "model_module": "@jupyter-widgets/base",
      "model_module_version": "2.0.0",
      "model_name": "LayoutModel",
      "state": {}
     },
     "dfffbeb88bc64fb696c7b4bc9b577617": {
      "model_module": "@jupyter-widgets/controls",
      "model_module_version": "2.0.0",
      "model_name": "HTMLModel",
      "state": {
       "layout": "IPY_MODEL_d6cdab951fd045a9ae458b8d35b3ab5f",
       "style": "IPY_MODEL_6dde92ee9b7a4b979b36dbcb85f12315",
       "value": "<style>.widget-readout { min-width: 20px !important; }</style>"
      }
     },
     "e014c6f5881f4b05bdb4f99a490d4f3d": {
      "model_module": "@jupyter-widgets/base",
      "model_module_version": "2.0.0",
      "model_name": "LayoutModel",
      "state": {}
     },
     "e03da3cddccd490d94d73ebe60821c5c": {
      "model_module": "@jupyter-widgets/base",
      "model_module_version": "2.0.0",
      "model_name": "LayoutModel",
      "state": {}
     },
     "e05aa84f78df49e9943632d0ce4d4f87": {
      "model_module": "@jupyter-widgets/controls",
      "model_module_version": "2.0.0",
      "model_name": "VBoxModel",
      "state": {
       "children": [
        "IPY_MODEL_52727a01135e48a28d4c60232925e612",
        "IPY_MODEL_bb6c2bdfeadf4c298842adbc0ec8e4e8"
       ],
       "layout": "IPY_MODEL_08d54be088e6472e9069c4c370633dd6"
      }
     },
     "e099bcdcea9d4d619f29106d0d18aedc": {
      "model_module": "@jupyter-widgets/controls",
      "model_module_version": "2.0.0",
      "model_name": "HTMLModel",
      "state": {
       "layout": "IPY_MODEL_ec3f380f3e734ec7ac789bc5699b877b",
       "style": "IPY_MODEL_7e6fc9e1233b4c3a877262c2b32c5226",
       "value": "<style>.widget-readout { min-width: 20px !important; }</style>"
      }
     },
     "e0a678ec4d0c415e8bb92bd5299deb03": {
      "model_module": "@jupyter-widgets/base",
      "model_module_version": "2.0.0",
      "model_name": "LayoutModel",
      "state": {}
     },
     "e0f428981f89470fb6b5ae704e993496": {
      "model_module": "@jupyter-widgets/controls",
      "model_module_version": "2.0.0",
      "model_name": "VBoxModel",
      "state": {
       "children": [
        "IPY_MODEL_c9e9c1afbba1466d8cff9e9a8c0b07d0",
        "IPY_MODEL_6f8f92215692451bbaaf5bcd3e94083d",
        "IPY_MODEL_c79319dcb42f404da2e48c226f977fea"
       ],
       "layout": "IPY_MODEL_5d7cbb848086458987c7f6d4737be15f"
      }
     },
     "e10f02314c724a488d4d0d64613f68e6": {
      "model_module": "@jupyter-widgets/base",
      "model_module_version": "2.0.0",
      "model_name": "LayoutModel",
      "state": {}
     },
     "e119c7a2ec04477685564d8c712ba6ce": {
      "model_module": "@jupyter-widgets/controls",
      "model_module_version": "2.0.0",
      "model_name": "HBoxModel",
      "state": {
       "children": [
        "IPY_MODEL_9e1041c809124ba39eaf135b5b5e4572"
       ],
       "layout": "IPY_MODEL_63370ce628d044b9a87404059f9a440b"
      }
     },
     "e161dd70cf1346548a1b10864d9a2c8c": {
      "model_module": "@jupyter-widgets/controls",
      "model_module_version": "2.0.0",
      "model_name": "HBoxModel",
      "state": {
       "children": [
        "IPY_MODEL_487c55a1665a410bb61df81231dbbb08",
        "IPY_MODEL_f4a7d363d191454cb174d6ed165ab3c6"
       ],
       "layout": "IPY_MODEL_65506bd32c1b41d8be73d05d2b529cdc"
      }
     },
     "e17c0c72c315430997ae84b9f44c28ab": {
      "model_module": "@jupyter-widgets/base",
      "model_module_version": "2.0.0",
      "model_name": "LayoutModel",
      "state": {}
     },
     "e18490a751244d7bba6e802dca4737e1": {
      "model_module": "@jupyter-widgets/controls",
      "model_module_version": "2.0.0",
      "model_name": "ProgressStyleModel",
      "state": {
       "description_width": ""
      }
     },
     "e1a8b60a8a33444fb1fcc9c81bb10007": {
      "model_module": "@jupyter-widgets/base",
      "model_module_version": "2.0.0",
      "model_name": "LayoutModel",
      "state": {}
     },
     "e1c12833301c462594bcb7360901a504": {
      "model_module": "@jupyter-widgets/base",
      "model_module_version": "2.0.0",
      "model_name": "LayoutModel",
      "state": {}
     },
     "e1f5b485951c4321823cccd58cc0add9": {
      "model_module": "@jupyter-widgets/controls",
      "model_module_version": "2.0.0",
      "model_name": "VBoxModel",
      "state": {
       "children": [
        "IPY_MODEL_d103b9c7bead43e2a909620ef1b7fabd",
        "IPY_MODEL_31d110cb217c4018be357515a98047f2",
        "IPY_MODEL_5ed5be1e51884ab7b2dbcec4070d696e"
       ],
       "layout": "IPY_MODEL_fdbcbbdff0564800ac72ce240aa128d3"
      }
     },
     "e20b789889fd4bf2a14070ce1c28c158": {
      "model_module": "@jupyter-widgets/controls",
      "model_module_version": "2.0.0",
      "model_name": "VBoxModel",
      "state": {
       "children": [
        "IPY_MODEL_6cc6ef7391304aa9af5458000d4516d4",
        "IPY_MODEL_1daabcd9d78c459a8038e76055300866"
       ],
       "layout": "IPY_MODEL_4a69b1c9fdbd41509a3797e17d6cffde"
      }
     },
     "e2e2fb126acd4ac5a8532f3b0d2d8bef": {
      "model_module": "@jupyter-widgets/base",
      "model_module_version": "2.0.0",
      "model_name": "LayoutModel",
      "state": {}
     },
     "e2f06e6589d942dc94b06bc16d036a27": {
      "model_module": "@jupyter-widgets/controls",
      "model_module_version": "2.0.0",
      "model_name": "VBoxModel",
      "state": {
       "children": [
        "IPY_MODEL_ee7b24b7e30948e79f8ff52db30924ba"
       ],
       "layout": "IPY_MODEL_acbfb6425cbd4609912cffc989f0ff0e"
      }
     },
     "e2f9792b175f4bdbb315d11b369eb62b": {
      "model_module": "@jupyter-widgets/base",
      "model_module_version": "2.0.0",
      "model_name": "LayoutModel",
      "state": {}
     },
     "e3204f5e18304cb399f6e7446b36a0a9": {
      "model_module": "@jupyter-widgets/base",
      "model_module_version": "2.0.0",
      "model_name": "LayoutModel",
      "state": {}
     },
     "e3338505768446879380546f25a47e6b": {
      "model_module": "ipycanvas",
      "model_module_version": "^0.13",
      "model_name": "CanvasModel",
      "state": {
       "_canvas_manager": "IPY_MODEL_d9a833c7f08b41bd9d6176723d2ff2f4",
       "_model_module_version": "^0.13",
       "_view_module_version": "^0.13",
       "height": 900,
       "layout": "IPY_MODEL_6e08b987a7014b1e82fef7de225df55c",
       "width": 900
      }
     },
     "e37a5feb7c0d438888f64a6a546d5524": {
      "model_module": "@jupyter-widgets/base",
      "model_module_version": "2.0.0",
      "model_name": "LayoutModel",
      "state": {}
     },
     "e3d872a19bce44deb25a5c4eb62d8b20": {
      "model_module": "@jupyter-widgets/controls",
      "model_module_version": "2.0.0",
      "model_name": "LabelStyleModel",
      "state": {
       "description_width": "",
       "font_family": null,
       "font_size": null,
       "font_style": null,
       "font_variant": null,
       "font_weight": null,
       "text_color": null,
       "text_decoration": null
      }
     },
     "e407492b33f34c428bfdaf068905acec": {
      "model_module": "ipycanvas",
      "model_module_version": "^0.13",
      "model_name": "CanvasModel",
      "state": {
       "_canvas_manager": "IPY_MODEL_d9a833c7f08b41bd9d6176723d2ff2f4",
       "_model_module_version": "^0.13",
       "_view_module_version": "^0.13",
       "height": 480,
       "layout": "IPY_MODEL_fa4512b64cb941e3b8e20a4f233f2c3e",
       "width": 800
      }
     },
     "e4154c3bc4fb4064824360f7a01a7888": {
      "model_module": "@jupyter-widgets/controls",
      "model_module_version": "2.0.0",
      "model_name": "LabelStyleModel",
      "state": {
       "description_width": "",
       "font_family": null,
       "font_size": null,
       "font_style": null,
       "font_variant": null,
       "font_weight": null,
       "text_color": null,
       "text_decoration": null
      }
     },
     "e455d65c67ec4ebbae19943e210956b0": {
      "model_module": "@jupyter-widgets/controls",
      "model_module_version": "2.0.0",
      "model_name": "HBoxModel",
      "state": {
       "children": [
        "IPY_MODEL_baadcde4b2174cd9953a4e2222e3a4ff"
       ],
       "layout": "IPY_MODEL_37c0511ca48043a4b297b7bfa44339b6"
      }
     },
     "e4a0b7f1fc7e49d78209b0d08a8adbb7": {
      "model_module": "@jupyter-widgets/base",
      "model_module_version": "2.0.0",
      "model_name": "LayoutModel",
      "state": {}
     },
     "e4bae3456f7a452890e20263cba52cc8": {
      "model_module": "@jupyter-widgets/controls",
      "model_module_version": "2.0.0",
      "model_name": "HBoxModel",
      "state": {
       "children": [
        "IPY_MODEL_68c44b246a48490bbfed85de42d26faf",
        "IPY_MODEL_2fa879f7aa684f7f9447f8ebad6d890b"
       ],
       "layout": "IPY_MODEL_341aff8b21b14912867f5b0f610e8265"
      }
     },
     "e5734b47591e4605af02098f4440c547": {
      "model_module": "@jupyter-widgets/base",
      "model_module_version": "2.0.0",
      "model_name": "LayoutModel",
      "state": {}
     },
     "e5b1102f441c40aeb34855b72e1ffe79": {
      "model_module": "@jupyter-widgets/base",
      "model_module_version": "2.0.0",
      "model_name": "LayoutModel",
      "state": {}
     },
     "e5f127024a214438b95e9ad573a5e19c": {
      "model_module": "@jupyter-widgets/controls",
      "model_module_version": "2.0.0",
      "model_name": "VBoxModel",
      "state": {
       "layout": "IPY_MODEL_03b3e27d1bc94a80927c34930407e0d8"
      }
     },
     "e5fe1cb7b7a946ad9a00f63d8993cd80": {
      "model_module": "@jupyter-widgets/base",
      "model_module_version": "2.0.0",
      "model_name": "LayoutModel",
      "state": {}
     },
     "e60b2cec371a48eea69c5ba5d3ce04eb": {
      "model_module": "@jupyter-widgets/base",
      "model_module_version": "2.0.0",
      "model_name": "LayoutModel",
      "state": {}
     },
     "e67affeb9f934508bfbf0bd3a7c5451d": {
      "model_module": "@jupyter-widgets/controls",
      "model_module_version": "2.0.0",
      "model_name": "HTMLModel",
      "state": {
       "layout": "IPY_MODEL_f5567e3bae584c22a59943864707e970",
       "style": "IPY_MODEL_a2d471fb0e864c5197487c4797ac8fb0",
       "value": "<style>.widget-readout { min-width: 20px !important; }</style>"
      }
     },
     "e711cc43a6f74dc5958276d7e425fb79": {
      "model_module": "@jupyter-widgets/controls",
      "model_module_version": "2.0.0",
      "model_name": "SliderStyleModel",
      "state": {
       "description_width": ""
      }
     },
     "e72edf60c6794952ae9cb339ae298159": {
      "model_module": "@jupyter-widgets/controls",
      "model_module_version": "2.0.0",
      "model_name": "HTMLModel",
      "state": {
       "layout": "IPY_MODEL_3bfb1cc8652241d7a57ad6a052a02a91",
       "style": "IPY_MODEL_1dca8885f22a432b93c6d5e5eb2a9473",
       "value": "<style>.widget-readout { min-width: 20px !important; }</style>"
      }
     },
     "e7b89c2337f84f6aaf68a5c3bcb41efa": {
      "model_module": "@jupyter-widgets/controls",
      "model_module_version": "2.0.0",
      "model_name": "HBoxModel",
      "state": {
       "children": [
        "IPY_MODEL_1b5a9337aea04a4d97049d7150caeeaa"
       ],
       "layout": "IPY_MODEL_619212c71cc241959bf7dbc48b4b9115"
      }
     },
     "e7e839939a4341a98bd8da397c3c97dc": {
      "model_module": "@jupyter-widgets/base",
      "model_module_version": "2.0.0",
      "model_name": "LayoutModel",
      "state": {}
     },
     "e85cbb90be934f249a154d267b9a986d": {
      "model_module": "@jupyter-widgets/controls",
      "model_module_version": "2.0.0",
      "model_name": "HTMLModel",
      "state": {
       "layout": "IPY_MODEL_b61eb07eb5ff48e09a8667f416413fe1",
       "style": "IPY_MODEL_ea97652765f04117a7c91bb198b63889",
       "value": "<style>.widget-readout { min-width: 20px !important; }</style>"
      }
     },
     "e8bb95add9454f85ab1153c9b2274566": {
      "model_module": "@jupyter-widgets/controls",
      "model_module_version": "2.0.0",
      "model_name": "VBoxModel",
      "state": {
       "children": [
        "IPY_MODEL_05f62a7dbc1c4db2ac4507d0952cdd03",
        "IPY_MODEL_379aeb0029634edca2c2a80fd6e8dfc2"
       ],
       "layout": "IPY_MODEL_df945035e1de4af5985aa4c1b2e9aa1a"
      }
     },
     "e8d2c70d1da7412890899a45d641f723": {
      "model_module": "@jupyter-widgets/base",
      "model_module_version": "2.0.0",
      "model_name": "LayoutModel",
      "state": {}
     },
     "e8d8c72fb3244dbe9abf9e48a6727bff": {
      "model_module": "@jupyter-widgets/controls",
      "model_module_version": "2.0.0",
      "model_name": "VBoxModel",
      "state": {
       "children": [
        "IPY_MODEL_54746ab621b0432ea6fea72f70fac0c5"
       ],
       "layout": "IPY_MODEL_8385215bf7a741c1afe4ed75c3562a80"
      }
     },
     "e926a3090ee34f96b269f4811a1de911": {
      "model_module": "@jupyter-widgets/controls",
      "model_module_version": "2.0.0",
      "model_name": "HTMLStyleModel",
      "state": {
       "description_width": "",
       "font_size": null,
       "text_color": null
      }
     },
     "e94e02d8b0a1437dacf3f3a0cf4a829a": {
      "model_module": "@jupyter-widgets/base",
      "model_module_version": "2.0.0",
      "model_name": "LayoutModel",
      "state": {}
     },
     "e95ffe4967f74969a4f0bde53f9e2fbf": {
      "model_module": "@jupyter-widgets/controls",
      "model_module_version": "2.0.0",
      "model_name": "HTMLStyleModel",
      "state": {
       "description_width": "",
       "font_size": null,
       "text_color": null
      }
     },
     "e974037b352143809a190dce7b9d82b4": {
      "model_module": "@jupyter-widgets/base",
      "model_module_version": "2.0.0",
      "model_name": "LayoutModel",
      "state": {}
     },
     "e97fc282edde495d915153440ee26d9e": {
      "model_module": "@jupyter-widgets/controls",
      "model_module_version": "2.0.0",
      "model_name": "VBoxModel",
      "state": {
       "children": [
        "IPY_MODEL_820a3a86d8094d3bba4cc57304868d7e",
        "IPY_MODEL_72320486b4ff4760be8c7ae5e5fa005f"
       ],
       "layout": "IPY_MODEL_7f0ccdb3973a4db28e8b831cc7565a88"
      }
     },
     "e984d7c61a91409e8582040b4f770dad": {
      "model_module": "@jupyter-widgets/controls",
      "model_module_version": "2.0.0",
      "model_name": "VBoxModel",
      "state": {
       "layout": "IPY_MODEL_b75f396d644748c486480b21e81f6fb3"
      }
     },
     "e9a8d9e4ea30434b8863af538939e1d0": {
      "model_module": "@jupyter-widgets/base",
      "model_module_version": "2.0.0",
      "model_name": "LayoutModel",
      "state": {}
     },
     "e9c1702dc7ac46498009634b812af8b9": {
      "model_module": "@jupyter-widgets/controls",
      "model_module_version": "2.0.0",
      "model_name": "LabelModel",
      "state": {
       "layout": "IPY_MODEL_1d06f4b63f4c48cc93a7673f9e4cc402",
       "style": "IPY_MODEL_04e89847b7994377947f56fdc69a24c1",
       "value": "Curtain"
      }
     },
     "e9f9a31591a942a3a002a3e5a23e1950": {
      "model_module": "@jupyter-widgets/base",
      "model_module_version": "2.0.0",
      "model_name": "LayoutModel",
      "state": {}
     },
     "ea7dcc073b0f4ef5ad09b57f1f76813f": {
      "model_module": "@jupyter-widgets/controls",
      "model_module_version": "2.0.0",
      "model_name": "VBoxModel",
      "state": {
       "layout": "IPY_MODEL_9a25717ee49242f4b6d162856b00aacc"
      }
     },
     "ea97652765f04117a7c91bb198b63889": {
      "model_module": "@jupyter-widgets/controls",
      "model_module_version": "2.0.0",
      "model_name": "HTMLStyleModel",
      "state": {
       "description_width": "",
       "font_size": null,
       "text_color": null
      }
     },
     "eadb697a83e549b88802e57d708d701f": {
      "model_module": "@jupyter-widgets/base",
      "model_module_version": "2.0.0",
      "model_name": "LayoutModel",
      "state": {}
     },
     "eb74ed0497cd461abc8192fd03e0ddb2": {
      "model_module": "@jupyter-widgets/controls",
      "model_module_version": "2.0.0",
      "model_name": "VBoxModel",
      "state": {
       "children": [
        "IPY_MODEL_02b0fa325b144844a165e42972291872",
        "IPY_MODEL_7d1f18f05ea24a86a96fe3c749fc53b9"
       ],
       "layout": "IPY_MODEL_faada835601a4d07b74fae18ced450b1"
      }
     },
     "ebe67b05e1de433899d017bd9888134c": {
      "model_module": "@jupyter-widgets/controls",
      "model_module_version": "2.0.0",
      "model_name": "HTMLModel",
      "state": {
       "layout": "IPY_MODEL_9b77809c348c46d39a60ed8bb3a8eb4a",
       "style": "IPY_MODEL_aa5c106eadcb48d3b55b3d531a77c6c5",
       "value": "<style>.widget-readout { min-width: 20px !important; }</style>"
      }
     },
     "ec3f380f3e734ec7ac789bc5699b877b": {
      "model_module": "@jupyter-widgets/base",
      "model_module_version": "2.0.0",
      "model_name": "LayoutModel",
      "state": {}
     },
     "ecf359617a6a4b5aa5941c19bf7058bb": {
      "model_module": "@jupyter-widgets/controls",
      "model_module_version": "2.0.0",
      "model_name": "SliderStyleModel",
      "state": {
       "description_width": ""
      }
     },
     "ecf957f5164f45f3b317689fb2be5ee7": {
      "model_module": "@jupyter-widgets/controls",
      "model_module_version": "2.0.0",
      "model_name": "IntSliderModel",
      "state": {
       "behavior": "drag-tap",
       "layout": "IPY_MODEL_34b10b5a50e74a50b6ee9bebebb73dbd",
       "max": 500,
       "style": "IPY_MODEL_3903f4aa57d24b08ab3bc9e743e6f0ae",
       "value": 250
      }
     },
     "ed06cf05aab043c5a9e1b7762af5dce3": {
      "model_module": "@jupyter-widgets/controls",
      "model_module_version": "2.0.0",
      "model_name": "HBoxModel",
      "state": {
       "children": [
        "IPY_MODEL_245b846e9a0144519c6e5f403dc27def",
        "IPY_MODEL_ecf957f5164f45f3b317689fb2be5ee7"
       ],
       "layout": "IPY_MODEL_fdc0729043a441e28381f18e6bafa588"
      }
     },
     "ed28e06cc9c94d3eaf68c434da668601": {
      "model_module": "@jupyter-widgets/base",
      "model_module_version": "2.0.0",
      "model_name": "LayoutModel",
      "state": {}
     },
     "ed2efa9e4a5f49e1887b9bfcd2c93786": {
      "model_module": "@jupyter-widgets/base",
      "model_module_version": "2.0.0",
      "model_name": "LayoutModel",
      "state": {}
     },
     "ed8c71390696428c89d1bbf60935be10": {
      "model_module": "@jupyter-widgets/base",
      "model_module_version": "2.0.0",
      "model_name": "LayoutModel",
      "state": {}
     },
     "ed8f27daa4154c34b3ba656adaef701f": {
      "model_module": "@jupyter-widgets/controls",
      "model_module_version": "2.0.0",
      "model_name": "VBoxModel",
      "state": {
       "children": [
        "IPY_MODEL_73658c947fa24b478f0f412b561d5c80"
       ],
       "layout": "IPY_MODEL_028580714cd64c66a0612615392e4927"
      }
     },
     "eda7ec2ef66b42b3a9a02bc18d978729": {
      "model_module": "ipycanvas",
      "model_module_version": "^0.13",
      "model_name": "CanvasModel",
      "state": {
       "_canvas_manager": "IPY_MODEL_d9a833c7f08b41bd9d6176723d2ff2f4",
       "_model_module_version": "^0.13",
       "_view_module_version": "^0.13",
       "height": 480,
       "layout": "IPY_MODEL_69b741d3001e465887e78c220bf2d6e8",
       "width": 800
      }
     },
     "edbde846230f4b8e8499bbae2d1a6726": {
      "model_module": "@jupyter-widgets/controls",
      "model_module_version": "2.0.0",
      "model_name": "LabelStyleModel",
      "state": {
       "description_width": "",
       "font_family": null,
       "font_size": null,
       "font_style": null,
       "font_variant": null,
       "font_weight": null,
       "text_color": null,
       "text_decoration": null
      }
     },
     "ee06d92deb624e16b9c1af2bd79c113d": {
      "model_module": "@jupyter-widgets/base",
      "model_module_version": "2.0.0",
      "model_name": "LayoutModel",
      "state": {}
     },
     "ee7b24b7e30948e79f8ff52db30924ba": {
      "model_module": "ipycanvas",
      "model_module_version": "^0.13",
      "model_name": "CanvasModel",
      "state": {
       "_canvas_manager": "IPY_MODEL_d9a833c7f08b41bd9d6176723d2ff2f4",
       "_model_module_version": "^0.13",
       "_view_module_version": "^0.13",
       "height": 640,
       "layout": "IPY_MODEL_d1c49a212dcb487e86bf1b77408b08b9",
       "width": 800
      }
     },
     "eed457e960754166b5aa169cc8005e44": {
      "model_module": "@jupyter-widgets/controls",
      "model_module_version": "2.0.0",
      "model_name": "HTMLStyleModel",
      "state": {
       "description_width": "",
       "font_size": null,
       "text_color": null
      }
     },
     "eede261da8d74a78a5d3dd55429f5884": {
      "model_module": "@jupyter-widgets/controls",
      "model_module_version": "2.0.0",
      "model_name": "LabelModel",
      "state": {
       "layout": "IPY_MODEL_cf4348acd6b2452fb94093232a5eeb97",
       "style": "IPY_MODEL_87502cd03f154f4bb76b72c3e94f6f9f",
       "value": "Curtain"
      }
     },
     "eef37f359e6745dabac1ef223fc9dc01": {
      "model_module": "@jupyter-widgets/base",
      "model_module_version": "2.0.0",
      "model_name": "LayoutModel",
      "state": {}
     },
     "ef0411ef264f4b39ba67ac74c115898f": {
      "model_module": "@jupyter-widgets/base",
      "model_module_version": "2.0.0",
      "model_name": "LayoutModel",
      "state": {}
     },
     "f06034cf09f14f44a315433c3a652d4c": {
      "model_module": "@jupyter-widgets/base",
      "model_module_version": "2.0.0",
      "model_name": "LayoutModel",
      "state": {}
     },
     "f07135c6e47741eb991fd755d7c987c8": {
      "model_module": "@jupyter-widgets/base",
      "model_module_version": "2.0.0",
      "model_name": "LayoutModel",
      "state": {}
     },
     "f0aa09e9594448c5b2337f8fad596e03": {
      "model_module": "ipycanvas",
      "model_module_version": "^0.13",
      "model_name": "CanvasModel",
      "state": {
       "_canvas_manager": "IPY_MODEL_d9a833c7f08b41bd9d6176723d2ff2f4",
       "_model_module_version": "^0.13",
       "_view_module_version": "^0.13",
       "height": 400,
       "layout": "IPY_MODEL_c12eedb379654a848160b3d51c1cbe85",
       "width": 400
      }
     },
     "f12d5fa73bf74ec1b3c71ecc5dec95fb": {
      "model_module": "@jupyter-widgets/base",
      "model_module_version": "2.0.0",
      "model_name": "LayoutModel",
      "state": {
       "width": "100%"
      }
     },
     "f18c3e8c1a1449969c148bb9fe1c62a8": {
      "model_module": "@jupyter-widgets/controls",
      "model_module_version": "2.0.0",
      "model_name": "LabelStyleModel",
      "state": {
       "description_width": "",
       "font_family": null,
       "font_size": null,
       "font_style": null,
       "font_variant": null,
       "font_weight": null,
       "text_color": null,
       "text_decoration": null
      }
     },
     "f1aabd94b6d7454093d27e80fff41edf": {
      "model_module": "@jupyter-widgets/base",
      "model_module_version": "2.0.0",
      "model_name": "LayoutModel",
      "state": {}
     },
     "f1c8b68310dc47628a0dfe04a87ed469": {
      "model_module": "@jupyter-widgets/base",
      "model_module_version": "2.0.0",
      "model_name": "LayoutModel",
      "state": {
       "width": "100%"
      }
     },
     "f1d3addfd50049c0866dc35378e46f4b": {
      "model_module": "@jupyter-widgets/controls",
      "model_module_version": "2.0.0",
      "model_name": "VBoxModel",
      "state": {
       "children": [
        "IPY_MODEL_1d2f8f13161242c1833a3befcbcf5791",
        "IPY_MODEL_c2be808b582f4320a2fc0b060a4a7434",
        "IPY_MODEL_3ec0b2f5c6dd4b738e3bda300210d73d"
       ],
       "layout": "IPY_MODEL_ce8c4f15f4b549acb924350a655ebc4d"
      }
     },
     "f1d70cbda85a4ebf876f7854611a1f29": {
      "model_module": "@jupyter-widgets/controls",
      "model_module_version": "2.0.0",
      "model_name": "IntSliderModel",
      "state": {
       "behavior": "drag-tap",
       "layout": "IPY_MODEL_b0dfc7fb2b4947efb59045b811336827",
       "max": 500,
       "style": "IPY_MODEL_6899783babc045418877517610fffed5",
       "value": 250
      }
     },
     "f1e7167a503b487caa010e88b924d6db": {
      "model_module": "@jupyter-widgets/base",
      "model_module_version": "2.0.0",
      "model_name": "LayoutModel",
      "state": {}
     },
     "f263f9b665fa4792942a89ab459a880d": {
      "model_module": "@jupyter-widgets/base",
      "model_module_version": "2.0.0",
      "model_name": "LayoutModel",
      "state": {}
     },
     "f26668f0ab8a4ca0862a85ab485db67a": {
      "model_module": "@jupyter-widgets/controls",
      "model_module_version": "2.0.0",
      "model_name": "VBoxModel",
      "state": {
       "children": [
        "IPY_MODEL_10c7b88fc37947a1bd7fbb9e8cbffa86"
       ],
       "layout": "IPY_MODEL_1dd69d4be8a948598927f10b16ce9415"
      }
     },
     "f273cf7fd462479c8685aa7271990724": {
      "model_module": "@jupyter-widgets/controls",
      "model_module_version": "2.0.0",
      "model_name": "VBoxModel",
      "state": {
       "layout": "IPY_MODEL_c07351a0ac3d43be806fd6a0fb2b5cd3"
      }
     },
     "f315a8d79ed44a2c836a9be1608e6143": {
      "model_module": "@jupyter-widgets/controls",
      "model_module_version": "2.0.0",
      "model_name": "VBoxModel",
      "state": {
       "children": [
        "IPY_MODEL_4762773782ba4975a0bae8c2e251388e",
        "IPY_MODEL_7c3e273572c04f0096b61fb6cca4c3c9",
        "IPY_MODEL_06fcf550b77546aa9ecbf21e8c6c102c"
       ],
       "layout": "IPY_MODEL_bf28b4783163466d90ed915a4f6e2941"
      }
     },
     "f3446c76d2a044c3b6a68343ff5f0389": {
      "model_module": "@jupyter-widgets/base",
      "model_module_version": "2.0.0",
      "model_name": "LayoutModel",
      "state": {}
     },
     "f37ac8a77f174e689daf55ef5cc71726": {
      "model_module": "@jupyter-widgets/base",
      "model_module_version": "2.0.0",
      "model_name": "LayoutModel",
      "state": {}
     },
     "f384162bca7a4f2dbac31684c8bb8393": {
      "model_module": "@jupyter-widgets/base",
      "model_module_version": "2.0.0",
      "model_name": "LayoutModel",
      "state": {}
     },
     "f394746b15e14a829d52eda768bb9f17": {
      "model_module": "@jupyter-widgets/controls",
      "model_module_version": "2.0.0",
      "model_name": "LabelStyleModel",
      "state": {
       "description_width": "",
       "font_family": null,
       "font_size": null,
       "font_style": null,
       "font_variant": null,
       "font_weight": null,
       "text_color": null,
       "text_decoration": null
      }
     },
     "f3ba16864ecd4d39957ad3bfd060e0dc": {
      "model_module": "@jupyter-widgets/base",
      "model_module_version": "2.0.0",
      "model_name": "LayoutModel",
      "state": {}
     },
     "f3bfc0282c3a45288f1b2a543136ec7c": {
      "model_module": "@jupyter-widgets/base",
      "model_module_version": "2.0.0",
      "model_name": "LayoutModel",
      "state": {}
     },
     "f45c1e5fe2ef4ddb8529aaa99ad9f06f": {
      "model_module": "@jupyter-widgets/base",
      "model_module_version": "2.0.0",
      "model_name": "LayoutModel",
      "state": {}
     },
     "f4a7d363d191454cb174d6ed165ab3c6": {
      "model_module": "@jupyter-widgets/controls",
      "model_module_version": "2.0.0",
      "model_name": "IntSliderModel",
      "state": {
       "behavior": "drag-tap",
       "layout": "IPY_MODEL_72ae2de07b80461f9f963bc503585c0e",
       "max": 500,
       "style": "IPY_MODEL_923947ad4788422ca76b601bceaebf13",
       "value": 250
      }
     },
     "f4c9d9b534b44e6e96a22299197ea2ad": {
      "model_module": "@jupyter-widgets/base",
      "model_module_version": "2.0.0",
      "model_name": "LayoutModel",
      "state": {}
     },
     "f4e9942121aa4e5c81fa35beb5a1e95c": {
      "model_module": "ipycanvas",
      "model_module_version": "^0.13",
      "model_name": "CanvasModel",
      "state": {
       "_canvas_manager": "IPY_MODEL_d9a833c7f08b41bd9d6176723d2ff2f4",
       "_model_module_version": "^0.13",
       "_view_module_version": "^0.13",
       "height": 240,
       "layout": "IPY_MODEL_1987ac6a881648b8af9e564700327db3",
       "width": 400
      }
     },
     "f5567e3bae584c22a59943864707e970": {
      "model_module": "@jupyter-widgets/base",
      "model_module_version": "2.0.0",
      "model_name": "LayoutModel",
      "state": {}
     },
     "f5e2eaf03b9c4cfa996d4fe28c80c81c": {
      "model_module": "@jupyter-widgets/controls",
      "model_module_version": "2.0.0",
      "model_name": "HTMLStyleModel",
      "state": {
       "description_width": "",
       "font_size": null,
       "text_color": null
      }
     },
     "f6189781a54942fe92dcbc4c7213499b": {
      "model_module": "@jupyter-widgets/controls",
      "model_module_version": "2.0.0",
      "model_name": "VBoxModel",
      "state": {
       "layout": "IPY_MODEL_be94b78fa00d4470b2bccc743d4777f8"
      }
     },
     "f63c0fbc23be4300b7174ed577cb85b1": {
      "model_module": "@jupyter-widgets/base",
      "model_module_version": "2.0.0",
      "model_name": "LayoutModel",
      "state": {}
     },
     "f6490288397f4ecf8253ca0ada3fc1ab": {
      "model_module": "@jupyter-widgets/base",
      "model_module_version": "2.0.0",
      "model_name": "LayoutModel",
      "state": {}
     },
     "f68370b791974a14b99d4cfeed550f05": {
      "model_module": "@jupyter-widgets/controls",
      "model_module_version": "2.0.0",
      "model_name": "SliderStyleModel",
      "state": {
       "description_width": ""
      }
     },
     "f6bac5031f61458989419335b9fd1a3e": {
      "model_module": "@jupyter-widgets/controls",
      "model_module_version": "2.0.0",
      "model_name": "VBoxModel",
      "state": {
       "layout": "IPY_MODEL_c75c15cbe4384f0f94f58328d22ea37a"
      }
     },
     "f72639c7db294f7bb3856e2669ee9d48": {
      "model_module": "@jupyter-widgets/base",
      "model_module_version": "2.0.0",
      "model_name": "LayoutModel",
      "state": {}
     },
     "f72742241a704b3985c2e6e72abd2b35": {
      "model_module": "@jupyter-widgets/controls",
      "model_module_version": "2.0.0",
      "model_name": "HBoxModel",
      "state": {
       "children": [
        "IPY_MODEL_cc921c40e227452584ff58d355d5f563"
       ],
       "layout": "IPY_MODEL_6bfaadb7bd5b4e4c89b02beead5adf69"
      }
     },
     "f7281743f9bc41499b8ba2a4b781e8dd": {
      "model_module": "@jupyter-widgets/controls",
      "model_module_version": "2.0.0",
      "model_name": "HBoxModel",
      "state": {
       "children": [
        "IPY_MODEL_de62bc17eaa340489e2c5fef542ddbca"
       ],
       "layout": "IPY_MODEL_4c7e01e8dcee47e29b93e637ab0e3974"
      }
     },
     "f736e3d6958a444099646fb03cddf8b5": {
      "model_module": "@jupyter-widgets/base",
      "model_module_version": "2.0.0",
      "model_name": "LayoutModel",
      "state": {}
     },
     "f79c9bb256f04d4ab28f30a97746de6f": {
      "model_module": "@jupyter-widgets/base",
      "model_module_version": "2.0.0",
      "model_name": "LayoutModel",
      "state": {}
     },
     "f7b64a8b4e84458a983b8bc6769e4e8a": {
      "model_module": "@jupyter-widgets/base",
      "model_module_version": "2.0.0",
      "model_name": "LayoutModel",
      "state": {}
     },
     "f7b94d83a39845b28562478f76748acd": {
      "model_module": "@jupyter-widgets/controls",
      "model_module_version": "2.0.0",
      "model_name": "HTMLStyleModel",
      "state": {
       "description_width": "",
       "font_size": null,
       "text_color": null
      }
     },
     "f829e84b89ef49abb0a929c9441d4fc1": {
      "model_module": "@jupyter-widgets/controls",
      "model_module_version": "2.0.0",
      "model_name": "HBoxModel",
      "state": {
       "children": [
        "IPY_MODEL_2c020aefac5a48059d0ebcf00de20b96",
        "IPY_MODEL_50a706727f2d4e14b65570ebad05a657"
       ],
       "layout": "IPY_MODEL_d06d299d01e24ac7abcfa0170c6769c4"
      }
     },
     "f82e3fa995d643b1b4a673e940ded1bc": {
      "model_module": "@jupyter-widgets/base",
      "model_module_version": "2.0.0",
      "model_name": "LayoutModel",
      "state": {}
     },
     "f8383039fcf8406f8656a6064372cc6d": {
      "model_module": "@jupyter-widgets/base",
      "model_module_version": "2.0.0",
      "model_name": "LayoutModel",
      "state": {}
     },
     "f83ffed8c15c46e0b7715b6a07d1993e": {
      "model_module": "@jupyter-widgets/base",
      "model_module_version": "2.0.0",
      "model_name": "LayoutModel",
      "state": {}
     },
     "f8cc7170b71a46a5814567a4de523eda": {
      "model_module": "@jupyter-widgets/base",
      "model_module_version": "2.0.0",
      "model_name": "LayoutModel",
      "state": {}
     },
     "f8d735ab13cf43fd826dd74395a4f627": {
      "model_module": "@jupyter-widgets/controls",
      "model_module_version": "2.0.0",
      "model_name": "VBoxModel",
      "state": {
       "children": [
        "IPY_MODEL_07545d8f5f3f4f6d8f90dff14198e8f8",
        "IPY_MODEL_fa63a90b76194ec180b68cfe0475f26c",
        "IPY_MODEL_0a2f99c720c94d0a845d14fe5e17a4be"
       ],
       "layout": "IPY_MODEL_078ea57c25624a6c97afc7090b33dfea"
      }
     },
     "f8dac0001c7f498aab4f1ee2386e2837": {
      "model_module": "@jupyter-widgets/controls",
      "model_module_version": "2.0.0",
      "model_name": "VBoxModel",
      "state": {
       "children": [
        "IPY_MODEL_cf55fbdce65f4e4eae368fe1aafc3db6",
        "IPY_MODEL_793d448a9b82465aabfe1665385296a7",
        "IPY_MODEL_a5a782dfc2414668873a870f0a5a3f6c"
       ],
       "layout": "IPY_MODEL_246a7517cf3546318700d1a705bc5ca3"
      }
     },
     "f944751448044d9ba94dd9f44756fd2d": {
      "model_module": "@jupyter-widgets/base",
      "model_module_version": "2.0.0",
      "model_name": "LayoutModel",
      "state": {}
     },
     "fa1157ad65d448dbb430b50da8deb7d0": {
      "model_module": "@jupyter-widgets/base",
      "model_module_version": "2.0.0",
      "model_name": "LayoutModel",
      "state": {}
     },
     "fa18fecc42c740d1a6c533c2e8922c54": {
      "model_module": "@jupyter-widgets/base",
      "model_module_version": "2.0.0",
      "model_name": "LayoutModel",
      "state": {}
     },
     "fa4512b64cb941e3b8e20a4f233f2c3e": {
      "model_module": "@jupyter-widgets/base",
      "model_module_version": "2.0.0",
      "model_name": "LayoutModel",
      "state": {}
     },
     "fa63a90b76194ec180b68cfe0475f26c": {
      "model_module": "@jupyter-widgets/controls",
      "model_module_version": "2.0.0",
      "model_name": "VBoxModel",
      "state": {
       "layout": "IPY_MODEL_152e8f39287343cebef192f71b16df18"
      }
     },
     "fa85d20e5afe47af9396a6de6ba75ee0": {
      "model_module": "@jupyter-widgets/controls",
      "model_module_version": "2.0.0",
      "model_name": "VBoxModel",
      "state": {
       "children": [
        "IPY_MODEL_11ef7cf751ce44b8ba9d98ab5fe06e0a"
       ],
       "layout": "IPY_MODEL_064acb233b484427bbc7279bc1e67601"
      }
     },
     "fa8f384f70294ca5b0de8f4bed176f01": {
      "model_module": "@jupyter-widgets/controls",
      "model_module_version": "2.0.0",
      "model_name": "LabelStyleModel",
      "state": {
       "description_width": "",
       "font_family": null,
       "font_size": null,
       "font_style": null,
       "font_variant": null,
       "font_weight": null,
       "text_color": null,
       "text_decoration": null
      }
     },
     "faada835601a4d07b74fae18ced450b1": {
      "model_module": "@jupyter-widgets/base",
      "model_module_version": "2.0.0",
      "model_name": "LayoutModel",
      "state": {}
     },
     "faf56d641227464ea9c2ac16d1676b01": {
      "model_module": "@jupyter-widgets/controls",
      "model_module_version": "2.0.0",
      "model_name": "HTMLModel",
      "state": {
       "layout": "IPY_MODEL_f07135c6e47741eb991fd755d7c987c8",
       "style": "IPY_MODEL_de552c40e70e41cc8aef0f14c227fcd6",
       "value": "<style>.widget-readout { min-width: 20px !important; }</style>"
      }
     },
     "fb4ed6e4eb0b423cac379d502719ef9e": {
      "model_module": "@jupyter-widgets/base",
      "model_module_version": "2.0.0",
      "model_name": "LayoutModel",
      "state": {}
     },
     "fbae4a1e62584d5298a1136716d3e070": {
      "model_module": "@jupyter-widgets/base",
      "model_module_version": "2.0.0",
      "model_name": "LayoutModel",
      "state": {}
     },
     "fbbe9985d0494a53aee8c7bc94bfdb32": {
      "model_module": "@jupyter-widgets/base",
      "model_module_version": "2.0.0",
      "model_name": "LayoutModel",
      "state": {}
     },
     "fc0ce4bd704b442fb0ce42c786eaf422": {
      "model_module": "@jupyter-widgets/controls",
      "model_module_version": "2.0.0",
      "model_name": "HTMLStyleModel",
      "state": {
       "description_width": "",
       "font_size": null,
       "text_color": null
      }
     },
     "fc13b794d4394de8b31635fd5fd01208": {
      "model_module": "@jupyter-widgets/base",
      "model_module_version": "2.0.0",
      "model_name": "LayoutModel",
      "state": {}
     },
     "fd25cfc64fc04011890963d90085ccb7": {
      "model_module": "@jupyter-widgets/base",
      "model_module_version": "2.0.0",
      "model_name": "LayoutModel",
      "state": {}
     },
     "fd402549e9ea4631868b2cb1f0782b31": {
      "model_module": "@jupyter-widgets/base",
      "model_module_version": "2.0.0",
      "model_name": "LayoutModel",
      "state": {}
     },
     "fd8b4bfa5e6d4baca12876b1d2c96ca5": {
      "model_module": "@jupyter-widgets/controls",
      "model_module_version": "2.0.0",
      "model_name": "HBoxModel",
      "state": {
       "children": [
        "IPY_MODEL_998ae6dfdc7a4f50b363d560dd3b505a"
       ],
       "layout": "IPY_MODEL_98a1f199748c4e139e2c7eedcc1026e0"
      }
     },
     "fdbcbbdff0564800ac72ce240aa128d3": {
      "model_module": "@jupyter-widgets/base",
      "model_module_version": "2.0.0",
      "model_name": "LayoutModel",
      "state": {}
     },
     "fdc0729043a441e28381f18e6bafa588": {
      "model_module": "@jupyter-widgets/base",
      "model_module_version": "2.0.0",
      "model_name": "LayoutModel",
      "state": {}
     },
     "fdc34b16c61445eba8477dd1a5184d1d": {
      "model_module": "@jupyter-widgets/controls",
      "model_module_version": "2.0.0",
      "model_name": "VBoxModel",
      "state": {
       "children": [
        "IPY_MODEL_51fe41eb8fdd4d05bf473cf7c89c967e",
        "IPY_MODEL_5253f4fe1fb6490c87d787f2c74682e7"
       ],
       "layout": "IPY_MODEL_b9ec87d34cec4be7b87c2315123f31d3"
      }
     },
     "fe53b6c93551462aaf34c07f07f0625c": {
      "model_module": "@jupyter-widgets/controls",
      "model_module_version": "2.0.0",
      "model_name": "HBoxModel",
      "state": {
       "children": [
        "IPY_MODEL_a0096b48b3554750a56dd5ee80a477f3"
       ],
       "layout": "IPY_MODEL_dce322e24b8c4a998d3d6e05886f6ddc"
      }
     },
     "fe7935d5b4b741cb8d2fcf1f6346d186": {
      "model_module": "@jupyter-widgets/base",
      "model_module_version": "2.0.0",
      "model_name": "LayoutModel",
      "state": {}
     },
     "feab46fdbe814a4888de2b3a859787e7": {
      "model_module": "@jupyter-widgets/controls",
      "model_module_version": "2.0.0",
      "model_name": "HBoxModel",
      "state": {
       "children": [
        "IPY_MODEL_639ef4ad26644b6c9204f8ee14907675",
        "IPY_MODEL_aabf26a4009b4382a7ddb0a7ef60dbf7"
       ],
       "layout": "IPY_MODEL_854d11c4b44a49e28211ea531d457000"
      }
     },
     "feed4a793fab463f860c59315acbb59c": {
      "model_module": "@jupyter-widgets/controls",
      "model_module_version": "2.0.0",
      "model_name": "HTMLStyleModel",
      "state": {
       "description_width": "",
       "font_size": null,
       "text_color": null
      }
     },
     "ff66bd44364347a7aef92a98cdc7da76": {
      "model_module": "@jupyter-widgets/base",
      "model_module_version": "2.0.0",
      "model_name": "LayoutModel",
      "state": {}
     },
     "ff7dbd42e5e34e3991aabbc473f04df2": {
      "model_module": "@jupyter-widgets/controls",
      "model_module_version": "2.0.0",
      "model_name": "HBoxModel",
      "state": {
       "children": [
        "IPY_MODEL_3e9277f930cb43ffbdf12705954d0a8e"
       ],
       "layout": "IPY_MODEL_85e52a2b6e2943d9b3fd88ca0bd0a3eb"
      }
     },
     "ff91feef4ebd4f2ea4d3d561c1967ede": {
      "model_module": "@jupyter-widgets/base",
      "model_module_version": "2.0.0",
      "model_name": "LayoutModel",
      "state": {}
     },
     "fff5d59c7b094798a2f5c7cd5b1d669a": {
      "model_module": "@jupyter-widgets/controls",
      "model_module_version": "2.0.0",
      "model_name": "IntSliderModel",
      "state": {
       "behavior": "drag-tap",
       "layout": "IPY_MODEL_2419ea60705e45ee9b9574661cf397d9",
       "max": 500,
       "style": "IPY_MODEL_0d37c209645c43f9a57bafaeaccb7346",
       "value": 289
      }
     }
    },
    "version_major": 2,
    "version_minor": 0
   }
  }
 },
 "nbformat": 4,
 "nbformat_minor": 4
}
